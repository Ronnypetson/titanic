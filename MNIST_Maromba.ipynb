{
  "cells": [
    {
      "cell_type": "markdown",
      "metadata": {
        "id": "view-in-github",
        "colab_type": "text"
      },
      "source": [
        "<a href=\"https://colab.research.google.com/github/Ronnypetson/titanic/blob/master/MNIST_Maromba.ipynb\" target=\"_parent\"><img src=\"https://colab.research.google.com/assets/colab-badge.svg\" alt=\"Open In Colab\"/></a>"
      ]
    },
    {
      "cell_type": "markdown",
      "metadata": {
        "id": "pTdTbjAGjsnP"
      },
      "source": [
        "## Experimentos do Produto Interno Maromba no MNIST"
      ]
    },
    {
      "cell_type": "markdown",
      "metadata": {
        "id": "ndQSziNdjoUm"
      },
      "source": [
        "### Ambiente"
      ]
    },
    {
      "cell_type": "code",
      "execution_count": 1,
      "metadata": {
        "id": "elxoSeIKAV1J"
      },
      "outputs": [],
      "source": [
        "import torch\n",
        "import numpy as np\n",
        "import torch.nn as nn\n",
        "from torchvision.datasets import MNIST, FashionMNIST\n",
        "from torchvision.transforms import ToTensor\n",
        "from torch.optim import Adam\n",
        "\n",
        "import pandas as pd\n",
        "from sklearn.metrics import accuracy_score\n",
        "# !pip3 install ipympl\n",
        "# !pip3 install mpl_interactions\n",
        "# %matplotlib widget\n",
        "\n",
        "import matplotlib.pylab as plt\n",
        "import plotly.express as px\n",
        "# import mpl_interactions.ipyplot as iplt\n",
        "import time\n",
        "from IPython import display\n",
        "from IPython.core.debugger import Pdb\n",
        "\n",
        "device = \"cuda:0\" if torch.cuda.is_available() else \"cpu\"\n",
        "\n",
        "# %matplotlib inline\n",
        "# from google.colab import output\n",
        "# output.enable_custom_widget_manager()"
      ]
    },
    {
      "cell_type": "markdown",
      "metadata": {
        "id": "RGCfrrmCXap_"
      },
      "source": [
        "### Dataset"
      ]
    },
    {
      "cell_type": "code",
      "execution_count": 2,
      "metadata": {
        "id": "j6dxGxcHAx5P",
        "colab": {
          "base_uri": "https://localhost:8080/"
        },
        "outputId": "60349e70-2c67-4946-c786-4a70c3b96820"
      },
      "outputs": [
        {
          "output_type": "stream",
          "name": "stdout",
          "text": [
            "Downloading http://yann.lecun.com/exdb/mnist/train-images-idx3-ubyte.gz\n",
            "Downloading http://yann.lecun.com/exdb/mnist/train-images-idx3-ubyte.gz to MNIST_root/MNIST/raw/train-images-idx3-ubyte.gz\n"
          ]
        },
        {
          "output_type": "stream",
          "name": "stderr",
          "text": [
            "100%|██████████| 9912422/9912422 [00:00<00:00, 164195234.94it/s]"
          ]
        },
        {
          "output_type": "stream",
          "name": "stdout",
          "text": [
            "Extracting MNIST_root/MNIST/raw/train-images-idx3-ubyte.gz to MNIST_root/MNIST/raw\n"
          ]
        },
        {
          "output_type": "stream",
          "name": "stderr",
          "text": [
            "\n"
          ]
        },
        {
          "output_type": "stream",
          "name": "stdout",
          "text": [
            "\n",
            "Downloading http://yann.lecun.com/exdb/mnist/train-labels-idx1-ubyte.gz\n",
            "Downloading http://yann.lecun.com/exdb/mnist/train-labels-idx1-ubyte.gz to MNIST_root/MNIST/raw/train-labels-idx1-ubyte.gz\n"
          ]
        },
        {
          "output_type": "stream",
          "name": "stderr",
          "text": [
            "100%|██████████| 28881/28881 [00:00<00:00, 70715524.71it/s]"
          ]
        },
        {
          "output_type": "stream",
          "name": "stdout",
          "text": [
            "Extracting MNIST_root/MNIST/raw/train-labels-idx1-ubyte.gz to MNIST_root/MNIST/raw\n",
            "\n",
            "Downloading http://yann.lecun.com/exdb/mnist/t10k-images-idx3-ubyte.gz\n"
          ]
        },
        {
          "output_type": "stream",
          "name": "stderr",
          "text": [
            "\n"
          ]
        },
        {
          "output_type": "stream",
          "name": "stdout",
          "text": [
            "Downloading http://yann.lecun.com/exdb/mnist/t10k-images-idx3-ubyte.gz to MNIST_root/MNIST/raw/t10k-images-idx3-ubyte.gz\n"
          ]
        },
        {
          "output_type": "stream",
          "name": "stderr",
          "text": [
            "100%|██████████| 1648877/1648877 [00:00<00:00, 43886179.68it/s]"
          ]
        },
        {
          "output_type": "stream",
          "name": "stdout",
          "text": [
            "Extracting MNIST_root/MNIST/raw/t10k-images-idx3-ubyte.gz to MNIST_root/MNIST/raw\n",
            "\n",
            "Downloading http://yann.lecun.com/exdb/mnist/t10k-labels-idx1-ubyte.gz\n"
          ]
        },
        {
          "output_type": "stream",
          "name": "stderr",
          "text": [
            "\n"
          ]
        },
        {
          "output_type": "stream",
          "name": "stdout",
          "text": [
            "Downloading http://yann.lecun.com/exdb/mnist/t10k-labels-idx1-ubyte.gz to MNIST_root/MNIST/raw/t10k-labels-idx1-ubyte.gz\n"
          ]
        },
        {
          "output_type": "stream",
          "name": "stderr",
          "text": [
            "100%|██████████| 4542/4542 [00:00<00:00, 14399492.64it/s]"
          ]
        },
        {
          "output_type": "stream",
          "name": "stdout",
          "text": [
            "Extracting MNIST_root/MNIST/raw/t10k-labels-idx1-ubyte.gz to MNIST_root/MNIST/raw\n",
            "\n"
          ]
        },
        {
          "output_type": "stream",
          "name": "stderr",
          "text": [
            "\n"
          ]
        },
        {
          "output_type": "stream",
          "name": "stdout",
          "text": [
            "Downloading http://yann.lecun.com/exdb/mnist/train-images-idx3-ubyte.gz\n",
            "Downloading http://yann.lecun.com/exdb/mnist/train-images-idx3-ubyte.gz to MNIST_root_test/MNIST/raw/train-images-idx3-ubyte.gz\n"
          ]
        },
        {
          "output_type": "stream",
          "name": "stderr",
          "text": [
            "100%|██████████| 9912422/9912422 [00:00<00:00, 161766271.65it/s]"
          ]
        },
        {
          "output_type": "stream",
          "name": "stdout",
          "text": [
            "Extracting MNIST_root_test/MNIST/raw/train-images-idx3-ubyte.gz to MNIST_root_test/MNIST/raw\n"
          ]
        },
        {
          "output_type": "stream",
          "name": "stderr",
          "text": [
            "\n"
          ]
        },
        {
          "output_type": "stream",
          "name": "stdout",
          "text": [
            "\n",
            "Downloading http://yann.lecun.com/exdb/mnist/train-labels-idx1-ubyte.gz\n",
            "Downloading http://yann.lecun.com/exdb/mnist/train-labels-idx1-ubyte.gz to MNIST_root_test/MNIST/raw/train-labels-idx1-ubyte.gz\n"
          ]
        },
        {
          "output_type": "stream",
          "name": "stderr",
          "text": [
            "100%|██████████| 28881/28881 [00:00<00:00, 80010365.80it/s]\n"
          ]
        },
        {
          "output_type": "stream",
          "name": "stdout",
          "text": [
            "Extracting MNIST_root_test/MNIST/raw/train-labels-idx1-ubyte.gz to MNIST_root_test/MNIST/raw\n",
            "\n",
            "Downloading http://yann.lecun.com/exdb/mnist/t10k-images-idx3-ubyte.gz\n",
            "Downloading http://yann.lecun.com/exdb/mnist/t10k-images-idx3-ubyte.gz to MNIST_root_test/MNIST/raw/t10k-images-idx3-ubyte.gz\n"
          ]
        },
        {
          "output_type": "stream",
          "name": "stderr",
          "text": [
            "100%|██████████| 1648877/1648877 [00:00<00:00, 59400585.74it/s]\n"
          ]
        },
        {
          "output_type": "stream",
          "name": "stdout",
          "text": [
            "Extracting MNIST_root_test/MNIST/raw/t10k-images-idx3-ubyte.gz to MNIST_root_test/MNIST/raw\n",
            "\n",
            "Downloading http://yann.lecun.com/exdb/mnist/t10k-labels-idx1-ubyte.gz\n",
            "Downloading http://yann.lecun.com/exdb/mnist/t10k-labels-idx1-ubyte.gz to MNIST_root_test/MNIST/raw/t10k-labels-idx1-ubyte.gz\n"
          ]
        },
        {
          "output_type": "stream",
          "name": "stderr",
          "text": [
            "100%|██████████| 4542/4542 [00:00<00:00, 15981987.22it/s]"
          ]
        },
        {
          "output_type": "stream",
          "name": "stdout",
          "text": [
            "Extracting MNIST_root_test/MNIST/raw/t10k-labels-idx1-ubyte.gz to MNIST_root_test/MNIST/raw\n",
            "\n"
          ]
        },
        {
          "output_type": "stream",
          "name": "stderr",
          "text": [
            "\n"
          ]
        }
      ],
      "source": [
        "tr = ToTensor()\n",
        "\n",
        "img_dim = 28\n",
        "\n",
        "def _transform(x):\n",
        "  x = x.resize((img_dim, img_dim))\n",
        "  return (tr(x) * 2.0 - 1.0).reshape(-1)\n",
        "\n",
        "bsize = 32\n",
        "\n",
        "MNIST_train_data = MNIST(\n",
        "    \"MNIST_root/\",\n",
        "    download=True,\n",
        "    train=True,\n",
        "    transform=_transform,\n",
        ")\n",
        "train_data_loader = torch.utils.data.DataLoader(\n",
        "    MNIST_train_data,\n",
        "    batch_size=bsize,\n",
        "    shuffle=True,\n",
        "    num_workers=1,\n",
        ")\n",
        "\n",
        "MNIST_test_data = MNIST(\n",
        "    \"MNIST_root_test/\",\n",
        "    download=True,\n",
        "    train=False,\n",
        "    transform=_transform,\n",
        ")\n",
        "test_data_loader = torch.utils.data.DataLoader(\n",
        "    MNIST_test_data,\n",
        "    batch_size=bsize,\n",
        "    shuffle=True,\n",
        "    num_workers=1,\n",
        ")"
      ]
    },
    {
      "cell_type": "code",
      "execution_count": 3,
      "metadata": {
        "id": "_1cLnafymDzd"
      },
      "outputs": [],
      "source": [
        "def _cat2d(rows, cols, d=32):\n",
        "  \"\"\"\n",
        "  Index in the log-softmax scale.\n",
        "  After sotmax (in the partition dimension)\n",
        "  -inf --> 0\n",
        "  1.0  --> 1\n",
        "  \"\"\"\n",
        "  assert rows + cols <= d\n",
        "  inf = 1.0\n",
        "  idx = np.zeros((rows, cols, d)) - inf\n",
        "  for row in range(rows):\n",
        "    for col in range(cols):\n",
        "      idx[row, col, row] = 1.0\n",
        "      idx[row, col, rows + col] = 1.0\n",
        "  idx = torch.from_numpy(idx)\n",
        "  idx = idx.reshape(rows * cols, d)\n",
        "  return idx\n",
        "\n",
        "def cartesian_idx(rows, cols, d=2):\n",
        "  idx = np.zeros((rows, cols, d))\n",
        "  for row in range(rows):\n",
        "    for col in range(cols):\n",
        "      # idx[row, col, 0] = (1 + row) / rows\n",
        "      # idx[row, col, 1] = (1 + col) / cols\n",
        "      idx[row, col, 0] = 2.0 * ((row + 1) / rows) - 1.0\n",
        "      idx[row, col, 1] = 2.0 * ((col + 1) / cols) - 1.0\n",
        "  idx = torch.from_numpy(idx)\n",
        "  idx = idx.reshape(rows * cols, d)\n",
        "  return idx"
      ]
    },
    {
      "cell_type": "markdown",
      "metadata": {
        "id": "ilOucSYLd2zy"
      },
      "source": [
        "### Kernels, similaridades e funções de índice"
      ]
    },
    {
      "cell_type": "markdown",
      "metadata": {
        "id": "tzKu4c8hisNY"
      },
      "source": [
        "#### Kernels"
      ]
    },
    {
      "cell_type": "code",
      "execution_count": 4,
      "metadata": {
        "id": "XG4U__-kiw2J"
      },
      "outputs": [],
      "source": [
        "def _soft_kernel(idxu, part_dim):\n",
        "  \"\"\"\n",
        "  idxu: M x d_u x d_idx\n",
        "  \"\"\"\n",
        "  m, d_u, d_idx = idxu.shape\n",
        "  assert d_idx % part_dim == 0\n",
        "  range = 20.0\n",
        "  norm_idxu = range * idxu.reshape(m, d_u, -1, part_dim) - (range / 2.0)\n",
        "  norm_idxu = torch.softmax(norm_idxu, dim=-1)\n",
        "  dim_norm = (d_idx // part_dim) ** 0.5\n",
        "  norm_idxu = norm_idxu.reshape(m, d_u, d_idx) / dim_norm\n",
        "  return norm_idxu\n",
        "\n",
        "def _cosine_kernel(idxu, *args, **kwargs):\n",
        "  \"\"\"\n",
        "  idxu: M x d_u x d_idx\n",
        "  \"\"\"\n",
        "  # TODO: compute min_idx, max_idx and normalize\n",
        "  m, d_u, d_idx = idxu.shape\n",
        "  min_idxu = torch.min(idxu, dim=1)[0].unsqueeze(1)\n",
        "  max_idxu = torch.max(idxu, dim=1)[0].unsqueeze(1)\n",
        "  eps = 1e-4\n",
        "  idxu = (idxu - min_idxu) / (max_idxu - min_idxu + eps)\n",
        "  norm_idxu = idxu / (torch.norm(idxu, dim=-1).unsqueeze(-1) + eps)\n",
        "  # Reverse kernel trick for polynomial x^2\n",
        "  idxu2 = norm_idxu.reshape(-1, d_idx, 1)\n",
        "  idxu2 = torch.bmm(idxu2, idxu2.permute(0, 2, 1)).reshape(m, d_u, -1)\n",
        "  # return norm_idxu\n",
        "  return idxu2"
      ]
    },
    {
      "cell_type": "markdown",
      "metadata": {
        "id": "YLr5gOnn5RRu"
      },
      "source": [
        "#### Similaridades"
      ]
    },
    {
      "cell_type": "code",
      "execution_count": 5,
      "metadata": {
        "id": "S9RbSzv45T8B"
      },
      "outputs": [],
      "source": [
        "def squared_cosine(idxu, idxv):\n",
        "  \"\"\"\n",
        "  idxu: pre_shape x d_idx\n",
        "  idxv: pre_shape x d_idx\n",
        "  \"\"\"\n",
        "  assert idxu.shape == idxv.shape\n",
        "  d_idx = idxu.shape[-1]\n",
        "  sim = torch.bmm(\n",
        "      idxu.reshape(-1, 1, d_idx),\n",
        "      idxv.reshape(-1, d_idx, 1),\n",
        "  )\n",
        "  # sim = (torch.exp(sim) - 1.0) / (1.718)\n",
        "  sim = sim ** 4.0\n",
        "  return sim\n",
        "\n",
        "def relu_cosine(idxu, idxv, bias=0.9):\n",
        "  \"\"\"\n",
        "  idxu: pre_shape x d_idx\n",
        "  idxv: pre_shape x d_idx\n",
        "  \"\"\"\n",
        "  assert idxu.shape == idxv.shape\n",
        "  d_idx = idxu.shape[-1]\n",
        "  sim = nn.functional.relu(\n",
        "      torch.bmm(\n",
        "          idxu.reshape(-1, 1, d_idx),\n",
        "          idxv.reshape(-1, d_idx, 1),\n",
        "      )\n",
        "      - bias\n",
        "  )\n",
        "  sim = sim.reshape(idxu.shape[:-1])\n",
        "  return sim"
      ]
    },
    {
      "cell_type": "markdown",
      "metadata": {
        "id": "XzzFCy32AGsX"
      },
      "source": [
        "#### Funções-valor"
      ]
    },
    {
      "cell_type": "code",
      "execution_count": 6,
      "metadata": {
        "id": "zvUcMTxDAJlx"
      },
      "outputs": [],
      "source": [
        "def vecsum(u, v):\n",
        "  return u + v\n",
        "\n",
        "def vecmean(u, v):\n",
        "  return (u + v) / 2.0\n",
        "\n",
        "def vecprod(u, v):\n",
        "  \"\"\"\n",
        "  Element-wise product. NOT dot product.\n",
        "  \"\"\"\n",
        "  return u * v"
      ]
    },
    {
      "cell_type": "markdown",
      "metadata": {
        "id": "eTvUP7nZjDd7"
      },
      "source": [
        "#### Dots"
      ]
    },
    {
      "cell_type": "markdown",
      "metadata": {
        "id": "9Ytm2bU_JvrK"
      },
      "source": [
        "##### Utilities"
      ]
    },
    {
      "cell_type": "code",
      "execution_count": 7,
      "metadata": {
        "id": "Nzos5YCYJozy"
      },
      "outputs": [],
      "source": [
        "class Pairwise:\n",
        "  def __init__(self, f):\n",
        "    \"\"\"\n",
        "    f: (pre_shape x d_val, pre_shape x d_val) -> pre_shape x d_val_out\n",
        "    \"\"\"\n",
        "    self._f = f\n",
        "\n",
        "  def __call__(self, u, v):\n",
        "    \"\"\"\n",
        "    u: pre_shape_u x d_u x d_val\n",
        "    v: pre_shape_v x d_v x d_val\n",
        "    ans: pre_shape_u x pre_shape_v x d_u x d_v x d_val_out\n",
        "    \"\"\"\n",
        "    ps_u, ps_v = u.shape[:-2], v.shape[:-2]\n",
        "    pps_u, pps_v = np.prod(ps_u), np.prod(ps_v)\n",
        "    d_u, d_val = u.shape[-2:]\n",
        "    d_v, d_valv = v.shape[-2:]\n",
        "    assert d_val == d_valv\n",
        "    # u, v: pps_u x pps_v x d_u x d_v x d_val\n",
        "    u = u.reshape(pps_u,     1, d_u,   1, d_val)\n",
        "    v = v.reshape(    1, pps_v,   1, d_v, d_val)\n",
        "    u = u.repeat(     1, pps_v,   1, d_v,     1)\n",
        "    v = v.repeat( pps_u,     1, d_u,   1,     1)\n",
        "    # fuv: ps_u x ps_v x d_u x d_v x d_val_out\n",
        "    fuv = self._f(u, v)\n",
        "    fuv = fuv.reshape(*ps_u, *ps_v, d_u, d_v, -1)\n",
        "    return fuv\n",
        "\n",
        "def __minmax_normalize(idxu):\n",
        "  \"\"\"\n",
        "  idxu: pre_shape x d_idx\n",
        "  \"\"\"\n",
        "  min_idxu = torch.min(idxu, dim=1)[0].unsqueeze(1)\n",
        "  max_idxu = torch.max(idxu, dim=1)[0].unsqueeze(1)\n",
        "  eps = 1e-6\n",
        "  idxu = min_idxu + ((idxu - min_idxu) / (max_idxu - min_idxu + eps))\n",
        "  return idxu\n",
        "\n",
        "def minmax_normalize(idxu):\n",
        "  \"\"\"\n",
        "  idxu: pre_shape x d_idx\n",
        "  \"\"\"\n",
        "  min_idxu = torch.min(idxu, dim=1)[0].unsqueeze(1)\n",
        "  max_idxu = torch.max(idxu, dim=1)[0].unsqueeze(1)\n",
        "  eps = 1e-6\n",
        "  idxu = 2.0 * ((idxu - min_idxu) / (max_idxu - min_idxu + eps)) - 1.0\n",
        "  return idxu\n",
        "\n",
        "def norm_normalize(u):\n",
        "  \"\"\"\n",
        "  u: pre_shape x d_val\n",
        "  \"\"\"\n",
        "  eps = 1e-6\n",
        "  u = u / (u.norm(dim=-1).unsqueeze(-1) + eps)\n",
        "  return u\n",
        "\n",
        "def normalized(idxu):\n",
        "  \"\"\"\n",
        "  idxu: pre_shape x d_idx\n",
        "  \"\"\"\n",
        "  idxu = minmax_normalize(idxu)\n",
        "  idxu = norm_normalize(idxu)\n",
        "  return idxu\n",
        "\n",
        "from functools import lru_cache\n",
        "\n",
        "@lru_cache()\n",
        "def get_eye(m, d_u, d_v, n, device=\"cpu\"):\n",
        "  eye = (\n",
        "      torch.eye(max(d_u, d_v))\n",
        "      [:d_u, :d_v]\n",
        "      .unsqueeze(0)\n",
        "      .unsqueeze(-1)\n",
        "      .repeat(m, 1, 1, n)\n",
        "      .to(device)\n",
        "  )\n",
        "  return eye"
      ]
    },
    {
      "cell_type": "markdown",
      "metadata": {
        "id": "e0TdCxX0Jzn0"
      },
      "source": [
        "##### Dot products"
      ]
    },
    {
      "cell_type": "code",
      "execution_count": 8,
      "metadata": {
        "id": "LBhkMTmSeAP0"
      },
      "outputs": [],
      "source": [
        "def _sgbmd(u, v, idxu, idxv, sim=None, f=None, normalize=True) -> torch.Tensor:\n",
        "  \"\"\"\n",
        "  \"Slow General Batch Maromba Dot\"\n",
        "  Slower, more general, implementation for the \"batch maromba dot\" operation.\n",
        "  u: M x d_u x d_val\n",
        "  v: N x d_v x d_val\n",
        "  idxu: M x d_u x d_idx\n",
        "  idxv: N x d_v x d_idx\n",
        "  sim: index similarity function\n",
        "  f: value function\n",
        "  \"\"\"\n",
        "  m, d_u, d_idx  = idxu.shape\n",
        "  n, d_v, d_idxv = idxv.shape\n",
        "  d_val = u.shape[-1]\n",
        "  assert d_idx == d_idxv\n",
        "  assert d_val == v.shape[-1]\n",
        "  assert (m, d_u) == u.shape[:2]\n",
        "  assert (n, d_v) == v.shape[:2]\n",
        "  sim = Pairwise(sim)\n",
        "  f = Pairwise(f)\n",
        "  ###\n",
        "  idxu = normalized(idxu)\n",
        "  idxv = normalized(idxv)\n",
        "  ###\n",
        "  # sims: (M * N) x 1 x (d_u * d_v)\n",
        "  # vals: (M * N) x (d_u * d_v) x d_val\n",
        "  sims = sim(idxu, idxv).reshape(m * n, 1, d_u * d_v) ###\n",
        "  norm = 1.0\n",
        "  if normalize:\n",
        "    # norm: (M * N) x 1\n",
        "    norm = sims.sum(dim=-1)\n",
        "  vals = f(u, v)\n",
        "  vals = vals.reshape(m * n, d_u * d_v, d_val)\n",
        "  # dot: M x N x d_val\n",
        "  dot = torch.bmm(sims, vals).squeeze(1)\n",
        "  eps = 1e-8\n",
        "  dot = (dot / (norm + eps)).reshape(m, n, d_val)\n",
        "  return dot\n",
        "\n",
        "def _rdot(u, v, *args):\n",
        "  \"\"\"\n",
        "  \"Regular Dot product\"\n",
        "  u: M x d_u x d_val\n",
        "  v: N x d_v x d_val\n",
        "  \"\"\"\n",
        "  m, d_u, d_val = u.shape\n",
        "  n, d_v, _d_val = v.shape\n",
        "  if d_u != d_v:\n",
        "    return _nsbmd(u, v, *args)\n",
        "  assert _d_val == d_val\n",
        "  dot = (\n",
        "      u.permute(0, 2, 1).reshape(-1, d_u)\n",
        "      @ v.permute(1, 0, 2).reshape(d_v, -1)\n",
        "  ).reshape(m, d_val, n, d_val).permute(0, 2, 1, 3)\n",
        "  dot = torch.diagonal(dot, dim1=2, dim2=3)\n",
        "  return dot\n",
        "\n",
        "def _nsbmd(u, v, idxu, idxv, bias=0.5) -> torch.Tensor:\n",
        "  \"\"\"\n",
        "  \"Non-linear Similarity Batch Maromba Dot\"\n",
        "  u: M x d_u x d_val\n",
        "  v: N x d_v x d_val\n",
        "  idxu: M x d_u x d_idx\n",
        "  idxv: N x d_v x d_idx\n",
        "  \"\"\"\n",
        "  m, d_u, d_idx  = idxu.shape\n",
        "  n, d_v, d_idxv = idxv.shape\n",
        "  d_val = u.shape[-1]\n",
        "  assert d_idx == d_idxv\n",
        "  assert d_val == v.shape[-1]\n",
        "  assert (m, d_u) == u.shape[:2]\n",
        "  assert (n, d_v) == v.shape[:2]\n",
        "  # Pdb().set_trace()\n",
        "  idxu = normalized(idxu)\n",
        "  idxv = normalized(idxv)\n",
        "  # idxuv: M x d_u x d_v x N\n",
        "  # normalizer: M x N x 1\n",
        "  idxuv = idxu.reshape(m * d_u, d_idx) @ idxv.reshape(n * d_v, d_idx).T\n",
        "  idxuv = idxuv.reshape(m, d_u, n, d_v).permute(0, 1, 3, 2)\n",
        "  # idxuv = idxuv ** 6.0\n",
        "  # idxuv = nn.functional.relu(idxuv - bias) ###\n",
        "  mag = 2.0 # 10.0 # 200.0\n",
        "  idxuv = nn.functional.softmax(mag * idxuv - (mag / 2.0), dim=2)\n",
        "  # idxuv = nn.functional.gumbel_softmax(\n",
        "  #     6.0 * idxuv - 3.0, dim=2, hard=False, tau=0.2\n",
        "  # )\n",
        "  # idxuv = get_eye(m, d_u, d_v, n, idxuv.device)\n",
        "  # idxuv = idxuv / (idxuv.sum(dim=2).unsqueeze(2) + 1e-6)\n",
        "  # Pdb().set_trace()\n",
        "  # normalizer = idxuv.reshape(m, d_u * d_v, n).sum(dim=1).reshape(m, n, 1)\n",
        "  # normalizer = 1.0 - 1e-6\n",
        "  # uidxuv: (M x d_val x d_v x N) -> (N x d_v x d_val x M)\n",
        "  uidxuv = (\n",
        "      torch.bmm(\n",
        "        u.permute(0, 2, 1),\n",
        "        idxuv.reshape(m, d_u, d_v * n)\n",
        "      )\n",
        "      .reshape(m, d_val, d_v, n)\n",
        "      .permute(3, 2, 1, 0)\n",
        "  )\n",
        "  # uidxuvv: N x M x d_val x d_val\n",
        "  uidxuvv = (\n",
        "      torch.bmm(\n",
        "          uidxuv.permute(0, 3, 2, 1).reshape(n * m, d_val, d_v),\n",
        "          v.unsqueeze(1).repeat(1, m, 1, 1).reshape(n * m, d_v, d_val)\n",
        "      )\n",
        "      .reshape(n, m, d_val, d_val)\n",
        "  )\n",
        "  # dot: M x N x d_val\n",
        "  dot = torch.diagonal(uidxuvv, dim1=2, dim2=3)\n",
        "  dot = dot.permute(1, 0, 2)\n",
        "  # dot = dot / (normalizer + 1e-6)\n",
        "  return dot\n",
        "\n",
        "def _gbmd(u, v, idxu, idxv, kernel=None, idx_part=None) -> torch.Tensor:\n",
        "  \"\"\"\n",
        "  \"General Batch Maromba Dot\"\n",
        "  Shorter implementation for the \"batch maromba dot\" operation.\n",
        "  u: M x d_u\n",
        "  v: N x d_v\n",
        "  idxu: M x d_u x d_idx\n",
        "  idxv: N x d_v x d_idx\n",
        "  \"\"\"\n",
        "  m, d_u = u.shape\n",
        "  n, d_v = v.shape\n",
        "  d_idx = idxu.shape[-1]\n",
        "  assert (m, d_u, d_idx) == idxu.shape\n",
        "  assert (n, d_v, d_idx) == idxv.shape\n",
        "  if kernel:\n",
        "    idxu = kernel(idxu, idx_part)\n",
        "    idxv = kernel(idxv, idx_part)\n",
        "  # uidxu: M x d_idx\n",
        "  # vidxv: N x d_idx\n",
        "  uidxu = torch.bmm(u.reshape(m, 1, d_u), idxu).squeeze(1)\n",
        "  vidxv = torch.bmm(v.reshape(n, 1, d_v), idxv).squeeze(1)\n",
        "  dot = uidxu @ vidxv.T\n",
        "  ### Under experimentation\n",
        "  normalizer = idxu.sum(dim=1) @ idxv.sum(dim=1).T\n",
        "  dot = dot / (normalizer + 1e-8) ###\n",
        "  ###\n",
        "  return dot"
      ]
    },
    {
      "cell_type": "markdown",
      "metadata": {
        "id": "_T9hF3Uoi3tF"
      },
      "source": [
        "#### Índices"
      ]
    },
    {
      "cell_type": "code",
      "execution_count": 9,
      "metadata": {
        "id": "UrPFWDtli55C"
      },
      "outputs": [],
      "source": [
        "def _fast_kernel_idx_sum(idxu, idxv, k, idx_part):\n",
        "  \"\"\"\n",
        "  k: callable: A x B x C -> A x B x C\n",
        "  idxu: M x d_u x d_idx\n",
        "  idxv: N x d_v x d_idx\n",
        "  \"\"\"\n",
        "  ### idxu MUST be the input mini-batch\n",
        "  batch_m = 1 # idxu.shape[0]\n",
        "  # idxu = idxu.mean(dim=0).unsqueeze(0)\n",
        "  ###\n",
        "  m, d_u, d_idx = idxu.shape\n",
        "  n, d_v, _ = idxv.shape\n",
        "  assert d_idx == idxv.shape[-1]\n",
        "  # kidxu: M x d_u x d_idx\n",
        "  # kidxv: N x d_v x d_idx\n",
        "  kidxu = k(idxu, idx_part)\n",
        "  kidxv = k(idxv, idx_part)\n",
        "  d_idx_k = kidxu.shape[-1]\n",
        "  assert kidxu.shape[:-1] == idxu.shape[:-1]\n",
        "  assert kidxv.shape[:-1] == idxv.shape[:-1]\n",
        "  # kiTi: (M * d_idx) x d_idx(k)\n",
        "  # kjTj: (N * d_idx) x d_idx(k)\n",
        "  iTki = torch.bmm(idxu.permute(0, 2, 1), kidxu).reshape(m * d_idx, d_idx_k)\n",
        "  jTkj = torch.bmm(idxv.permute(0, 2, 1), kidxv).reshape(n * d_idx, d_idx_k)\n",
        "  ski = kidxu.sum(dim=1)\n",
        "  skj = kidxv.sum(dim=1)\n",
        "  norm = (ski @ skj.T).unsqueeze(-1)\n",
        "  # sidx: (M * d_idx) x N + (N * d_idx) x M\n",
        "  sidx = (\n",
        "      (iTki @ skj.T).reshape(m, d_idx, n).permute(0, 2, 1)\n",
        "      + (jTkj @ ski.T).reshape(n, d_idx, m).permute(2, 0, 1)\n",
        "  )\n",
        "  sidx = sidx / norm\n",
        "  sidx = sidx.repeat(batch_m, 1, 1)\n",
        "  return sidx\n",
        "\n",
        "def _fast_kernel_idx(idxu, idxv, k, _idx_part):\n",
        "  \"\"\"\n",
        "  k: callable: A x B x C -> A x B x C\n",
        "  idxu: M x d_u x d_idx\n",
        "  idxv: N x d_v x d_idx\n",
        "  \"\"\"\n",
        "  ### idxu MUST be the input mini-batch\n",
        "  batch_m = 1 # idxu.shape[0]\n",
        "  # idxu = idxu.mean(dim=0).unsqueeze(0)\n",
        "  ###\n",
        "  m, d_u, d_idx = idxu.shape\n",
        "  n, d_v, _ = idxv.shape\n",
        "  assert d_idx == idxv.shape[-1]\n",
        "  # kidxu: M x d_u x d_idx\n",
        "  # kidxv: N x d_v x d_idx\n",
        "  kidxu = k(idxu, _idx_part)\n",
        "  kidxv = k(idxv, _idx_part)\n",
        "  assert kidxu.shape == idxu.shape\n",
        "  assert kidxv.shape == idxv.shape\n",
        "  # kiTi: (M * d_idx) x d_idx(k)\n",
        "  # kjTj: (N * d_idx) x d_idx(k)\n",
        "  iTki = torch.bmm(idxu.permute(0, 2, 1), kidxu).reshape(m * d_idx, d_idx)\n",
        "  jTkj = torch.bmm(idxv.permute(0, 2, 1), kidxv).reshape(n * d_idx, d_idx)\n",
        "  # iTki_kjTj: M x N x d_idx x d_idx\n",
        "  iTki_kjTj = (iTki @ jTkj.T).reshape(m, d_idx, n, d_idx).permute(0, 2, 1, 3)\n",
        "  diag = torch.diagonal(iTki_kjTj, dim1=2, dim2=3)\n",
        "  ###\n",
        "  ski = kidxu.sum(dim=1)\n",
        "  skj = kidxv.sum(dim=1)\n",
        "  norm = (ski @ skj.T).unsqueeze(-1)\n",
        "  diag = diag / norm\n",
        "  ###\n",
        "  diag = diag.repeat(batch_m, 1, 1)\n",
        "  return diag\n",
        "\n",
        "def _kernel_idx(idxu, idxv, k, _idx_part):\n",
        "  \"\"\"\n",
        "  k: callable: A x B x C -> A x B x C\n",
        "  idxu: M x d_u x d_idx\n",
        "  idxv: N x d_v x d_idx\n",
        "  \"\"\"\n",
        "  m, d_u, d_idx = idxu.shape\n",
        "  n, d_v, _ = idxv.shape\n",
        "  assert d_idx == idxv.shape[-1]\n",
        "  # kidxu: M x d_u x d_idx\n",
        "  # kidxv: N x d_v x d_idx\n",
        "  kidxu = k(idxu, _idx_part)\n",
        "  kidxv = k(idxv, _idx_part)\n",
        "  assert kidxu.shape == idxu.shape\n",
        "  assert kidxv.shape == idxv.shape\n",
        "  # ski: (M * N) x d_idx\n",
        "  # skj: (M * N) x d_idx\n",
        "  # norm: M x N x 1\n",
        "  ski = kidxu.sum(dim=1)\n",
        "  skj = kidxv.sum(dim=1)\n",
        "  norm = (ski @ skj.T).unsqueeze(-1)\n",
        "  ski = ski.unsqueeze(1).repeat(1, n, 1).reshape(m * n, d_idx, 1)\n",
        "  skj = skj.unsqueeze(1).repeat(m, 1, 1).reshape(m * n, d_idx, 1)\n",
        "  # idxu, kidxu: (M * d_u) x d_idx x 1\n",
        "  # idxv, kidxv: (N * d_v) x d_idx x 1\n",
        "  idxu = idxu.reshape(m * d_u, d_idx, 1)\n",
        "  idxv = idxv.reshape(n * d_v, d_idx, 1)\n",
        "  kidxu = kidxu.reshape(m * d_u, d_idx, 1)\n",
        "  kidxv = kidxv.reshape(n * d_v, d_idx, 1)\n",
        "  # sikiT: M x d_idx x d_idx\n",
        "  # sjkjT: N x d_idx x d_idx\n",
        "  sikiT = torch.bmm(idxu, kidxu.permute(0, 2, 1))\n",
        "  sikiT = sikiT.reshape(m, d_u, d_idx, d_idx).sum(dim=1)\n",
        "  sjkjT = torch.bmm(idxv, kidxv.permute(0, 2, 1))\n",
        "  sjkjT = sjkjT.reshape(n, d_v, d_idx, d_idx).sum(dim=1)\n",
        "  del kidxu\n",
        "  del kidxv\n",
        "  del idxu\n",
        "  del idxv\n",
        "  # sikiT: (M * N) x d_idx x d_idx\n",
        "  # sjkjT: (M * N) x d_idx x d_idx\n",
        "  sikiT = sikiT.unsqueeze(1).repeat(1, n, 1, 1).reshape(m * n, d_idx, d_idx)\n",
        "  sjkjT = sjkjT.unsqueeze(0).repeat(m, 1, 1, 1).reshape(m * n, d_idx, d_idx)\n",
        "  # diag_sikiT_skjjT: (M * N) x d_idx\n",
        "  # skjjT = sjkjT.permute(0, 2, 1)\n",
        "  # diag_sikiT_skjjT = torch.diagonal(torch.bmm(sikiT, skjjT), dim1=1, dim2=2)\n",
        "  # diag_sikiT_skjjT = diag_sikiT_skjjT.unsqueeze(-1)\n",
        "  xor_idx = torch.bmm(sikiT, skj) + torch.bmm(sjkjT, ski)\n",
        "  # xor_idx = torch.bmm(sikiT, skj) + torch.bmm(sjkjT, ski) - diag_sikiT_skjjT\n",
        "  # xor_idx = diag_sikiT_skjjT\n",
        "  xor_idx = xor_idx.reshape(m, n, d_idx)\n",
        "  xor_idx = xor_idx / norm\n",
        "  return xor_idx"
      ]
    },
    {
      "cell_type": "markdown",
      "metadata": {
        "id": "kTfYY3SQXNJF"
      },
      "source": [
        "### Classe Tensor Maromba"
      ]
    },
    {
      "cell_type": "code",
      "execution_count": 10,
      "metadata": {
        "id": "OJVRPHg7UvVV"
      },
      "outputs": [],
      "source": [
        "class MTensor:\n",
        "  def __init__(\n",
        "      self,\n",
        "      values: torch.Tensor,\n",
        "      indices: torch.Tensor,\n",
        "      indexer: nn.Module=nn.Identity(),\n",
        "    ):\n",
        "    assert values.shape == indices.shape[:-1]\n",
        "    self.data = values\n",
        "    self.idx = indices\n",
        "    self.idx_dim = indices.shape[-1]\n",
        "    self.indexer = indexer\n",
        "    self._idx_part = img_dim\n",
        "    self._eps = 1e-6\n",
        "\n",
        "  def __getitem__(self, idx):\n",
        "    return MTensor(self.data[idx], self.idx[idx], self.indexer)\n",
        "\n",
        "  def __setitem__(self, idx, value):\n",
        "    self.data[idx] = value.data\n",
        "    self.idx[idx] = value.idx\n",
        "\n",
        "  def __delitem__(self, idx):\n",
        "    del self.data[idx]\n",
        "    del self.idx[idx]\n",
        "\n",
        "  def __len__(self):\n",
        "    return len(self.data)\n",
        "\n",
        "  @staticmethod\n",
        "  def cat(mts, dim=0):\n",
        "    values = [mt.data for mt in mts]\n",
        "    indices = [mt.idx for mt in mts]\n",
        "    values = torch.cat(values, dim=dim)\n",
        "    indices = torch.cat(indices, dim=dim)\n",
        "    mt = MTensor(values, indices)\n",
        "    return mt\n",
        "\n",
        "  @staticmethod\n",
        "  def unsqueeze(mt, dim=0):\n",
        "    assert dim != -1\n",
        "    assert dim < len(mt.idx.shape) - 1\n",
        "    mt.data = mt.data.unsqueeze(dim)\n",
        "    mt.idx = mt.idx.unsqueeze(dim)\n",
        "    return mt\n",
        "\n",
        "  @staticmethod\n",
        "  def squeeze(mt, dim=0):\n",
        "    assert dim != -1\n",
        "    assert dim < len(mt.idx.shape) - 1\n",
        "    mt.data = mt.data.squeeze(dim)\n",
        "    mt.idx = mt.idx.squeeze(dim)\n",
        "    return mt\n",
        "\n",
        "  @staticmethod\n",
        "  def clone(mt):\n",
        "    return MTensor(mt.data, mt.idx, mt.indexer)\n",
        "\n",
        "  @staticmethod\n",
        "  def reshape(mt, shape):\n",
        "    idx_shape = shape + (mt.idx_dim,)\n",
        "    nmt = MTensor(\n",
        "        mt.data.reshape(shape),\n",
        "        mt.idx.reshape(idx_shape),\n",
        "        mt.indexer\n",
        "    )\n",
        "    return nmt\n",
        "\n",
        "  @staticmethod\n",
        "  def permute(mt, perm):\n",
        "    idx_perm = perm + (-1,)\n",
        "    nmt = MTensor(\n",
        "        mt.data.permute(*perm),\n",
        "        mt.idx.permute(*idx_perm),\n",
        "        mt.indexer\n",
        "    )\n",
        "    return nmt\n",
        "\n",
        "  def __matmul__(self, b):\n",
        "    \"\"\"\n",
        "    Useful for computing m-product between a batch of inputs (N x ...) and a\n",
        "    parameter matrix (m x n).\n",
        "\n",
        "    self.data: pre_shape(self) x in_dim(self)\n",
        "    self.data.idx: pre_shape(self) x in_dim(self) x d_idx\n",
        "    b.data: pre_shape(b) x in_dim(b)\n",
        "    b.idx: pre_shape(b) x in_dim(b) x d_idx\n",
        "\n",
        "    Returns \"mdot\"\n",
        "    mdot.data: pre_shape(self) x pre_shape(b)\n",
        "    mdot.idx: pre_shape(self) x pre_shape(b) x d_idx\n",
        "    \"\"\"\n",
        "    apre = self.data.shape[:-1]\n",
        "    bpre = b.data.shape[:-1]\n",
        "    d_idx = self.idx.shape[-1]\n",
        "    assert d_idx == b.idx.shape[-1]\n",
        "    aidx = self.idx.reshape(*((-1,) + self.idx.shape[-2:]))\n",
        "    bidx = b.idx.reshape(*((-1,) + b.idx.shape[-2:]))\n",
        "    kernel = _soft_kernel\n",
        "    # kernel = _cosine_kernel\n",
        "    # mdot = _gbmd(\n",
        "    #     self.data.reshape(-1, self.data.shape[-1]),\n",
        "    #     b.data.reshape(-1, b.data.shape[-1]),\n",
        "    #     aidx,\n",
        "    #     bidx,\n",
        "    #     kernel=kernel,\n",
        "    #     idx_part=self._idx_part,\n",
        "    # )\n",
        "    # mdot = _sgbmd(\n",
        "    #     self.data.reshape(-1, self.data.shape[-1], 1),\n",
        "    #     b.data.reshape(-1, b.data.shape[-1], 1),\n",
        "    #     aidx,\n",
        "    #     bidx,\n",
        "    #     sim=relu_cosine,\n",
        "    #     # sim=squared_cosine,\n",
        "    #     f=vecprod,\n",
        "    # )\n",
        "    ###\n",
        "    mdot = _nsbmd(\n",
        "        self.data.reshape(-1, self.data.shape[-1], 1),\n",
        "        b.data.reshape(-1, b.data.shape[-1], 1),\n",
        "        aidx,\n",
        "        bidx,\n",
        "    )\n",
        "    ###\n",
        "    # mdot = _rdot(\n",
        "    #     self.data.reshape(-1, self.data.shape[-1], 1),\n",
        "    #     b.data.reshape(-1, b.data.shape[-1], 1),\n",
        "    #     aidx,\n",
        "    #     bidx,\n",
        "    # )\n",
        "    ###\n",
        "    mdot = mdot.reshape(apre + bpre)\n",
        "    # New indices\n",
        "    # _kernel_idx # _fast_kernel_idx # _fast_kernel_idx_sum\n",
        "    # midx = _fast_kernel_idx_sum(\n",
        "    #     aidx,\n",
        "    #     bidx,\n",
        "    #     kernel,\n",
        "    #     self._idx_part,\n",
        "    # )\n",
        "    # midx = _sgbmd(\n",
        "    #     aidx,\n",
        "    #     bidx,\n",
        "    #     aidx,\n",
        "    #     bidx,\n",
        "    #     sim=relu_cosine,\n",
        "    #     # sim=squared_cosine,\n",
        "    #     # f=vecsum,\n",
        "    #     f=vecmean,\n",
        "    # )\n",
        "    ###\n",
        "    onesa = torch.ones(self.idx.shape).to(self.idx.device)\n",
        "    onesb = torch.ones(b.idx.shape).to(b.idx.device)\n",
        "    # midx = norm_normalize(\n",
        "    #     norm_normalize(_nsbmd(aidx, onesb, aidx, bidx))\n",
        "    #     + norm_normalize(_nsbmd(onesa, bidx, aidx, bidx))\n",
        "    # )\n",
        "    # midx = norm_normalize(_nsbmd(aidx, bidx, aidx, bidx))\n",
        "    midx = (\n",
        "        _nsbmd(aidx, onesb, aidx, bidx)\n",
        "        + _nsbmd(onesa, bidx, aidx, bidx)\n",
        "    ) / 2.0\n",
        "    # Pdb().set_trace()\n",
        "    ###\n",
        "    # midx = norm_normalize(\n",
        "    #     norm_normalize(_rdot(aidx, onesb, aidx, bidx))\n",
        "    #     + norm_normalize(_rdot(onesa, bidx, aidx, bidx))\n",
        "    # )\n",
        "    ###\n",
        "    new_shape = apre + bpre + (d_idx,)\n",
        "    midx = midx.reshape(new_shape)\n",
        "    #\n",
        "    mdot = MTensor(mdot, midx, self.indexer)\n",
        "    return mdot\n",
        "\n",
        "  def __mul__(self, b):\n",
        "    \"\"\"\n",
        "    self: N x out_a x in_a (x d_idx)\n",
        "    b:    N x out_b x in_b (x d_idx)\n",
        "    \"\"\"\n",
        "    n, out_a, in_a = self.data.shape\n",
        "    assert b.data.shape[0] == n\n",
        "    _, out_b, in_b = b.data.shape\n",
        "    d_idx = self.idx.shape[-1]\n",
        "    assert b.idx.shape[-1] == d_idx\n",
        "    ### Solução provisória. Calcular o índice com paralelismo ainda não é possível.\n",
        "    mdots = [MTensor.unsqueeze(self[idx] @ b[idx], dim=0) for idx in range(n)]\n",
        "    mdots = MTensor.cat(mdots, dim=0)\n",
        "    return mdots"
      ]
    },
    {
      "cell_type": "markdown",
      "metadata": {
        "id": "yGg59zEqYGe6"
      },
      "source": [
        "### Classe do Módulo Treinável"
      ]
    },
    {
      "cell_type": "markdown",
      "source": [
        "#### Sampling functions"
      ],
      "metadata": {
        "id": "1SknOTQ7O9BS"
      }
    },
    {
      "cell_type": "code",
      "source": [
        "def idx2d(\n",
        "    channels: int,\n",
        "    rows: int,\n",
        "    cols: int,\n",
        "    w: int,\n",
        "    h: int,\n",
        "    stride: int=2,\n",
        "    dilation: int=1,\n",
        "    device=\"cpu\"\n",
        "  ):\n",
        "  idx = []\n",
        "  dilh = 1 + dilation * (h - 1)\n",
        "  dilw = 1 + dilation * (w - 1)\n",
        "  for row in range(0, rows - (dilh - 1), stride):\n",
        "    for col in range(0, cols - (dilw - 1), stride):\n",
        "      for ch in range(channels):\n",
        "        for drow in range(0, dilh, dilation):\n",
        "          for dcol in range(0, dilw, dilation):\n",
        "            idx.append(\n",
        "                cols * rows * ch\n",
        "                + cols * (row + drow)\n",
        "                + (col + dcol)\n",
        "            )\n",
        "  idx = torch.tensor(idx).long().to(device)\n",
        "  return idx\n",
        "\n",
        "def unsort(idxs):\n",
        "  ridxs = [0 for _ in idxs]\n",
        "  for i, idx in enumerate(idxs):\n",
        "    ridxs[idx] = i\n",
        "  ridxs = torch.tensor(ridxs).long().to(idxs.device)\n",
        "  return ridxs\n",
        "\n",
        "def get_perms(tmp_idx):\n",
        "  idxs, _idxs = [], []\n",
        "  for dim in range(tmp_idx.shape[-1]):\n",
        "    ordering = torch.argsort(tmp_idx[:, dim], stable=True)\n",
        "    idxs.append(ordering.cpu().detach())\n",
        "    _idxs.append(unsort(ordering).cpu().detach())\n",
        "  return idxs, _idxs\n",
        "\n",
        "def resort(k, src, tgt):\n",
        "  assert src == 0 or tgt == 0\n",
        "  global idxs, _idxs\n",
        "  if tgt == 0:\n",
        "    return idxs[src][k]\n",
        "  return _idxs[tgt][k]\n",
        "\n",
        "def hoods(dims, k0, w, _min=0, _max=None):\n",
        "  assert len(dims) == len(w), f\"{len(dims)} != {len(w)}\"\n",
        "  if len(dims) == 0:\n",
        "    return [k0] # [k0.item()]\n",
        "  _hoods = []\n",
        "  global idxs, _idxs\n",
        "  _k0d = resort(k0, 0, dims[-1]) #, idxs, _idxs)\n",
        "  for _w in range(-(w[-1] // 2), (w[-1] // 2) + (w[-1] % 2)):\n",
        "    # k0d = min(_max, max(_min, _k0d + _w))\n",
        "    k0d = torch.clip(_k0d + _w, min=_min, max=_max)\n",
        "    _hoods += hoods(\n",
        "        dims[:-1],\n",
        "        resort(\n",
        "            k0d,\n",
        "            dims[-1], 0,\n",
        "            # idxs, _idxs\n",
        "        ),\n",
        "        w[:-1],\n",
        "        # idxs, _idxs,\n",
        "        _min, _max\n",
        "    )\n",
        "  return _hoods\n",
        "\n",
        "idxs, _idxs = None, None\n",
        "\n",
        "def idxhood(xidx, ws, stride):\n",
        "  \"\"\"\n",
        "  xidx: in_dim x idx_dim\n",
        "  \"\"\"\n",
        "  dims = tuple(range(xidx.shape[-1]))\n",
        "  global idxs, _idxs\n",
        "  idxs, _idxs = get_perms(xidx)\n",
        "  pivots = torch.tensor([piv for piv in range(0, len(xidx), stride)]).long()\n",
        "  all_hoods = hoods(dims, pivots, ws, 0, len(xidx) - 1)\n",
        "  # all_hoods = torch.tensor(all_hoods).long().T.reshape(-1)\n",
        "  # Pdb().set_trace()\n",
        "  all_hoods = torch.cat(all_hoods, dim=0).reshape(len(all_hoods), -1).T\n",
        "  all_hoods = all_hoods.reshape(-1)\n",
        "  return all_hoods"
      ],
      "metadata": {
        "id": "WicPIpyIO3wu"
      },
      "execution_count": 11,
      "outputs": []
    },
    {
      "cell_type": "markdown",
      "source": [
        "#### MModule"
      ],
      "metadata": {
        "id": "jdZ8zHIcPQPS"
      }
    },
    {
      "cell_type": "code",
      "source": [
        "class MModule(nn.Module):\n",
        "  def __init__(\n",
        "      self, n_params=600, idx_dim=32, samples=32, sets=64, device=\"cpu\",\n",
        "      probe_dim=None,\n",
        "      ):\n",
        "    super().__init__()\n",
        "    self.idx_dim = idx_dim\n",
        "    self.samples = samples\n",
        "    self.sets = sets\n",
        "    self.device = device\n",
        "    self.n_params = n_params\n",
        "    ### TODO: checar inicialização de W\n",
        "    # self.W = nn.Parameter(torch.randn((1, n_params), device=device))\n",
        "    self.W = nn.Parameter(\n",
        "        2.0 * torch.rand((1, n_params), device=device) - 1.0\n",
        "    )\n",
        "    self.W_idx = nn.Parameter(\n",
        "        2.0 * torch.rand((1, n_params, idx_dim), device=device) - 1.0\n",
        "    )\n",
        "    # self.W_idx = _W_idx\n",
        "    self.MW = MTensor(self.W, self.W_idx)\n",
        "    ###\n",
        "    if probe_dim:\n",
        "      self.probe = nn.Linear(probe_dim, 10).to(device) # 288, 400, 512\n",
        "    ###\n",
        "    # self.activation = nn.ReLU()\n",
        "    self.activation = nn.ELU()\n",
        "\n",
        "  def _W_step(\n",
        "      self,\n",
        "      x: MTensor,\n",
        "      W: MTensor,\n",
        "      sets,\n",
        "      samples,\n",
        "      random=True,\n",
        "      conv=False,\n",
        "      filter_size=4,\n",
        "      activation=True,\n",
        "      regular_dot=False):\n",
        "    \"\"\"\n",
        "    x.data: N x in_dim\n",
        "    x.idx: N x in_dim x idx_dim\n",
        "    \"\"\"\n",
        "    n, in_dim, idx_dim = x.idx.shape\n",
        "    assert x.data.shape == (n, in_dim)\n",
        "    # Put 1 into x\n",
        "    if not conv:\n",
        "      filter_size = in_dim\n",
        "    assert (in_dim % filter_size) == 0\n",
        "    num_windows = (in_dim // filter_size)\n",
        "    # one = MTensor(\n",
        "    #     torch.ones((n * num_windows), 1).to(self.device),\n",
        "    #     torch.ones((n * num_windows), 1, idx_dim).to(self.device),\n",
        "    # )\n",
        "    x = MTensor.reshape(x, (n * num_windows, filter_size))\n",
        "    # Sample W\n",
        "    if conv:\n",
        "      ### filter_size + 1\n",
        "      assert (sets * samples) % (filter_size) == 0\n",
        "      numw_windows = (sets * samples) // (filter_size)\n",
        "      sets, samples = numw_windows, (filter_size)\n",
        "    W_sets = MTensor.reshape(W, (sets, samples))\n",
        "    ## mdot: N x sets\n",
        "    # mdot: (N * num_windows) x numw_windows\n",
        "    mdot = x @ W_sets\n",
        "    if activation:\n",
        "      mdot.data = self.activation(mdot.data)\n",
        "    # mdot: N x num_windows x numw_windows\n",
        "    if conv:\n",
        "      ### Várias \"imagens\" coladas em um sentido\n",
        "      mdot = MTensor.reshape(mdot, (n, num_windows, numw_windows))\n",
        "    return mdot\n",
        "\n",
        "  def forward(self, x: MTensor):\n",
        "    \"\"\"\n",
        "    x.data: N x in_dim\n",
        "    x.idx: N x in_dim x idx_dim\n",
        "    \"\"\"\n",
        "    n_sets, n_samples = len(self.sets), len(self.samples)\n",
        "    assert n_sets == n_samples\n",
        "    assert n_sets > 0\n",
        "    ### Under experimentation\n",
        "    channels = 1\n",
        "    img_h, img_w = img_dim, img_dim\n",
        "    filter_whs = [(3, 3), (3, 3)]\n",
        "    strides = [2, 1]\n",
        "    filter_w, filter_h = filter_whs[0]\n",
        "    stride = strides[0]\n",
        "    filter_area = filter_w * filter_h\n",
        "    filter_volume = channels * filter_area\n",
        "    self.all_pools = [x[:4]]\n",
        "    idx = idx2d(\n",
        "        channels,\n",
        "        img_h, img_w,\n",
        "        filter_w, filter_h,\n",
        "        stride=stride,\n",
        "        device=self.device\n",
        "    )\n",
        "    x = x[:, idx]\n",
        "    ###\n",
        "    pool = x\n",
        "    wl, wr = 0, self.sets[0] * self.samples[0]\n",
        "    for step in range(n_sets):\n",
        "      activate = (step < n_sets - 1)\n",
        "      conv = activate\n",
        "      if conv:\n",
        "        pool = self._W_step(\n",
        "            pool,\n",
        "            self.MW[:, wl: wr],\n",
        "            self.sets[step],\n",
        "            self.samples[step],\n",
        "            random=False,\n",
        "            conv=conv,\n",
        "            filter_size=filter_volume,\n",
        "            activation=activate,\n",
        "        )\n",
        "      else:\n",
        "        pool.data = self.probe(pool.data)\n",
        "      ###\n",
        "      nxt_conv = (step + 1 < n_sets - 1)\n",
        "      ###\n",
        "      if conv:\n",
        "        # pool: N x num_windows x numw_windows\n",
        "        self.all_pools.append(pool[:4])\n",
        "        n, img_area, channels = pool.data.shape\n",
        "        filter_volume = channels * filter_area\n",
        "        pool = MTensor.permute(pool, (0, 2, 1))\n",
        "        pool = MTensor.reshape(pool, (n, -1))\n",
        "        # assert img_dim % stride == 0\n",
        "        img_h = (img_h - filter_h + stride) // stride\n",
        "        img_w = (img_w - filter_w + stride) // stride\n",
        "        assert img_h * img_w == img_area\n",
        "        # cols = pool.data.shape[1] // rows\n",
        "        nxt_conv_step = (step + 1) % len(strides)\n",
        "        filter_w, filter_h = filter_whs[nxt_conv_step]\n",
        "        stride = strides[nxt_conv_step]\n",
        "        filter_area = filter_w * filter_h\n",
        "        filter_volume = channels * filter_area\n",
        "        if nxt_conv:\n",
        "          idx = idx2d(\n",
        "              channels,\n",
        "              img_h, img_w,\n",
        "              filter_w, filter_h,\n",
        "              stride=stride,\n",
        "              device=self.device\n",
        "          )\n",
        "          pool = pool[:, idx]\n",
        "      ###\n",
        "      nxt_step = (step + 1) % n_sets\n",
        "      next_wr = wr + self.sets[nxt_step] * self.samples[nxt_step]\n",
        "      wl, wr = wr, next_wr\n",
        "    return pool"
      ],
      "metadata": {
        "id": "tQoFxrDIPScK"
      },
      "execution_count": 12,
      "outputs": []
    },
    {
      "cell_type": "markdown",
      "source": [
        "#### MModule II"
      ],
      "metadata": {
        "id": "3mlldpkcPFvk"
      }
    },
    {
      "cell_type": "code",
      "execution_count": 22,
      "metadata": {
        "id": "Oipx_P9qYUUb"
      },
      "outputs": [],
      "source": [
        "class MModule2(nn.Module):\n",
        "  def __init__(\n",
        "      self, n_params=600, idx_dim=32, samples=32, sets=64, device=\"cpu\",\n",
        "      probe_dim=None,\n",
        "      ):\n",
        "    super().__init__()\n",
        "    self.idx_dim = idx_dim\n",
        "    self.samples = samples\n",
        "    self.sets = sets\n",
        "    self.device = device\n",
        "    self.n_params = n_params\n",
        "    ### TODO: checar inicialização de W\n",
        "    # self.W = nn.Parameter(torch.randn((1, n_params), device=device))\n",
        "    self.W = nn.Parameter(\n",
        "        2.0 * torch.rand((1, n_params), device=device) - 1.0\n",
        "    )\n",
        "    self.W_idx = nn.Parameter(\n",
        "        2.0 * torch.rand((1, n_params, idx_dim), device=device) - 1.0\n",
        "    )\n",
        "    # self.W_idx = _W_idx\n",
        "    self.MW = MTensor(self.W, self.W_idx)\n",
        "    ###\n",
        "    if probe_dim:\n",
        "      self.probe = nn.Linear(probe_dim, 10).to(device) # 288, 400, 512\n",
        "    ###\n",
        "    # self.activation = nn.ReLU()\n",
        "    self.activation = nn.ELU()\n",
        "\n",
        "  def forward(self, x: MTensor):\n",
        "    \"\"\"\n",
        "    x.data: N x in_dim\n",
        "    x.idx: N x in_dim x idx_dim\n",
        "    \"\"\"\n",
        "    n_sets, n_samples = len(self.sets), len(self.samples)\n",
        "    assert n_sets == n_samples\n",
        "    assert n_sets > 0\n",
        "    ### Under experimentation\n",
        "    n = x.data.shape[0]\n",
        "    filter_whs = [(3, 3, 1), (3, 3, 2)]\n",
        "    strides = [1, 1]\n",
        "    stride = strides[0]\n",
        "    filter_volume = np.prod(filter_whs[0])\n",
        "    self.all_pools = [x[:4]]\n",
        "    idxx = idxhood(x.idx[0], filter_whs[0], strides[0]) ### FIX\n",
        "    # pool: N x (num_windows * window_volume)\n",
        "    pool = x[:, idxx]\n",
        "    ###\n",
        "    wl, wr = 0, self.sets[0] * self.samples[0]\n",
        "    # idxw = idxhood(\n",
        "    #     mw.idx,\n",
        "    #     filter_whs[0],\n",
        "    #     strides[0]\n",
        "    # ) ### FIX\n",
        "    # mw = mw[:, idxw]\n",
        "    for step in range(n_sets):\n",
        "      mw = MTensor.reshape(\n",
        "          self.MW[0, wl: wr],\n",
        "          (self.sets[step], self.samples[step])\n",
        "      )\n",
        "      activate = (step < n_sets - 1)\n",
        "      conv = activate\n",
        "      if conv:\n",
        "        # pool: (N * num_windows) x  sets\n",
        "        # Pdb().set_trace()\n",
        "        pool = MTensor.reshape(pool, (-1, filter_volume)) @ mw\n",
        "        pool = MTensor.reshape(pool, (n, -1, self.sets[step]))\n",
        "      else:\n",
        "        pool.data = self.probe(pool.data)\n",
        "      ###\n",
        "      nxt_conv = (step + 1 < n_sets - 1)\n",
        "      ###\n",
        "      if conv:\n",
        "        # pool: N x num_windows x numw_windows\n",
        "        self.all_pools.append(pool[:4])\n",
        "        n, img_area, channels = pool.data.shape\n",
        "        # pool = MTensor.permute(pool, (0, 2, 1))\n",
        "        pool = MTensor.reshape(pool, (n, -1))\n",
        "        nxt_conv_step = (step + 1) % len(strides)\n",
        "        stride = strides[nxt_conv_step]\n",
        "        filter_volume = np.prod(filter_whs[nxt_conv_step])\n",
        "        if nxt_conv:\n",
        "          idxx = idxhood(\n",
        "              pool.idx[0],\n",
        "              filter_whs[nxt_conv_step],\n",
        "              strides[nxt_conv_step]\n",
        "          ) ### FIX\n",
        "          pool = pool[:, idxx]\n",
        "      ###\n",
        "      nxt_step = (step + 1) % n_sets\n",
        "      next_wr = wr + self.sets[nxt_step] * self.samples[nxt_step]\n",
        "      wl, wr = wr, next_wr\n",
        "    Pdb().set_trace()\n",
        "    return pool"
      ]
    },
    {
      "cell_type": "markdown",
      "metadata": {
        "id": "QQRFtDATXUmH"
      },
      "source": [
        "### Função de Custo"
      ]
    },
    {
      "cell_type": "code",
      "execution_count": 14,
      "metadata": {
        "id": "vX8kHpfLXVzo"
      },
      "outputs": [],
      "source": [
        "from sklearn.metrics import accuracy_score\n",
        "\n",
        "def _check_shapes(y_true, y_pred, true_index, pred_index):\n",
        "  n, d_out = y_true.shape\n",
        "  assert y_true.shape[0] == y_pred.shape[0]\n",
        "  assert true_index.shape[0] == pred_index.shape[0]\n",
        "  assert true_index.shape[-1] == pred_index.shape[-1]\n",
        "\n",
        "def _maromba_loss(y_true, y_pred, true_index, pred_index):\n",
        "  \"\"\"\n",
        "  y_true: N x d_out(true)\n",
        "  y_pred: N x d_out(pred)\n",
        "  true_index: N x d_out(true) x d_index\n",
        "  pred_index: N x d_out(pred) x d_index\n",
        "  \"\"\"\n",
        "  _check_shapes(y_true, y_pred, true_index, pred_index)\n",
        "  # index_match: N x d_out(pred) x d_out(true)\n",
        "  ###\n",
        "  pred_index = MTensor._soft_kernel(pred_index, img_dim)\n",
        "  # pred_index = MTensor._cosine_kernel(pred_index)\n",
        "  ###\n",
        "  index_match = torch.bmm(pred_index, true_index.permute(0, 2, 1))\n",
        "  ### Under experimentation\n",
        "  # index_match = nn.functional.softmax(index_match, dim=-1)\n",
        "  ###\n",
        "  # y_true_match: N x 1 x d_out(pred)\n",
        "  # y_pred_match: N x 1 x d_out(true)\n",
        "  y_pred_match = torch.bmm(y_pred.unsqueeze(1), index_match)\n",
        "  y_true_match = torch.bmm(y_true.unsqueeze(1), index_match.permute(0, 2, 1))\n",
        "  # huber = nn.HuberLoss()\n",
        "  # match_loss_lr = huber(y_pred, y_true_match.squeeze(1))\n",
        "  # match_loss_rl = huber(y_true, y_pred_match.squeeze(1))\n",
        "  # loss = match_loss_lr + match_loss_rl\n",
        "  ce = nn.CrossEntropyLoss() # nn.NLLLoss() #\n",
        "  loss_lr = ce(y_pred_match.squeeze(1), torch.argmax(y_true, dim=-1))\n",
        "  # loss_rl = ce(y_true_match.squeeze(1), torch.argmax(y_pred, dim=-1))\n",
        "  loss_rl = ce(y_pred, torch.argmax(y_true_match.squeeze(1), dim=-1))\n",
        "  loss = loss_lr + loss_rl\n",
        "  return loss\n",
        "\n",
        "def _pool2category(y_true, y_pred, true_index, pred_index):\n",
        "  _check_shapes(y_true, y_pred, true_index, pred_index)\n",
        "  # index_match: N x d_out(pred) x d_out(true)\n",
        "  index_match = torch.bmm(pred_index, true_index.permute(0, 2, 1))\n",
        "  y_pred_match = torch.bmm(y_pred.unsqueeze(1), index_match)\n",
        "  y_pred_match = torch.argmax(y_pred_match.squeeze(1), dim=-1).tolist()\n",
        "  return y_pred_match\n",
        "\n",
        "def _maromba_accuracy(y_true, y_pred, true_index, pred_index):\n",
        "  ###\n",
        "  # pred_index = MTensor._cosine_kernel(pred_index)\n",
        "  pred_index = MTensor._soft_kernel(pred_index, img_dim)\n",
        "  ###\n",
        "  y_pred_match = _pool2category(y_true, y_pred, true_index, pred_index)\n",
        "  y_true = torch.argmax(y_true, dim=-1).tolist()\n",
        "  acc = accuracy_score(y_true, y_pred_match)\n",
        "  return acc\n",
        "\n",
        "def maromba_accuracy(y_true, y_pred):\n",
        "  return _maromba_accuracy(y_true.data, y_pred.data, y_true.idx, y_pred.idx)\n",
        "\n",
        "def maromba_loss(y_true, y_pred):\n",
        "  return _maromba_loss(y_true.data, y_pred.data, y_true.idx, y_pred.idx)\n",
        "\n",
        "def regular_accuracy(y_true, y_pred):\n",
        "  y_true = torch.argmax(y_true.data, dim=-1).tolist()\n",
        "  y_pred = torch.argmax(y_pred.data, dim=-1).tolist()\n",
        "  acc = accuracy_score(y_true, y_pred)\n",
        "  return acc\n",
        "\n",
        "def regular_loss(y_true, y_pred):\n",
        "  y_true = y_true.data\n",
        "  y_pred = 10.0 * y_pred.data\n",
        "  ce = nn.CrossEntropyLoss()\n",
        "  loss = ce(y_pred, torch.argmax(y_true, dim=-1))\n",
        "  return loss\n",
        "\n",
        "maromba_loss = regular_loss\n",
        "maromba_accuracy = regular_accuracy"
      ]
    },
    {
      "cell_type": "markdown",
      "metadata": {
        "id": "039kGqbPXp4d"
      },
      "source": [
        "### Inicialização"
      ]
    },
    {
      "cell_type": "code",
      "execution_count": 15,
      "metadata": {
        "id": "CeSzd7OmTDDn"
      },
      "outputs": [],
      "source": [
        "num_classes = 10\n",
        "rows, cols = img_dim, img_dim\n",
        "hidden_dim = 1 * img_dim\n",
        "clf_dim = (1 + (num_classes - 1) // img_dim) * img_dim\n",
        "idx_dim = 3 # rows + cols + hidden_dim + clf_dim # 3\n",
        "\n",
        "# template_x_idx = _cat2d(rows, cols, d=idx_dim)\n",
        "template_x_idx = cartesian_idx(rows, cols, d=idx_dim)\n",
        "template_x_idx = template_x_idx.unsqueeze(0).float().to(device)\n",
        "# template_y_idx = torch.eye(idx_dim)[-num_classes:]\n",
        "template_y_idx = torch.eye(num_classes)[:, -idx_dim:]\n",
        "template_y_idx = template_y_idx.float().unsqueeze(0).to(device)\n",
        "\n",
        "def prepare_input(x, y, device=\"cpu\"):\n",
        "  n = x.shape[0]\n",
        "  x_idx = template_x_idx.repeat(n, 1, 1)\n",
        "  yoh = torch.zeros(n, num_classes)\n",
        "  yoh[range(n), y] = 1.0\n",
        "  yoh = yoh.to(device)\n",
        "  y_idx = template_y_idx.repeat(n, 1, 1)\n",
        "  x = MTensor(x, x_idx)\n",
        "  y = MTensor(yoh, y_idx)\n",
        "  return x, y"
      ]
    },
    {
      "cell_type": "code",
      "source": [
        "# tmp_idx = template_x_idx[0].reshape(-1, 3)[:, :2]\n",
        "# idxs, _idxs = get_perms(tmp_idx)\n",
        "# sampled = hoods([0, 1], 14 * 28 + 14, [3, 3], idxs, _idxs, 0, 783)\n",
        "# sampled = np.array([[idx // 28, idx % 28] for idx in sampled])\n",
        "# # print(sampled)\n",
        "# plt.scatter(sampled[:, 0], sampled[:, 1])"
      ],
      "metadata": {
        "id": "OisDCAuLCmQ8"
      },
      "execution_count": 16,
      "outputs": []
    },
    {
      "cell_type": "markdown",
      "metadata": {
        "id": "Lyzd22RQX-Yg"
      },
      "source": [
        "### Treino"
      ]
    },
    {
      "cell_type": "code",
      "execution_count": null,
      "metadata": {
        "id": "HNheVxvNNK30"
      },
      "outputs": [],
      "source": [
        "hidden_dim = 6272\n",
        "start_mode = True\n",
        "valid_mode = False\n",
        "# TODO: Visualize conv layer output\n",
        "samples = [\n",
        "    # in_ch * h * w,\n",
        "    1 * 3 * 3,\n",
        "    2 * 3 * 3,\n",
        "    # 4 * 8 * 3 * 3,\n",
        "    hidden_dim,\n",
        "]\n",
        "sets = [\n",
        "    # out_ch\n",
        "    2,\n",
        "    4,\n",
        "    # 1,\n",
        "    num_classes\n",
        "]\n",
        "n_params = int(np.array(samples).dot(np.array(sets)))\n",
        "\n",
        "torch.cuda.empty_cache()\n",
        "\n",
        "if start_mode:\n",
        "  # model = MModule(\n",
        "  model = MModule2(\n",
        "      n_params=n_params,\n",
        "      idx_dim=idx_dim,\n",
        "      samples=samples,\n",
        "      sets=sets,\n",
        "      device=device,\n",
        "      probe_dim=hidden_dim,\n",
        "  )\n",
        "  optimizer = Adam(model.parameters(), lr=1e-3) # 1e-2\n",
        "\n",
        "train_log = {\n",
        "    \"train loss\": [],\n",
        "    \"eval loss\": [],\n",
        "    \"acc\": [],\n",
        "    \"set\": [],\n",
        "    \"epoch\": [],\n",
        "}\n",
        "\n",
        "num_epochs = 720 * 4\n",
        "epoch_len = 60\n",
        "\n",
        "for epoch in range(num_epochs):\n",
        "  ###\n",
        "  print(model.W.mean().item(), model.W.std().item())\n",
        "  print(model.W_idx.mean().item(), model.W_idx.std().item())\n",
        "  ###\n",
        "  model.train()\n",
        "  train_iter = iter(train_data_loader)\n",
        "  for _ in range(epoch_len):\n",
        "    x, y = next(train_iter)\n",
        "    x = x.to(device)\n",
        "    y = y.to(device)\n",
        "    x, y = prepare_input(x, y, device=device)\n",
        "    y_pred = model.forward(x)\n",
        "    optimizer.zero_grad()\n",
        "    loss = maromba_loss(y, y_pred)\n",
        "    loss.backward()\n",
        "    optimizer.step()\n",
        "    train_log[\"train loss\"].append(loss.item())\n",
        "    train_log[\"eval loss\"].append(np.nan)\n",
        "    train_log[\"acc\"].append(np.nan)\n",
        "    train_log[\"set\"].append(\"train\")\n",
        "    train_log[\"epoch\"].append(epoch)\n",
        "  if valid_mode:\n",
        "    model.eval()\n",
        "    with torch.no_grad():\n",
        "      for x, y in iter(test_data_loader):\n",
        "        x = x.to(device)\n",
        "        y = y.to(device)\n",
        "        x, y = prepare_input(x, y, device=device)\n",
        "        y_pred = model.forward(x)\n",
        "        loss = maromba_loss(y, y_pred)\n",
        "        acc = maromba_accuracy(y, y_pred)\n",
        "        train_log[\"eval loss\"].append(loss.item())\n",
        "        train_log[\"train loss\"].append(np.nan)\n",
        "        train_log[\"acc\"].append(acc.item())\n",
        "        train_log[\"set\"].append(\"eval\")\n",
        "        train_log[\"epoch\"].append(epoch)\n",
        "    group_cols = [\"epoch\", \"train loss\", \"eval loss\", \"acc\"]\n",
        "  else:\n",
        "    group_cols = [\"epoch\", \"train loss\"]\n",
        "  df_train = pd.DataFrame(train_log)\n",
        "  display.clear_output(wait=True)\n",
        "  (\n",
        "    df_train[group_cols]\n",
        "    .groupby(\"epoch\")\n",
        "    .agg(lambda x: x.median(skipna=True))\n",
        "    # .tail(200)\n",
        "    .plot(figsize=(16, 3), grid=True)\n",
        "  )\n",
        "  plt.show()"
      ]
    },
    {
      "cell_type": "code",
      "execution_count": null,
      "metadata": {
        "id": "rG5gdtyeWnjJ"
      },
      "outputs": [],
      "source": [
        "torch.cuda.empty_cache()"
      ]
    },
    {
      "cell_type": "code",
      "execution_count": null,
      "metadata": {
        "id": "2tJHxWRO_xoX"
      },
      "outputs": [],
      "source": [
        "df_train"
      ]
    },
    {
      "cell_type": "code",
      "execution_count": 24,
      "metadata": {
        "id": "t0uL2kM1Okfd"
      },
      "outputs": [],
      "source": [
        "imgs = [img.data.cpu().detach() for img in model.all_pools]\n",
        "idxs = [img.idx.cpu().detach() for img in model.all_pools]"
      ]
    },
    {
      "cell_type": "code",
      "execution_count": 25,
      "metadata": {
        "colab": {
          "base_uri": "https://localhost:8080/"
        },
        "id": "jj5tP_tfMAjw",
        "outputId": "873d6957-6c9f-4a6f-af05-0aa167a2292c"
      },
      "outputs": [
        {
          "output_type": "execute_result",
          "data": {
            "text/plain": [
              "[torch.Size([4, 784]), torch.Size([4, 784, 2]), torch.Size([4, 1568, 4])]"
            ]
          },
          "metadata": {},
          "execution_count": 25
        }
      ],
      "source": [
        "[img.shape for img in imgs]"
      ]
    },
    {
      "cell_type": "code",
      "execution_count": 26,
      "metadata": {
        "id": "ZRWVQRznvaer",
        "colab": {
          "base_uri": "https://localhost:8080/",
          "height": 760
        },
        "outputId": "54c58b2e-3292-49d8-ade4-e72dc45b0fa5"
      },
      "outputs": [
        {
          "output_type": "stream",
          "name": "stdout",
          "text": [
            "torch.Size([784])\n"
          ]
        },
        {
          "output_type": "display_data",
          "data": {
            "text/plain": [
              "<Figure size 300x300 with 1 Axes>"
            ],
            "image/png": "[encoded data removed]"
          },
          "metadata": {}
        },
        {
          "output_type": "stream",
          "name": "stdout",
          "text": [
            "torch.Size([784, 2])\n"
          ]
        },
        {
          "output_type": "display_data",
          "data": {
            "text/plain": [
              "<Figure size 600x300 with 2 Axes>"
            ],
            "image/png": "[encoded data removed]"
          },
          "metadata": {}
        },
        {
          "output_type": "stream",
          "name": "stdout",
          "text": [
            "torch.Size([1568, 4])\n"
          ]
        },
        {
          "output_type": "display_data",
          "data": {
            "text/plain": [
              "<Figure size 1800x300 with 8 Axes>"
            ],
            "image/png": "[encoded data removed]"
          },
          "metadata": {}
        }
      ],
      "source": [
        "shapes = [\n",
        "    (img_dim, img_dim, 1),\n",
        "    ((img_dim - 0) // 1, (img_dim - 0) // 1, 2),\n",
        "    ((img_dim - 0) // 1, (img_dim - 0) // 1, 8),\n",
        "    # (((img_dim - 2) // 2 - 2) // 1, ((img_dim - 2) // 2 - 2) // 1, 4),\n",
        "    # (((img_dim - 4) // 1 - 4) // 2, ((img_dim - 4) // 1 - 4) // 2, 8),\n",
        "    # ((img_dim - 4) // 2 - 2, (img_dim - 4) // 2 - 2, 4),\n",
        "    # ((img_dim - 4) // 2 - 4, (img_dim - 4) // 2 - 4, 8),\n",
        "]\n",
        "# display.clear_output(wait=True)\n",
        "plt.close()\n",
        "for idx, img in enumerate(imgs[:len(shapes)]):\n",
        "  img = img[0]\n",
        "  print(img.shape)\n",
        "  img = img.reshape(*shapes[idx])\n",
        "  rows, cols = 1, shapes[idx][2]\n",
        "  fig, ax = plt.subplots(rows, cols, figsize=(min(18, 3 * cols), 3))\n",
        "  for ch in range(cols):\n",
        "    img_ = img[:, :, ch].numpy()\n",
        "    if cols > 1:\n",
        "      ax[ch].imshow(img_)\n",
        "    else:\n",
        "      ax.imshow(img_)\n",
        "  plt.show()"
      ]
    },
    {
      "cell_type": "code",
      "source": [
        "import plotly.graph_objects as go\n",
        "from plotly.subplots import make_subplots\n",
        "\n",
        "def scatter3d(x, y, z):\n",
        "  plot_df = pd.DataFrame({\"x\": x, \"y\": y, \"z\": z})\n",
        "  fig = px.scatter_3d(plot_df, x=\"x\", y=\"y\", z=\"z\", color=None)\n",
        "  return fig\n",
        "\n",
        "# plt.clf(); plt.cla()\n",
        "# plt.close()\n",
        "for i, idx in enumerate(idxs[:len(shapes)]):\n",
        "  idx = idx[0]\n",
        "  print(idx.shape)\n",
        "  idx = idx.reshape(-1, shapes[i][2], idx_dim)\n",
        "  rows, cols = 1 + (idx.shape[1] - 1) // 2, 2\n",
        "  # fig = plt.figure(figsize=(min(18, 3 * cols), 3))\n",
        "  fig = make_subplots(\n",
        "    rows=rows, cols=cols,\n",
        "    specs=[[{\"type\": \"scene\"} for _ in range(cols)] for _ in range(rows)],\n",
        "    # row_heights=[10 for _ in range(rows)],\n",
        "    vertical_spacing=0.05\n",
        "  )\n",
        "  fig.update_layout(\n",
        "    height=600 * rows,\n",
        "    width=600 * cols\n",
        ")\n",
        "  for ch in range(idx.shape[1]):\n",
        "    idx_ = idx[:, ch].numpy()\n",
        "    # ax = fig.add_subplot(rows, cols, ch + 1, projection=\"3d\")\n",
        "    # ax.scatter(idx_[::4, 0], idx_[::4, 1], idx_[::4, 2], marker=\"+\")\n",
        "    # fig = scatter3d(idx_[::4, 0], idx_[::4, 1], idx_[::4, 2])\n",
        "    row, col = (ch // cols) + 1, (ch % cols) + 1\n",
        "    fig.add_trace(\n",
        "        go.Scatter3d(\n",
        "            x=idx_[::4, 0],\n",
        "            y=idx_[::4, 1],\n",
        "            z=idx_[::4, 2],\n",
        "            # color=None,\n",
        "            # colorscale=\"Viridis\",\n",
        "            # showscale=False\n",
        "        ),\n",
        "        row=row,\n",
        "        col=col,\n",
        "    )\n",
        "  fig.show()\n",
        "  # plt.show()"
      ],
      "metadata": {
        "id": "LgY4NUoRagWO",
        "colab": {
          "base_uri": "https://localhost:8080/",
          "height": 1000
        },
        "outputId": "68aeb89a-9726-4111-a896-ec02c4bbc4e4"
      },
      "execution_count": 37,
      "outputs": [
        {
          "output_type": "stream",
          "name": "stdout",
          "text": [
            "torch.Size([784, 3])\n"
          ]
        },
        {
          "output_type": "display_data",
          "data": {
            "text/html": [
              "<html>\n",
              "<head><meta charset=\"utf-8\" /></head>\n",
              "<body>\n",
              "    <div>            <script src=\"https://cdnjs.cloudflare.com/ajax/libs/mathjax/2.7.5/MathJax.js?config=TeX-AMS-MML_SVG\"></script><script type=\"text/javascript\">if (window.MathJax && window.MathJax.Hub && window.MathJax.Hub.Config) {window.MathJax.Hub.Config({SVG: {font: \"STIX-Web\"}});}</script>                <script type=\"text/javascript\">window.PlotlyConfig = {MathJaxConfig: 'local'};</script>\n",
              "        <script src=\"https://cdn.plot.ly/plotly-2.18.2.min.js\"></script>                <div id=\"d4485d33-6f25-49f5-b17e-22db92960eef\" class=\"plotly-graph-div\" style=\"height:600px; width:1200px;\"></div>            <script type=\"text/javascript\">                                    window.PLOTLYENV=window.PLOTLYENV || {};                                    if (document.getElementById(\"d4485d33-6f25-49f5-b17e-22db92960eef\")) {                    Plotly.newPlot(                        \"d4485d33-6f25-49f5-b17e-22db92960eef\",                        [{\"x\":[-0.9285714030265808,-0.9285714030265808,-0.9285714030265808,-0.9285714030265808,-0.9285714030265808,-0.9285714030265808,-0.9285714030265808,-0.8571428656578064,-0.8571428656578064,-0.8571428656578064,-0.8571428656578064,-0.8571428656578064,-0.8571428656578064,-0.8571428656578064,-0.7857142686843872,-0.7857142686843872,-0.7857142686843872,-0.7857142686843872,-0.7857142686843872,-0.7857142686843872,-0.7857142686843872,-0.7142857313156128,-0.7142857313156128,-0.7142857313156128,-0.7142857313156128,-0.7142857313156128,-0.7142857313156128,-0.7142857313156128,-0.6428571343421936,-0.6428571343421936,-0.6428571343421936,-0.6428571343421936,-0.6428571343421936,-0.6428571343421936,-0.6428571343421936,-0.5714285969734192,-0.5714285969734192,-0.5714285969734192,-0.5714285969734192,-0.5714285969734192,-0.5714285969734192,-0.5714285969734192,-0.5,-0.5,-0.5,-0.5,-0.5,-0.5,-0.5,-0.4285714328289032,-0.4285714328289032,-0.4285714328289032,-0.4285714328289032,-0.4285714328289032,-0.4285714328289032,-0.4285714328289032,-0.3571428656578064,-0.3571428656578064,-0.3571428656578064,-0.3571428656578064,-0.3571428656578064,-0.3571428656578064,-0.3571428656578064,-0.2857142984867096,-0.2857142984867096,-0.2857142984867096,-0.2857142984867096,-0.2857142984867096,-0.2857142984867096,-0.2857142984867096,-0.2142857164144516,-0.2142857164144516,-0.2142857164144516,-0.2142857164144516,-0.2142857164144516,-0.2142857164144516,-0.2142857164144516,-0.1428571492433548,-0.1428571492433548,-0.1428571492433548,-0.1428571492433548,-0.1428571492433548,-0.1428571492433548,-0.1428571492433548,-0.0714285746216774,-0.0714285746216774,-0.0714285746216774,-0.0714285746216774,-0.0714285746216774,-0.0714285746216774,-0.0714285746216774,0.0,0.0,0.0,0.0,0.0,0.0,0.0,0.0714285746216774,0.0714285746216774,0.0714285746216774,0.0714285746216774,0.0714285746216774,0.0714285746216774,0.0714285746216774,0.1428571492433548,0.1428571492433548,0.1428571492433548,0.1428571492433548,0.1428571492433548,0.1428571492433548,0.1428571492433548,0.2142857164144516,0.2142857164144516,0.2142857164144516,0.2142857164144516,0.2142857164144516,0.2142857164144516,0.2142857164144516,0.2857142984867096,0.2857142984867096,0.2857142984867096,0.2857142984867096,0.2857142984867096,0.2857142984867096,0.2857142984867096,0.3571428656578064,0.3571428656578064,0.3571428656578064,0.3571428656578064,0.3571428656578064,0.3571428656578064,0.3571428656578064,0.4285714328289032,0.4285714328289032,0.4285714328289032,0.4285714328289032,0.4285714328289032,0.4285714328289032,0.4285714328289032,0.5,0.5,0.5,0.5,0.5,0.5,0.5,0.5714285969734192,0.5714285969734192,0.5714285969734192,0.5714285969734192,0.5714285969734192,0.5714285969734192,0.5714285969734192,0.6428571343421936,0.6428571343421936,0.6428571343421936,0.6428571343421936,0.6428571343421936,0.6428571343421936,0.6428571343421936,0.7142857313156128,0.7142857313156128,0.7142857313156128,0.7142857313156128,0.7142857313156128,0.7142857313156128,0.7142857313156128,0.7857142686843872,0.7857142686843872,0.7857142686843872,0.7857142686843872,0.7857142686843872,0.7857142686843872,0.7857142686843872,0.8571428656578064,0.8571428656578064,0.8571428656578064,0.8571428656578064,0.8571428656578064,0.8571428656578064,0.8571428656578064,0.9285714030265808,0.9285714030265808,0.9285714030265808,0.9285714030265808,0.9285714030265808,0.9285714030265808,0.9285714030265808,1.0,1.0,1.0,1.0,1.0,1.0,1.0],\"y\":[-0.9285714030265808,-0.6428571343421936,-0.3571428656578064,-0.0714285746216774,0.2142857164144516,0.5,0.7857142686843872,-0.9285714030265808,-0.6428571343421936,-0.3571428656578064,-0.0714285746216774,0.2142857164144516,0.5,0.7857142686843872,-0.9285714030265808,-0.6428571343421936,-0.3571428656578064,-0.0714285746216774,0.2142857164144516,0.5,0.7857142686843872,-0.9285714030265808,-0.6428571343421936,-0.3571428656578064,-0.0714285746216774,0.2142857164144516,0.5,0.7857142686843872,-0.9285714030265808,-0.6428571343421936,-0.3571428656578064,-0.0714285746216774,0.2142857164144516,0.5,0.7857142686843872,-0.9285714030265808,-0.6428571343421936,-0.3571428656578064,-0.0714285746216774,0.2142857164144516,0.5,0.7857142686843872,-0.9285714030265808,-0.6428571343421936,-0.3571428656578064,-0.0714285746216774,0.2142857164144516,0.5,0.7857142686843872,-0.9285714030265808,-0.6428571343421936,-0.3571428656578064,-0.0714285746216774,0.2142857164144516,0.5,0.7857142686843872,-0.9285714030265808,-0.6428571343421936,-0.3571428656578064,-0.0714285746216774,0.2142857164144516,0.5,0.7857142686843872,-0.9285714030265808,-0.6428571343421936,-0.3571428656578064,-0.0714285746216774,0.2142857164144516,0.5,0.7857142686843872,-0.9285714030265808,-0.6428571343421936,-0.3571428656578064,-0.0714285746216774,0.2142857164144516,0.5,0.7857142686843872,-0.9285714030265808,-0.6428571343421936,-0.3571428656578064,-0.0714285746216774,0.2142857164144516,0.5,0.7857142686843872,-0.9285714030265808,-0.6428571343421936,-0.3571428656578064,-0.0714285746216774,0.2142857164144516,0.5,0.7857142686843872,-0.9285714030265808,-0.6428571343421936,-0.3571428656578064,-0.0714285746216774,0.2142857164144516,0.5,0.7857142686843872,-0.9285714030265808,-0.6428571343421936,-0.3571428656578064,-0.0714285746216774,0.2142857164144516,0.5,0.7857142686843872,-0.9285714030265808,-0.6428571343421936,-0.3571428656578064,-0.0714285746216774,0.2142857164144516,0.5,0.7857142686843872,-0.9285714030265808,-0.6428571343421936,-0.3571428656578064,-0.0714285746216774,0.2142857164144516,0.5,0.7857142686843872,-0.9285714030265808,-0.6428571343421936,-0.3571428656578064,-0.0714285746216774,0.2142857164144516,0.5,0.7857142686843872,-0.9285714030265808,-0.6428571343421936,-0.3571428656578064,-0.0714285746216774,0.2142857164144516,0.5,0.7857142686843872,-0.9285714030265808,-0.6428571343421936,-0.3571428656578064,-0.0714285746216774,0.2142857164144516,0.5,0.7857142686843872,-0.9285714030265808,-0.6428571343421936,-0.3571428656578064,-0.0714285746216774,0.2142857164144516,0.5,0.7857142686843872,-0.9285714030265808,-0.6428571343421936,-0.3571428656578064,-0.0714285746216774,0.2142857164144516,0.5,0.7857142686843872,-0.9285714030265808,-0.6428571343421936,-0.3571428656578064,-0.0714285746216774,0.2142857164144516,0.5,0.7857142686843872,-0.9285714030265808,-0.6428571343421936,-0.3571428656578064,-0.0714285746216774,0.2142857164144516,0.5,0.7857142686843872,-0.9285714030265808,-0.6428571343421936,-0.3571428656578064,-0.0714285746216774,0.2142857164144516,0.5,0.7857142686843872,-0.9285714030265808,-0.6428571343421936,-0.3571428656578064,-0.0714285746216774,0.2142857164144516,0.5,0.7857142686843872,-0.9285714030265808,-0.6428571343421936,-0.3571428656578064,-0.0714285746216774,0.2142857164144516,0.5,0.7857142686843872,-0.9285714030265808,-0.6428571343421936,-0.3571428656578064,-0.0714285746216774,0.2142857164144516,0.5,0.7857142686843872],\"z\":[0.0,0.0,0.0,0.0,0.0,0.0,0.0,0.0,0.0,0.0,0.0,0.0,0.0,0.0,0.0,0.0,0.0,0.0,0.0,0.0,0.0,0.0,0.0,0.0,0.0,0.0,0.0,0.0,0.0,0.0,0.0,0.0,0.0,0.0,0.0,0.0,0.0,0.0,0.0,0.0,0.0,0.0,0.0,0.0,0.0,0.0,0.0,0.0,0.0,0.0,0.0,0.0,0.0,0.0,0.0,0.0,0.0,0.0,0.0,0.0,0.0,0.0,0.0,0.0,0.0,0.0,0.0,0.0,0.0,0.0,0.0,0.0,0.0,0.0,0.0,0.0,0.0,0.0,0.0,0.0,0.0,0.0,0.0,0.0,0.0,0.0,0.0,0.0,0.0,0.0,0.0,0.0,0.0,0.0,0.0,0.0,0.0,0.0,0.0,0.0,0.0,0.0,0.0,0.0,0.0,0.0,0.0,0.0,0.0,0.0,0.0,0.0,0.0,0.0,0.0,0.0,0.0,0.0,0.0,0.0,0.0,0.0,0.0,0.0,0.0,0.0,0.0,0.0,0.0,0.0,0.0,0.0,0.0,0.0,0.0,0.0,0.0,0.0,0.0,0.0,0.0,0.0,0.0,0.0,0.0,0.0,0.0,0.0,0.0,0.0,0.0,0.0,0.0,0.0,0.0,0.0,0.0,0.0,0.0,0.0,0.0,0.0,0.0,0.0,0.0,0.0,0.0,0.0,0.0,0.0,0.0,0.0,0.0,0.0,0.0,0.0,0.0,0.0,0.0,0.0,0.0,0.0,0.0,0.0,0.0,0.0,0.0,0.0,0.0,0.0,0.0,0.0,0.0,0.0,0.0,0.0],\"type\":\"scatter3d\",\"scene\":\"scene\"}],                        {\"template\":{\"data\":{\"histogram2dcontour\":[{\"type\":\"histogram2dcontour\",\"colorbar\":{\"outlinewidth\":0,\"ticks\":\"\"},\"colorscale\":[[0.0,\"#0d0887\"],[0.1111111111111111,\"#46039f\"],[0.2222222222222222,\"#7201a8\"],[0.3333333333333333,\"#9c179e\"],[0.4444444444444444,\"#bd3786\"],[0.5555555555555556,\"#d8576b\"],[0.6666666666666666,\"#ed7953\"],[0.7777777777777778,\"#fb9f3a\"],[0.8888888888888888,\"#fdca26\"],[1.0,\"#f0f921\"]]}],\"choropleth\":[{\"type\":\"choropleth\",\"colorbar\":{\"outlinewidth\":0,\"ticks\":\"\"}}],\"histogram2d\":[{\"type\":\"histogram2d\",\"colorbar\":{\"outlinewidth\":0,\"ticks\":\"\"},\"colorscale\":[[0.0,\"#0d0887\"],[0.1111111111111111,\"#46039f\"],[0.2222222222222222,\"#7201a8\"],[0.3333333333333333,\"#9c179e\"],[0.4444444444444444,\"#bd3786\"],[0.5555555555555556,\"#d8576b\"],[0.6666666666666666,\"#ed7953\"],[0.7777777777777778,\"#fb9f3a\"],[0.8888888888888888,\"#fdca26\"],[1.0,\"#f0f921\"]]}],\"heatmap\":[{\"type\":\"heatmap\",\"colorbar\":{\"outlinewidth\":0,\"ticks\":\"\"},\"colorscale\":[[0.0,\"#0d0887\"],[0.1111111111111111,\"#46039f\"],[0.2222222222222222,\"#7201a8\"],[0.3333333333333333,\"#9c179e\"],[0.4444444444444444,\"#bd3786\"],[0.5555555555555556,\"#d8576b\"],[0.6666666666666666,\"#ed7953\"],[0.7777777777777778,\"#fb9f3a\"],[0.8888888888888888,\"#fdca26\"],[1.0,\"#f0f921\"]]}],\"heatmapgl\":[{\"type\":\"heatmapgl\",\"colorbar\":{\"outlinewidth\":0,\"ticks\":\"\"},\"colorscale\":[[0.0,\"#0d0887\"],[0.1111111111111111,\"#46039f\"],[0.2222222222222222,\"#7201a8\"],[0.3333333333333333,\"#9c179e\"],[0.4444444444444444,\"#bd3786\"],[0.5555555555555556,\"#d8576b\"],[0.6666666666666666,\"#ed7953\"],[0.7777777777777778,\"#fb9f3a\"],[0.8888888888888888,\"#fdca26\"],[1.0,\"#f0f921\"]]}],\"contourcarpet\":[{\"type\":\"contourcarpet\",\"colorbar\":{\"outlinewidth\":0,\"ticks\":\"\"}}],\"contour\":[{\"type\":\"contour\",\"colorbar\":{\"outlinewidth\":0,\"ticks\":\"\"},\"colorscale\":[[0.0,\"#0d0887\"],[0.1111111111111111,\"#46039f\"],[0.2222222222222222,\"#7201a8\"],[0.3333333333333333,\"#9c179e\"],[0.4444444444444444,\"#bd3786\"],[0.5555555555555556,\"#d8576b\"],[0.6666666666666666,\"#ed7953\"],[0.7777777777777778,\"#fb9f3a\"],[0.8888888888888888,\"#fdca26\"],[1.0,\"#f0f921\"]]}],\"surface\":[{\"type\":\"surface\",\"colorbar\":{\"outlinewidth\":0,\"ticks\":\"\"},\"colorscale\":[[0.0,\"#0d0887\"],[0.1111111111111111,\"#46039f\"],[0.2222222222222222,\"#7201a8\"],[0.3333333333333333,\"#9c179e\"],[0.4444444444444444,\"#bd3786\"],[0.5555555555555556,\"#d8576b\"],[0.6666666666666666,\"#ed7953\"],[0.7777777777777778,\"#fb9f3a\"],[0.8888888888888888,\"#fdca26\"],[1.0,\"#f0f921\"]]}],\"mesh3d\":[{\"type\":\"mesh3d\",\"colorbar\":{\"outlinewidth\":0,\"ticks\":\"\"}}],\"scatter\":[{\"fillpattern\":{\"fillmode\":\"overlay\",\"size\":10,\"solidity\":0.2},\"type\":\"scatter\"}],\"parcoords\":[{\"type\":\"parcoords\",\"line\":{\"colorbar\":{\"outlinewidth\":0,\"ticks\":\"\"}}}],\"scatterpolargl\":[{\"type\":\"scatterpolargl\",\"marker\":{\"colorbar\":{\"outlinewidth\":0,\"ticks\":\"\"}}}],\"bar\":[{\"error_x\":{\"color\":\"#2a3f5f\"},\"error_y\":{\"color\":\"#2a3f5f\"},\"marker\":{\"line\":{\"color\":\"#E5ECF6\",\"width\":0.5},\"pattern\":{\"fillmode\":\"overlay\",\"size\":10,\"solidity\":0.2}},\"type\":\"bar\"}],\"scattergeo\":[{\"type\":\"scattergeo\",\"marker\":{\"colorbar\":{\"outlinewidth\":0,\"ticks\":\"\"}}}],\"scatterpolar\":[{\"type\":\"scatterpolar\",\"marker\":{\"colorbar\":{\"outlinewidth\":0,\"ticks\":\"\"}}}],\"histogram\":[{\"marker\":{\"pattern\":{\"fillmode\":\"overlay\",\"size\":10,\"solidity\":0.2}},\"type\":\"histogram\"}],\"scattergl\":[{\"type\":\"scattergl\",\"marker\":{\"colorbar\":{\"outlinewidth\":0,\"ticks\":\"\"}}}],\"scatter3d\":[{\"type\":\"scatter3d\",\"line\":{\"colorbar\":{\"outlinewidth\":0,\"ticks\":\"\"}},\"marker\":{\"colorbar\":{\"outlinewidth\":0,\"ticks\":\"\"}}}],\"scattermapbox\":[{\"type\":\"scattermapbox\",\"marker\":{\"colorbar\":{\"outlinewidth\":0,\"ticks\":\"\"}}}],\"scatterternary\":[{\"type\":\"scatterternary\",\"marker\":{\"colorbar\":{\"outlinewidth\":0,\"ticks\":\"\"}}}],\"scattercarpet\":[{\"type\":\"scattercarpet\",\"marker\":{\"colorbar\":{\"outlinewidth\":0,\"ticks\":\"\"}}}],\"carpet\":[{\"aaxis\":{\"endlinecolor\":\"#2a3f5f\",\"gridcolor\":\"white\",\"linecolor\":\"white\",\"minorgridcolor\":\"white\",\"startlinecolor\":\"#2a3f5f\"},\"baxis\":{\"endlinecolor\":\"#2a3f5f\",\"gridcolor\":\"white\",\"linecolor\":\"white\",\"minorgridcolor\":\"white\",\"startlinecolor\":\"#2a3f5f\"},\"type\":\"carpet\"}],\"table\":[{\"cells\":{\"fill\":{\"color\":\"#EBF0F8\"},\"line\":{\"color\":\"white\"}},\"header\":{\"fill\":{\"color\":\"#C8D4E3\"},\"line\":{\"color\":\"white\"}},\"type\":\"table\"}],\"barpolar\":[{\"marker\":{\"line\":{\"color\":\"#E5ECF6\",\"width\":0.5},\"pattern\":{\"fillmode\":\"overlay\",\"size\":10,\"solidity\":0.2}},\"type\":\"barpolar\"}],\"pie\":[{\"automargin\":true,\"type\":\"pie\"}]},\"layout\":{\"autotypenumbers\":\"strict\",\"colorway\":[\"#636efa\",\"#EF553B\",\"#00cc96\",\"#ab63fa\",\"#FFA15A\",\"#19d3f3\",\"#FF6692\",\"#B6E880\",\"#FF97FF\",\"#FECB52\"],\"font\":{\"color\":\"#2a3f5f\"},\"hovermode\":\"closest\",\"hoverlabel\":{\"align\":\"left\"},\"paper_bgcolor\":\"white\",\"plot_bgcolor\":\"#E5ECF6\",\"polar\":{\"bgcolor\":\"#E5ECF6\",\"angularaxis\":{\"gridcolor\":\"white\",\"linecolor\":\"white\",\"ticks\":\"\"},\"radialaxis\":{\"gridcolor\":\"white\",\"linecolor\":\"white\",\"ticks\":\"\"}},\"ternary\":{\"bgcolor\":\"#E5ECF6\",\"aaxis\":{\"gridcolor\":\"white\",\"linecolor\":\"white\",\"ticks\":\"\"},\"baxis\":{\"gridcolor\":\"white\",\"linecolor\":\"white\",\"ticks\":\"\"},\"caxis\":{\"gridcolor\":\"white\",\"linecolor\":\"white\",\"ticks\":\"\"}},\"coloraxis\":{\"colorbar\":{\"outlinewidth\":0,\"ticks\":\"\"}},\"colorscale\":{\"sequential\":[[0.0,\"#0d0887\"],[0.1111111111111111,\"#46039f\"],[0.2222222222222222,\"#7201a8\"],[0.3333333333333333,\"#9c179e\"],[0.4444444444444444,\"#bd3786\"],[0.5555555555555556,\"#d8576b\"],[0.6666666666666666,\"#ed7953\"],[0.7777777777777778,\"#fb9f3a\"],[0.8888888888888888,\"#fdca26\"],[1.0,\"#f0f921\"]],\"sequentialminus\":[[0.0,\"#0d0887\"],[0.1111111111111111,\"#46039f\"],[0.2222222222222222,\"#7201a8\"],[0.3333333333333333,\"#9c179e\"],[0.4444444444444444,\"#bd3786\"],[0.5555555555555556,\"#d8576b\"],[0.6666666666666666,\"#ed7953\"],[0.7777777777777778,\"#fb9f3a\"],[0.8888888888888888,\"#fdca26\"],[1.0,\"#f0f921\"]],\"diverging\":[[0,\"#8e0152\"],[0.1,\"#c51b7d\"],[0.2,\"#de77ae\"],[0.3,\"#f1b6da\"],[0.4,\"#fde0ef\"],[0.5,\"#f7f7f7\"],[0.6,\"#e6f5d0\"],[0.7,\"#b8e186\"],[0.8,\"#7fbc41\"],[0.9,\"#4d9221\"],[1,\"#276419\"]]},\"xaxis\":{\"gridcolor\":\"white\",\"linecolor\":\"white\",\"ticks\":\"\",\"title\":{\"standoff\":15},\"zerolinecolor\":\"white\",\"automargin\":true,\"zerolinewidth\":2},\"yaxis\":{\"gridcolor\":\"white\",\"linecolor\":\"white\",\"ticks\":\"\",\"title\":{\"standoff\":15},\"zerolinecolor\":\"white\",\"automargin\":true,\"zerolinewidth\":2},\"scene\":{\"xaxis\":{\"backgroundcolor\":\"#E5ECF6\",\"gridcolor\":\"white\",\"linecolor\":\"white\",\"showbackground\":true,\"ticks\":\"\",\"zerolinecolor\":\"white\",\"gridwidth\":2},\"yaxis\":{\"backgroundcolor\":\"#E5ECF6\",\"gridcolor\":\"white\",\"linecolor\":\"white\",\"showbackground\":true,\"ticks\":\"\",\"zerolinecolor\":\"white\",\"gridwidth\":2},\"zaxis\":{\"backgroundcolor\":\"#E5ECF6\",\"gridcolor\":\"white\",\"linecolor\":\"white\",\"showbackground\":true,\"ticks\":\"\",\"zerolinecolor\":\"white\",\"gridwidth\":2}},\"shapedefaults\":{\"line\":{\"color\":\"#2a3f5f\"}},\"annotationdefaults\":{\"arrowcolor\":\"#2a3f5f\",\"arrowhead\":0,\"arrowwidth\":1},\"geo\":{\"bgcolor\":\"white\",\"landcolor\":\"#E5ECF6\",\"subunitcolor\":\"white\",\"showland\":true,\"showlakes\":true,\"lakecolor\":\"white\"},\"title\":{\"x\":0.05},\"mapbox\":{\"style\":\"light\"}}},\"scene\":{\"domain\":{\"x\":[0.0,0.45],\"y\":[0.0,1.0]}},\"scene2\":{\"domain\":{\"x\":[0.55,1.0],\"y\":[0.0,1.0]}},\"height\":600,\"width\":1200},                        {\"responsive\": true}                    ).then(function(){\n",
              "                            \n",
              "var gd = document.getElementById('d4485d33-6f25-49f5-b17e-22db92960eef');\n",
              "var x = new MutationObserver(function (mutations, observer) {{\n",
              "        var display = window.getComputedStyle(gd).display;\n",
              "        if (!display || display === 'none') {{\n",
              "            console.log([gd, 'removed!']);\n",
              "            Plotly.purge(gd);\n",
              "            observer.disconnect();\n",
              "        }}\n",
              "}});\n",
              "\n",
              "// Listen for the removal of the full notebook cells\n",
              "var notebookContainer = gd.closest('#notebook-container');\n",
              "if (notebookContainer) {{\n",
              "    x.observe(notebookContainer, {childList: true});\n",
              "}}\n",
              "\n",
              "// Listen for the clearing of the current output cell\n",
              "var outputEl = gd.closest('.output');\n",
              "if (outputEl) {{\n",
              "    x.observe(outputEl, {childList: true});\n",
              "}}\n",
              "\n",
              "                        })                };                            </script>        </div>\n",
              "</body>\n",
              "</html>"
            ]
          },
          "metadata": {}
        },
        {
          "output_type": "stream",
          "name": "stdout",
          "text": [
            "torch.Size([784, 2, 3])\n"
          ]
        },
        {
          "output_type": "display_data",
          "data": {
            "text/html": [
              "<html>\n",
              "<head><meta charset=\"utf-8\" /></head>\n",
              "<body>\n",
              "    <div>            <script src=\"https://cdnjs.cloudflare.com/ajax/libs/mathjax/2.7.5/MathJax.js?config=TeX-AMS-MML_SVG\"></script><script type=\"text/javascript\">if (window.MathJax && window.MathJax.Hub && window.MathJax.Hub.Config) {window.MathJax.Hub.Config({SVG: {font: \"STIX-Web\"}});}</script>                <script type=\"text/javascript\">window.PlotlyConfig = {MathJaxConfig: 'local'};</script>\n",
              "        <script src=\"https://cdn.plot.ly/plotly-2.18.2.min.js\"></script>                <div id=\"94d31826-8808-47e1-96e2-e51858f22249\" class=\"plotly-graph-div\" style=\"height:600px; width:1200px;\"></div>            <script type=\"text/javascript\">                                    window.PLOTLYENV=window.PLOTLYENV || {};                                    if (document.getElementById(\"94d31826-8808-47e1-96e2-e51858f22249\")) {                    Plotly.newPlot(                        \"94d31826-8808-47e1-96e2-e51858f22249\",                        [{\"x\":[-4.328225135803223,-1.3136956691741943,-1.3136955499649048,-1.3136955499649048,-1.3136955499649048,-1.3136954307556152,-1.3136955499649048,-3.8447272777557373,-3.5469822883605957,-3.546982765197754,-3.546982765197754,-3.546982765197754,-3.546982765197754,-3.546982765197754,-3.276231050491333,-3.2255539894104004,-3.2255539894104004,-3.2255539894104004,-3.2255539894104004,-3.2255539894104004,-3.2255537509918213,-2.9548022747039795,-2.904125690460205,-2.904125690460205,-2.904125690460205,-2.904125690460205,-2.904125690460205,-2.904125690460205,-2.633373737335205,-2.5826966762542725,-2.5826969146728516,-2.5826969146728516,-2.5826969146728516,-2.5826969146728516,-2.5826969146728516,-2.3119451999664307,-2.261268377304077,-2.261268377304077,-2.261268377304077,-2.2612686157226562,-2.2612686157226562,-2.2612686157226562,-1.9905164241790771,-1.9398396015167236,-1.9398396015167236,-1.9398396015167236,-1.9398396015167236,-1.9398396015167236,-1.9398397207260132,-1.6690876483917236,-1.6184111833572388,-1.6184109449386597,-1.6184109449386597,-1.6184111833572388,-1.6184111833572388,-1.6184113025665283,-1.3476592302322388,-1.2969824075698853,-1.2969824075698853,-1.2969824075698853,-1.2969825267791748,-1.296982765197754,-1.296982765197754,-1.026230812072754,-0.9755538702011108,-0.9755539894104004,-0.9755539894104004,-0.9755539894104004,-0.9755540490150452,-0.9755540490150452,-0.7048022150993347,-0.6541253924369812,-0.6541255116462708,-0.6541255116462708,-0.654125452041626,-0.6541253924369812,-0.654125452041626,-0.3833736777305603,-0.33269691467285156,-0.3326968550682068,-0.3326968550682068,-0.3326968252658844,-0.33269691467285156,-0.33269697427749634,-0.06194508075714111,-0.011268317699432373,-0.011268317699432373,-0.011268317699432373,-0.011268287897109985,-0.01126834750175476,-0.011268377304077148,0.2594834566116333,0.3101602792739868,0.3101602792739868,0.3101602792739868,0.3101603090763092,0.3101602792739868,0.31016021966934204,0.5809120535850525,0.631588876247406,0.631588876247406,0.631588876247406,0.6315889358520508,0.631588876247406,0.6315888166427612,0.9023406505584717,0.95301753282547,0.95301753282547,0.95301753282547,0.9530174732208252,0.95301753282547,0.9530174732208252,1.223769187927246,1.2744460105895996,1.2744460105895996,1.2744460105895996,1.2744460105895996,1.2744460105895996,1.2744460105895996,1.5451977252960205,1.5958746671676636,1.595874547958374,1.595874547958374,1.595874547958374,1.5958747863769531,1.5958746671676636,1.8666263818740845,1.917303204536438,1.917303204536438,1.917303204536438,1.917303204536438,1.917303204536438,1.9173030853271484,2.1880550384521484,2.238731622695923,2.238731622695923,2.238731622695923,2.238731622695923,2.238731622695923,2.238731622695923,2.5094833374023438,2.5601601600646973,2.5601603984832764,2.5601603984832764,2.5601603984832764,2.5601603984832764,2.5601603984832764,2.8309123516082764,2.881588935852051,2.881588935852051,2.881588935852051,2.881588935852051,2.88158917427063,2.88158917427063,3.1523406505584717,3.203017473220825,3.203017473220825,3.203017473220825,3.203017473220825,3.203017473220825,3.203017473220825,3.473769187927246,3.5244460105895996,3.5244460105895996,3.5244460105895996,3.5244460105895996,3.5244460105895996,3.5244460105895996,3.7951979637145996,3.845874309539795,3.845874309539795,3.845874309539795,3.845874547958374,3.845874547958374,3.845874309539795,4.116626262664795,4.167303085327148,4.167303085327148,4.167303085327148,4.167303085327148,4.167303085327148,4.167303085327148,4.43805456161499,4.4887309074401855,4.488731861114502,4.488731861114502,4.488731861114502,4.488731861114502,4.488731384277344,1.9007498025894165,1.9111723899841309,1.9111720323562622,1.9111720323562622,1.9111721515655518,1.9111722707748413,1.9111721515655518],\"y\":[-4.798227310180664,-3.7181801795959473,-2.4324655532836914,-1.1467514038085938,0.13896280527114868,1.4246771335601807,2.7103915214538574,-3.553400993347168,-3.5547847747802734,-2.269070625305176,-0.9833562970161438,0.3023577928543091,1.5880720615386963,2.873785972595215,-2.3117876052856445,-3.5547845363616943,-2.269070625305176,-0.9833561778068542,0.3023580312728882,1.588072419166565,2.873786449432373,-2.3117878437042236,-3.5547847747802734,-2.269070625305176,-0.9833562970161438,0.3023577928543091,1.5880720615386963,2.873785972595215,-2.3117876052856445,-3.5547845363616943,-2.269070625305176,-0.9833561778068542,0.3023580312728882,1.588072419166565,2.873786449432373,-2.3117878437042236,-3.5547847747802734,-2.269070625305176,-0.9833562970161438,0.3023577928543091,1.5880720615386963,2.873785972595215,-2.3117876052856445,-3.5547847747802734,-2.269070625305176,-0.9833561778068542,0.30235791206359863,1.5880722999572754,2.873786449432373,-2.3117876052856445,-3.5547845363616943,-2.269070625305176,-0.9833562970161438,0.30235791206359863,1.5880722999572754,2.873786449432373,-2.3117876052856445,-3.5547845363616943,-2.269070625305176,-0.9833562970161438,0.30235791206359863,1.5880722999572754,2.873786449432373,-2.3117876052856445,-3.5547845363616943,-2.269070625305176,-0.9833562970161438,0.30235791206359863,1.5880720615386963,2.873786449432373,-2.3117876052856445,-3.5547847747802734,-2.269070625305176,-0.9833561778068542,0.30235791206359863,1.5880722999572754,2.873786449432373,-2.3117876052856445,-3.5547845363616943,-2.269070625305176,-0.9833562970161438,0.30235791206359863,1.5880722999572754,2.873786449432373,-2.3117876052856445,-3.5547845363616943,-2.269070625305176,-0.9833562970161438,0.30235791206359863,1.5880722999572754,2.873786449432373,-2.3117876052856445,-3.5547845363616943,-2.269070625305176,-0.9833562970161438,0.30235791206359863,1.5880722999572754,2.873786449432373,-2.3117876052856445,-3.5547845363616943,-2.269070625305176,-0.9833562970161438,0.30235791206359863,1.5880722999572754,2.873786449432373,-2.3117876052856445,-3.5547847747802734,-2.269070625305176,-0.9833561778068542,0.30235791206359863,1.5880722999572754,2.873786449432373,-2.3117876052856445,-3.5547845363616943,-2.269070625305176,-0.9833562970161438,0.30235791206359863,1.5880720615386963,2.873786449432373,-2.3117876052856445,-3.5547847747802734,-2.269070625305176,-0.9833561778068542,0.30235791206359863,1.5880722999572754,2.873786449432373,-2.3117876052856445,-3.5547845363616943,-2.269070625305176,-0.9833562970161438,0.30235791206359863,1.5880722999572754,2.873786449432373,-2.3117876052856445,-3.5547845363616943,-2.269070625305176,-0.9833562970161438,0.30235791206359863,1.5880722999572754,2.873786449432373,-2.3117876052856445,-3.5547847747802734,-2.269070625305176,-0.9833564162254333,0.30235785245895386,1.5880720615386963,2.873785972595215,-2.3117878437042236,-3.5547845363616943,-2.269070625305176,-0.9833561778068542,0.3023580312728882,1.588072419166565,2.873786449432373,-2.3117878437042236,-3.5547847747802734,-2.269070625305176,-0.9833562970161438,0.3023577928543091,1.5880720615386963,2.873785972595215,-2.3117876052856445,-3.5547845363616943,-2.269070625305176,-0.9833561778068542,0.3023580312728882,1.588072419166565,2.873786449432373,-2.3117878437042236,-3.5547847747802734,-2.269070625305176,-0.9833562970161438,0.3023577928543091,1.5880720615386963,2.873785972595215,-2.3117876052856445,-3.5547845363616943,-2.269070625305176,-0.9833561778068542,0.3023580312728882,1.588072419166565,2.873786449432373,-2.3117878437042236,-3.5547847747802734,-2.269070625305176,-0.9833562970161438,0.3023577928543091,1.5880720615386963,2.873785972595215,-3.294564962387085,-3.6203572750091553,-2.3346428871154785,-1.0489286184310913,0.236785888671875,1.5225002765655518,2.8082141876220703],\"z\":[-0.600361704826355,-0.9508795738220215,-0.9508796334266663,-0.9508795738220215,-0.9508795738220215,-0.9508795738220215,-0.9508795142173767,-0.7905653119087219,-1.0399625301361084,-1.0399624109268188,-1.0399624109268188,-1.0399624109268188,-1.0399624109268188,-1.0399624109268188,-0.9542522430419922,-1.0399625301361084,-1.0399624109268188,-1.0399624109268188,-1.0399624109268188,-1.0399625301361084,-1.0399624109268188,-0.9542523622512817,-1.0399625301361084,-1.0399624109268188,-1.0399624109268188,-1.0399624109268188,-1.0399624109268188,-1.0399624109268188,-0.9542522430419922,-1.0399625301361084,-1.0399624109268188,-1.0399624109268188,-1.0399624109268188,-1.0399625301361084,-1.0399624109268188,-0.9542523622512817,-1.0399625301361084,-1.0399624109268188,-1.0399624109268188,-1.0399624109268188,-1.0399624109268188,-1.0399624109268188,-0.9542522430419922,-1.0399625301361084,-1.0399624109268188,-1.0399624109268188,-1.0399624109268188,-1.0399624109268188,-1.0399624109268188,-0.9542523622512817,-1.0399624109268188,-1.0399624109268188,-1.0399624109268188,-1.0399624109268188,-1.0399624109268188,-1.0399624109268188,-0.9542523622512817,-1.0399624109268188,-1.0399624109268188,-1.0399624109268188,-1.0399624109268188,-1.0399624109268188,-1.0399624109268188,-0.9542523622512817,-1.0399624109268188,-1.0399624109268188,-1.0399624109268188,-1.0399624109268188,-1.0399624109268188,-1.0399624109268188,-0.9542523622512817,-1.039962649345398,-1.0399624109268188,-1.0399624109268188,-1.0399624109268188,-1.0399624109268188,-1.0399624109268188,-0.9542523622512817,-1.0399624109268188,-1.0399624109268188,-1.0399624109268188,-1.0399624109268188,-1.0399624109268188,-1.0399624109268188,-0.9542523622512817,-1.0399624109268188,-1.0399624109268188,-1.0399624109268188,-1.0399624109268188,-1.0399624109268188,-1.0399624109268188,-0.9542523622512817,-1.0399624109268188,-1.0399624109268188,-1.0399624109268188,-1.0399624109268188,-1.0399624109268188,-1.0399624109268188,-0.9542523622512817,-1.0399624109268188,-1.0399624109268188,-1.0399624109268188,-1.0399624109268188,-1.0399624109268188,-1.0399624109268188,-0.9542523622512817,-1.039962649345398,-1.0399624109268188,-1.0399624109268188,-1.0399624109268188,-1.0399624109268188,-1.0399624109268188,-0.9542523622512817,-1.0399624109268188,-1.0399624109268188,-1.0399624109268188,-1.0399624109268188,-1.0399624109268188,-1.0399624109268188,-0.9542523622512817,-1.039962649345398,-1.0399624109268188,-1.0399624109268188,-1.0399624109268188,-1.0399624109268188,-1.0399624109268188,-0.9542523622512817,-1.0399624109268188,-1.0399624109268188,-1.0399624109268188,-1.0399624109268188,-1.0399624109268188,-1.0399624109268188,-0.9542523622512817,-1.0399624109268188,-1.0399624109268188,-1.0399624109268188,-1.0399624109268188,-1.0399624109268188,-1.0399624109268188,-0.9542523622512817,-1.0399624109268188,-1.0399624109268188,-1.0399624109268188,-1.0399625301361084,-1.0399624109268188,-1.0399624109268188,-0.9542523622512817,-1.0399625301361084,-1.0399624109268188,-1.0399624109268188,-1.0399624109268188,-1.0399625301361084,-1.0399624109268188,-0.9542523622512817,-1.0399625301361084,-1.0399624109268188,-1.0399624109268188,-1.0399624109268188,-1.0399624109268188,-1.0399624109268188,-0.9542522430419922,-1.0399625301361084,-1.0399624109268188,-1.0399624109268188,-1.0399624109268188,-1.0399625301361084,-1.0399624109268188,-0.9542523622512817,-1.0399625301361084,-1.0399624109268188,-1.0399624109268188,-1.0399624109268188,-1.0399624109268188,-1.0399624109268188,-0.9542522430419922,-1.0399625301361084,-1.0399624109268188,-1.0399624109268188,-1.0399624109268188,-1.0399625301361084,-1.0399624109268188,-0.9542523622512817,-1.0399625301361084,-1.0399624109268188,-1.0399624109268188,-1.0399624109268188,-1.0399624109268188,-1.0399624109268188,-0.7834027409553528,-0.9286874532699585,-0.9286875128746033,-0.9286875128746033,-0.928687572479248,-0.928687572479248,-0.9286874532699585],\"type\":\"scatter3d\",\"scene\":\"scene\"},{\"x\":[-4.584287166595459,-1.781248688697815,-1.7812488079071045,-1.781248688697815,-1.7812485694885254,-1.7812488079071045,-1.7812485694885254,-3.8540546894073486,-3.729512929916382,-3.7295124530792236,-3.7295124530792236,-3.7295124530792236,-3.7295126914978027,-3.7295126914978027,-3.067049503326416,-3.40808367729187,-3.408083438873291,-3.408083438873291,-3.408083438873291,-3.408083438873291,-3.408083438873291,-2.7456207275390625,-3.086655616760254,-3.0866551399230957,-3.0866551399230957,-3.086655378341675,-3.086655378341675,-3.086655616760254,-2.424192428588867,-2.765226364135742,-2.765226364135742,-2.765226364135742,-2.765226364135742,-2.765226364135742,-2.765226364135742,-2.1027636528015137,-2.443798780441284,-2.443798303604126,-2.443798303604126,-2.443798303604126,-2.443798303604126,-2.443798542022705,-1.7813353538513184,-2.1223692893981934,-2.1223692893981934,-2.1223692893981934,-2.1223692893981934,-2.1223695278167725,-2.1223692893981934,-1.4599063396453857,-1.800940990447998,-1.800940990447998,-1.800940990447998,-1.800940752029419,-1.800940752029419,-1.800940990447998,-1.1384780406951904,-1.4795124530792236,-1.4795124530792236,-1.4795124530792236,-1.4795124530792236,-1.4795124530792236,-1.4795124530792236,-0.8170493245124817,-1.1580839157104492,-1.1580839157104492,-1.1580839157104492,-1.1580839157104492,-1.1580839157104492,-1.1580839157104492,-0.4956206679344177,-0.8366551399230957,-0.8366551399230957,-0.8366551399230957,-0.8366551995277405,-0.8366551995277405,-0.8366551399230957,-0.1741921305656433,-0.5152267813682556,-0.5152266621589661,-0.5152266621589661,-0.5152266621589661,-0.5152266621589661,-0.5152266025543213,0.1472364366054535,-0.19379818439483643,-0.19379815459251404,-0.19379815459251404,-0.1937980353832245,-0.1937980353832245,-0.19379806518554688,0.4686650037765503,0.12763041257858276,0.12763041257858276,0.12763041257858276,0.12763053178787231,0.12763053178787231,0.12763053178787231,0.7900936007499695,0.44905900955200195,0.44905900955200195,0.44905900955200195,0.4490591287612915,0.4490591287612915,0.4490591287612915,1.1115221977233887,0.7704877853393555,0.7704877853393555,0.7704877853393555,0.7704877853393555,0.7704876661300659,0.7704877257347107,1.432950735092163,1.0919162034988403,1.0919162034988403,1.0919162034988403,1.0919160842895508,1.0919162034988403,1.0919162034988403,1.7543792724609375,1.4133448600769043,1.4133448600769043,1.4133448600769043,1.4133448600769043,1.4133448600769043,1.4133448600769043,2.075808048248291,1.7347733974456787,1.7347733974456787,1.7347733974456787,1.7347733974456787,1.7347733974456787,1.7347733974456787,2.3972363471984863,2.056201934814453,2.056201934814453,2.056201934814453,2.056201934814453,2.056201934814453,2.056201934814453,2.7186648845672607,2.3776302337646484,2.3776302337646484,2.3776302337646484,2.3776302337646484,2.3776302337646484,2.3776302337646484,3.040093421936035,2.699059247970581,2.69905948638916,2.69905948638916,2.699059009552002,2.699059009552002,2.69905948638916,3.3615221977233887,3.0204873085021973,3.0204873085021973,3.0204873085021973,3.0204875469207764,3.0204875469207764,3.0204873085021973,3.682950496673584,3.341916561126709,3.341916561126709,3.341916561126709,3.341916561126709,3.341916561126709,3.341916561126709,4.0043792724609375,3.663344144821167,3.663344144821167,3.663344144821167,3.663344383239746,3.663344383239746,3.663344383239746,4.325807571411133,3.9847731590270996,3.984773635864258,3.984773635864258,3.984773635864258,3.984773635864258,3.984773635864258,4.6472368240356445,4.306201457977295,4.306201457977295,4.306201457977295,4.306201457977295,4.306201457977295,4.306201457977295,2.1017565727233887,2.066828727722168,2.066828489303589,2.066828489303589,2.066828727722168,2.066828489303589,2.066828489303589],\"y\":[-3.817564010620117,-2.6988041400909424,-1.4130899906158447,-0.12737566232681274,1.1583385467529297,2.4440526962280273,3.729767084121704,-2.8381495475769043,-2.831146478652954,-1.5454320907592773,-0.2597179114818573,1.025996208190918,2.3117105960845947,3.5974247455596924,-1.8258752822875977,-2.831146478652954,-1.545432448387146,-0.2597181499004364,1.025996208190918,2.3117103576660156,3.5974245071411133,-1.8258755207061768,-2.831146478652954,-1.5454320907592773,-0.2597179114818573,1.025996208190918,2.3117105960845947,3.5974247455596924,-1.8258752822875977,-2.831146478652954,-1.545432448387146,-0.2597181499004364,1.025996208190918,2.3117103576660156,3.5974245071411133,-1.8258755207061768,-2.831146478652954,-1.5454320907592773,-0.2597179114818573,1.025996208190918,2.3117105960845947,3.5974247455596924,-1.8258752822875977,-2.831146478652954,-1.545432209968567,-0.25971803069114685,1.025996208190918,2.3117103576660156,3.597424268722534,-1.8258755207061768,-2.831146478652954,-1.545432209968567,-0.2597179710865021,1.025996208190918,2.3117103576660156,3.5974245071411133,-1.8258754014968872,-2.831146478652954,-1.545432209968567,-0.2597179710865021,1.025996208190918,2.3117103576660156,3.5974245071411133,-1.8258754014968872,-2.831146717071533,-1.5454323291778564,-0.25971803069114685,1.025996208190918,2.3117103576660156,3.5974245071411133,-1.8258755207061768,-2.831146478652954,-1.5454323291778564,-0.25971803069114685,1.025996208190918,2.3117103576660156,3.597424268722534,-1.8258754014968872,-2.831146478652954,-1.545432209968567,-0.2597179710865021,1.025996208190918,2.3117103576660156,3.5974245071411133,-1.8258754014968872,-2.831146478652954,-1.545432209968567,-0.2597179710865021,1.025996208190918,2.3117103576660156,3.5974245071411133,-1.8258754014968872,-2.831146478652954,-1.545432209968567,-0.2597179710865021,1.025996208190918,2.3117103576660156,3.5974245071411133,-1.8258754014968872,-2.831146478652954,-1.545432209968567,-0.2597179710865021,1.025996208190918,2.3117103576660156,3.5974245071411133,-1.8258754014968872,-2.831146478652954,-1.5454323291778564,-0.25971803069114685,1.025996208190918,2.3117103576660156,3.597424268722534,-1.8258754014968872,-2.831146717071533,-1.5454323291778564,-0.25971803069114685,1.025996208190918,2.3117103576660156,3.5974245071411133,-1.8258755207061768,-2.831146478652954,-1.5454323291778564,-0.25971803069114685,1.025996208190918,2.3117103576660156,3.597424268722534,-1.8258755207061768,-2.831146478652954,-1.545432209968567,-0.2597179710865021,1.025996208190918,2.3117103576660156,3.5974245071411133,-1.8258754014968872,-2.831146478652954,-1.545432209968567,-0.2597179710865021,1.025996208190918,2.3117103576660156,3.5974245071411133,-1.8258752822875977,-2.831146478652954,-1.545432209968567,-0.2597179710865021,1.025996208190918,2.311710834503174,3.5974247455596924,-1.8258752822875977,-2.831146478652954,-1.545432448387146,-0.2597181499004364,1.025996208190918,2.3117103576660156,3.5974245071411133,-1.8258755207061768,-2.831146478652954,-1.5454320907592773,-0.2597179114818573,1.025996208190918,2.3117105960845947,3.5974247455596924,-1.8258752822875977,-2.831146478652954,-1.545432448387146,-0.2597181499004364,1.025996208190918,2.3117103576660156,3.5974245071411133,-1.8258755207061768,-2.831146478652954,-1.5454320907592773,-0.2597179114818573,1.025996208190918,2.3117105960845947,3.5974247455596924,-1.8258752822875977,-2.831146478652954,-1.545432448387146,-0.2597181499004364,1.025996208190918,2.3117103576660156,3.5974245071411133,-1.8258755207061768,-2.831146478652954,-1.5454320907592773,-0.2597179114818573,1.025996208190918,2.3117105960845947,3.5974247455596924,-2.8035829067230225,-3.1292812824249268,-1.843567132949829,-0.5578528046607971,0.7278618216514587,2.0135762691497803,3.299290180206299],\"z\":[-2.1579291820526123,-2.0142509937286377,-2.014251232147217,-2.014251232147217,-2.014251232147217,-2.014251232147217,-2.014251232147217,-2.1749401092529297,-2.140415906906128,-2.140415906906128,-2.140415906906128,-2.140416145324707,-2.140415906906128,-2.140415906906128,-2.1783809661865234,-2.140415906906128,-2.140415906906128,-2.140415906906128,-2.140416145324707,-2.140416145324707,-2.140416145324707,-2.1783812046051025,-2.140415906906128,-2.140415906906128,-2.140415906906128,-2.140416145324707,-2.140415906906128,-2.140415906906128,-2.1783809661865234,-2.140415906906128,-2.140415906906128,-2.140415906906128,-2.140416145324707,-2.140416145324707,-2.140416145324707,-2.1783812046051025,-2.140415906906128,-2.140415906906128,-2.140415906906128,-2.140416145324707,-2.140415906906128,-2.140415906906128,-2.1783809661865234,-2.140416145324707,-2.140416145324707,-2.140416145324707,-2.140416145324707,-2.140416145324707,-2.140416145324707,-2.1783812046051025,-2.140415906906128,-2.140415906906128,-2.140415906906128,-2.140416145324707,-2.140416145324707,-2.140416145324707,-2.1783812046051025,-2.140415906906128,-2.140415906906128,-2.140415906906128,-2.140416145324707,-2.140416145324707,-2.140416145324707,-2.1783812046051025,-2.140416145324707,-2.140415906906128,-2.140415906906128,-2.140416145324707,-2.140416145324707,-2.140416145324707,-2.1783812046051025,-2.140416145324707,-2.140416145324707,-2.140416145324707,-2.140416145324707,-2.140416145324707,-2.140416145324707,-2.1783812046051025,-2.140415906906128,-2.140415906906128,-2.140415906906128,-2.140416145324707,-2.140416145324707,-2.140416145324707,-2.1783812046051025,-2.140415906906128,-2.140415906906128,-2.140415906906128,-2.140416145324707,-2.140416145324707,-2.140416145324707,-2.1783812046051025,-2.140415906906128,-2.140415906906128,-2.140415906906128,-2.140416145324707,-2.140416145324707,-2.140416145324707,-2.1783812046051025,-2.140415906906128,-2.140415906906128,-2.140415906906128,-2.140416145324707,-2.140416145324707,-2.140416145324707,-2.1783812046051025,-2.140416145324707,-2.140416145324707,-2.140416145324707,-2.140416145324707,-2.140416145324707,-2.140416145324707,-2.1783812046051025,-2.140416145324707,-2.140415906906128,-2.140415906906128,-2.140416145324707,-2.140416145324707,-2.140416145324707,-2.1783812046051025,-2.140416145324707,-2.140416145324707,-2.140416145324707,-2.140416145324707,-2.140416145324707,-2.140416145324707,-2.1783809661865234,-2.140415906906128,-2.140415906906128,-2.140415906906128,-2.140416145324707,-2.140416145324707,-2.140416145324707,-2.1783812046051025,-2.140415906906128,-2.140415906906128,-2.140415906906128,-2.140416145324707,-2.140416145324707,-2.140416145324707,-2.1783809661865234,-2.140415906906128,-2.140415906906128,-2.140415906906128,-2.140415906906128,-2.140416145324707,-2.140416145324707,-2.1783809661865234,-2.140415906906128,-2.140415906906128,-2.140415906906128,-2.140416145324707,-2.140416145324707,-2.140416145324707,-2.1783812046051025,-2.140415906906128,-2.140415906906128,-2.140415906906128,-2.140416145324707,-2.140415906906128,-2.140415906906128,-2.1783809661865234,-2.140415906906128,-2.140415906906128,-2.140415906906128,-2.140416145324707,-2.140416145324707,-2.140416145324707,-2.1783812046051025,-2.140415906906128,-2.140415906906128,-2.140415906906128,-2.140416145324707,-2.140415906906128,-2.140415906906128,-2.1783809661865234,-2.140415906906128,-2.140415906906128,-2.140415906906128,-2.140416145324707,-2.140416145324707,-2.140416145324707,-2.1783812046051025,-2.140415906906128,-2.140415906906128,-2.140415906906128,-2.140416145324707,-2.140415906906128,-2.140415906906128,-2.2512869834899902,-2.205482006072998,-2.205482244491577,-2.205482244491577,-2.205482006072998,-2.205482006072998,-2.205482006072998],\"type\":\"scatter3d\",\"scene\":\"scene2\"}],                        {\"template\":{\"data\":{\"histogram2dcontour\":[{\"type\":\"histogram2dcontour\",\"colorbar\":{\"outlinewidth\":0,\"ticks\":\"\"},\"colorscale\":[[0.0,\"#0d0887\"],[0.1111111111111111,\"#46039f\"],[0.2222222222222222,\"#7201a8\"],[0.3333333333333333,\"#9c179e\"],[0.4444444444444444,\"#bd3786\"],[0.5555555555555556,\"#d8576b\"],[0.6666666666666666,\"#ed7953\"],[0.7777777777777778,\"#fb9f3a\"],[0.8888888888888888,\"#fdca26\"],[1.0,\"#f0f921\"]]}],\"choropleth\":[{\"type\":\"choropleth\",\"colorbar\":{\"outlinewidth\":0,\"ticks\":\"\"}}],\"histogram2d\":[{\"type\":\"histogram2d\",\"colorbar\":{\"outlinewidth\":0,\"ticks\":\"\"},\"colorscale\":[[0.0,\"#0d0887\"],[0.1111111111111111,\"#46039f\"],[0.2222222222222222,\"#7201a8\"],[0.3333333333333333,\"#9c179e\"],[0.4444444444444444,\"#bd3786\"],[0.5555555555555556,\"#d8576b\"],[0.6666666666666666,\"#ed7953\"],[0.7777777777777778,\"#fb9f3a\"],[0.8888888888888888,\"#fdca26\"],[1.0,\"#f0f921\"]]}],\"heatmap\":[{\"type\":\"heatmap\",\"colorbar\":{\"outlinewidth\":0,\"ticks\":\"\"},\"colorscale\":[[0.0,\"#0d0887\"],[0.1111111111111111,\"#46039f\"],[0.2222222222222222,\"#7201a8\"],[0.3333333333333333,\"#9c179e\"],[0.4444444444444444,\"#bd3786\"],[0.5555555555555556,\"#d8576b\"],[0.6666666666666666,\"#ed7953\"],[0.7777777777777778,\"#fb9f3a\"],[0.8888888888888888,\"#fdca26\"],[1.0,\"#f0f921\"]]}],\"heatmapgl\":[{\"type\":\"heatmapgl\",\"colorbar\":{\"outlinewidth\":0,\"ticks\":\"\"},\"colorscale\":[[0.0,\"#0d0887\"],[0.1111111111111111,\"#46039f\"],[0.2222222222222222,\"#7201a8\"],[0.3333333333333333,\"#9c179e\"],[0.4444444444444444,\"#bd3786\"],[0.5555555555555556,\"#d8576b\"],[0.6666666666666666,\"#ed7953\"],[0.7777777777777778,\"#fb9f3a\"],[0.8888888888888888,\"#fdca26\"],[1.0,\"#f0f921\"]]}],\"contourcarpet\":[{\"type\":\"contourcarpet\",\"colorbar\":{\"outlinewidth\":0,\"ticks\":\"\"}}],\"contour\":[{\"type\":\"contour\",\"colorbar\":{\"outlinewidth\":0,\"ticks\":\"\"},\"colorscale\":[[0.0,\"#0d0887\"],[0.1111111111111111,\"#46039f\"],[0.2222222222222222,\"#7201a8\"],[0.3333333333333333,\"#9c179e\"],[0.4444444444444444,\"#bd3786\"],[0.5555555555555556,\"#d8576b\"],[0.6666666666666666,\"#ed7953\"],[0.7777777777777778,\"#fb9f3a\"],[0.8888888888888888,\"#fdca26\"],[1.0,\"#f0f921\"]]}],\"surface\":[{\"type\":\"surface\",\"colorbar\":{\"outlinewidth\":0,\"ticks\":\"\"},\"colorscale\":[[0.0,\"#0d0887\"],[0.1111111111111111,\"#46039f\"],[0.2222222222222222,\"#7201a8\"],[0.3333333333333333,\"#9c179e\"],[0.4444444444444444,\"#bd3786\"],[0.5555555555555556,\"#d8576b\"],[0.6666666666666666,\"#ed7953\"],[0.7777777777777778,\"#fb9f3a\"],[0.8888888888888888,\"#fdca26\"],[1.0,\"#f0f921\"]]}],\"mesh3d\":[{\"type\":\"mesh3d\",\"colorbar\":{\"outlinewidth\":0,\"ticks\":\"\"}}],\"scatter\":[{\"fillpattern\":{\"fillmode\":\"overlay\",\"size\":10,\"solidity\":0.2},\"type\":\"scatter\"}],\"parcoords\":[{\"type\":\"parcoords\",\"line\":{\"colorbar\":{\"outlinewidth\":0,\"ticks\":\"\"}}}],\"scatterpolargl\":[{\"type\":\"scatterpolargl\",\"marker\":{\"colorbar\":{\"outlinewidth\":0,\"ticks\":\"\"}}}],\"bar\":[{\"error_x\":{\"color\":\"#2a3f5f\"},\"error_y\":{\"color\":\"#2a3f5f\"},\"marker\":{\"line\":{\"color\":\"#E5ECF6\",\"width\":0.5},\"pattern\":{\"fillmode\":\"overlay\",\"size\":10,\"solidity\":0.2}},\"type\":\"bar\"}],\"scattergeo\":[{\"type\":\"scattergeo\",\"marker\":{\"colorbar\":{\"outlinewidth\":0,\"ticks\":\"\"}}}],\"scatterpolar\":[{\"type\":\"scatterpolar\",\"marker\":{\"colorbar\":{\"outlinewidth\":0,\"ticks\":\"\"}}}],\"histogram\":[{\"marker\":{\"pattern\":{\"fillmode\":\"overlay\",\"size\":10,\"solidity\":0.2}},\"type\":\"histogram\"}],\"scattergl\":[{\"type\":\"scattergl\",\"marker\":{\"colorbar\":{\"outlinewidth\":0,\"ticks\":\"\"}}}],\"scatter3d\":[{\"type\":\"scatter3d\",\"line\":{\"colorbar\":{\"outlinewidth\":0,\"ticks\":\"\"}},\"marker\":{\"colorbar\":{\"outlinewidth\":0,\"ticks\":\"\"}}}],\"scattermapbox\":[{\"type\":\"scattermapbox\",\"marker\":{\"colorbar\":{\"outlinewidth\":0,\"ticks\":\"\"}}}],\"scatterternary\":[{\"type\":\"scatterternary\",\"marker\":{\"colorbar\":{\"outlinewidth\":0,\"ticks\":\"\"}}}],\"scattercarpet\":[{\"type\":\"scattercarpet\",\"marker\":{\"colorbar\":{\"outlinewidth\":0,\"ticks\":\"\"}}}],\"carpet\":[{\"aaxis\":{\"endlinecolor\":\"#2a3f5f\",\"gridcolor\":\"white\",\"linecolor\":\"white\",\"minorgridcolor\":\"white\",\"startlinecolor\":\"#2a3f5f\"},\"baxis\":{\"endlinecolor\":\"#2a3f5f\",\"gridcolor\":\"white\",\"linecolor\":\"white\",\"minorgridcolor\":\"white\",\"startlinecolor\":\"#2a3f5f\"},\"type\":\"carpet\"}],\"table\":[{\"cells\":{\"fill\":{\"color\":\"#EBF0F8\"},\"line\":{\"color\":\"white\"}},\"header\":{\"fill\":{\"color\":\"#C8D4E3\"},\"line\":{\"color\":\"white\"}},\"type\":\"table\"}],\"barpolar\":[{\"marker\":{\"line\":{\"color\":\"#E5ECF6\",\"width\":0.5},\"pattern\":{\"fillmode\":\"overlay\",\"size\":10,\"solidity\":0.2}},\"type\":\"barpolar\"}],\"pie\":[{\"automargin\":true,\"type\":\"pie\"}]},\"layout\":{\"autotypenumbers\":\"strict\",\"colorway\":[\"#636efa\",\"#EF553B\",\"#00cc96\",\"#ab63fa\",\"#FFA15A\",\"#19d3f3\",\"#FF6692\",\"#B6E880\",\"#FF97FF\",\"#FECB52\"],\"font\":{\"color\":\"#2a3f5f\"},\"hovermode\":\"closest\",\"hoverlabel\":{\"align\":\"left\"},\"paper_bgcolor\":\"white\",\"plot_bgcolor\":\"#E5ECF6\",\"polar\":{\"bgcolor\":\"#E5ECF6\",\"angularaxis\":{\"gridcolor\":\"white\",\"linecolor\":\"white\",\"ticks\":\"\"},\"radialaxis\":{\"gridcolor\":\"white\",\"linecolor\":\"white\",\"ticks\":\"\"}},\"ternary\":{\"bgcolor\":\"#E5ECF6\",\"aaxis\":{\"gridcolor\":\"white\",\"linecolor\":\"white\",\"ticks\":\"\"},\"baxis\":{\"gridcolor\":\"white\",\"linecolor\":\"white\",\"ticks\":\"\"},\"caxis\":{\"gridcolor\":\"white\",\"linecolor\":\"white\",\"ticks\":\"\"}},\"coloraxis\":{\"colorbar\":{\"outlinewidth\":0,\"ticks\":\"\"}},\"colorscale\":{\"sequential\":[[0.0,\"#0d0887\"],[0.1111111111111111,\"#46039f\"],[0.2222222222222222,\"#7201a8\"],[0.3333333333333333,\"#9c179e\"],[0.4444444444444444,\"#bd3786\"],[0.5555555555555556,\"#d8576b\"],[0.6666666666666666,\"#ed7953\"],[0.7777777777777778,\"#fb9f3a\"],[0.8888888888888888,\"#fdca26\"],[1.0,\"#f0f921\"]],\"sequentialminus\":[[0.0,\"#0d0887\"],[0.1111111111111111,\"#46039f\"],[0.2222222222222222,\"#7201a8\"],[0.3333333333333333,\"#9c179e\"],[0.4444444444444444,\"#bd3786\"],[0.5555555555555556,\"#d8576b\"],[0.6666666666666666,\"#ed7953\"],[0.7777777777777778,\"#fb9f3a\"],[0.8888888888888888,\"#fdca26\"],[1.0,\"#f0f921\"]],\"diverging\":[[0,\"#8e0152\"],[0.1,\"#c51b7d\"],[0.2,\"#de77ae\"],[0.3,\"#f1b6da\"],[0.4,\"#fde0ef\"],[0.5,\"#f7f7f7\"],[0.6,\"#e6f5d0\"],[0.7,\"#b8e186\"],[0.8,\"#7fbc41\"],[0.9,\"#4d9221\"],[1,\"#276419\"]]},\"xaxis\":{\"gridcolor\":\"white\",\"linecolor\":\"white\",\"ticks\":\"\",\"title\":{\"standoff\":15},\"zerolinecolor\":\"white\",\"automargin\":true,\"zerolinewidth\":2},\"yaxis\":{\"gridcolor\":\"white\",\"linecolor\":\"white\",\"ticks\":\"\",\"title\":{\"standoff\":15},\"zerolinecolor\":\"white\",\"automargin\":true,\"zerolinewidth\":2},\"scene\":{\"xaxis\":{\"backgroundcolor\":\"#E5ECF6\",\"gridcolor\":\"white\",\"linecolor\":\"white\",\"showbackground\":true,\"ticks\":\"\",\"zerolinecolor\":\"white\",\"gridwidth\":2},\"yaxis\":{\"backgroundcolor\":\"#E5ECF6\",\"gridcolor\":\"white\",\"linecolor\":\"white\",\"showbackground\":true,\"ticks\":\"\",\"zerolinecolor\":\"white\",\"gridwidth\":2},\"zaxis\":{\"backgroundcolor\":\"#E5ECF6\",\"gridcolor\":\"white\",\"linecolor\":\"white\",\"showbackground\":true,\"ticks\":\"\",\"zerolinecolor\":\"white\",\"gridwidth\":2}},\"shapedefaults\":{\"line\":{\"color\":\"#2a3f5f\"}},\"annotationdefaults\":{\"arrowcolor\":\"#2a3f5f\",\"arrowhead\":0,\"arrowwidth\":1},\"geo\":{\"bgcolor\":\"white\",\"landcolor\":\"#E5ECF6\",\"subunitcolor\":\"white\",\"showland\":true,\"showlakes\":true,\"lakecolor\":\"white\"},\"title\":{\"x\":0.05},\"mapbox\":{\"style\":\"light\"}}},\"scene\":{\"domain\":{\"x\":[0.0,0.45],\"y\":[0.0,1.0]}},\"scene2\":{\"domain\":{\"x\":[0.55,1.0],\"y\":[0.0,1.0]}},\"height\":600,\"width\":1200},                        {\"responsive\": true}                    ).then(function(){\n",
              "                            \n",
              "var gd = document.getElementById('94d31826-8808-47e1-96e2-e51858f22249');\n",
              "var x = new MutationObserver(function (mutations, observer) {{\n",
              "        var display = window.getComputedStyle(gd).display;\n",
              "        if (!display || display === 'none') {{\n",
              "            console.log([gd, 'removed!']);\n",
              "            Plotly.purge(gd);\n",
              "            observer.disconnect();\n",
              "        }}\n",
              "}});\n",
              "\n",
              "// Listen for the removal of the full notebook cells\n",
              "var notebookContainer = gd.closest('#notebook-container');\n",
              "if (notebookContainer) {{\n",
              "    x.observe(notebookContainer, {childList: true});\n",
              "}}\n",
              "\n",
              "// Listen for the clearing of the current output cell\n",
              "var outputEl = gd.closest('.output');\n",
              "if (outputEl) {{\n",
              "    x.observe(outputEl, {childList: true});\n",
              "}}\n",
              "\n",
              "                        })                };                            </script>        </div>\n",
              "</body>\n",
              "</html>"
            ]
          },
          "metadata": {}
        },
        {
          "output_type": "stream",
          "name": "stdout",
          "text": [
            "torch.Size([1568, 4, 3])\n"
          ]
        },
        {
          "output_type": "display_data",
          "data": {
            "text/html": [
              "<html>\n",
              "<head><meta charset=\"utf-8\" /></head>\n",
              "<body>\n",
              "    <div>            <script src=\"https://cdnjs.cloudflare.com/ajax/libs/mathjax/2.7.5/MathJax.js?config=TeX-AMS-MML_SVG\"></script><script type=\"text/javascript\">if (window.MathJax && window.MathJax.Hub && window.MathJax.Hub.Config) {window.MathJax.Hub.Config({SVG: {font: \"STIX-Web\"}});}</script>                <script type=\"text/javascript\">window.PlotlyConfig = {MathJaxConfig: 'local'};</script>\n",
              "        <script src=\"https://cdn.plot.ly/plotly-2.18.2.min.js\"></script>                <div id=\"d70534ea-ee25-4967-bf41-075539596428\" class=\"plotly-graph-div\" style=\"height:2400px; width:1200px;\"></div>            <script type=\"text/javascript\">                                    window.PLOTLYENV=window.PLOTLYENV || {};                                    if (document.getElementById(\"d70534ea-ee25-4967-bf41-075539596428\")) {                    Plotly.newPlot(                        \"d70534ea-ee25-4967-bf41-075539596428\",                        [{\"x\":[0.06386417150497437,1.9837080240249634,-9.529732704162598,-9.104534149169922,-9.491455078125,-9.080961227416992,-10.553874969482422,-0.34887319803237915,-6.270305156707764,-6.835506439208984,-12.399369239807129,-10.030545234680176,-8.930915832519531,-6.026594638824463,4.519018173217773,-16.258594512939453,-16.119853973388672,-4.942379951477051,-19.0905818939209,-7.489026069641113,-16.027816772460938,9.80664348602295,-22.117631912231445,-21.989198684692383,-22.035625457763672,-22.735382080078125,-22.058868408203125,-22.078311920166016,-12.495224952697754,-19.85087013244629,-15.385676383972168,-18.812183380126953,-16.1807861328125,-15.828853607177734,-21.4199275970459,-4.47880744934082,-10.414006233215332,-16.515661239624023,-13.158092498779297,-15.79859733581543,-17.127948760986328,-15.947408676147461,-16.404932022094727,-7.953388214111328,-15.709468841552734,-15.186609268188477,-16.205352783203125,-13.979708671569824,-20.38360595703125,-12.039525032043457,-15.595094680786133,-14.199007034301758,-19.8970947265625,-9.83447551727295,-15.058170318603516,-18.696596145629883,-14.220340728759766,-18.91219711303711,-18.79673194885254,-18.325456619262695,-12.973755836486816,-13.568717956542969,-13.726988792419434,-12.153247833251953,-15.441971778869629,-11.974600791931152,-15.567941665649414,-10.609101295471191,-8.8197660446167,-9.383591651916504,-9.400101661682129,-7.359058380126953,-7.174066543579102,-6.992372989654541,-0.16420555114746094,-9.390091896057129,-9.004575729370117,-6.471586227416992,-4.926599979400635,-7.118448257446289,-4.344892978668213,-4.905003547668457,-4.109681129455566,-4.663986682891846,-3.7039453983306885,-2.8452670574188232,-1.8054795265197754,-1.0335866212844849,-1.7267036437988281,-2.322624683380127,-1.28094482421875,-1.0051841735839844,0.6406529545783997,1.3899846076965332,1.4392507076263428,1.1772420406341553,0.8685805201530457,2.6677026748657227,1.7682862281799316,4.7703046798706055,4.174198150634766,4.901716232299805,7.423372268676758,3.6918625831604004,3.7604708671569824,4.691853046417236,6.327361106872559,6.421214580535889,8.312623977661133,6.384443759918213,7.127957344055176,6.634893894195557,7.99946928024292,9.847757339477539,10.027950286865234,11.125663757324219,8.430230140686035,11.036809921264648,10.517999649047852,10.945549964904785,14.291598320007324,12.296895980834961,14.11052131652832,9.290349960327148,14.45271110534668,15.141127586364746,14.211030960083008,14.274725914001465,15.4429292678833,16.56548309326172,20.47742462158203,21.782880783081055,22.67632484436035,16.76371192932129,8.64622688293457,22.7839412689209,15.240209579467773,17.322574615478516,19.169862747192383,24.106170654296875,23.860870361328125,23.145835876464844,18.24988555908203,8.296318054199219,10.278863906860352,12.580816268920898,6.441534042358398,17.701648712158203,21.594018936157227,18.25125503540039,17.418212890625,13.764791488647461,15.456901550292969,18.362112045288086,17.009660720825195,23.78033447265625,21.70869255065918,16.74477767944336,17.69623374938965,21.88886833190918,21.43540382385254,7.249098777770996,23.92659568786621,24.700490951538086,22.292804718017578,22.894638061523438,24.647417068481445,23.98445701599121,24.206026077270508,27.115419387817383,27.639484405517578,25.70015525817871,26.78309440612793,28.230064392089844,28.4631404876709,21.533912658691406,21.12063980102539,23.364944458007812,9.255035400390625,21.310165405273438,13.002750396728516,24.311487197875977,21.20657730102539,14.621552467346191,13.349416732788086,11.812057495117188,23.13633155822754,11.445799827575684,16.828210830688477,3.1926915645599365,-9.0894193649292,-7.328744888305664,7.405060768127441,-0.39762818813323975,-0.48895758390426636,-9.243317604064941],\"y\":[-8.95114517211914,14.669923782348633,-5.646611213684082,9.618987083435059,-0.3783666491508484,11.572576522827148,-15.513574600219727,-6.798387050628662,-9.271978378295898,-3.727957010269165,-24.267866134643555,-10.917902946472168,0.10622215270996094,-15.768712997436523,15.620606422424316,-0.07145112752914429,-9.229670524597168,-12.856498718261719,-20.04379653930664,-6.304533004760742,-11.826298713684082,-2.2614388465881348,-16.438556671142578,-3.566744804382324,-12.579310417175293,-6.415034294128418,6.570906639099121,-5.339703559875488,14.345898628234863,-15.5324125289917,0.5940453410148621,-0.7309643626213074,-9.571093559265137,-13.044702529907227,-0.9402320981025696,-2.588289737701416,-13.555164337158203,-1.0925261974334717,-4.079439163208008,-2.103433847427368,8.36075210571289,6.891915321350098,-1.6694233417510986,3.5523934364318848,-4.469155311584473,0.2296363115310669,-4.052183151245117,-10.155998229980469,-4.014532566070557,-16.727102279663086,-8.277200698852539,-16.39919662475586,-8.159004211425781,2.7300009727478027,-2.731168746948242,-14.624218940734863,-28.288576126098633,9.108512878417969,-18.00310516357422,-11.699247360229492,-2.879847526550293,5.0125322341918945,-20.34014892578125,-23.73583984375,11.117609977722168,-7.630982398986816,-3.434772253036499,-7.162806987762451,9.03387451171875,-11.120281219482422,-13.75759506225586,0.9059865474700928,0.31128644943237305,1.05771005153656,3.956510543823242,-5.1541900634765625,-3.4245119094848633,-3.447542190551758,3.9210126399993896,-8.616640090942383,6.467706203460693,-4.218507289886475,7.107385158538818,-11.003087043762207,0.8989931344985962,-8.136018753051758,-11.357734680175781,3.2630512714385986,4.766262531280518,4.1023101806640625,-13.263457298278809,-2.9676997661590576,-6.3125762939453125,-8.79344367980957,8.004313468933105,12.685988426208496,9.835368156433105,-11.355077743530273,-10.72834300994873,-2.9687862396240234,-5.0499067306518555,12.256314277648926,13.361174583435059,13.753625869750977,-8.074104309082031,-8.735843658447266,-13.8134183883667,-1.8212149143218994,11.560876846313477,9.067499160766602,-2.2837181091308594,-0.6833098530769348,-1.6520090103149414,6.027289390563965,-13.081287384033203,10.631298065185547,-1.503496527671814,7.619842052459717,-11.291298866271973,-1.0252211093902588,-10.020560264587402,-25.499361038208008,4.794774532318115,6.382900714874268,-4.403674125671387,-9.241996765136719,-9.35891056060791,4.251286029815674,-11.674981117248535,-3.7057559490203857,6.100186347961426,1.532924771308899,-3.860440492630005,-12.740209579467773,-7.926965713500977,-16.548717498779297,-15.757797241210938,-6.315330505371094,-3.277588367462158,7.485508441925049,-0.9165279865264893,-11.320783615112305,-5.721441268920898,-21.823936462402344,-8.517535209655762,-13.806017875671387,6.842154026031494,-3.274027109146118,-5.504600524902344,9.059526443481445,-8.529857635498047,6.68484354019165,-23.772308349609375,-9.510236740112305,-7.0267839431762695,5.350074768066406,-10.371112823486328,-0.41470667719841003,9.439476013183594,-20.148746490478516,-2.2694289684295654,2.888481616973877,-3.7166178226470947,1.0582010746002197,-24.516965866088867,7.210049152374268,-21.876304626464844,-7.276910781860352,-1.325319766998291,4.750073432922363,-23.935331344604492,-0.813180148601532,-1.7583351135253906,-28.320995330810547,6.945359706878662,14.265946388244629,-5.608112335205078,-3.9681341648101807,-7.2605109214782715,7.842737197875977,-9.227779388427734,-3.6679446697235107,4.768308639526367,-0.9671074151992798,-14.006032943725586,-4.634520530700684,7.058810234069824,-20.845739364624023,6.227321147918701,-6.16064977645874,-5.915790557861328,-1.540480375289917,-13.87254524230957,-0.998130202293396,-2.370938301086426,-8.364662170410156],\"z\":[-17.52691650390625,-13.661850929260254,-13.220620155334473,-11.97313117980957,-15.096176147460938,-15.510992050170898,-11.072038650512695,-11.433844566345215,-20.392480850219727,-16.870643615722656,-8.361222267150879,-18.415931701660156,-21.53018569946289,-7.157880783081055,-11.51984977722168,-19.411991119384766,-14.028332710266113,-11.173027992248535,-18.10928726196289,-19.5222225189209,-7.252268314361572,-12.504142761230469,-19.977256774902344,-16.958755493164062,-10.366911888122559,-20.126728057861328,-21.80581283569336,-10.803409576416016,-11.367197036743164,-16.792654037475586,-17.092802047729492,-13.975385665893555,-19.450847625732422,-17.58564567565918,-15.830005645751953,-10.307271957397461,-13.909743309020996,-21.146121978759766,-13.482736587524414,-21.083919525146484,-19.978317260742188,-16.86236572265625,-12.472227096557617,-16.710861206054688,-16.792705535888672,-14.599133491516113,-10.347076416015625,-13.773483276367188,-13.259050369262695,-11.679048538208008,-19.508243560791016,-11.210214614868164,-16.465538024902344,-9.288521766662598,-11.845998764038086,-8.851936340332031,-12.313791275024414,-19.76252555847168,-9.379289627075195,-12.574947357177734,-9.450387001037598,-10.820905685424805,-8.22463321685791,-16.060882568359375,-17.405738830566406,-12.724081993103027,-7.124345779418945,-13.906880378723145,-16.149873733520508,-14.019980430603027,-21.145421981811523,-14.578264236450195,-12.093900680541992,-11.55232048034668,-15.62810230255127,-14.421833992004395,-16.109968185424805,-22.360050201416016,-17.071121215820312,-13.684541702270508,-10.922347068786621,-13.463101387023926,-17.412731170654297,-13.482702255249023,-22.205875396728516,-14.190463066101074,-12.477779388427734,-9.55405044555664,-14.5903959274292,-17.059951782226562,-10.262741088867188,-21.867034912109375,-17.854385375976562,-11.6207914352417,-6.853333473205566,-14.683859825134277,-22.681089401245117,-12.903728485107422,-22.413549423217773,-17.8129825592041,-11.041062355041504,-12.293408393859863,-16.839237213134766,-22.794588088989258,-7.263891696929932,-22.5952205657959,-17.090167999267578,-14.607617378234863,-12.871376037597656,-20.213714599609375,-14.475386619567871,-11.571321487426758,-22.598508834838867,-21.029125213623047,-12.233034133911133,-11.906251907348633,-18.455251693725586,-21.751157760620117,-12.445926666259766,-22.885778427124023,-19.812511444091797,-7.3158392906188965,-11.789594650268555,-20.21597671508789,-11.000907897949219,-14.187223434448242,-22.59981918334961,-21.746688842773438,-8.281949043273926,-8.156350135803223,-16.654272079467773,-15.00662899017334,-17.203819274902344,-21.535993576049805,-18.883291244506836,-7.8082356452941895,-8.129980087280273,-13.615755081176758,-15.32107925415039,-16.99590492248535,-21.524465560913086,-18.5839786529541,-11.711372375488281,-13.098257064819336,-11.167703628540039,-18.863950729370117,-16.941394805908203,-17.218215942382812,-12.548544883728027,-9.057941436767578,-8.499655723571777,-20.73728370666504,-13.344226837158203,-14.06384563446045,-14.55105972290039,-20.014211654663086,-8.093451499938965,-15.302698135375977,-20.74821662902832,-9.313096046447754,-11.287026405334473,-16.623823165893555,-12.740920066833496,-8.696097373962402,-11.220787048339844,-16.86100196838379,-7.776569366455078,-9.205592155456543,-14.647363662719727,-20.197473526000977,-6.813924789428711,-15.439546585083008,-22.360965728759766,-12.084943771362305,-12.799356460571289,-22.1053466796875,-12.690417289733887,-9.175724029541016,-16.994029998779297,-20.96863555908203,-10.117446899414062,-7.223819255828857,-12.62490463256836,-14.059250831604004,-11.592480659484863,-15.235611915588379,-19.788654327392578,-11.605798721313477,-12.291696548461914,-14.315747261047363,-15.5704927444458,-15.985625267028809,-13.326215744018555,-15.185354232788086,-15.934089660644531,-8.544103622436523],\"type\":\"scatter3d\",\"scene\":\"scene\"},{\"x\":[-0.4752565622329712,2.1652379035949707,-9.360321044921875,-8.657718658447266,-9.450678825378418,-9.30212116241455,-10.34553050994873,0.20929640531539917,-7.070304870605469,-7.301995277404785,-11.289406776428223,-10.206611633300781,-9.836592674255371,-5.161845684051514,5.17097806930542,-16.846031188964844,-16.206193923950195,-4.258875846862793,-19.417478561401367,-7.8683271408081055,-15.079916954040527,10.19127368927002,-22.434112548828125,-22.019908905029297,-21.092044830322266,-22.73947525024414,-23.23879623413086,-21.22426414489746,-12.201509475708008,-19.376182556152344,-15.873172760009766,-18.499496459960938,-16.531558990478516,-16.135875701904297,-21.301549911499023,-4.045865058898926,-10.157228469848633,-16.742631912231445,-12.968779563903809,-16.477346420288086,-17.673145294189453,-16.49062156677246,-15.645272254943848,-8.415023803710938,-15.632061004638672,-15.20755672454834,-15.141290664672852,-13.487329483032227,-20.109682083129883,-11.536802291870117,-15.782222747802734,-13.41650676727295,-19.77921485900879,-9.250040054321289,-14.622048377990723,-17.96765899658203,-13.573884963989258,-19.48501205444336,-17.621150970458984,-17.65353775024414,-12.678979873657227,-13.340042114257812,-12.875181198120117,-12.315425872802734,-16.00616455078125,-11.649718284606934,-14.296307563781738,-10.047186851501465,-9.025181770324707,-9.223987579345703,-10.152348518371582,-7.383387565612793,-6.811111927032471,-6.077381134033203,-0.36031174659729004,-8.962760925292969,-8.706093788146973,-7.115294456481934,-4.957133769989014,-6.963766098022461,-3.3391828536987305,-4.338569164276123,-4.32276725769043,-4.522363662719727,-4.254519462585449,-2.8164825439453125,-1.5233099460601807,0.2371031641960144,-1.2441608905792236,-2.693521499633789,-0.4872143268585205,-1.110243797302246,0.18978464603424072,1.8710204362869263,2.970416784286499,1.7947434186935425,-0.21012663841247559,1.3416106700897217,1.5201475620269775,4.3036980628967285,4.7088212966918945,3.7819721698760986,7.1711225509643555,2.4407215118408203,4.966583251953125,4.148826599121094,6.524286270141602,6.405031681060791,7.236472129821777,6.187446594238281,7.339459419250488,7.773907661437988,7.079180717468262,8.72336196899414,10.446978569030762,10.112197875976562,8.304154396057129,10.238654136657715,9.752019882202148,9.930974960327148,13.505818367004395,13.44060230255127,13.347804069519043,8.613489151000977,15.098593711853027,15.2772855758667,13.622939109802246,13.54585075378418,15.954598426818848,16.840656280517578,20.30805778503418,21.82111167907715,22.151147842407227,16.12961769104004,7.817559719085693,23.28828239440918,15.865653991699219,17.861127853393555,19.386016845703125,23.71723747253418,23.028032302856445,22.747554779052734,18.720399856567383,8.959465026855469,11.254940032958984,12.70083236694336,5.92016077041626,17.665178298950195,22.045814514160156,20.06610107421875,18.612594604492188,13.289986610412598,15.625645637512207,18.63127899169922,17.155662536621094,23.283313751220703,23.161457061767578,17.034753799438477,17.252925872802734,22.789670944213867,22.458438873291016,6.873467445373535,24.20825958251953,26.165687561035156,23.3772029876709,24.25373649597168,25.973567962646484,25.451793670654297,24.678789138793945,26.05986213684082,29.470382690429688,26.352510452270508,25.932186126708984,27.85050392150879,27.49563217163086,20.567787170410156,21.219552993774414,24.254579544067383,9.32001781463623,20.496931076049805,13.429773330688477,25.48953628540039,22.029104232788086,14.625222206115723,13.62806510925293,12.111007690429688,22.848360061645508,11.560432434082031,15.806650161743164,3.287604331970215,-9.2111234664917,-7.554210662841797,8.021699905395508,-0.4211677312850952,-0.6364381313323975,-8.704320907592773],\"y\":[-8.838790893554688,15.044479370117188,-4.747308254241943,11.128623962402344,-0.088969886302948,12.504379272460938,-15.055010795593262,-5.592289447784424,-8.688149452209473,-3.185715436935425,-22.961524963378906,-10.161640167236328,-0.3024616539478302,-14.907011032104492,17.120088577270508,0.6080518960952759,-8.801021575927734,-12.343628883361816,-18.3511962890625,-5.810101509094238,-10.958512306213379,-1.5679484605789185,-15.787359237670898,-3.323129653930664,-12.430435180664062,-6.170240879058838,5.978389263153076,-4.611635684967041,15.897394180297852,-14.987471580505371,0.9885584115982056,-0.564266562461853,-8.481263160705566,-12.08156681060791,-0.6666362881660461,-1.7653871774673462,-12.398494720458984,-1.3321444988250732,-3.053799629211426,-1.7465095520019531,9.03718376159668,6.7007975578308105,-0.896375298500061,3.6889591217041016,-3.4755640029907227,0.8370184898376465,-2.8131144046783447,-8.957207679748535,-3.3008806705474854,-16.261873245239258,-7.877594947814941,-15.312349319458008,-8.570293426513672,3.5486769676208496,-1.3934104442596436,-13.069149017333984,-27.499691009521484,9.04651165008545,-16.89055633544922,-11.104704856872559,-2.0609304904937744,5.47713041305542,-19.25278663635254,-23.607481002807617,11.459503173828125,-7.097400665283203,-1.8916749954223633,-6.904567718505859,9.322061538696289,-10.266569137573242,-13.366911888122559,1.424241542816162,0.7422924041748047,2.491661548614502,3.966911792755127,-4.339091777801514,-3.281890869140625,-3.254838466644287,4.121285915374756,-7.981456756591797,8.167243003845215,-3.7195546627044678,7.241694927215576,-10.13636589050293,0.7284760475158691,-7.386186122894287,-10.868542671203613,4.889381408691406,5.928147792816162,4.208925724029541,-11.950057983398438,-3.3013155460357666,-6.041173934936523,-7.929553031921387,9.739997863769531,13.898681640625,9.509737968444824,-11.758601188659668,-10.519481658935547,-3.433234930038452,-4.366365432739258,12.233317375183105,14.398633003234863,13.512999534606934,-7.323659896850586,-8.260848045349121,-13.615934371948242,-1.4387391805648804,10.992780685424805,8.84290599822998,-1.2426917552947998,0.5607390403747559,-1.6334704160690308,5.679406642913818,-12.224471092224121,10.223800659179688,-1.325453281402588,7.3648681640625,-11.857481002807617,-1.4962680339813232,-9.617844581604004,-24.15854835510254,4.670073986053467,6.0431623458862305,-3.683746814727783,-8.432087898254395,-9.972635269165039,3.9976139068603516,-10.49412727355957,-2.6861748695373535,5.974096298217773,2.0856611728668213,-3.5642547607421875,-11.650235176086426,-8.350298881530762,-15.858124732971191,-14.517486572265625,-5.805253028869629,-2.9665236473083496,7.944299221038818,-0.387840211391449,-10.72922420501709,-4.551990509033203,-21.64261245727539,-7.705420017242432,-13.90402603149414,6.533568382263184,-3.2386016845703125,-4.750582218170166,11.371916770935059,-7.22551155090332,6.597118854522705,-22.894346237182617,-8.75715446472168,-6.724009037017822,5.489572525024414,-8.777070999145508,0.116194948554039,9.2500638961792,-18.872032165527344,-1.170699119567871,2.9308347702026367,-2.940098285675049,2.706049680709839,-23.54914093017578,8.651200294494629,-20.50025177001953,-5.639932155609131,-0.38037168979644775,4.430700778961182,-22.2565860748291,0.3754459023475647,-2.041688919067383,-28.17801856994629,7.012536525726318,13.813743591308594,-5.11222505569458,-2.446056604385376,-7.188657760620117,7.217502593994141,-8.174903869628906,-1.8405237197875977,5.73778772354126,-0.6812518239021301,-12.880152702331543,-4.3494181632995605,6.602663993835449,-20.075077056884766,5.848002910614014,-5.439907073974609,-4.811215400695801,-0.4783303439617157,-13.35097599029541,-0.4923165440559387,-1.5585720539093018,-7.3429412841796875],\"z\":[-17.70787239074707,-14.391973495483398,-14.051746368408203,-12.196927070617676,-15.416728973388672,-15.178911209106445,-12.37307071685791,-11.751412391662598,-20.293312072753906,-17.223310470581055,-9.930330276489258,-18.51268768310547,-21.353275299072266,-8.826299667358398,-11.697929382324219,-19.633861541748047,-14.830988883972168,-12.0249605178833,-18.103742599487305,-19.60824966430664,-8.867363929748535,-12.751237869262695,-19.407001495361328,-16.85033416748047,-11.107437133789062,-19.660205841064453,-21.408828735351562,-11.202311515808105,-12.14989185333252,-16.891218185424805,-17.080764770507812,-13.956572532653809,-19.725479125976562,-18.038976669311523,-15.392684936523438,-11.299180030822754,-14.58491039276123,-20.892690658569336,-14.123866081237793,-20.758859634399414,-19.501880645751953,-17.193950653076172,-12.332425117492676,-17.378625869750977,-16.778886795043945,-14.82327938079834,-10.738389015197754,-14.378520965576172,-13.267608642578125,-12.881683349609375,-19.54895782470703,-11.84992790222168,-16.790557861328125,-10.659564018249512,-11.128350257873535,-8.975659370422363,-12.767144203186035,-19.084575653076172,-9.507925033569336,-12.773037910461426,-11.25775146484375,-12.329601287841797,-9.940364837646484,-16.32246971130371,-16.80711555480957,-12.41993522644043,-7.297228813171387,-13.841915130615234,-16.383533477783203,-14.422185897827148,-20.754369735717773,-14.703393936157227,-13.239107131958008,-11.892366409301758,-16.38741111755371,-14.008801460266113,-15.933466911315918,-21.888076782226562,-16.57621955871582,-13.199074745178223,-10.590221405029297,-13.367746353149414,-16.739105224609375,-13.58956527709961,-21.844812393188477,-14.88764762878418,-12.916837692260742,-9.369011878967285,-14.147907257080078,-17.372970581054688,-10.317099571228027,-21.595382690429688,-17.79392433166504,-11.594415664672852,-7.260678768157959,-14.278694152832031,-22.131067276000977,-12.320135116577148,-22.039594650268555,-17.875654220581055,-11.878447532653809,-11.844539642333984,-17.38319969177246,-22.24115562438965,-8.244424819946289,-22.04078483581543,-16.668190002441406,-14.191757202148438,-11.814116477966309,-19.43049430847168,-13.905131340026855,-11.27036190032959,-22.009788513183594,-20.65338706970215,-12.261345863342285,-11.376721382141113,-17.98446273803711,-21.206035614013672,-11.932910919189453,-22.424091339111328,-20.071617126464844,-8.787639617919922,-11.180164337158203,-19.956125259399414,-12.129172325134277,-14.659704208374023,-22.210224151611328,-21.430606842041016,-8.519543647766113,-7.477069854736328,-16.726646423339844,-15.263248443603516,-17.238998413085938,-21.45844841003418,-18.410884857177734,-9.158807754516602,-9.714812278747559,-13.466148376464844,-14.79997730255127,-17.285114288330078,-21.175987243652344,-18.44448471069336,-11.254800796508789,-13.623011589050293,-11.212778091430664,-18.448713302612305,-16.831817626953125,-16.833751678466797,-12.991988182067871,-8.266953468322754,-9.40125560760498,-19.813518524169922,-12.996569633483887,-14.612951278686523,-14.126103401184082,-20.02809715270996,-8.084576606750488,-14.466560363769531,-19.89961051940918,-9.90285587310791,-11.204371452331543,-16.95503807067871,-13.001684188842773,-8.950884819030762,-11.68678092956543,-17.039812088012695,-7.981232166290283,-9.543214797973633,-14.572126388549805,-19.738441467285156,-6.961792945861816,-15.040239334106445,-22.08146095275879,-11.601741790771484,-12.23136043548584,-21.030963897705078,-12.383614540100098,-8.914108276367188,-16.73685073852539,-20.505733489990234,-9.926959037780762,-6.860135078430176,-12.225301742553711,-14.314013481140137,-11.413073539733887,-14.880154609680176,-19.093605041503906,-11.632357597351074,-11.620287895202637,-14.38658332824707,-16.180086135864258,-16.205223083496094,-13.810834884643555,-15.099931716918945,-15.912131309509277,-9.844685554504395],\"type\":\"scatter3d\",\"scene\":\"scene2\"},{\"x\":[0.011806786060333252,2.1886587142944336,-9.099238395690918,-8.85710334777832,-9.265049934387207,-8.872499465942383,-10.00236701965332,0.1519070863723755,-6.143335342407227,-6.535086154937744,-11.825822830200195,-9.65233325958252,-9.065035820007324,-5.194889068603516,4.799633502960205,-16.199234008789062,-15.580761909484863,-4.426505088806152,-18.809131622314453,-7.516801357269287,-15.329566955566406,9.941954612731934,-22.130159378051758,-21.890317916870117,-21.383731842041016,-22.918718338012695,-22.486146926879883,-21.6195068359375,-12.216117858886719,-19.653520584106445,-15.210214614868164,-18.576387405395508,-16.025562286376953,-15.471786499023438,-21.105806350708008,-4.017490386962891,-9.931680679321289,-16.65313148498535,-12.681076049804688,-16.04901123046875,-17.108789443969727,-15.922410011291504,-16.30854034423828,-7.767202377319336,-15.462037086486816,-15.08609676361084,-15.709738731384277,-13.466136932373047,-19.889617919921875,-11.532066345214844,-15.524236679077148,-13.690038681030273,-20.043912887573242,-9.581549644470215,-14.641349792480469,-17.757068634033203,-13.986883163452148,-19.096092224121094,-17.924222946166992,-18.122880935668945,-12.472773551940918,-13.267616271972656,-12.944595336914062,-12.196105003356934,-15.396886825561523,-11.67426586151123,-15.015233039855957,-10.231704711914062,-8.671381950378418,-8.930006980895996,-9.708792686462402,-7.168385982513428,-6.891704082489014,-6.65900993347168,0.017735719680786133,-9.093600273132324,-8.893464088439941,-6.750549793243408,-4.75700044631958,-6.718394756317139,-4.139320373535156,-4.520118713378906,-4.1962738037109375,-4.130518913269043,-4.011469841003418,-2.4781599044799805,-1.3173571825027466,-0.4918220341205597,-1.7839434146881104,-2.459535598754883,-0.27360111474990845,-1.1399497985839844,0.9115304350852966,2.0213165283203125,2.094329595565796,1.0990691184997559,0.4584689140319824,2.179555654525757,1.6248536109924316,4.736754417419434,4.711562633514404,4.651486396789551,7.498781204223633,3.3050239086151123,4.750021457672119,4.453776836395264,6.601629734039307,6.78271484375,7.634925842285156,5.965549468994141,7.525561809539795,6.918794631958008,7.605201244354248,9.420818328857422,10.937475204467773,10.88056468963623,8.073741912841797,10.728281021118164,10.032767295837402,10.50898551940918,14.249003410339355,12.908685684204102,13.851920127868652,8.877395629882812,15.088791847229004,15.542284965515137,13.786979675292969,13.994527816772461,16.310461044311523,17.046138763427734,20.634248733520508,21.99803924560547,22.796960830688477,16.946195602416992,8.296854972839355,23.6102294921875,15.865652084350586,17.995866775512695,19.395954132080078,24.335912704467773,23.75113296508789,23.32184410095215,18.683683395385742,8.656816482543945,10.908413887023926,12.667688369750977,6.406490802764893,17.627347946166992,21.97532844543457,18.721134185791016,18.078567504882812,13.264726638793945,16.028167724609375,18.837478637695312,17.111135482788086,23.626909255981445,22.216243743896484,16.74164390563965,17.18992805480957,22.94251823425293,22.030366897583008,7.176625728607178,24.084871292114258,25.10782814025879,22.986391067504883,23.794769287109375,25.396411895751953,24.667325973510742,24.29530143737793,26.94157600402832,28.32481575012207,25.64777374267578,26.488840103149414,28.005861282348633,28.079837799072266,20.884361267089844,21.345388412475586,23.88031005859375,9.637925148010254,20.70842933654785,13.623218536376953,25.080780029296875,21.57094383239746,14.67203140258789,14.31026840209961,11.84571361541748,22.832094192504883,12.365756034851074,16.319095611572266,3.6009697914123535,-8.796599388122559,-7.130743026733398,7.682558059692383,-0.044826388359069824,-0.3278449475765228,-8.414183616638184],\"y\":[-8.86697006225586,15.592146873474121,-4.4899115562438965,10.680505752563477,-0.1133381724357605,11.508477210998535,-14.430254936218262,-5.531449794769287,-9.489623069763184,-3.8031325340270996,-21.708383560180664,-10.37486457824707,-0.9111011028289795,-13.687077522277832,17.029136657714844,0.2200106382369995,-8.880483627319336,-11.590506553649902,-19.104446411132812,-5.950206756591797,-9.78843879699707,-1.2946687936782837,-16.053815841674805,-3.4973878860473633,-11.380120277404785,-6.09021520614624,5.244511127471924,-4.234585762023926,15.833696365356445,-14.392278671264648,0.18704989552497864,-0.5582767724990845,-8.83676528930664,-12.309307098388672,-0.8720299005508423,-1.3074045181274414,-12.374272346496582,-1.3963611125946045,-2.988217830657959,-2.2786078453063965,8.164755821228027,6.5402374267578125,-0.7674134373664856,3.593109369277954,-3.661022186279297,0.7975600957870483,-2.4200339317321777,-8.739936828613281,-3.343604564666748,-15.362300872802734,-7.936848163604736,-14.83145809173584,-7.70313024520874,4.3518900871276855,-2.0722012519836426,-13.210149765014648,-27.115867614746094,8.355412483215332,-16.694433212280273,-10.520997047424316,-1.2626407146453857,6.304828643798828,-18.139402389526367,-23.51779556274414,10.454695701599121,-7.170926094055176,-1.705741047859192,-6.8270182609558105,8.97368335723877,-10.259017944335938,-13.856932640075684,1.072559118270874,1.4728968143463135,2.66843318939209,4.279514312744141,-4.568911552429199,-2.955484390258789,-3.5631566047668457,3.6928720474243164,-8.461658477783203,7.914061546325684,-3.317049980163574,6.617530345916748,-10.373788833618164,0.5335791110992432,-7.191281318664551,-10.77173137664795,4.886993885040283,5.575136661529541,4.308228492736816,-12.058821678161621,-2.8961963653564453,-6.593384265899658,-8.181095123291016,10.101518630981445,13.64233112335205,8.779411315917969,-12.758848190307617,-10.376962661743164,-3.402254104614258,-3.956021308898926,11.118368148803711,14.122626304626465,12.48015022277832,-6.382872104644775,-8.73831844329834,-13.587509155273438,-1.9025242328643799,10.13593864440918,8.621113777160645,-1.8096064329147339,0.6807374954223633,-2.270777702331543,4.958028316497803,-12.558088302612305,9.317147254943848,-1.3607449531555176,6.897121906280518,-12.083970069885254,-1.9633235931396484,-10.153694152832031,-23.241130828857422,3.8374123573303223,5.878483295440674,-2.9524283409118652,-8.454397201538086,-9.896102905273438,3.609375,-10.49698257446289,-3.394570827484131,5.833558082580566,2.115302801132202,-4.16970157623291,-12.421812057495117,-8.738434791564941,-15.090312957763672,-13.697726249694824,-5.754438400268555,-3.295975685119629,7.408626079559326,-1.242543339729309,-11.150774002075195,-5.101711273193359,-20.715957641601562,-7.330645561218262,-13.698873519897461,6.355902671813965,-3.2709555625915527,-4.819311618804932,10.921152114868164,-6.385590076446533,6.121955871582031,-23.309127807617188,-8.63926887512207,-6.754761219024658,5.107144355773926,-8.651223182678223,-0.38412776589393616,8.925297737121582,-18.619956970214844,-0.998619794845581,2.944291591644287,-3.0205585956573486,3.031693458557129,-22.749027252197266,8.793989181518555,-20.142417907714844,-5.20012903213501,-0.2526915669441223,3.4185264110565186,-21.86388397216797,0.21478158235549927,-2.4371185302734375,-28.511781692504883,6.29286527633667,12.875429153442383,-5.3935675621032715,-2.748124122619629,-7.2693939208984375,7.126711845397949,-8.44060230255127,-2.048219680786133,5.830047607421875,-0.5264061093330383,-13.497340202331543,-4.286334991455078,6.467896461486816,-20.56372833251953,5.321437358856201,-5.623359680175781,-4.91611909866333,-0.8891168832778931,-12.649359703063965,-0.848222017288208,-2.0327816009521484,-6.8011794090271],\"z\":[-17.672435760498047,-13.917153358459473,-13.400753021240234,-11.60412883758545,-15.214212417602539,-15.125798225402832,-11.55693531036377,-11.66321849822998,-20.458606719970703,-16.73328971862793,-8.616427421569824,-18.660818099975586,-21.16628074645996,-8.096784591674805,-10.97719669342041,-19.40483856201172,-14.123421669006348,-11.668761253356934,-18.216760635375977,-19.442739486694336,-8.147112846374512,-12.249361038208008,-19.96617889404297,-17.04372215270996,-11.163717269897461,-19.905654907226562,-21.50262451171875,-10.921767234802246,-10.712611198425293,-16.905126571655273,-16.816204071044922,-14.04489517211914,-19.742206573486328,-17.65919303894043,-15.823837280273438,-10.463199615478516,-14.38636302947998,-20.990020751953125,-13.923094749450684,-20.71912384033203,-19.81049919128418,-17.128704071044922,-11.944942474365234,-17.012908935546875,-16.848522186279297,-14.502432823181152,-10.345273971557617,-14.070168495178223,-13.376119613647461,-12.386646270751953,-19.532119750976562,-11.425638198852539,-16.68644142150879,-9.432454109191895,-11.551678657531738,-8.941436767578125,-12.43460750579834,-19.376874923706055,-9.546629905700684,-12.659598350524902,-9.800882339477539,-11.196745872497559,-9.160825729370117,-16.27924919128418,-16.962482452392578,-12.754372596740723,-7.0716400146484375,-13.913344383239746,-15.903851509094238,-14.17753791809082,-21.112077713012695,-14.47424030303955,-12.377707481384277,-11.444470405578613,-15.768390655517578,-14.378890037536621,-16.32941436767578,-22.441059112548828,-16.731367111206055,-13.494973182678223,-10.359177589416504,-13.660602569580078,-16.946353912353516,-13.599095344543457,-22.10972023010254,-14.3948974609375,-12.747422218322754,-9.50876522064209,-14.333752632141113,-17.01917266845703,-10.535623550415039,-21.923795700073242,-17.908723831176758,-11.685356140136719,-6.778285026550293,-14.236592292785645,-22.295846939086914,-12.492883682250977,-22.513713836669922,-17.925024032592773,-11.329383850097656,-11.62457275390625,-16.680862426757812,-22.306406021118164,-8.137235641479492,-22.55356216430664,-17.06488037109375,-14.341909408569336,-12.171854019165039,-19.70802879333496,-14.319222450256348,-11.215780258178711,-22.369754791259766,-20.763444900512695,-12.361804008483887,-11.334506034851074,-18.188413619995117,-21.426233291625977,-12.357935905456543,-22.485780715942383,-19.780014038085938,-7.680880546569824,-11.405465126037598,-20.011533737182617,-11.313166618347168,-14.40700912475586,-22.360340118408203,-21.82480239868164,-8.436300277709961,-7.665311813354492,-16.863656997680664,-14.797205924987793,-17.30410385131836,-22.019058227539062,-18.801544189453125,-8.602546691894531,-8.637845039367676,-13.985946655273438,-14.977883338928223,-16.95530891418457,-21.589229583740234,-18.70222282409668,-11.486567497253418,-13.560174942016602,-11.29361629486084,-18.85987091064453,-16.995975494384766,-17.148054122924805,-12.572033882141113,-8.551830291748047,-8.722787857055664,-20.393835067749023,-13.399991035461426,-14.09653091430664,-14.495959281921387,-19.63143539428711,-7.9682936668396,-14.808627128601074,-20.448719024658203,-9.658726692199707,-11.331267356872559,-16.727779388427734,-12.746427536010742,-8.457121849060059,-11.707048416137695,-16.903759002685547,-8.13014030456543,-9.400056838989258,-14.4518461227417,-19.71108627319336,-6.870561599731445,-15.066901206970215,-22.25823402404785,-11.793007850646973,-12.723052978515625,-21.513582229614258,-12.573726654052734,-8.769783973693848,-16.827863693237305,-20.649255752563477,-9.989943504333496,-7.021822452545166,-12.359458923339844,-13.995522499084473,-11.50511646270752,-15.096027374267578,-19.412500381469727,-11.590665817260742,-12.127763748168945,-14.3117094039917,-15.667795181274414,-15.955750465393066,-13.447203636169434,-15.158443450927734,-15.860258102416992,-8.921279907226562],\"type\":\"scatter3d\",\"scene\":\"scene3\"},{\"x\":[-0.9441204071044922,1.51615571975708,-9.626900672912598,-9.393287658691406,-10.04385757446289,-9.924154281616211,-10.390604972839355,-0.6333893537521362,-7.189803123474121,-7.1817145347595215,-11.702802658081055,-10.540493965148926,-9.88245964050293,-5.547887802124023,4.189674377441406,-16.748727798461914,-16.026887893676758,-4.941211700439453,-19.631378173828125,-8.057624816894531,-15.510202407836914,9.27770709991455,-23.074851989746094,-22.57447052001953,-22.013525009155273,-23.530282974243164,-23.36073112487793,-21.94586181640625,-12.33895206451416,-20.143821716308594,-15.9818754196167,-19.259811401367188,-16.55896759033203,-16.046186447143555,-22.177310943603516,-4.352069854736328,-10.435053825378418,-17.631855010986328,-13.287476539611816,-16.579376220703125,-18.11199378967285,-16.445425033569336,-16.73634147644043,-8.318612098693848,-16.056291580200195,-15.487646102905273,-15.984967231750488,-13.775789260864258,-20.74077033996582,-11.756180763244629,-16.068225860595703,-13.967029571533203,-20.751251220703125,-9.437511444091797,-16.020362854003906,-18.85661506652832,-14.269670486450195,-20.199182510375977,-18.779510498046875,-18.80573844909668,-12.642512321472168,-13.251679420471191,-13.052633285522461,-12.613153457641602,-16.473512649536133,-12.765549659729004,-15.642577171325684,-10.917086601257324,-9.096226692199707,-9.454639434814453,-10.517763137817383,-7.652421951293945,-7.043252944946289,-6.824451446533203,-0.2898707389831543,-9.979219436645508,-9.67596435546875,-7.565698623657227,-5.912757873535156,-7.983609199523926,-4.647628307342529,-5.447636604309082,-5.205587387084961,-4.951862812042236,-4.714407920837402,-2.8446054458618164,-1.8796998262405396,-1.1483001708984375,-2.2952213287353516,-2.9035520553588867,-1.3712656497955322,-1.8739475011825562,0.07025885581970215,1.1228268146514893,1.7789292335510254,0.6607551574707031,-0.40442001819610596,1.3102205991744995,0.749427080154419,3.9268500804901123,4.464890480041504,3.878385543823242,7.263594627380371,2.539515256881714,4.173739433288574,3.6000990867614746,5.4728169441223145,5.716510772705078,6.642543792724609,5.079892635345459,6.41775369644165,6.223755359649658,6.852443218231201,8.583065032958984,9.813029289245605,10.166954040527344,7.478019714355469,10.092151641845703,8.953152656555176,9.748495101928711,13.637181282043457,13.044984817504883,12.933941841125488,8.392496109008789,15.040895462036133,15.094300270080566,12.79298210144043,12.706345558166504,15.116107940673828,15.792876243591309,19.890663146972656,21.64519691467285,21.9388484954834,16.033939361572266,7.156160831451416,23.00371551513672,15.7996826171875,16.954919815063477,18.546384811401367,23.578876495361328,22.7351131439209,22.291698455810547,17.631729125976562,8.06894588470459,10.105877876281738,11.55531120300293,5.424297332763672,16.8670597076416,21.620759963989258,17.956125259399414,17.945173263549805,12.18165111541748,14.725878715515137,18.50389862060547,15.946231842041016,23.19159507751465,21.801774978637695,15.620027542114258,16.083988189697266,22.247617721557617,21.3571834564209,6.608179092407227,23.714073181152344,24.87949562072754,22.501941680908203,23.174402236938477,24.672048568725586,24.309804916381836,23.912912368774414,26.166852951049805,27.931495666503906,25.262958526611328,25.6536922454834,27.123594284057617,27.25222396850586,19.756589889526367,20.24120330810547,23.016944885253906,8.54261302947998,19.630830764770508,12.450531005859375,23.876991271972656,20.47024154663086,14.10309886932373,12.962677001953125,10.84692668914795,21.77735137939453,11.14909553527832,15.125267028808594,2.6044013500213623,-9.31220817565918,-7.958407878875732,7.211572170257568,-1.1044044494628906,-1.1939958333969116,-8.830860137939453],\"y\":[-7.42190408706665,16.447311401367188,-3.7405972480773926,11.814610481262207,1.0854562520980835,13.255864143371582,-13.797426223754883,-4.887017726898193,-7.808629512786865,-2.1298742294311523,-21.975801467895508,-9.29308795928955,1.3002548217773438,-13.898406028747559,17.72579574584961,1.6552895307540894,-7.631467819213867,-11.21142578125,-18.13472557067871,-4.730309963226318,-9.815895080566406,-0.5388712286949158,-14.968225479125977,-1.7806316614151,-10.862717628479004,-4.915446758270264,7.861933708190918,-3.2073378562927246,16.60268783569336,-13.895915031433105,2.1514246463775635,0.7935358285903931,-7.754680156707764,-11.420164108276367,0.5782178640365601,-0.705756664276123,-11.63421630859375,-0.0645909309387207,-2.249284505844116,-0.5131031274795532,9.967455863952637,8.338361740112305,-0.12030249834060669,5.1852593421936035,-2.738337755203247,1.8894792795181274,-1.938279628753662,-8.301612854003906,-2.473440170288086,-14.947406768798828,-6.749783515930176,-14.270676612854004,-6.832926273345947,4.693474769592285,-1.1182268857955933,-13.0471773147583,-26.37949562072754,10.512313842773438,-16.08659553527832,-10.047486305236816,-0.924041748046875,6.996795177459717,-18.347766876220703,-21.946535110473633,12.519478797912598,-6.212032794952393,-1.3856359720230103,-5.758299350738525,10.554931640625,-9.270071983337402,-12.087553024291992,2.5002048015594482,2.1707189083099365,3.2762608528137207,5.47955846786499,-3.580282211303711,-1.9111782312393188,-2.1693432331085205,5.262381553649902,-7.27766752243042,8.811853408813477,-2.765439987182617,8.46751594543457,-9.58170223236084,1.8597848415374756,-6.464931011199951,-9.782065391540527,5.3650288581848145,6.802977085113525,5.708158016204834,-11.55337905883789,-2.164768695831299,-5.019527435302734,-7.101673126220703,10.310371398925781,14.783834457397461,11.08377456665039,-10.020779609680176,-9.56076431274414,-1.6126164197921753,-3.218284845352173,13.532051086425781,15.406652450561523,15.021492004394531,-6.342566967010498,-7.347347259521484,-12.466265678405762,-0.4527473449707031,12.832261085510254,10.560979843139648,-0.6442615985870361,1.4646435976028442,-0.35537827014923096,7.522806167602539,-11.564592361450195,11.732357025146484,0.03926163911819458,8.767717361450195,-10.120315551757812,0.1293419599533081,-8.303237915039062,-23.196258544921875,6.025643348693848,7.742040634155273,-2.459169864654541,-7.446617126464844,-8.423946380615234,5.5235795974731445,-10.350976943969727,-2.3089566230773926,7.625528335571289,3.1724233627319336,-2.3523426055908203,-11.185771942138672,-6.782829284667969,-15.126075744628906,-13.643150329589844,-4.734556674957275,-2.0337376594543457,9.167860984802246,0.5060097575187683,-9.881221771240234,-4.2912397384643555,-20.35643196105957,-6.814423084259033,-12.753079414367676,8.154807090759277,-1.7836413383483887,-3.723123550415039,11.546985626220703,-6.447993278503418,8.021833419799805,-22.46805763244629,-7.739812850952148,-5.532295227050781,6.846658706665039,-8.47506332397461,1.1008124351501465,10.789427757263184,-18.37497901916504,-0.24081602692604065,4.470531463623047,-1.8346993923187256,3.5736660957336426,-22.714263916015625,9.410146713256836,-19.77495765686035,-4.824223041534424,0.8955364227294922,5.913162708282471,-21.71729278564453,0.9685319066047668,-0.5908692479133606,-26.88158416748047,8.355010986328125,15.481048583984375,-4.212375640869141,-2.10158371925354,-6.278573036193848,9.371077537536621,-7.7507243156433105,-1.6032592058181763,6.327201843261719,0.7502043843269348,-12.638945579528809,-3.2340900897979736,8.51163387298584,-19.819562911987305,7.553018093109131,-4.578456878662109,-4.049140453338623,0.3301047086715698,-12.221817016601562,0.5449360013008118,-0.7523909211158752,-6.662257194519043],\"z\":[-17.735015869140625,-13.448823928833008,-13.00917911529541,-11.236903190612793,-15.11137866973877,-15.234768867492676,-11.098491668701172,-10.776044845581055,-20.882823944091797,-17.129392623901367,-7.585601329803467,-18.64905548095703,-22.09695053100586,-6.875823497772217,-10.385005950927734,-19.84933090209961,-14.205677032470703,-10.85512638092041,-18.09403419494629,-19.730493545532227,-7.076602935791016,-11.757604598999023,-19.708091735839844,-16.852128982543945,-10.12869644165039,-19.81942367553711,-22.240493774414062,-10.299383163452148,-10.773969650268555,-16.410438537597656,-17.269081115722656,-13.7501220703125,-19.900558471679688,-17.837764739990234,-15.450912475585938,-9.970273971557617,-13.959236145019531,-21.116226196289062,-13.533047676086426,-21.205907821655273,-19.917152404785156,-17.263093948364258,-11.383939743041992,-17.264789581298828,-16.657733917236328,-14.27463150024414,-9.530890464782715,-13.572969436645508,-12.758524894714355,-11.826436042785645,-19.70000648498535,-10.70348072052002,-16.317319869995117,-9.009264945983887,-10.544933319091797,-7.667409896850586,-11.827200889587402,-19.717519760131836,-8.43416976928711,-11.761190414428711,-9.5757417678833,-10.867533683776855,-8.084785461425781,-16.04143524169922,-17.097736358642578,-11.881935119628906,-5.696957588195801,-13.448652267456055,-16.183826446533203,-13.84946060180664,-21.202041625976562,-14.27680492401123,-12.05699348449707,-10.67684555053711,-16.00925064086914,-13.637056350708008,-15.710200309753418,-22.53611946105957,-16.63722801208496,-12.863579750061035,-9.496870040893555,-12.71749210357666,-16.920698165893555,-13.017876625061035,-22.432697296142578,-14.088253021240234,-12.10722827911377,-8.285118103027344,-13.763914108276367,-17.10379981994629,-9.475852966308594,-22.040281295776367,-18.044265747070312,-10.931529998779297,-5.464169025421143,-13.67583179473877,-23.047832489013672,-13.359248161315918,-22.45294952392578,-18.064247131347656,-10.790420532226562,-12.98492431640625,-16.94395637512207,-23.28205108642578,-6.758763790130615,-22.75537109375,-16.57696533203125,-13.924927711486816,-13.015270233154297,-19.757057189941406,-13.592021942138672,-10.177806854248047,-22.899131774902344,-21.33422088623047,-11.743000030517578,-11.993221282958984,-17.95541000366211,-22.00059700012207,-12.642253875732422,-23.101917266845703,-20.25923728942871,-6.68026065826416,-11.702371597290039,-20.228710174560547,-10.815958976745605,-14.069659233093262,-22.514469146728516,-22.23331069946289,-7.215810298919678,-6.928947448730469,-16.9000301361084,-14.777459144592285,-17.360538482666016,-22.377212524414062,-18.888473510742188,-7.644099235534668,-7.684596538543701,-13.286482810974121,-14.71013069152832,-17.202945709228516,-22.291458129882812,-18.69720458984375,-10.661319732666016,-12.723309516906738,-10.312392234802246,-18.4544620513916,-16.932649612426758,-16.88893699645996,-12.257344245910645,-7.081534385681152,-7.584964752197266,-20.536678314208984,-12.608118057250977,-13.899638175964355,-13.786725997924805,-20.139453887939453,-6.597606658935547,-14.465387344360352,-20.475120544433594,-8.66706371307373,-10.469040870666504,-16.874475479125977,-12.210122108459473,-7.295825958251953,-10.544977188110352,-15.761258125305176,-6.73098611831665,-8.266535758972168,-13.92404842376709,-20.439117431640625,-5.312831878662109,-14.539732933044434,-22.71484375,-11.955270767211914,-13.103629112243652,-22.434144973754883,-11.944204330444336,-7.651734352111816,-16.61879539489746,-20.886749267578125,-8.95832633972168,-5.4486541748046875,-11.316987037658691,-13.74590015411377,-10.762247085571289,-14.593231201171875,-19.5413875579834,-10.95100212097168,-12.642922401428223,-13.878374099731445,-15.62764835357666,-15.87813949584961,-12.753071784973145,-14.943286895751953,-15.763245582580566,-8.138721466064453],\"type\":\"scatter3d\",\"scene\":\"scene4\"},{\"x\":[-10.455419540405273,-9.30109977722168,-8.97603988647461,-9.483251571655273,-9.613130569458008,-9.635416030883789,2.9648799896240234,0.12235897779464722,-11.665155410766602,-6.100837707519531,-8.982166290283203,-6.702520370483398,-9.486974716186523,-9.597570419311523,-1.282344102859497,-25.211042404174805,-4.976284027099609,-5.564789772033691,-16.71544647216797,-18.854848861694336,-8.069671630859375,5.705002784729004,-22.820825576782227,-21.898710250854492,-22.052536010742188,-21.956863403320312,-21.974550247192383,-22.033857345581055,-18.420684814453125,-19.17350196838379,-14.79985237121582,-9.165548324584961,-19.24418067932129,-22.03158950805664,-15.47355842590332,-11.856097221374512,-13.342019081115723,-13.210040092468262,-13.589963912963867,-15.663366317749023,-6.332381248474121,-7.596292018890381,-12.711228370666504,-15.22080135345459,-12.265975952148438,-3.1543078422546387,-14.728684425354004,-14.578775405883789,-7.415503025054932,-17.707218170166016,-20.315650939941406,-19.80607795715332,-20.784954071044922,-18.376888275146484,-18.524127960205078,-8.639069557189941,-9.982237815856934,-18.734970092773438,-17.62026596069336,-20.837472915649414,-12.523216247558594,-14.198721885681152,-13.879837989807129,-11.2517728805542,0.13948720693588257,-5.521194934844971,-2.07124662399292,-9.057971954345703,-10.864212989807129,-11.025213241577148,-10.246598243713379,-14.54397964477539,-4.503995895385742,-4.5817718505859375,-8.805007934570312,-7.5219316482543945,-8.916471481323242,-5.804137229919434,-4.400664806365967,-12.234721183776855,-12.34164810180664,-4.0599565505981445,-4.234678268432617,-4.183086395263672,-3.4075798988342285,-2.160956382751465,-2.389040470123291,-1.9145925045013428,-0.39697736501693726,-2.308276653289795,-0.9648013710975647,-0.5635040998458862,0.7572604417800903,1.0394368171691895,1.77168607711792,2.484534740447998,0.39520275592803955,2.4846293926239014,2.173919200897217,4.030892848968506,6.384257793426514,6.412193298339844,4.409634113311768,3.4153614044189453,3.5573909282684326,4.978020668029785,7.687458515167236,3.7831406593322754,4.585782527923584,6.341904640197754,6.814215660095215,6.8645710945129395,8.382282257080078,-9.146239280700684,10.054545402526855,3.6610145568847656,10.396356582641602,9.629619598388672,12.070759773254395,10.0637788772583,12.066689491271973,9.858957290649414,8.65571117401123,10.982294082641602,20.59551239013672,10.72222900390625,8.152831077575684,15.646319389343262,13.152583122253418,13.161494255065918,21.223949432373047,21.739625930786133,22.16927719116211,4.2288818359375,16.87273406982422,22.834659576416016,15.70798110961914,21.9990291595459,23.426511764526367,17.772388458251953,15.34514045715332,20.52154541015625,18.787687301635742,4.885996341705322,11.152395248413086,26.462045669555664,8.714685440063477,21.116619110107422,21.522199630737305,15.254632949829102,8.924299240112305,18.32993507385254,18.515750885009766,16.333675384521484,11.385481834411621,17.63333511352539,21.271625518798828,18.007951736450195,17.695877075195312,11.801332473754883,22.145530700683594,23.679433822631836,24.07794952392578,24.320968627929688,24.037349700927734,24.234548568725586,23.820592880249023,24.258989334106445,23.963497161865234,27.481983184814453,28.563146591186523,27.764198303222656,26.76980972290039,28.312868118286133,27.56943702697754,17.383241653442383,21.53424835205078,13.003829956054688,14.504753112792969,23.95606231689453,21.638347625732422,21.378334045410156,20.031023025512695,32.91828536987305,33.64448165893555,33.04274368286133,32.536094665527344,20.64494514465332,32.52186584472656,14.693987846374512,13.454705238342285,14.963476181030273,13.614128112792969,13.557291030883789,14.506073951721191,25.60659408569336],\"y\":[5.094614028930664,-8.071680068969727,-5.152836322784424,2.966507911682129,-4.1117987632751465,-7.897293567657471,0.3661912679672241,15.379729270935059,11.51009464263916,-0.17118442058563232,-12.43246078491211,-9.03164005279541,-8.766023635864258,4.162210464477539,10.088881492614746,-3.2408525943756104,2.771810531616211,-20.127941131591797,5.569021701812744,1.1040643453598022,-11.229574203491211,6.857378959655762,2.9396491050720215,-5.700943946838379,-6.328134536743164,-4.5701212882995605,2.4538865089416504,-3.0847434997558594,14.32257080078125,-4.151061534881592,0.24465632438659668,-19.700037002563477,20.421003341674805,9.638753890991211,-13.333078384399414,20.258907318115234,-3.05307674407959,-11.686972618103027,-9.210338592529297,-4.251838207244873,0.3596814274787903,5.044395923614502,15.260150909423828,-8.478324890136719,-6.304026126861572,-6.958327770233154,-3.6526479721069336,-1.38405179977417,-12.982664108276367,19.8245792388916,-0.6831705570220947,-11.488106727600098,5.358222007751465,-8.391788482666016,3.7331409454345703,-12.55683708190918,11.832039833068848,-0.42409569025039673,-15.022733688354492,-6.8409929275512695,1.5361807346343994,-5.644287109375,-12.88591194152832,-5.053438663482666,18.95945167541504,-6.809516906738281,1.0904332399368286,-3.5599606037139893,-4.076498508453369,-11.406082153320312,7.845511436462402,-3.7048051357269287,-4.164924621582031,-0.2354055643081665,-6.0381574630737305,-3.0660033226013184,1.2913082838058472,9.13876724243164,-5.446284770965576,-10.692743301391602,-9.731874465942383,-6.543195724487305,2.3858370780944824,-2.8375489711761475,-1.8405275344848633,-1.7908109426498413,-7.719449043273926,-6.209672927856445,-7.9435319900512695,4.330625534057617,-5.826551914215088,2.7858495712280273,-2.5575525760650635,-1.6051874160766602,-1.2235714197158813,-4.559910774230957,4.110281467437744,-2.790219306945801,6.880682468414307,-0.1396644115447998,-10.273331642150879,2.583834171295166,-6.8342108726501465,-1.339749813079834,-0.6964607238769531,4.522888660430908,-5.286944389343262,-6.097973823547363,8.039712905883789,-6.820623874664307,1.7517675161361694,-13.652305603027344,-5.223079204559326,14.845840454101562,-10.92182445526123,21.660642623901367,0.34458231925964355,2.2058334350585938,-11.202579498291016,2.6051666736602783,5.075376033782959,-14.621173858642578,7.874601364135742,-6.6117401123046875,-0.4100213646888733,-6.765418529510498,7.782768726348877,-1.21659255027771,-11.404237747192383,-3.3654403686523438,5.671675682067871,-10.246607780456543,-0.6992355585098267,4.70353364944458,5.330195903778076,-12.319010734558105,-3.317169189453125,-3.8294830322265625,-13.237117767333984,6.465301990509033,-1.0491929054260254,-6.506121635437012,-6.6225433349609375,-10.060223579406738,-4.04221773147583,4.1626458168029785,5.4250006675720215,-4.4225544929504395,-0.3236004710197449,4.452279090881348,-8.012502670288086,-6.771928787231445,-18.307666778564453,10.112089157104492,-7.028125286102295,-6.884742736816406,-11.7693510055542,-12.126180648803711,-10.4716796875,-11.425416946411133,16.982078552246094,-12.26101303100586,-7.305885314941406,10.06862735748291,-11.136031150817871,13.085342407226562,-7.8691325187683105,8.340821266174316,-3.4601097106933594,-7.1384077072143555,-13.684693336486816,-13.626218795776367,6.997519493103027,-24.42592430114746,13.938440322875977,-6.990461349487305,-1.2478123903274536,-0.12549680471420288,-3.0529913902282715,18.260900497436523,-1.5082364082336426,7.580647945404053,5.6090216636657715,-2.0372073650360107,-3.0140187740325928,-13.799776077270508,4.780571460723877,-20.934518814086914,4.186878204345703,-7.586190223693848,-11.340622901916504,-6.46981143951416,-2.3805041313171387,3.707005262374878,-5.688136100769043,0.8369512557983398],\"z\":[-16.996646881103516,-11.350699424743652,-10.628488540649414,-14.031198501586914,-16.134008407592773,-12.933561325073242,-11.149883270263672,-17.905025482177734,-14.199339866638184,-15.09277057647705,-7.9932169914245605,-13.974998474121094,-16.048460006713867,-11.104045867919922,-14.094034194946289,-14.891722679138184,-16.29985809326172,-11.856626510620117,-19.712207794189453,-21.678462982177734,-8.426654815673828,-8.925472259521484,-16.982511520385742,-17.49553108215332,-10.356161117553711,-17.95083236694336,-18.810569763183594,-10.727133750915527,-9.51156234741211,-17.439313888549805,-14.319023132324219,-9.354300498962402,-21.615406036376953,-21.765560150146484,-8.097875595092773,-12.521517753601074,-19.38620948791504,-14.853408813476562,-15.948637008666992,-13.816902160644531,-16.201751708984375,-16.18068504333496,-10.100296974182129,-14.334686279296875,-13.99728775024414,-10.925077438354492,-11.640653610229492,-17.068592071533203,-16.826589584350586,-8.170711517333984,-14.590104103088379,-13.36884880065918,-14.792916297912598,-7.075708389282227,-11.761982917785645,-6.202846527099609,-13.960954666137695,-19.987464904785156,-7.699214458465576,-12.123620986938477,-8.063926696777344,-9.190423965454102,-8.495488166809082,-18.139453887939453,-21.16191864013672,-10.940285682678223,-6.834974765777588,-8.164680480957031,-9.28976821899414,-8.51367473602295,-19.09231948852539,-19.851713180541992,-13.668243408203125,-9.550786018371582,-11.70740795135498,-12.962177276611328,-14.485614776611328,-19.986303329467773,-16.881086349487305,-10.449769973754883,-12.065019607543945,-8.466766357421875,-16.91914176940918,-11.996097564697266,-21.831146240234375,-17.247047424316406,-11.407322883605957,-9.949462890625,-12.72227668762207,-18.95493507385254,-8.964386940002441,-22.394771575927734,-17.03335952758789,-14.489051818847656,-10.088449478149414,-12.756422996520996,-20.852235794067383,-12.919557571411133,-22.52515411376953,-14.428668975830078,-11.30366039276123,-7.405567646026611,-11.324512481689453,-18.05819320678711,-8.34613037109375,-20.361818313598633,-16.793537139892578,-14.369295120239258,-8.073674201965332,-20.05769157409668,-13.30602741241455,-8.82087230682373,-16.97625160217285,-19.86006736755371,-11.281855583190918,-10.21360969543457,-14.291190147399902,-17.299814224243164,-8.454599380493164,-19.95167350769043,-19.924057006835938,-8.897546768188477,-10.576227188110352,-21.315319061279297,-12.323763847351074,-12.539640426635742,-18.267484664916992,-22.091930389404297,-9.034512519836426,-9.39879322052002,-14.71565055847168,-12.728862762451172,-17.169660568237305,-17.227272033691406,-16.845523834228516,-6.009519577026367,-10.073101997375488,-9.021553039550781,-11.386667251586914,-14.63893985748291,-21.19963836669922,-15.293595314025879,-9.603708267211914,-11.514859199523926,-11.803291320800781,-16.76348876953125,-19.61709213256836,-20.907960891723633,-19.791324615478516,-9.496604919433594,-11.780537605285645,-12.593667030334473,-13.569448471069336,-12.150337219238281,-17.392425537109375,-17.161556243896484,-8.626873016357422,-17.617210388183594,-16.178178787231445,-11.60416316986084,-14.486287117004395,-17.87586212158203,-15.427321434020996,-8.887928009033203,-14.201027870178223,-16.03177261352539,-13.318809509277344,-8.772443771362305,-20.68233299255371,-15.35196590423584,-12.916544914245605,-19.797988891601562,-14.456881523132324,-12.571146011352539,-9.006689071655273,-19.704587936401367,-12.702125549316406,-11.694761276245117,-11.587154388427734,-18.35675621032715,-14.302657127380371,-9.30003547668457,-17.026180267333984,-14.636601448059082,-12.425086975097656,-18.301448822021484,-11.955982208251953,-11.732348442077637,-8.73105239868164,-17.155929565429688,-16.785463333129883,-8.864651679992676,-16.130983352661133,-20.138906478881836,-13.415294647216797,-9.344849586486816],\"type\":\"scatter3d\",\"scene\":\"scene5\"},{\"x\":[-10.910853385925293,-9.002041816711426,-8.21013069152832,-9.371407508850098,-9.759451866149902,-9.594443321228027,3.5838663578033447,-0.3477035164833069,-11.666154861450195,-6.236826419830322,-7.605926513671875,-6.6018781661987305,-9.703500747680664,-9.19209098815918,-1.2320072650909424,-24.932697296142578,-5.224374771118164,-5.040966987609863,-17.589305877685547,-19.58373260498047,-7.268547058105469,6.958391189575195,-22.344318389892578,-22.188440322875977,-21.057437896728516,-21.93214988708496,-22.746028900146484,-20.992599487304688,-17.76810646057129,-19.01495361328125,-14.737367630004883,-8.393132209777832,-20.268917083740234,-22.467937469482422,-14.64463996887207,-12.939123153686523,-13.733556747436523,-13.415596008300781,-13.555171012878418,-15.47518539428711,-6.833299160003662,-7.991456031799316,-12.299362182617188,-14.822718620300293,-12.129374504089355,-2.2319207191467285,-14.218615531921387,-14.876277923583984,-7.13046932220459,-16.09156608581543,-20.097862243652344,-19.425872802734375,-20.694639205932617,-17.430252075195312,-18.256698608398438,-7.52970552444458,-9.891427993774414,-19.161418914794922,-16.140321731567383,-20.25877571105957,-12.559203147888184,-13.670421600341797,-13.166556358337402,-11.666399002075195,-0.6273038387298584,-4.932466983795166,-0.9037109613418579,-8.150877952575684,-9.959086418151855,-9.91952133178711,-10.571600914001465,-15.104300498962402,-4.3415727615356445,-3.850381374359131,-7.735261917114258,-7.326845645904541,-8.117938041687012,-6.435409069061279,-4.471583366394043,-11.740557670593262,-11.82766056060791,-3.150535821914673,-4.452954292297363,-3.512080192565918,-3.571636199951172,-2.6554574966430664,-1.6474488973617554,-0.9734674692153931,-1.3688420057296753,-2.778266191482544,0.26544666290283203,-1.3276724815368652,0.4186311960220337,1.6736775636672974,3.0864615440368652,1.4244821071624756,-0.2545466423034668,1.5399644374847412,1.325730800628662,4.080564975738525,6.889763355255127,7.3366379737854,5.422438621520996,2.948495864868164,4.652987480163574,3.762341260910034,7.928895950317383,3.7482733726501465,5.968136787414551,5.92043399810791,7.204464912414551,8.245659828186035,7.981942176818848,-9.918882369995117,10.67615032196045,4.578643798828125,10.546290397644043,9.18567180633545,13.009730339050293,9.387590408325195,11.641352653503418,11.160406112670898,10.13437557220459,10.05109977722168,19.572895050048828,10.034270286560059,7.684260845184326,14.77601146697998,13.501679420471191,14.143631935119629,21.175241470336914,22.32851791381836,21.974647521972656,3.931413412094116,17.560155868530273,23.502838134765625,16.180593490600586,22.581153869628906,23.97368621826172,18.30098533630371,14.789576530456543,20.57954216003418,19.39794158935547,6.236505508422852,11.723562240600586,26.17024040222168,8.068216323852539,20.849271774291992,20.652149200439453,16.359004974365234,9.612405776977539,18.825698852539062,18.667705535888672,16.796375274658203,11.487863540649414,17.273582458496094,22.575878143310547,18.342742919921875,17.843685150146484,12.177507400512695,22.116849899291992,24.855995178222656,23.832672119140625,25.43625259399414,24.757152557373047,24.053945541381836,24.02633285522461,25.65274429321289,23.544055938720703,27.66156768798828,27.68271827697754,27.74363136291504,26.925830841064453,27.762653350830078,29.175153732299805,17.326576232910156,21.696704864501953,13.706902503967285,15.383243560791016,23.61638641357422,21.48125648498535,22.431533813476562,19.90839385986328,33.11193084716797,32.96754837036133,33.2030143737793,33.19357681274414,20.988454818725586,34.17165756225586,14.116085052490234,13.316728591918945,15.765302658081055,13.811553001403809,13.150778770446777,14.66005802154541,26.661325454711914],\"y\":[4.926515579223633,-7.003993511199951,-3.9751129150390625,3.569312572479248,-2.714611768722534,-7.612943172454834,1.1988742351531982,15.201391220092773,12.489635467529297,0.38713616132736206,-11.681933403015137,-7.706179141998291,-8.644135475158691,4.880457878112793,10.97052001953125,-2.064715623855591,3.1852736473083496,-20.02345085144043,5.92514181137085,1.2644920349121094,-10.360697746276855,8.625320434570312,3.358546733856201,-5.64293909072876,-6.09058141708374,-4.299715995788574,1.9281680583953857,-2.2414093017578125,15.708075523376465,-2.999417304992676,0.853026270866394,-19.0113468170166,20.02994728088379,9.596046447753906,-12.515993118286133,20.150218963623047,-2.531639814376831,-11.160950660705566,-8.717774391174316,-3.1457266807556152,0.8726561069488525,5.328259468078613,16.266813278198242,-7.6524658203125,-5.05024528503418,-6.448895454406738,-3.308846950531006,-0.3659708499908447,-12.113574981689453,20.92083740234375,0.36911869049072266,-11.080514907836914,6.28985595703125,-6.732547283172607,5.138704776763916,-11.584263801574707,13.023958206176758,-0.41571223735809326,-13.599169731140137,-5.666833400726318,2.3105010986328125,-4.504192352294922,-11.711186408996582,-4.123935699462891,18.833847045898438,-6.199091911315918,2.7427854537963867,-2.376450300216675,-2.942845582962036,-10.026017189025879,8.025003433227539,-3.715705633163452,-4.425176620483398,0.7101067304611206,-5.004245758056641,-2.0541434288024902,2.418933153152466,9.540566444396973,-5.210652828216553,-9.878595352172852,-8.695150375366211,-5.687780380249023,2.1812360286712646,-1.4407540559768677,-2.285043239593506,-1.6061378717422485,-7.117040634155273,-5.133145332336426,-8.13151741027832,4.074159622192383,-4.35631799697876,2.7935571670532227,-2.3349101543426514,-0.8565546274185181,0.24768689274787903,-4.996932029724121,4.159598350524902,-3.1458964347839355,6.6522603034973145,0.19594994187355042,-8.438206672668457,4.270862102508545,-5.852217674255371,-0.9129663705825806,0.3244873881340027,4.071831226348877,-5.204709529876709,-5.799388408660889,9.783294677734375,-7.101807594299316,2.7138195037841797,-11.78724193572998,-5.526140213012695,14.295614242553711,-9.761748313903809,22.6653995513916,0.8750056028366089,2.7562482357025146,-10.045994758605957,1.910660982131958,5.084369659423828,-12.719263076782227,9.112471580505371,-6.22707462310791,-0.46575236320495605,-7.050283908843994,7.768106460571289,-1.5330272912979126,-9.887748718261719,-2.0108814239501953,5.799091339111328,-9.441683769226074,0.031302303075790405,4.497774124145508,6.6824798583984375,-11.551786422729492,-1.9693408012390137,-2.9633212089538574,-11.982311248779297,7.239897727966309,-1.4534485340118408,-5.955733776092529,-5.5106201171875,-9.3399019241333,-2.933236598968506,4.320022106170654,5.526146411895752,-4.843603134155273,-0.6620476245880127,6.11522912979126,-7.223627090454102,-5.5599870681762695,-16.93937873840332,11.28200912475586,-7.109222888946533,-6.771988868713379,-10.092435836791992,-11.857779502868652,-9.884170532226562,-10.287543296813965,17.903610229492188,-10.839648246765137,-7.28371000289917,11.674161911010742,-10.246357917785645,13.954142570495605,-7.381483554840088,9.836103439331055,-2.3804590702056885,-6.6237101554870605,-13.820592880249023,-13.09598159790039,7.635515213012695,-24.59776496887207,15.73747444152832,-7.46177864074707,-0.6391721367835999,1.121042013168335,-2.041452407836914,18.60624885559082,-1.2641987800598145,9.23492431640625,5.84442663192749,-1.2857506275177002,-3.0898566246032715,-13.065750122070312,6.020049095153809,-20.203968048095703,5.945228576660156,-7.808172702789307,-11.655110359191895,-5.278439998626709,-2.4075000286102295,3.6553142070770264,-5.468319416046143,2.4229679107666016],\"z\":[-16.912092208862305,-12.087265968322754,-11.458985328674316,-14.498625755310059,-16.037931442260742,-13.885567665100098,-12.080451011657715,-18.086912155151367,-14.900158882141113,-15.307235717773438,-9.603419303894043,-14.589422225952148,-16.246864318847656,-12.47943115234375,-14.132856369018555,-14.698884010314941,-16.103361129760742,-13.171930313110352,-19.749237060546875,-21.75286102294922,-9.505559921264648,-9.502740859985352,-17.210952758789062,-17.162185668945312,-11.038274765014648,-17.647279739379883,-18.582338333129883,-11.378449440002441,-11.224407196044922,-16.605024337768555,-14.618298530578613,-10.584835052490234,-20.88102149963379,-21.0225887298584,-9.666109085083008,-12.466421127319336,-19.624465942382812,-15.517318725585938,-16.84423828125,-14.355780601501465,-16.240442276000977,-16.697044372558594,-11.618415832519531,-13.869606971740723,-14.664558410644531,-11.970271110534668,-12.636380195617676,-17.031513214111328,-16.613542556762695,-8.869558334350586,-13.86650276184082,-13.130910873413086,-15.214262008666992,-6.988080978393555,-10.990245819091797,-8.121275901794434,-13.982654571533203,-19.44032096862793,-7.8140411376953125,-12.723076820373535,-9.029767990112305,-10.877765655517578,-10.166709899902344,-17.67925262451172,-20.90974998474121,-11.772889137268066,-7.996217727661133,-9.531834602355957,-10.015966415405273,-9.545328140258789,-18.646650314331055,-19.324983596801758,-14.561834335327148,-9.857831001281738,-11.725617408752441,-12.747603416442871,-13.74849796295166,-19.880767822265625,-16.705307006835938,-10.580842018127441,-12.154088020324707,-8.817471504211426,-16.675073623657227,-11.544795989990234,-21.37262725830078,-17.1777400970459,-11.961597442626953,-10.318598747253418,-12.214835166931152,-18.874692916870117,-8.771429061889648,-21.96884536743164,-16.916210174560547,-14.174297332763672,-9.838462829589844,-12.191605567932129,-20.550153732299805,-12.410249710083008,-22.009567260742188,-14.327062606811523,-11.748846054077148,-8.498940467834473,-11.668974876403809,-17.9905948638916,-9.408414840698242,-20.00642204284668,-16.722824096679688,-14.459993362426758,-7.889132499694824,-19.39929962158203,-13.331449508666992,-8.32606315612793,-16.932207107543945,-19.784168243408203,-11.287487030029297,-10.249504089355469,-14.645808219909668,-16.873456954956055,-10.168455123901367,-19.440885543823242,-19.600666046142578,-8.333621978759766,-10.466280937194824,-20.88892364501953,-12.001583099365234,-12.117452621459961,-18.32671546936035,-21.382648468017578,-9.435565948486328,-9.606858253479004,-15.299370765686035,-13.67638111114502,-17.166244506835938,-17.115468978881836,-18.4412841796875,-7.552373886108398,-11.47938346862793,-10.867730140686035,-12.389174461364746,-14.284754753112793,-20.6198787689209,-14.981169700622559,-9.34373950958252,-11.907047271728516,-11.146527290344238,-16.808198928833008,-19.031261444091797,-20.207094192504883,-19.857322692871094,-8.506208419799805,-11.830466270446777,-13.0768404006958,-13.954414367675781,-11.102916717529297,-17.30441665649414,-16.80419921875,-8.228078842163086,-16.851661682128906,-15.462605476379395,-11.36954116821289,-14.274056434631348,-18.09834861755371,-15.430587768554688,-9.365127563476562,-14.259856224060059,-15.76597785949707,-13.552444458007812,-9.138467788696289,-19.831348419189453,-15.096658706665039,-12.495195388793945,-19.202129364013672,-14.498095512390137,-12.203577995300293,-8.688376426696777,-19.308259963989258,-12.509592056274414,-11.152591705322266,-11.80030632019043,-17.249340057373047,-13.85983943939209,-8.832322120666504,-15.865525245666504,-14.458707809448242,-11.885618209838867,-17.511520385742188,-11.95676040649414,-11.610614776611328,-9.217714309692383,-16.894899368286133,-16.807357788085938,-9.256437301635742,-15.807241439819336,-19.42331314086914,-13.5047025680542,-8.931459426879883],\"type\":\"scatter3d\",\"scene\":\"scene6\"},{\"x\":[-10.737552642822266,-8.56570816040039,-8.616559982299805,-9.184419631958008,-9.211383819580078,-8.991487503051758,3.318899393081665,-0.14716118574142456,-11.316515922546387,-5.886094570159912,-8.405289649963379,-6.16893196105957,-9.216211318969727,-9.381108283996582,-1.481616497039795,-25.21072006225586,-4.883673667907715,-5.231758117675781,-16.41387367248535,-18.72882080078125,-7.371273040771484,6.001537799835205,-22.894655227661133,-21.708526611328125,-21.423166275024414,-22.193592071533203,-22.214130401611328,-21.702543258666992,-18.10599136352539,-19.15134048461914,-14.428717613220215,-8.562851905822754,-19.672481536865234,-22.34549903869629,-14.69607162475586,-11.8831787109375,-13.147109031677246,-12.767655372619629,-13.259454727172852,-15.327216148376465,-5.86055850982666,-7.540283203125,-12.376483917236328,-14.747796058654785,-11.823662757873535,-2.7993569374084473,-14.427383422851562,-14.376547813415527,-7.182828903198242,-17.10223960876465,-20.06497573852539,-19.62441062927246,-20.65950584411621,-17.717496871948242,-18.023052215576172,-7.957493782043457,-10.15498161315918,-19.00709342956543,-16.830547332763672,-20.305116653442383,-12.201112747192383,-13.683481216430664,-13.25641918182373,-11.357168197631836,-0.21800994873046875,-4.756441593170166,-1.6546599864959717,-8.304380416870117,-10.494526863098145,-10.426077842712402,-10.67800235748291,-14.650912284851074,-4.230545520782471,-4.104921340942383,-8.545551300048828,-7.399621486663818,-8.784385681152344,-6.0278215408325195,-4.3965301513671875,-11.495579719543457,-11.702692985534668,-3.011756658554077,-4.131524562835693,-3.867950677871704,-3.713054656982422,-2.033825397491455,-1.9072155952453613,-1.2647910118103027,-0.7694113850593567,-2.3632144927978516,-0.4403763711452484,-0.8528110980987549,1.1233811378479004,1.2285432815551758,2.282195806503296,2.0760817527770996,0.3276660442352295,2.104438304901123,1.8062636852264404,4.28830623626709,6.9480462074279785,6.940263271331787,4.640531539916992,3.6072776317596436,4.160850524902344,4.812778472900391,7.654763698577881,4.170031547546387,4.940454006195068,6.059507369995117,7.263092994689941,7.679302215576172,8.683218955993652,-9.491549491882324,11.06254768371582,4.397935390472412,10.765178680419922,9.785011291503906,12.46840763092041,9.832893371582031,11.690441131591797,10.785818099975586,8.711530685424805,10.790078163146973,20.33809471130371,10.35622787475586,7.889721393585205,15.177043914794922,14.01365852355957,13.569374084472656,21.53057861328125,22.266294479370117,22.225383758544922,4.0680975914001465,17.520584106445312,23.63780403137207,16.074092864990234,22.586515426635742,23.906679153442383,17.742971420288086,14.910367012023926,20.72001075744629,19.58876609802246,4.989330291748047,11.816575050354004,26.643701553344727,8.56701374053955,20.69765281677246,21.452272415161133,15.709595680236816,9.185309410095215,18.503477096557617,18.951616287231445,16.59261131286621,11.293006896972656,17.79300308227539,22.202150344848633,17.87305450439453,17.779787063598633,12.724248886108398,22.64521598815918,24.195314407348633,24.56769561767578,24.642837524414062,24.248708724975586,24.014144897460938,24.210691452026367,24.465858459472656,23.668630599975586,27.6733341217041,28.203777313232422,27.51677894592285,26.936355590820312,28.07159996032715,27.888277053833008,16.968360900878906,21.739023208618164,13.360565185546875,14.740225791931152,23.451589584350586,21.71695327758789,21.69687271118164,19.538854598999023,33.18912124633789,33.345333099365234,32.853675842285156,32.930030822753906,21.538509368896484,32.87717056274414,14.885661125183105,13.55866813659668,15.619952201843262,13.557595252990723,13.224113464355469,14.782567024230957,26.044496536254883],\"y\":[4.760771751403809,-7.036290168762207,-3.533836603164673,3.520322322845459,-3.6580612659454346,-7.3995137214660645,1.962308645248413,15.168994903564453,12.469825744628906,-0.06506824493408203,-10.026629447937012,-7.9070634841918945,-8.73138427734375,5.730079650878906,10.877791404724121,-2.399409532546997,2.4794552326202393,-18.73295021057129,4.94363260269165,0.903998851776123,-9.736254692077637,9.147765159606934,4.15578556060791,-6.189203262329102,-5.082182884216309,-4.341933727264404,1.493394374847412,-1.4207096099853516,16.60626792907715,-3.524653196334839,0.4309210777282715,-17.96855354309082,19.194822311401367,9.056238174438477,-11.441043853759766,19.176620483398438,-2.6773383617401123,-11.357634544372559,-8.204399108886719,-3.03837251663208,0.05589926242828369,5.25802755355835,16.941938400268555,-7.963255405426025,-5.1547770500183105,-5.4896697998046875,-2.5775327682495117,-1.151535153388977,-12.256597518920898,21.825925827026367,-0.29607707262039185,-10.94924545288086,6.374937534332275,-6.854938507080078,4.115447998046875,-10.142706871032715,12.625581741333008,-0.8648114204406738,-13.304957389831543,-5.295421600341797,2.3762311935424805,-3.696117877960205,-10.716257095336914,-4.7951765060424805,18.400449752807617,-5.719921588897705,3.4019908905029297,-1.5828901529312134,-2.438135862350464,-9.383042335510254,7.650820732116699,-4.109229564666748,-3.543842077255249,0.8220525979995728,-4.689846992492676,-2.363539695739746,2.0813817977905273,9.232198715209961,-5.380369663238525,-9.916194915771484,-8.665715217590332,-5.482277870178223,2.008178949356079,-2.034639596939087,-1.8470923900604248,-2.172010660171509,-6.507531642913818,-4.697596073150635,-8.758585929870605,3.9830803871154785,-4.527324199676514,2.564648151397705,-2.9496896266937256,-0.7668997049331665,0.34851688146591187,-5.748688697814941,3.6739001274108887,-3.71401309967041,6.267018795013428,-0.07685846090316772,-8.63477611541748,4.681340217590332,-5.334707736968994,-1.4383184909820557,1.1577454805374146,2.9541878700256348,-4.876534461975098,-5.828937530517578,9.668083190917969,-7.486204147338867,2.3647732734680176,-12.057053565979004,-5.938080787658691,14.146835327148438,-10.127387046813965,22.775142669677734,1.056725263595581,1.8370991945266724,-8.868707656860352,1.6123745441436768,5.037803649902344,-13.1997652053833,9.403083801269531,-7.088113307952881,-1.247709035873413,-7.452882766723633,7.737442970275879,-2.0648622512817383,-10.062712669372559,-1.8119614124298096,5.968567848205566,-8.555707931518555,-0.21750888228416443,4.54155969619751,7.406342506408691,-10.610312461853027,-1.316091775894165,-1.836031436920166,-11.470193862915039,7.282276153564453,-1.5593689680099487,-6.344922065734863,-5.971705913543701,-8.349032402038574,-3.2816667556762695,4.101276397705078,4.8870439529418945,-4.736514091491699,-1.1087586879730225,5.336233139038086,-6.894662857055664,-5.355217456817627,-17.198680877685547,10.362335205078125,-6.596949577331543,-7.176978588104248,-10.444260597229004,-11.903515815734863,-10.23062801361084,-10.913522720336914,17.134065628051758,-10.61166763305664,-7.715175628662109,11.88519287109375,-9.980888366699219,13.21760082244873,-7.4200310707092285,10.21214485168457,-3.1024117469787598,-6.881905555725098,-14.202533721923828,-13.231463432312012,7.331444263458252,-24.712556838989258,15.661643028259277,-7.060835838317871,-0.7677110433578491,0.6574728488922119,-1.5733599662780762,17.743566513061523,-1.564763069152832,8.832939147949219,5.355084419250488,-1.6914222240447998,-3.6659226417541504,-13.282938957214355,5.757011413574219,-20.410335540771484,6.565743446350098,-8.244688987731934,-11.406766891479492,-4.958106994628906,-2.1688990592956543,3.232715129852295,-5.294253826141357,2.306746244430542],\"z\":[-16.750247955322266,-11.521018028259277,-10.815611839294434,-14.175521850585938,-16.037931442260742,-13.443573951721191,-11.362879753112793,-17.54851722717285,-14.144157409667969,-15.176680564880371,-8.744597434997559,-14.283758163452148,-15.976444244384766,-11.373398780822754,-13.488020896911621,-14.5774564743042,-16.02962875366211,-12.661489486694336,-19.56439971923828,-21.797517776489258,-8.915342330932617,-8.55366039276123,-16.895069122314453,-17.334741592407227,-11.079418182373047,-17.78498077392578,-18.60148048400879,-10.8314847946167,-9.348567962646484,-17.196352005004883,-14.537652015686035,-10.108488082885742,-21.08003807067871,-21.364042282104492,-8.77991008758545,-12.193811416625977,-19.801061630249023,-15.187593460083008,-16.364948272705078,-13.854850769042969,-16.058246612548828,-16.32386589050293,-10.052855491638184,-14.298145294189453,-14.078296661376953,-11.284706115722656,-11.93699836730957,-16.944244384765625,-17.006410598754883,-8.439249992370605,-14.189626693725586,-13.273336410522461,-14.714540481567383,-6.970396995544434,-11.217109680175781,-7.115175247192383,-13.26026725769043,-19.691469192504883,-7.742156982421875,-12.296716690063477,-8.227642059326172,-9.48837947845459,-9.163819313049316,-17.928653717041016,-20.733551025390625,-11.628540992736816,-6.7623291015625,-8.740248680114746,-9.337703704833984,-8.859855651855469,-18.657590866088867,-19.69016456604004,-14.362000465393066,-9.490930557250977,-11.578360557556152,-12.633687973022461,-14.163987159729004,-19.7452392578125,-16.740142822265625,-10.692798614501953,-12.215566635131836,-8.853659629821777,-16.847423553466797,-11.711695671081543,-21.92816925048828,-17.20915412902832,-11.640007019042969,-10.182372093200684,-12.556857109069824,-18.982376098632812,-8.831717491149902,-22.433439254760742,-16.90448760986328,-14.294021606445312,-9.942635536193848,-12.369769096374512,-20.7156982421875,-12.652311325073242,-22.209081649780273,-14.309415817260742,-11.319625854492188,-7.283453941345215,-11.242643356323242,-18.07786750793457,-8.734175682067871,-19.81789207458496,-16.78363609313965,-14.449057579040527,-7.636140823364258,-19.757761001586914,-13.08363151550293,-8.73874282836914,-16.857425689697266,-19.66232681274414,-11.436192512512207,-10.200615882873535,-14.477049827575684,-16.989139556884766,-8.733580589294434,-19.638141632080078,-19.723281860351562,-8.791123390197754,-10.118123054504395,-21.06728744506836,-12.084320068359375,-12.296703338623047,-18.00498390197754,-21.90398406982422,-9.207427024841309,-9.132979393005371,-14.724350929260254,-13.224241256713867,-17.003658294677734,-16.90359115600586,-17.080699920654297,-6.981310844421387,-10.283365249633789,-9.653278350830078,-11.643232345581055,-14.250016212463379,-20.88394546508789,-15.303179740905762,-9.579719543457031,-11.64187240600586,-11.464571952819824,-16.870800018310547,-19.431821823120117,-20.634126663208008,-19.778759002685547,-8.796857833862305,-11.798099517822266,-12.632478713989258,-13.685149192810059,-11.395026206970215,-17.30246353149414,-17.188583374023438,-8.508111953735352,-17.357925415039062,-16.043283462524414,-11.457172393798828,-14.352286338806152,-18.32280158996582,-15.290946006774902,-8.535277366638184,-14.227132797241211,-15.453743934631348,-13.54288101196289,-8.558626174926758,-20.387025833129883,-15.375078201293945,-12.8427734375,-19.436464309692383,-14.405327796936035,-12.39323902130127,-8.531003952026367,-19.49787712097168,-12.567096710205078,-11.375624656677246,-11.435871124267578,-17.75824737548828,-14.246895790100098,-8.70401382446289,-16.425094604492188,-14.380311012268066,-12.297662734985352,-17.865446090698242,-11.62874984741211,-11.752077102661133,-8.436225891113281,-16.874977111816406,-16.964208602905273,-8.981268882751465,-15.976913452148438,-19.719863891601562,-13.499551773071289,-8.8876314163208],\"type\":\"scatter3d\",\"scene\":\"scene7\"},{\"x\":[-11.269259452819824,-9.240462303161621,-8.96169376373291,-9.83785343170166,-10.202676773071289,-9.6860990524292,2.941283941268921,-0.5563520193099976,-11.653924942016602,-6.61612606048584,-8.306414604187012,-6.87125301361084,-10.01535415649414,-9.28254508972168,-1.9335861206054688,-25.712507247924805,-5.761388301849365,-5.632981777191162,-17.259273529052734,-19.608983993530273,-7.787958145141602,5.833042621612549,-23.050460815429688,-22.729934692382812,-22.01183319091797,-22.826799392700195,-22.937625885009766,-21.949586868286133,-17.74185562133789,-20.130800247192383,-15.09878921508789,-9.018317222595215,-20.50707244873047,-23.29183578491211,-14.835947036743164,-12.761885643005371,-13.914084434509277,-13.37521743774414,-13.656034469604492,-15.572295188903809,-6.881460189819336,-8.057478904724121,-12.134174346923828,-15.869423866271973,-12.2957763671875,-2.9147443771362305,-14.50024127960205,-15.069147109985352,-7.951672077178955,-17.100116729736328,-21.342710494995117,-20.676197052001953,-20.946582794189453,-18.809974670410156,-19.45589256286621,-7.864121437072754,-10.263667106628418,-19.94333267211914,-17.49991226196289,-20.796600341796875,-12.925178527832031,-13.503805160522461,-13.308947563171387,-12.100305557250977,-0.7982199788093567,-5.311725616455078,-1.4887499809265137,-8.464031219482422,-10.551370620727539,-10.542957305908203,-11.072163581848145,-15.824872970581055,-4.7797040939331055,-4.631860733032227,-9.048624992370605,-8.062883377075195,-9.502435684204102,-6.445742607116699,-5.024547576904297,-12.55866813659668,-12.708910942077637,-3.9572110176086426,-5.027766227722168,-4.6904191970825195,-4.601500511169434,-2.745004653930664,-2.3361387252807617,-1.8655645847320557,-1.6415796279907227,-3.032428741455078,-1.1779916286468506,-1.810684084892273,0.244500994682312,0.5610753297805786,1.663058876991272,1.2527639865875244,-0.5166168212890625,1.1834981441497803,0.9888752698898315,3.5598156452178955,6.39879846572876,6.846066474914551,4.253391742706299,2.807560920715332,4.105713367462158,4.157417297363281,7.021978378295898,3.2551517486572266,4.423247337341309,5.105382919311523,6.669168472290039,6.6423444747924805,7.873154163360596,-10.121052742004395,9.928654670715332,3.4628124237060547,10.375091552734375,8.8373384475708,12.77462387084961,8.791420936584473,11.00947380065918,9.552021980285645,8.588088989257812,10.051867485046387,19.46295738220215,9.65343189239502,7.435878753662109,13.938408851623535,12.947080612182617,12.888908386230469,21.069055557250977,21.89252281188965,21.51600456237793,3.319551467895508,17.52336311340332,23.059370040893555,16.08895492553711,22.534610748291016,23.525135040283203,17.005247116088867,14.214923858642578,19.799448013305664,18.384279251098633,4.815269470214844,10.291277885437012,25.87401008605957,7.331880569458008,19.89749526977539,20.76034927368164,14.567835807800293,8.348515510559082,18.276918411254883,18.34204864501953,15.344816207885742,10.441152572631836,16.55763816833496,21.103153228759766,16.792917251586914,16.567392349243164,11.4150390625,21.584766387939453,23.738069534301758,23.76714324951172,24.566255569458008,23.79314422607422,23.618404388427734,23.62433624267578,24.448081970214844,22.829065322875977,26.76063346862793,27.232988357543945,26.91160011291504,26.432340621948242,27.11197853088379,27.481840133666992,16.143693923950195,20.6796932220459,12.410043716430664,14.196694374084473,22.293760299682617,20.505393981933594,20.921428680419922,18.320209503173828,32.5711555480957,32.28556442260742,32.026634216308594,32.42987823486328,20.27864646911621,32.82788848876953,13.707084655761719,12.57929801940918,14.793739318847656,12.475086212158203,12.032866477966309,13.800447463989258,24.993392944335938],\"y\":[6.430920600891113,-6.339654445648193,-3.0896430015563965,4.740558624267578,-2.361562728881836,-6.547970294952393,2.305725574493408,16.88224983215332,13.514416694641113,1.519130825996399,-10.375068664550781,-7.161908149719238,-7.398806095123291,6.444252014160156,12.0960693359375,-1.1878914833068848,4.302164077758789,-18.429256439208984,6.811699867248535,2.307145118713379,-9.366579055786133,9.210363388061523,4.644602298736572,-4.1981000900268555,-4.544220447540283,-3.0252246856689453,3.8167970180511475,-0.890174150466919,16.872602462768555,-2.306810140609741,1.9443596601486206,-17.884281158447266,21.622119903564453,10.893157958984375,-11.360616683959961,21.465309143066406,-1.555835485458374,-10.197622299194336,-7.615104675292969,-2.4055585861206055,1.6159770488739014,6.757936000823975,17.52585792541504,-6.71356725692749,-4.246862888336182,-5.145554065704346,-1.6811678409576416,0.36518293619155884,-11.408052444458008,22.20966148376465,1.0006307363510132,-9.843388557434082,7.260472297668457,-6.480473041534424,5.389015197753906,-10.338656425476074,13.81519603729248,1.0023813247680664,-12.951078414916992,-5.049301624298096,3.370168924331665,-3.4116458892822266,-10.735889434814453,-3.4344401359558105,20.385103225708008,-5.0805840492248535,3.3696980476379395,-1.4613673686981201,-2.038177967071533,-9.257623672485352,9.43194580078125,-2.378826379776001,-2.683910846710205,1.501779556274414,-4.086240768432617,-1.3000977039337158,3.1570210456848145,10.73887825012207,-3.7851643562316895,-9.151437759399414,-8.128929138183594,-5.058823585510254,3.7658092975616455,-0.8645641803741455,-0.9689805507659912,-0.37287992238998413,-5.8431196212768555,-4.1818013191223145,-6.674598693847656,5.574654579162598,-3.8831467628479004,4.116504192352295,-1.161541223526001,0.10332706570625305,1.0403943061828613,-3.405423879623413,5.391030788421631,-1.5507616996765137,8.104114532470703,1.5524873733520508,-8.237561225891113,4.940957069396973,-4.737039566040039,-0.01765194535255432,1.5064926147460938,5.5782790184021,-3.645127058029175,-4.7135796546936035,10.356256484985352,-5.371579170227051,3.449924945831299,-11.672765731811523,-3.9779391288757324,16.2786808013916,-9.23981761932373,23.33043098449707,1.9746103286743164,3.775836229324341,-8.785273551940918,3.6761746406555176,6.782659530639648,-12.556842803955078,9.946810722351074,-5.197939872741699,1.0184299945831299,-5.696590423583984,9.394622802734375,0.03462338447570801,-9.990934371948242,-1.3943796157836914,7.268039703369141,-8.58591079711914,1.0120490789413452,6.016849994659424,7.625096797943115,-10.801420211791992,-1.0571601390838623,-1.771411657333374,-11.136963844299316,8.328888893127441,0.17980515956878662,-4.9864020347595215,-5.226942539215088,-8.307535171508789,-2.6006829738616943,5.688602447509766,6.887375354766846,-3.3261024951934814,0.9823843240737915,6.326575756072998,-6.189718246459961,-4.728865623474121,-16.300579071044922,11.827085494995117,-5.489581108093262,-5.547659873962402,-9.806260108947754,-10.862408638000488,-9.062357902526855,-9.963502883911133,18.645980834960938,-10.222177505493164,-6.144848346710205,12.478572845458984,-9.480555534362793,14.924921035766602,-6.1603102684021,10.768864631652832,-1.6868226528167725,-5.474771499633789,-12.316396713256836,-12.182760238647461,8.78704833984375,-23.285188674926758,16.386667251586914,-5.911030292510986,0.30622103810310364,1.8286129236221313,-1.2108079195022583,19.915620803833008,-0.035507142543792725,9.648638725280762,7.188716411590576,-0.5213685035705566,-1.7090836763381958,-12.31754207611084,6.823022842407227,-19.77029037475586,6.56796932220459,-6.492091178894043,-10.250123023986816,-4.688137531280518,-1.0803654193878174,5.106850624084473,-4.300338268280029,2.672147274017334],\"z\":[-17.02402687072754,-11.005586624145508,-10.05345344543457,-13.966870307922363,-15.985386848449707,-13.179360389709473,-10.581340789794922,-17.900901794433594,-13.961727142333984,-15.193375587463379,-7.526948928833008,-13.847557067871094,-16.055776596069336,-10.903757095336914,-13.3757963180542,-14.072671890258789,-16.211654663085938,-11.859736442565918,-20.28888511657715,-22.45043182373047,-8.037701606750488,-7.451055526733398,-16.49620246887207,-17.584074020385742,-10.068904876708984,-17.544050216674805,-19.10040283203125,-10.009234428405762,-8.942190170288086,-16.671672821044922,-14.378705024719238,-8.991024017333984,-21.7968807220459,-21.42186737060547,-7.90264368057251,-13.28124713897705,-19.860088348388672,-15.191272735595703,-16.29950714111328,-13.504833221435547,-16.25250244140625,-16.56779670715332,-9.87833023071289,-13.543631553649902,-13.881403923034668,-10.59495735168457,-11.574403762817383,-17.01051139831543,-16.625070571899414,-7.315610408782959,-13.658117294311523,-12.583379745483398,-14.570781707763672,-5.565357208251953,-10.544683456420898,-5.976229667663574,-13.285289764404297,-19.852258682250977,-6.408850193023682,-11.539843559265137,-8.560718536376953,-8.862588882446289,-8.176045417785645,-17.98295021057129,-21.198040008544922,-10.87841796875,-5.762951850891113,-7.758603096008301,-8.486274719238281,-7.839874267578125,-18.81779670715332,-19.738021850585938,-13.944473266601562,-8.72546100616455,-10.534896850585938,-12.066792488098145,-13.452348709106445,-20.07347869873047,-16.675323486328125,-9.734513282775879,-11.329519271850586,-7.717116355895996,-16.840469360351562,-10.873077392578125,-21.938217163085938,-17.278411865234375,-10.89413070678711,-9.269947052001953,-13.055861473083496,-19.103466033935547,-7.6437482833862305,-22.61661148071289,-17.074312210083008,-13.667094230651855,-8.897066116333008,-13.147140502929688,-21.045454025268555,-13.178265571594238,-22.8010196685791,-14.03632926940918,-10.52100944519043,-6.47611665725708,-10.373701095581055,-18.121997833251953,-7.714125156402588,-20.66288185119629,-16.562576293945312,-13.991262435913086,-6.483880996704102,-19.870851516723633,-12.760852813720703,-7.299374580383301,-17.16367530822754,-20.081806182861328,-10.651348114013672,-9.19472885131836,-14.052375793457031,-17.1258544921875,-7.931908130645752,-19.909866333007812,-19.787132263183594,-7.383199691772461,-9.132488250732422,-21.39458465576172,-12.77505111694336,-12.785322189331055,-18.17025375366211,-22.39641761779785,-8.138675689697266,-8.159982681274414,-14.862545013427734,-12.475886344909668,-16.89551544189453,-16.873517990112305,-16.395111083984375,-5.8180646896362305,-9.768701553344727,-8.951648712158203,-10.878500938415527,-13.524439811706543,-21.102378845214844,-14.77683162689209,-8.61600112915039,-10.530732154846191,-10.404463768005371,-16.884960174560547,-19.56210708618164,-20.757282257080078,-20.363130569458008,-7.692255973815918,-10.832503318786621,-12.10638427734375,-13.19764518737793,-10.720685958862305,-16.825197219848633,-16.89614486694336,-7.162771701812744,-16.979114532470703,-15.48827075958252,-10.72841739654541,-14.061076164245605,-17.27586555480957,-15.324731826782227,-7.663920879364014,-13.511098861694336,-15.545034408569336,-13.067229270935059,-7.549865245819092,-20.191513061523438,-14.900511741638184,-13.100017547607422,-19.457809448242188,-14.058886528015137,-12.722935676574707,-7.422226905822754,-19.42534637451172,-11.860230445861816,-10.583757400512695,-10.439061164855957,-17.710277557373047,-13.723209381103516,-7.5984625816345215,-16.22631072998047,-13.963383674621582,-12.76977825164795,-17.556604385375977,-11.02892780303955,-10.847684860229492,-7.213825225830078,-17.037736892700195,-16.74770736694336,-7.729625701904297,-15.554128646850586,-19.844030380249023,-12.926830291748047,-7.537681579589844],\"type\":\"scatter3d\",\"scene\":\"scene8\"}],                        {\"template\":{\"data\":{\"histogram2dcontour\":[{\"type\":\"histogram2dcontour\",\"colorbar\":{\"outlinewidth\":0,\"ticks\":\"\"},\"colorscale\":[[0.0,\"#0d0887\"],[0.1111111111111111,\"#46039f\"],[0.2222222222222222,\"#7201a8\"],[0.3333333333333333,\"#9c179e\"],[0.4444444444444444,\"#bd3786\"],[0.5555555555555556,\"#d8576b\"],[0.6666666666666666,\"#ed7953\"],[0.7777777777777778,\"#fb9f3a\"],[0.8888888888888888,\"#fdca26\"],[1.0,\"#f0f921\"]]}],\"choropleth\":[{\"type\":\"choropleth\",\"colorbar\":{\"outlinewidth\":0,\"ticks\":\"\"}}],\"histogram2d\":[{\"type\":\"histogram2d\",\"colorbar\":{\"outlinewidth\":0,\"ticks\":\"\"},\"colorscale\":[[0.0,\"#0d0887\"],[0.1111111111111111,\"#46039f\"],[0.2222222222222222,\"#7201a8\"],[0.3333333333333333,\"#9c179e\"],[0.4444444444444444,\"#bd3786\"],[0.5555555555555556,\"#d8576b\"],[0.6666666666666666,\"#ed7953\"],[0.7777777777777778,\"#fb9f3a\"],[0.8888888888888888,\"#fdca26\"],[1.0,\"#f0f921\"]]}],\"heatmap\":[{\"type\":\"heatmap\",\"colorbar\":{\"outlinewidth\":0,\"ticks\":\"\"},\"colorscale\":[[0.0,\"#0d0887\"],[0.1111111111111111,\"#46039f\"],[0.2222222222222222,\"#7201a8\"],[0.3333333333333333,\"#9c179e\"],[0.4444444444444444,\"#bd3786\"],[0.5555555555555556,\"#d8576b\"],[0.6666666666666666,\"#ed7953\"],[0.7777777777777778,\"#fb9f3a\"],[0.8888888888888888,\"#fdca26\"],[1.0,\"#f0f921\"]]}],\"heatmapgl\":[{\"type\":\"heatmapgl\",\"colorbar\":{\"outlinewidth\":0,\"ticks\":\"\"},\"colorscale\":[[0.0,\"#0d0887\"],[0.1111111111111111,\"#46039f\"],[0.2222222222222222,\"#7201a8\"],[0.3333333333333333,\"#9c179e\"],[0.4444444444444444,\"#bd3786\"],[0.5555555555555556,\"#d8576b\"],[0.6666666666666666,\"#ed7953\"],[0.7777777777777778,\"#fb9f3a\"],[0.8888888888888888,\"#fdca26\"],[1.0,\"#f0f921\"]]}],\"contourcarpet\":[{\"type\":\"contourcarpet\",\"colorbar\":{\"outlinewidth\":0,\"ticks\":\"\"}}],\"contour\":[{\"type\":\"contour\",\"colorbar\":{\"outlinewidth\":0,\"ticks\":\"\"},\"colorscale\":[[0.0,\"#0d0887\"],[0.1111111111111111,\"#46039f\"],[0.2222222222222222,\"#7201a8\"],[0.3333333333333333,\"#9c179e\"],[0.4444444444444444,\"#bd3786\"],[0.5555555555555556,\"#d8576b\"],[0.6666666666666666,\"#ed7953\"],[0.7777777777777778,\"#fb9f3a\"],[0.8888888888888888,\"#fdca26\"],[1.0,\"#f0f921\"]]}],\"surface\":[{\"type\":\"surface\",\"colorbar\":{\"outlinewidth\":0,\"ticks\":\"\"},\"colorscale\":[[0.0,\"#0d0887\"],[0.1111111111111111,\"#46039f\"],[0.2222222222222222,\"#7201a8\"],[0.3333333333333333,\"#9c179e\"],[0.4444444444444444,\"#bd3786\"],[0.5555555555555556,\"#d8576b\"],[0.6666666666666666,\"#ed7953\"],[0.7777777777777778,\"#fb9f3a\"],[0.8888888888888888,\"#fdca26\"],[1.0,\"#f0f921\"]]}],\"mesh3d\":[{\"type\":\"mesh3d\",\"colorbar\":{\"outlinewidth\":0,\"ticks\":\"\"}}],\"scatter\":[{\"fillpattern\":{\"fillmode\":\"overlay\",\"size\":10,\"solidity\":0.2},\"type\":\"scatter\"}],\"parcoords\":[{\"type\":\"parcoords\",\"line\":{\"colorbar\":{\"outlinewidth\":0,\"ticks\":\"\"}}}],\"scatterpolargl\":[{\"type\":\"scatterpolargl\",\"marker\":{\"colorbar\":{\"outlinewidth\":0,\"ticks\":\"\"}}}],\"bar\":[{\"error_x\":{\"color\":\"#2a3f5f\"},\"error_y\":{\"color\":\"#2a3f5f\"},\"marker\":{\"line\":{\"color\":\"#E5ECF6\",\"width\":0.5},\"pattern\":{\"fillmode\":\"overlay\",\"size\":10,\"solidity\":0.2}},\"type\":\"bar\"}],\"scattergeo\":[{\"type\":\"scattergeo\",\"marker\":{\"colorbar\":{\"outlinewidth\":0,\"ticks\":\"\"}}}],\"scatterpolar\":[{\"type\":\"scatterpolar\",\"marker\":{\"colorbar\":{\"outlinewidth\":0,\"ticks\":\"\"}}}],\"histogram\":[{\"marker\":{\"pattern\":{\"fillmode\":\"overlay\",\"size\":10,\"solidity\":0.2}},\"type\":\"histogram\"}],\"scattergl\":[{\"type\":\"scattergl\",\"marker\":{\"colorbar\":{\"outlinewidth\":0,\"ticks\":\"\"}}}],\"scatter3d\":[{\"type\":\"scatter3d\",\"line\":{\"colorbar\":{\"outlinewidth\":0,\"ticks\":\"\"}},\"marker\":{\"colorbar\":{\"outlinewidth\":0,\"ticks\":\"\"}}}],\"scattermapbox\":[{\"type\":\"scattermapbox\",\"marker\":{\"colorbar\":{\"outlinewidth\":0,\"ticks\":\"\"}}}],\"scatterternary\":[{\"type\":\"scatterternary\",\"marker\":{\"colorbar\":{\"outlinewidth\":0,\"ticks\":\"\"}}}],\"scattercarpet\":[{\"type\":\"scattercarpet\",\"marker\":{\"colorbar\":{\"outlinewidth\":0,\"ticks\":\"\"}}}],\"carpet\":[{\"aaxis\":{\"endlinecolor\":\"#2a3f5f\",\"gridcolor\":\"white\",\"linecolor\":\"white\",\"minorgridcolor\":\"white\",\"startlinecolor\":\"#2a3f5f\"},\"baxis\":{\"endlinecolor\":\"#2a3f5f\",\"gridcolor\":\"white\",\"linecolor\":\"white\",\"minorgridcolor\":\"white\",\"startlinecolor\":\"#2a3f5f\"},\"type\":\"carpet\"}],\"table\":[{\"cells\":{\"fill\":{\"color\":\"#EBF0F8\"},\"line\":{\"color\":\"white\"}},\"header\":{\"fill\":{\"color\":\"#C8D4E3\"},\"line\":{\"color\":\"white\"}},\"type\":\"table\"}],\"barpolar\":[{\"marker\":{\"line\":{\"color\":\"#E5ECF6\",\"width\":0.5},\"pattern\":{\"fillmode\":\"overlay\",\"size\":10,\"solidity\":0.2}},\"type\":\"barpolar\"}],\"pie\":[{\"automargin\":true,\"type\":\"pie\"}]},\"layout\":{\"autotypenumbers\":\"strict\",\"colorway\":[\"#636efa\",\"#EF553B\",\"#00cc96\",\"#ab63fa\",\"#FFA15A\",\"#19d3f3\",\"#FF6692\",\"#B6E880\",\"#FF97FF\",\"#FECB52\"],\"font\":{\"color\":\"#2a3f5f\"},\"hovermode\":\"closest\",\"hoverlabel\":{\"align\":\"left\"},\"paper_bgcolor\":\"white\",\"plot_bgcolor\":\"#E5ECF6\",\"polar\":{\"bgcolor\":\"#E5ECF6\",\"angularaxis\":{\"gridcolor\":\"white\",\"linecolor\":\"white\",\"ticks\":\"\"},\"radialaxis\":{\"gridcolor\":\"white\",\"linecolor\":\"white\",\"ticks\":\"\"}},\"ternary\":{\"bgcolor\":\"#E5ECF6\",\"aaxis\":{\"gridcolor\":\"white\",\"linecolor\":\"white\",\"ticks\":\"\"},\"baxis\":{\"gridcolor\":\"white\",\"linecolor\":\"white\",\"ticks\":\"\"},\"caxis\":{\"gridcolor\":\"white\",\"linecolor\":\"white\",\"ticks\":\"\"}},\"coloraxis\":{\"colorbar\":{\"outlinewidth\":0,\"ticks\":\"\"}},\"colorscale\":{\"sequential\":[[0.0,\"#0d0887\"],[0.1111111111111111,\"#46039f\"],[0.2222222222222222,\"#7201a8\"],[0.3333333333333333,\"#9c179e\"],[0.4444444444444444,\"#bd3786\"],[0.5555555555555556,\"#d8576b\"],[0.6666666666666666,\"#ed7953\"],[0.7777777777777778,\"#fb9f3a\"],[0.8888888888888888,\"#fdca26\"],[1.0,\"#f0f921\"]],\"sequentialminus\":[[0.0,\"#0d0887\"],[0.1111111111111111,\"#46039f\"],[0.2222222222222222,\"#7201a8\"],[0.3333333333333333,\"#9c179e\"],[0.4444444444444444,\"#bd3786\"],[0.5555555555555556,\"#d8576b\"],[0.6666666666666666,\"#ed7953\"],[0.7777777777777778,\"#fb9f3a\"],[0.8888888888888888,\"#fdca26\"],[1.0,\"#f0f921\"]],\"diverging\":[[0,\"#8e0152\"],[0.1,\"#c51b7d\"],[0.2,\"#de77ae\"],[0.3,\"#f1b6da\"],[0.4,\"#fde0ef\"],[0.5,\"#f7f7f7\"],[0.6,\"#e6f5d0\"],[0.7,\"#b8e186\"],[0.8,\"#7fbc41\"],[0.9,\"#4d9221\"],[1,\"#276419\"]]},\"xaxis\":{\"gridcolor\":\"white\",\"linecolor\":\"white\",\"ticks\":\"\",\"title\":{\"standoff\":15},\"zerolinecolor\":\"white\",\"automargin\":true,\"zerolinewidth\":2},\"yaxis\":{\"gridcolor\":\"white\",\"linecolor\":\"white\",\"ticks\":\"\",\"title\":{\"standoff\":15},\"zerolinecolor\":\"white\",\"automargin\":true,\"zerolinewidth\":2},\"scene\":{\"xaxis\":{\"backgroundcolor\":\"#E5ECF6\",\"gridcolor\":\"white\",\"linecolor\":\"white\",\"showbackground\":true,\"ticks\":\"\",\"zerolinecolor\":\"white\",\"gridwidth\":2},\"yaxis\":{\"backgroundcolor\":\"#E5ECF6\",\"gridcolor\":\"white\",\"linecolor\":\"white\",\"showbackground\":true,\"ticks\":\"\",\"zerolinecolor\":\"white\",\"gridwidth\":2},\"zaxis\":{\"backgroundcolor\":\"#E5ECF6\",\"gridcolor\":\"white\",\"linecolor\":\"white\",\"showbackground\":true,\"ticks\":\"\",\"zerolinecolor\":\"white\",\"gridwidth\":2}},\"shapedefaults\":{\"line\":{\"color\":\"#2a3f5f\"}},\"annotationdefaults\":{\"arrowcolor\":\"#2a3f5f\",\"arrowhead\":0,\"arrowwidth\":1},\"geo\":{\"bgcolor\":\"white\",\"landcolor\":\"#E5ECF6\",\"subunitcolor\":\"white\",\"showland\":true,\"showlakes\":true,\"lakecolor\":\"white\"},\"title\":{\"x\":0.05},\"mapbox\":{\"style\":\"light\"}}},\"scene\":{\"domain\":{\"x\":[0.0,0.45],\"y\":[0.7875,1.0]}},\"scene2\":{\"domain\":{\"x\":[0.55,1.0],\"y\":[0.7875,1.0]}},\"scene3\":{\"domain\":{\"x\":[0.0,0.45],\"y\":[0.525,0.7375]}},\"scene4\":{\"domain\":{\"x\":[0.55,1.0],\"y\":[0.525,0.7375]}},\"scene5\":{\"domain\":{\"x\":[0.0,0.45],\"y\":[0.2625,0.475]}},\"scene6\":{\"domain\":{\"x\":[0.55,1.0],\"y\":[0.2625,0.475]}},\"scene7\":{\"domain\":{\"x\":[0.0,0.45],\"y\":[0.0,0.2125]}},\"scene8\":{\"domain\":{\"x\":[0.55,1.0],\"y\":[0.0,0.2125]}},\"height\":2400,\"width\":1200},                        {\"responsive\": true}                    ).then(function(){\n",
              "                            \n",
              "var gd = document.getElementById('d70534ea-ee25-4967-bf41-075539596428');\n",
              "var x = new MutationObserver(function (mutations, observer) {{\n",
              "        var display = window.getComputedStyle(gd).display;\n",
              "        if (!display || display === 'none') {{\n",
              "            console.log([gd, 'removed!']);\n",
              "            Plotly.purge(gd);\n",
              "            observer.disconnect();\n",
              "        }}\n",
              "}});\n",
              "\n",
              "// Listen for the removal of the full notebook cells\n",
              "var notebookContainer = gd.closest('#notebook-container');\n",
              "if (notebookContainer) {{\n",
              "    x.observe(notebookContainer, {childList: true});\n",
              "}}\n",
              "\n",
              "// Listen for the clearing of the current output cell\n",
              "var outputEl = gd.closest('.output');\n",
              "if (outputEl) {{\n",
              "    x.observe(outputEl, {childList: true});\n",
              "}}\n",
              "\n",
              "                        })                };                            </script>        </div>\n",
              "</body>\n",
              "</html>"
            ]
          },
          "metadata": {}
        }
      ]
    },
    {
      "cell_type": "code",
      "execution_count": null,
      "metadata": {
        "id": "HFWbwRwuE9lu"
      },
      "outputs": [],
      "source": [
        "# model.MW.idx[0, 0]\n",
        "threshold = rows * cols * hidden_dim\n",
        "param_id = 0\n",
        "layer_idx = model.MW.idx[:, param_id: param_id + 100] # threshold\n",
        "n_parts = idx_dim // img_dim\n",
        "scaled_idx = (\n",
        "    MTensor\n",
        "    ._soft_kernel(layer_idx, img_dim)[0]\n",
        "    .reshape(-1, n_parts, img_dim)\n",
        ") * (n_parts ** 0.5)\n",
        "idx_att = torch.argmax(\n",
        "    scaled_idx,\n",
        "    dim=-1\n",
        ")[:, :2]\n",
        "idx_att = idx_att.cpu().detach().numpy()\n",
        "grid = np.zeros((rows, cols))\n",
        "# for pos in range(len(idx_att)):\n",
        "#   idxx, idxy = idx_att[pos]\n",
        "#   idxx, idxy = int(idxx), int(idxy)\n",
        "#   # grid[int(idxx), int(idxy)] += 1\n",
        "#   grid[idxx, idxy] += scaled_idx[pos, 0, idxx] * scaled_idx[pos, 1, idxy]\n",
        "for idxx in range(rows):\n",
        "  for idxy in range(cols):\n",
        "    grid[idxx, idxy] = (scaled_idx[:, 0, idxx] * scaled_idx[:, 1, idxy]).sum()\n",
        "grid = grid / grid.max()\n",
        "\n",
        "# plt.imshow(grid)\n",
        "\n",
        "fig, ax = plt.subplots()\n",
        "ax.matshow(grid, cmap=\"seismic\")\n",
        "\n",
        "for (i, j), z in np.ndenumerate(grid):\n",
        "    ax.text(j, i, \"{:0.2f}\".format(z), ha=\"center\", va=\"center\")\n",
        "\n",
        "plt.show()"
      ]
    },
    {
      "cell_type": "code",
      "execution_count": null,
      "metadata": {
        "id": "wSCHvt7xQq6q"
      },
      "outputs": [],
      "source": [
        "MTensor._soft_kernel(y_pred.idx, img_dim)[0]"
      ]
    },
    {
      "cell_type": "markdown",
      "metadata": {
        "id": "Y-K_7fUh2anJ"
      },
      "source": [
        "### Visualização dos índices dos parâmetros"
      ]
    },
    {
      "cell_type": "code",
      "execution_count": null,
      "metadata": {
        "id": "nNJnesCt2f1p"
      },
      "outputs": [],
      "source": [
        "soft_W_idx = scaled_idx # MTensor._soft_kernel(model.MW.idx, img_dim)\n",
        "threshold = 100 # rows * cols * hidden_dim\n",
        "# First layer\n",
        "soft_W_idx = soft_W_idx[:, :threshold].reshape(1, -1, idx_dim)\n",
        "# Last layer\n",
        "# soft_W_idx = soft_W_idx[:, threshold:].reshape(1, -1, idx_dim)\n",
        "soft_W_idx = soft_W_idx.cpu().detach().numpy()[0]"
      ]
    },
    {
      "cell_type": "code",
      "execution_count": null,
      "metadata": {
        "id": "5gaTHY1L2it1"
      },
      "outputs": [],
      "source": [
        "from sklearn.manifold import TSNE\n",
        "\n",
        "sample_idx = np.random.choice(\n",
        "    len(soft_W_idx),\n",
        "    min(len(soft_W_idx), 10000),\n",
        "    replace=False\n",
        ")\n",
        "\n",
        "W_idx_tsne = TSNE(\n",
        "    n_components=2,\n",
        "    perplexity=10,\n",
        ").fit_transform(soft_W_idx[sample_idx])"
      ]
    },
    {
      "cell_type": "code",
      "execution_count": null,
      "metadata": {
        "id": "ows6icrE2unf"
      },
      "outputs": [],
      "source": [
        "plot_df = pd.DataFrame(\n",
        "    {\n",
        "        \"W_idx x tsne\": W_idx_tsne[:, 0],\n",
        "        \"W_idx y tsne\": W_idx_tsne[:, 1],\n",
        "    }\n",
        ")\n",
        "\n",
        "plot_df.plot.scatter(\n",
        "    x=\"W_idx x tsne\",\n",
        "    y=\"W_idx y tsne\",\n",
        "    figsize=(24, 4),\n",
        "    grid=True\n",
        ")"
      ]
    },
    {
      "cell_type": "code",
      "execution_count": null,
      "metadata": {
        "id": "5eUDvxRS3yZu"
      },
      "outputs": [],
      "source": []
    }
  ],
  "metadata": {
    "colab": {
      "collapsed_sections": [
        "ndQSziNdjoUm",
        "RGCfrrmCXap_",
        "tzKu4c8hisNY",
        "YLr5gOnn5RRu",
        "XzzFCy32AGsX",
        "9Ytm2bU_JvrK",
        "e0TdCxX0Jzn0",
        "_T9hF3Uoi3tF",
        "kTfYY3SQXNJF",
        "1SknOTQ7O9BS",
        "jdZ8zHIcPQPS",
        "QQRFtDATXUmH",
        "039kGqbPXp4d"
      ],
      "provenance": [],
      "gpuType": "T4",
      "authorship_tag": "ABX9TyO+6t+5BSxAZz03qsWzAE0K",
      "include_colab_link": true
    },
    "kernelspec": {
      "display_name": "Python 3",
      "name": "python3"
    },
    "language_info": {
      "name": "python"
    }
  },
  "nbformat": 4,
  "nbformat_minor": 0
}