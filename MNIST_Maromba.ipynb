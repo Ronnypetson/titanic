{
  "cells": [
    {
      "cell_type": "markdown",
      "metadata": {
        "id": "view-in-github",
        "colab_type": "text"
      },
      "source": [
        "<a href=\"https://colab.research.google.com/github/Ronnypetson/titanic/blob/master/MNIST_Maromba.ipynb\" target=\"_parent\"><img src=\"https://colab.research.google.com/assets/colab-badge.svg\" alt=\"Open In Colab\"/></a>"
      ]
    },
    {
      "cell_type": "markdown",
      "metadata": {
        "id": "pTdTbjAGjsnP"
      },
      "source": [
        "## Experimentos do Produto Interno Maromba no MNIST"
      ]
    },
    {
      "cell_type": "markdown",
      "metadata": {
        "id": "ndQSziNdjoUm"
      },
      "source": [
        "### Ambiente"
      ]
    },
    {
      "cell_type": "code",
      "execution_count": 1,
      "metadata": {
        "id": "elxoSeIKAV1J"
      },
      "outputs": [],
      "source": [
        "import torch\n",
        "import numpy as np\n",
        "import torch.nn as nn\n",
        "from torchvision.datasets import MNIST, FashionMNIST\n",
        "from torchvision.transforms import ToTensor\n",
        "from torch.optim import Adam\n",
        "\n",
        "import pandas as pd\n",
        "from sklearn.metrics import accuracy_score\n",
        "# !pip3 install ipympl\n",
        "# !pip3 install mpl_interactions\n",
        "# %matplotlib widget\n",
        "\n",
        "import matplotlib.pylab as plt\n",
        "import plotly.express as px\n",
        "# import mpl_interactions.ipyplot as iplt\n",
        "import time\n",
        "from IPython import display\n",
        "from IPython.core.debugger import Pdb\n",
        "\n",
        "device = \"cuda:0\" if torch.cuda.is_available() else \"cpu\"\n",
        "\n",
        "# %matplotlib inline\n",
        "# from google.colab import output\n",
        "# output.enable_custom_widget_manager()"
      ]
    },
    {
      "cell_type": "markdown",
      "metadata": {
        "id": "RGCfrrmCXap_"
      },
      "source": [
        "### Dataset"
      ]
    },
    {
      "cell_type": "code",
      "execution_count": 2,
      "metadata": {
        "colab": {
          "base_uri": "https://localhost:8080/"
        },
        "id": "j6dxGxcHAx5P",
        "outputId": "0406c8dd-5e65-4405-cb4c-e74e45225d55"
      },
      "outputs": [
        {
          "output_type": "stream",
          "name": "stdout",
          "text": [
            "Downloading http://yann.lecun.com/exdb/mnist/train-images-idx3-ubyte.gz\n",
            "Downloading http://yann.lecun.com/exdb/mnist/train-images-idx3-ubyte.gz to MNIST_root/MNIST/raw/train-images-idx3-ubyte.gz\n"
          ]
        },
        {
          "output_type": "stream",
          "name": "stderr",
          "text": [
            "100%|██████████| 9912422/9912422 [00:00<00:00, 232419758.52it/s]"
          ]
        },
        {
          "output_type": "stream",
          "name": "stdout",
          "text": [
            "Extracting MNIST_root/MNIST/raw/train-images-idx3-ubyte.gz to MNIST_root/MNIST/raw\n"
          ]
        },
        {
          "output_type": "stream",
          "name": "stderr",
          "text": [
            "\n"
          ]
        },
        {
          "output_type": "stream",
          "name": "stdout",
          "text": [
            "\n",
            "Downloading http://yann.lecun.com/exdb/mnist/train-labels-idx1-ubyte.gz\n",
            "Downloading http://yann.lecun.com/exdb/mnist/train-labels-idx1-ubyte.gz to MNIST_root/MNIST/raw/train-labels-idx1-ubyte.gz\n"
          ]
        },
        {
          "output_type": "stream",
          "name": "stderr",
          "text": [
            "100%|██████████| 28881/28881 [00:00<00:00, 25147538.68it/s]\n"
          ]
        },
        {
          "output_type": "stream",
          "name": "stdout",
          "text": [
            "Extracting MNIST_root/MNIST/raw/train-labels-idx1-ubyte.gz to MNIST_root/MNIST/raw\n",
            "\n",
            "Downloading http://yann.lecun.com/exdb/mnist/t10k-images-idx3-ubyte.gz\n",
            "Downloading http://yann.lecun.com/exdb/mnist/t10k-images-idx3-ubyte.gz to MNIST_root/MNIST/raw/t10k-images-idx3-ubyte.gz\n"
          ]
        },
        {
          "output_type": "stream",
          "name": "stderr",
          "text": [
            "100%|██████████| 1648877/1648877 [00:00<00:00, 63705118.75it/s]"
          ]
        },
        {
          "output_type": "stream",
          "name": "stdout",
          "text": [
            "Extracting MNIST_root/MNIST/raw/t10k-images-idx3-ubyte.gz to MNIST_root/MNIST/raw\n"
          ]
        },
        {
          "output_type": "stream",
          "name": "stderr",
          "text": [
            "\n"
          ]
        },
        {
          "output_type": "stream",
          "name": "stdout",
          "text": [
            "\n",
            "Downloading http://yann.lecun.com/exdb/mnist/t10k-labels-idx1-ubyte.gz\n",
            "Downloading http://yann.lecun.com/exdb/mnist/t10k-labels-idx1-ubyte.gz to MNIST_root/MNIST/raw/t10k-labels-idx1-ubyte.gz\n"
          ]
        },
        {
          "output_type": "stream",
          "name": "stderr",
          "text": [
            "100%|██████████| 4542/4542 [00:00<00:00, 17101013.26it/s]\n"
          ]
        },
        {
          "output_type": "stream",
          "name": "stdout",
          "text": [
            "Extracting MNIST_root/MNIST/raw/t10k-labels-idx1-ubyte.gz to MNIST_root/MNIST/raw\n",
            "\n",
            "Downloading http://yann.lecun.com/exdb/mnist/train-images-idx3-ubyte.gz\n",
            "Downloading http://yann.lecun.com/exdb/mnist/train-images-idx3-ubyte.gz to MNIST_root_test/MNIST/raw/train-images-idx3-ubyte.gz\n"
          ]
        },
        {
          "output_type": "stream",
          "name": "stderr",
          "text": [
            "100%|██████████| 9912422/9912422 [00:00<00:00, 120232946.43it/s]"
          ]
        },
        {
          "output_type": "stream",
          "name": "stdout",
          "text": [
            "Extracting MNIST_root_test/MNIST/raw/train-images-idx3-ubyte.gz to MNIST_root_test/MNIST/raw\n"
          ]
        },
        {
          "output_type": "stream",
          "name": "stderr",
          "text": [
            "\n"
          ]
        },
        {
          "output_type": "stream",
          "name": "stdout",
          "text": [
            "\n",
            "Downloading http://yann.lecun.com/exdb/mnist/train-labels-idx1-ubyte.gz\n",
            "Downloading http://yann.lecun.com/exdb/mnist/train-labels-idx1-ubyte.gz to MNIST_root_test/MNIST/raw/train-labels-idx1-ubyte.gz\n"
          ]
        },
        {
          "output_type": "stream",
          "name": "stderr",
          "text": [
            "100%|██████████| 28881/28881 [00:00<00:00, 80703327.00it/s]\n"
          ]
        },
        {
          "output_type": "stream",
          "name": "stdout",
          "text": [
            "Extracting MNIST_root_test/MNIST/raw/train-labels-idx1-ubyte.gz to MNIST_root_test/MNIST/raw\n",
            "\n",
            "Downloading http://yann.lecun.com/exdb/mnist/t10k-images-idx3-ubyte.gz\n",
            "Downloading http://yann.lecun.com/exdb/mnist/t10k-images-idx3-ubyte.gz to MNIST_root_test/MNIST/raw/t10k-images-idx3-ubyte.gz\n"
          ]
        },
        {
          "output_type": "stream",
          "name": "stderr",
          "text": [
            "100%|██████████| 1648877/1648877 [00:00<00:00, 31273390.51it/s]\n"
          ]
        },
        {
          "output_type": "stream",
          "name": "stdout",
          "text": [
            "Extracting MNIST_root_test/MNIST/raw/t10k-images-idx3-ubyte.gz to MNIST_root_test/MNIST/raw\n",
            "\n",
            "Downloading http://yann.lecun.com/exdb/mnist/t10k-labels-idx1-ubyte.gz\n",
            "Downloading http://yann.lecun.com/exdb/mnist/t10k-labels-idx1-ubyte.gz to MNIST_root_test/MNIST/raw/t10k-labels-idx1-ubyte.gz\n"
          ]
        },
        {
          "output_type": "stream",
          "name": "stderr",
          "text": [
            "100%|██████████| 4542/4542 [00:00<00:00, 1188948.93it/s]"
          ]
        },
        {
          "output_type": "stream",
          "name": "stdout",
          "text": [
            "Extracting MNIST_root_test/MNIST/raw/t10k-labels-idx1-ubyte.gz to MNIST_root_test/MNIST/raw\n",
            "\n"
          ]
        },
        {
          "output_type": "stream",
          "name": "stderr",
          "text": [
            "\n"
          ]
        }
      ],
      "source": [
        "tr = ToTensor()\n",
        "\n",
        "img_dim = 28\n",
        "\n",
        "def _transform(x):\n",
        "  x = x.resize((img_dim, img_dim))\n",
        "  return (tr(x) * 2.0 - 1.0).reshape(-1)\n",
        "\n",
        "bsize = 32\n",
        "\n",
        "MNIST_train_data = MNIST(\n",
        "    \"MNIST_root/\",\n",
        "    download=True,\n",
        "    train=True,\n",
        "    transform=_transform,\n",
        ")\n",
        "train_data_loader = torch.utils.data.DataLoader(\n",
        "    MNIST_train_data,\n",
        "    batch_size=bsize,\n",
        "    shuffle=True,\n",
        "    num_workers=1,\n",
        ")\n",
        "\n",
        "MNIST_test_data = MNIST(\n",
        "    \"MNIST_root_test/\",\n",
        "    download=True,\n",
        "    train=False,\n",
        "    transform=_transform,\n",
        ")\n",
        "test_data_loader = torch.utils.data.DataLoader(\n",
        "    MNIST_test_data,\n",
        "    batch_size=bsize,\n",
        "    shuffle=True,\n",
        "    num_workers=1,\n",
        ")"
      ]
    },
    {
      "cell_type": "code",
      "execution_count": 3,
      "metadata": {
        "id": "_1cLnafymDzd"
      },
      "outputs": [],
      "source": [
        "def _cat2d(rows, cols, d=32):\n",
        "  \"\"\"\n",
        "  Index in the log-softmax scale.\n",
        "  After sotmax (in the partition dimension)\n",
        "  -inf --> 0\n",
        "  1.0  --> 1\n",
        "  \"\"\"\n",
        "  assert rows + cols <= d\n",
        "  inf = 1.0\n",
        "  idx = np.zeros((rows, cols, d)) - inf\n",
        "  for row in range(rows):\n",
        "    for col in range(cols):\n",
        "      idx[row, col, row] = 1.0\n",
        "      idx[row, col, rows + col] = 1.0\n",
        "  idx = torch.from_numpy(idx)\n",
        "  idx = idx.reshape(rows * cols, d)\n",
        "  return idx\n",
        "\n",
        "def cartesian_idx(rows, cols, d=2):\n",
        "  idx = np.zeros((rows, cols, d))\n",
        "  for row in range(rows):\n",
        "    for col in range(cols):\n",
        "      # idx[row, col, 0] = (1 + row) / rows\n",
        "      # idx[row, col, 1] = (1 + col) / cols\n",
        "      idx[row, col, 0] = 2.0 * ((row) / rows) - 1.0 ### (row + 1)\n",
        "      idx[row, col, 1] = 2.0 * ((col) / cols) - 1.0 ### (col + 1)\n",
        "  idx = torch.from_numpy(idx)\n",
        "  idx = idx.reshape(rows * cols, d)\n",
        "  return idx"
      ]
    },
    {
      "cell_type": "markdown",
      "metadata": {
        "id": "ilOucSYLd2zy"
      },
      "source": [
        "### Kernels, similaridades e funções de índice"
      ]
    },
    {
      "cell_type": "markdown",
      "metadata": {
        "id": "tzKu4c8hisNY"
      },
      "source": [
        "#### Kernels"
      ]
    },
    {
      "cell_type": "code",
      "execution_count": 4,
      "metadata": {
        "id": "XG4U__-kiw2J"
      },
      "outputs": [],
      "source": [
        "def _soft_kernel(idxu, part_dim):\n",
        "  \"\"\"\n",
        "  idxu: M x d_u x d_idx\n",
        "  \"\"\"\n",
        "  m, d_u, d_idx = idxu.shape\n",
        "  assert d_idx % part_dim == 0\n",
        "  range = 20.0\n",
        "  norm_idxu = range * idxu.reshape(m, d_u, -1, part_dim) - (range / 2.0)\n",
        "  norm_idxu = torch.softmax(norm_idxu, dim=-1)\n",
        "  dim_norm = (d_idx // part_dim) ** 0.5\n",
        "  norm_idxu = norm_idxu.reshape(m, d_u, d_idx) / dim_norm\n",
        "  return norm_idxu\n",
        "\n",
        "def _cosine_kernel(idxu, *args, **kwargs):\n",
        "  \"\"\"\n",
        "  idxu: M x d_u x d_idx\n",
        "  \"\"\"\n",
        "  # TODO: compute min_idx, max_idx and normalize\n",
        "  m, d_u, d_idx = idxu.shape\n",
        "  min_idxu = torch.min(idxu, dim=1)[0].unsqueeze(1)\n",
        "  max_idxu = torch.max(idxu, dim=1)[0].unsqueeze(1)\n",
        "  eps = 1e-4\n",
        "  idxu = (idxu - min_idxu) / (max_idxu - min_idxu + eps)\n",
        "  norm_idxu = idxu / (torch.norm(idxu, dim=-1).unsqueeze(-1) + eps)\n",
        "  # Reverse kernel trick for polynomial x^2\n",
        "  idxu2 = norm_idxu.reshape(-1, d_idx, 1)\n",
        "  idxu2 = torch.bmm(idxu2, idxu2.permute(0, 2, 1)).reshape(m, d_u, -1)\n",
        "  # return norm_idxu\n",
        "  return idxu2"
      ]
    },
    {
      "cell_type": "markdown",
      "metadata": {
        "id": "YLr5gOnn5RRu"
      },
      "source": [
        "#### Similaridades"
      ]
    },
    {
      "cell_type": "code",
      "execution_count": 5,
      "metadata": {
        "id": "S9RbSzv45T8B"
      },
      "outputs": [],
      "source": [
        "def squared_cosine(idxu, idxv):\n",
        "  \"\"\"\n",
        "  idxu: pre_shape x d_idx\n",
        "  idxv: pre_shape x d_idx\n",
        "  \"\"\"\n",
        "  assert idxu.shape == idxv.shape\n",
        "  d_idx = idxu.shape[-1]\n",
        "  sim = torch.bmm(\n",
        "      idxu.reshape(-1, 1, d_idx),\n",
        "      idxv.reshape(-1, d_idx, 1),\n",
        "  )\n",
        "  # sim = (torch.exp(sim) - 1.0) / (1.718)\n",
        "  sim = sim ** 4.0\n",
        "  return sim\n",
        "\n",
        "def relu_cosine(idxu, idxv, bias=0.9):\n",
        "  \"\"\"\n",
        "  idxu: pre_shape x d_idx\n",
        "  idxv: pre_shape x d_idx\n",
        "  \"\"\"\n",
        "  assert idxu.shape == idxv.shape\n",
        "  d_idx = idxu.shape[-1]\n",
        "  sim = nn.functional.relu(\n",
        "      torch.bmm(\n",
        "          idxu.reshape(-1, 1, d_idx),\n",
        "          idxv.reshape(-1, d_idx, 1),\n",
        "      )\n",
        "      - bias\n",
        "  )\n",
        "  sim = sim.reshape(idxu.shape[:-1])\n",
        "  return sim"
      ]
    },
    {
      "cell_type": "markdown",
      "metadata": {
        "id": "XzzFCy32AGsX"
      },
      "source": [
        "#### Funções-valor"
      ]
    },
    {
      "cell_type": "code",
      "execution_count": 6,
      "metadata": {
        "id": "zvUcMTxDAJlx"
      },
      "outputs": [],
      "source": [
        "def vecsum(u, v):\n",
        "  return u + v\n",
        "\n",
        "def vecmean(u, v):\n",
        "  return (u + v) / 2.0\n",
        "\n",
        "def vecprod(u, v):\n",
        "  \"\"\"\n",
        "  Element-wise product. NOT dot product.\n",
        "  \"\"\"\n",
        "  return u * v"
      ]
    },
    {
      "cell_type": "markdown",
      "metadata": {
        "id": "eTvUP7nZjDd7"
      },
      "source": [
        "#### Dots"
      ]
    },
    {
      "cell_type": "markdown",
      "metadata": {
        "id": "9Ytm2bU_JvrK"
      },
      "source": [
        "##### Utilities"
      ]
    },
    {
      "cell_type": "code",
      "execution_count": 7,
      "metadata": {
        "id": "Nzos5YCYJozy"
      },
      "outputs": [],
      "source": [
        "class Pairwise:\n",
        "  def __init__(self, f):\n",
        "    \"\"\"\n",
        "    f: (pre_shape x d_val, pre_shape x d_val) -> pre_shape x d_val_out\n",
        "    \"\"\"\n",
        "    self._f = f\n",
        "\n",
        "  def __call__(self, u, v):\n",
        "    \"\"\"\n",
        "    u: pre_shape_u x d_u x d_val\n",
        "    v: pre_shape_v x d_v x d_val\n",
        "    ans: pre_shape_u x pre_shape_v x d_u x d_v x d_val_out\n",
        "    \"\"\"\n",
        "    ps_u, ps_v = u.shape[:-2], v.shape[:-2]\n",
        "    pps_u, pps_v = np.prod(ps_u), np.prod(ps_v)\n",
        "    d_u, d_val = u.shape[-2:]\n",
        "    d_v, d_valv = v.shape[-2:]\n",
        "    assert d_val == d_valv\n",
        "    # u, v: pps_u x pps_v x d_u x d_v x d_val\n",
        "    u = u.reshape(pps_u,     1, d_u,   1, d_val)\n",
        "    v = v.reshape(    1, pps_v,   1, d_v, d_val)\n",
        "    u = u.repeat(     1, pps_v,   1, d_v,     1)\n",
        "    v = v.repeat( pps_u,     1, d_u,   1,     1)\n",
        "    # fuv: ps_u x ps_v x d_u x d_v x d_val_out\n",
        "    fuv = self._f(u, v)\n",
        "    fuv = fuv.reshape(*ps_u, *ps_v, d_u, d_v, -1)\n",
        "    return fuv\n",
        "\n",
        "def __minmax_normalize(idxu):\n",
        "  \"\"\"\n",
        "  idxu: pre_shape x d_idx\n",
        "  \"\"\"\n",
        "  min_idxu = torch.min(idxu, dim=1)[0].unsqueeze(1)\n",
        "  max_idxu = torch.max(idxu, dim=1)[0].unsqueeze(1)\n",
        "  eps = 1e-6\n",
        "  idxu = min_idxu + ((idxu - min_idxu) / (max_idxu - min_idxu + eps))\n",
        "  return idxu\n",
        "\n",
        "def minmax_normalize(idxu):\n",
        "  \"\"\"\n",
        "  idxu: pre_shape x d_idx\n",
        "  \"\"\"\n",
        "  min_idxu = torch.min(idxu, dim=1)[0].unsqueeze(1)\n",
        "  max_idxu = torch.max(idxu, dim=1)[0].unsqueeze(1)\n",
        "  eps = 1e-6\n",
        "  idxu = 2.0 * ((idxu - min_idxu) / (max_idxu - min_idxu + eps)) - 1.0\n",
        "  return idxu\n",
        "\n",
        "def norm_normalize(u):\n",
        "  \"\"\"\n",
        "  u: pre_shape x d_val\n",
        "  \"\"\"\n",
        "  eps = 1e-6\n",
        "  u = u / (u.norm(dim=-1).unsqueeze(-1) + eps)\n",
        "  return u\n",
        "\n",
        "def normalized(idxu):\n",
        "  \"\"\"\n",
        "  idxu: pre_shape x d_idx\n",
        "  \"\"\"\n",
        "  idxu = minmax_normalize(idxu)\n",
        "  idxu = norm_normalize(idxu)\n",
        "  return idxu\n",
        "\n",
        "from functools import lru_cache\n",
        "\n",
        "@lru_cache()\n",
        "def get_eye(m, d_u, d_v, n, device=\"cpu\"):\n",
        "  eye = (\n",
        "      torch.eye(max(d_u, d_v))\n",
        "      [:d_u, :d_v]\n",
        "      .unsqueeze(0)\n",
        "      .unsqueeze(-1)\n",
        "      .repeat(m, 1, 1, n)\n",
        "      .to(device)\n",
        "  )\n",
        "  return eye"
      ]
    },
    {
      "cell_type": "markdown",
      "metadata": {
        "id": "e0TdCxX0Jzn0"
      },
      "source": [
        "##### Dot products"
      ]
    },
    {
      "cell_type": "code",
      "execution_count": 8,
      "metadata": {
        "id": "LBhkMTmSeAP0"
      },
      "outputs": [],
      "source": [
        "def _sgbmd(u, v, idxu, idxv, sim=None, f=None, normalize=True) -> torch.Tensor:\n",
        "  \"\"\"\n",
        "  \"Slow General Batch Maromba Dot\"\n",
        "  Slower, more general, implementation for the \"batch maromba dot\" operation.\n",
        "  u: M x d_u x d_val\n",
        "  v: N x d_v x d_val\n",
        "  idxu: M x d_u x d_idx\n",
        "  idxv: N x d_v x d_idx\n",
        "  sim: index similarity function\n",
        "  f: value function\n",
        "  \"\"\"\n",
        "  m, d_u, d_idx  = idxu.shape\n",
        "  n, d_v, d_idxv = idxv.shape\n",
        "  d_val = u.shape[-1]\n",
        "  assert d_idx == d_idxv\n",
        "  assert d_val == v.shape[-1]\n",
        "  assert (m, d_u) == u.shape[:2]\n",
        "  assert (n, d_v) == v.shape[:2]\n",
        "  sim = Pairwise(sim)\n",
        "  f = Pairwise(f)\n",
        "  ###\n",
        "  idxu = normalized(idxu)\n",
        "  idxv = normalized(idxv)\n",
        "  ###\n",
        "  # sims: (M * N) x 1 x (d_u * d_v)\n",
        "  # vals: (M * N) x (d_u * d_v) x d_val\n",
        "  sims = sim(idxu, idxv).reshape(m * n, 1, d_u * d_v) ###\n",
        "  norm = 1.0\n",
        "  if normalize:\n",
        "    # norm: (M * N) x 1\n",
        "    norm = sims.sum(dim=-1)\n",
        "  vals = f(u, v)\n",
        "  vals = vals.reshape(m * n, d_u * d_v, d_val)\n",
        "  # dot: M x N x d_val\n",
        "  dot = torch.bmm(sims, vals).squeeze(1)\n",
        "  eps = 1e-8\n",
        "  dot = (dot / (norm + eps)).reshape(m, n, d_val)\n",
        "  return dot\n",
        "\n",
        "def _rdot(u, v, *args):\n",
        "  \"\"\"\n",
        "  \"Regular Dot product\"\n",
        "  u: M x d_u x d_val\n",
        "  v: N x d_v x d_val\n",
        "  \"\"\"\n",
        "  m, d_u, d_val = u.shape\n",
        "  n, d_v, _d_val = v.shape\n",
        "  if d_u != d_v:\n",
        "    return _nsbmd(u, v, *args)\n",
        "  assert _d_val == d_val\n",
        "  dot = (\n",
        "      u.permute(0, 2, 1).reshape(-1, d_u)\n",
        "      @ v.permute(1, 0, 2).reshape(d_v, -1)\n",
        "  ).reshape(m, d_val, n, d_val).permute(0, 2, 1, 3)\n",
        "  dot = torch.diagonal(dot, dim1=2, dim2=3)\n",
        "  return dot\n",
        "\n",
        "def _nsbmd(u, v, idxu, idxv, bias=0.5) -> torch.Tensor:\n",
        "  \"\"\"\n",
        "  \"Non-linear Similarity Batch Maromba Dot\"\n",
        "  u: M x d_u x d_val\n",
        "  v: N x d_v x d_val\n",
        "  idxu: M x d_u x d_idx\n",
        "  idxv: N x d_v x d_idx\n",
        "  \"\"\"\n",
        "  m, d_u, d_idx  = idxu.shape\n",
        "  n, d_v, d_idxv = idxv.shape\n",
        "  d_val = u.shape[-1]\n",
        "  assert d_idx == d_idxv\n",
        "  assert d_val == v.shape[-1]\n",
        "  assert (m, d_u) == u.shape[:2]\n",
        "  assert (n, d_v) == v.shape[:2]\n",
        "  # Pdb().set_trace()\n",
        "  idxu = normalized(idxu)\n",
        "  idxv = normalized(idxv)\n",
        "  # idxuv: M x d_u x d_v x N\n",
        "  # normalizer: M x N x 1\n",
        "  idxuv = idxu.reshape(m * d_u, d_idx) @ idxv.reshape(n * d_v, d_idx).T\n",
        "  idxuv = idxuv.reshape(m, d_u, n, d_v).permute(0, 1, 3, 2)\n",
        "  # idxuv = idxuv ** 6.0\n",
        "  # idxuv = nn.functional.relu(idxuv - bias) ###\n",
        "  mag = 10.0 # 20.0 2.0 10.0 200.0\n",
        "  idxuv = nn.functional.softmax(mag * idxuv - (mag / 2.0), dim=2)\n",
        "  # idxuv = nn.functional.gumbel_softmax(\n",
        "  #     6.0 * idxuv - 3.0, dim=2, hard=False, tau=0.2\n",
        "  # )\n",
        "  # idxuv = get_eye(m, d_u, d_v, n, idxuv.device)\n",
        "  # idxuv = idxuv / (idxuv.sum(dim=2).unsqueeze(2) + 1e-6)\n",
        "  # Pdb().set_trace()\n",
        "  ###\n",
        "  # normalizer = idxuv.reshape(m, d_u * d_v, n).sum(dim=1).reshape(m, n, 1)\n",
        "  ###\n",
        "  # normalizer = 1.0 - 1e-6\n",
        "  # uidxuv: (M x d_val x d_v x N) -> (N x d_v x d_val x M)\n",
        "  uidxuv = (\n",
        "      torch.bmm(\n",
        "        u.permute(0, 2, 1),\n",
        "        idxuv.reshape(m, d_u, d_v * n)\n",
        "      )\n",
        "      .reshape(m, d_val, d_v, n)\n",
        "      .permute(3, 2, 1, 0)\n",
        "  )\n",
        "  # uidxuvv: N x M x d_val x d_val\n",
        "  uidxuvv = (\n",
        "      torch.bmm(\n",
        "          uidxuv.permute(0, 3, 2, 1).reshape(n * m, d_val, d_v),\n",
        "          v.unsqueeze(1).repeat(1, m, 1, 1).reshape(n * m, d_v, d_val)\n",
        "      )\n",
        "      .reshape(n, m, d_val, d_val)\n",
        "  )\n",
        "  # dot: M x N x d_val\n",
        "  dot = torch.diagonal(uidxuvv, dim1=2, dim2=3)\n",
        "  dot = dot.permute(1, 0, 2)\n",
        "  # dot = dot / (normalizer + 1e-6)\n",
        "  return dot\n",
        "\n",
        "def _gbmd(u, v, idxu, idxv, kernel=None, idx_part=None) -> torch.Tensor:\n",
        "  \"\"\"\n",
        "  \"General Batch Maromba Dot\"\n",
        "  Shorter implementation for the \"batch maromba dot\" operation.\n",
        "  u: M x d_u\n",
        "  v: N x d_v\n",
        "  idxu: M x d_u x d_idx\n",
        "  idxv: N x d_v x d_idx\n",
        "  \"\"\"\n",
        "  m, d_u = u.shape\n",
        "  n, d_v = v.shape\n",
        "  d_idx = idxu.shape[-1]\n",
        "  assert (m, d_u, d_idx) == idxu.shape\n",
        "  assert (n, d_v, d_idx) == idxv.shape\n",
        "  if kernel:\n",
        "    idxu = kernel(idxu, idx_part)\n",
        "    idxv = kernel(idxv, idx_part)\n",
        "  # uidxu: M x d_idx\n",
        "  # vidxv: N x d_idx\n",
        "  uidxu = torch.bmm(u.reshape(m, 1, d_u), idxu).squeeze(1)\n",
        "  vidxv = torch.bmm(v.reshape(n, 1, d_v), idxv).squeeze(1)\n",
        "  dot = uidxu @ vidxv.T\n",
        "  ### Under experimentation\n",
        "  normalizer = idxu.sum(dim=1) @ idxv.sum(dim=1).T\n",
        "  dot = dot / (normalizer + 1e-8) ###\n",
        "  ###\n",
        "  return dot"
      ]
    },
    {
      "cell_type": "markdown",
      "metadata": {
        "id": "_T9hF3Uoi3tF"
      },
      "source": [
        "#### Índices"
      ]
    },
    {
      "cell_type": "code",
      "execution_count": 9,
      "metadata": {
        "id": "UrPFWDtli55C"
      },
      "outputs": [],
      "source": [
        "def _fast_kernel_idx_sum(idxu, idxv, k, idx_part):\n",
        "  \"\"\"\n",
        "  k: callable: A x B x C -> A x B x C\n",
        "  idxu: M x d_u x d_idx\n",
        "  idxv: N x d_v x d_idx\n",
        "  \"\"\"\n",
        "  ### idxu MUST be the input mini-batch\n",
        "  batch_m = 1 # idxu.shape[0]\n",
        "  # idxu = idxu.mean(dim=0).unsqueeze(0)\n",
        "  ###\n",
        "  m, d_u, d_idx = idxu.shape\n",
        "  n, d_v, _ = idxv.shape\n",
        "  assert d_idx == idxv.shape[-1]\n",
        "  # kidxu: M x d_u x d_idx\n",
        "  # kidxv: N x d_v x d_idx\n",
        "  kidxu = k(idxu, idx_part)\n",
        "  kidxv = k(idxv, idx_part)\n",
        "  d_idx_k = kidxu.shape[-1]\n",
        "  assert kidxu.shape[:-1] == idxu.shape[:-1]\n",
        "  assert kidxv.shape[:-1] == idxv.shape[:-1]\n",
        "  # kiTi: (M * d_idx) x d_idx(k)\n",
        "  # kjTj: (N * d_idx) x d_idx(k)\n",
        "  iTki = torch.bmm(idxu.permute(0, 2, 1), kidxu).reshape(m * d_idx, d_idx_k)\n",
        "  jTkj = torch.bmm(idxv.permute(0, 2, 1), kidxv).reshape(n * d_idx, d_idx_k)\n",
        "  ski = kidxu.sum(dim=1)\n",
        "  skj = kidxv.sum(dim=1)\n",
        "  norm = (ski @ skj.T).unsqueeze(-1)\n",
        "  # sidx: (M * d_idx) x N + (N * d_idx) x M\n",
        "  sidx = (\n",
        "      (iTki @ skj.T).reshape(m, d_idx, n).permute(0, 2, 1)\n",
        "      + (jTkj @ ski.T).reshape(n, d_idx, m).permute(2, 0, 1)\n",
        "  )\n",
        "  sidx = sidx / norm\n",
        "  sidx = sidx.repeat(batch_m, 1, 1)\n",
        "  return sidx\n",
        "\n",
        "def _fast_kernel_idx(idxu, idxv, k, _idx_part):\n",
        "  \"\"\"\n",
        "  k: callable: A x B x C -> A x B x C\n",
        "  idxu: M x d_u x d_idx\n",
        "  idxv: N x d_v x d_idx\n",
        "  \"\"\"\n",
        "  ### idxu MUST be the input mini-batch\n",
        "  batch_m = 1 # idxu.shape[0]\n",
        "  # idxu = idxu.mean(dim=0).unsqueeze(0)\n",
        "  ###\n",
        "  m, d_u, d_idx = idxu.shape\n",
        "  n, d_v, _ = idxv.shape\n",
        "  assert d_idx == idxv.shape[-1]\n",
        "  # kidxu: M x d_u x d_idx\n",
        "  # kidxv: N x d_v x d_idx\n",
        "  kidxu = k(idxu, _idx_part)\n",
        "  kidxv = k(idxv, _idx_part)\n",
        "  assert kidxu.shape == idxu.shape\n",
        "  assert kidxv.shape == idxv.shape\n",
        "  # kiTi: (M * d_idx) x d_idx(k)\n",
        "  # kjTj: (N * d_idx) x d_idx(k)\n",
        "  iTki = torch.bmm(idxu.permute(0, 2, 1), kidxu).reshape(m * d_idx, d_idx)\n",
        "  jTkj = torch.bmm(idxv.permute(0, 2, 1), kidxv).reshape(n * d_idx, d_idx)\n",
        "  # iTki_kjTj: M x N x d_idx x d_idx\n",
        "  iTki_kjTj = (iTki @ jTkj.T).reshape(m, d_idx, n, d_idx).permute(0, 2, 1, 3)\n",
        "  diag = torch.diagonal(iTki_kjTj, dim1=2, dim2=3)\n",
        "  ###\n",
        "  ski = kidxu.sum(dim=1)\n",
        "  skj = kidxv.sum(dim=1)\n",
        "  norm = (ski @ skj.T).unsqueeze(-1)\n",
        "  diag = diag / norm\n",
        "  ###\n",
        "  diag = diag.repeat(batch_m, 1, 1)\n",
        "  return diag\n",
        "\n",
        "def _kernel_idx(idxu, idxv, k, _idx_part):\n",
        "  \"\"\"\n",
        "  k: callable: A x B x C -> A x B x C\n",
        "  idxu: M x d_u x d_idx\n",
        "  idxv: N x d_v x d_idx\n",
        "  \"\"\"\n",
        "  m, d_u, d_idx = idxu.shape\n",
        "  n, d_v, _ = idxv.shape\n",
        "  assert d_idx == idxv.shape[-1]\n",
        "  # kidxu: M x d_u x d_idx\n",
        "  # kidxv: N x d_v x d_idx\n",
        "  kidxu = k(idxu, _idx_part)\n",
        "  kidxv = k(idxv, _idx_part)\n",
        "  assert kidxu.shape == idxu.shape\n",
        "  assert kidxv.shape == idxv.shape\n",
        "  # ski: (M * N) x d_idx\n",
        "  # skj: (M * N) x d_idx\n",
        "  # norm: M x N x 1\n",
        "  ski = kidxu.sum(dim=1)\n",
        "  skj = kidxv.sum(dim=1)\n",
        "  norm = (ski @ skj.T).unsqueeze(-1)\n",
        "  ski = ski.unsqueeze(1).repeat(1, n, 1).reshape(m * n, d_idx, 1)\n",
        "  skj = skj.unsqueeze(1).repeat(m, 1, 1).reshape(m * n, d_idx, 1)\n",
        "  # idxu, kidxu: (M * d_u) x d_idx x 1\n",
        "  # idxv, kidxv: (N * d_v) x d_idx x 1\n",
        "  idxu = idxu.reshape(m * d_u, d_idx, 1)\n",
        "  idxv = idxv.reshape(n * d_v, d_idx, 1)\n",
        "  kidxu = kidxu.reshape(m * d_u, d_idx, 1)\n",
        "  kidxv = kidxv.reshape(n * d_v, d_idx, 1)\n",
        "  # sikiT: M x d_idx x d_idx\n",
        "  # sjkjT: N x d_idx x d_idx\n",
        "  sikiT = torch.bmm(idxu, kidxu.permute(0, 2, 1))\n",
        "  sikiT = sikiT.reshape(m, d_u, d_idx, d_idx).sum(dim=1)\n",
        "  sjkjT = torch.bmm(idxv, kidxv.permute(0, 2, 1))\n",
        "  sjkjT = sjkjT.reshape(n, d_v, d_idx, d_idx).sum(dim=1)\n",
        "  del kidxu\n",
        "  del kidxv\n",
        "  del idxu\n",
        "  del idxv\n",
        "  # sikiT: (M * N) x d_idx x d_idx\n",
        "  # sjkjT: (M * N) x d_idx x d_idx\n",
        "  sikiT = sikiT.unsqueeze(1).repeat(1, n, 1, 1).reshape(m * n, d_idx, d_idx)\n",
        "  sjkjT = sjkjT.unsqueeze(0).repeat(m, 1, 1, 1).reshape(m * n, d_idx, d_idx)\n",
        "  # diag_sikiT_skjjT: (M * N) x d_idx\n",
        "  # skjjT = sjkjT.permute(0, 2, 1)\n",
        "  # diag_sikiT_skjjT = torch.diagonal(torch.bmm(sikiT, skjjT), dim1=1, dim2=2)\n",
        "  # diag_sikiT_skjjT = diag_sikiT_skjjT.unsqueeze(-1)\n",
        "  xor_idx = torch.bmm(sikiT, skj) + torch.bmm(sjkjT, ski)\n",
        "  # xor_idx = torch.bmm(sikiT, skj) + torch.bmm(sjkjT, ski) - diag_sikiT_skjjT\n",
        "  # xor_idx = diag_sikiT_skjjT\n",
        "  xor_idx = xor_idx.reshape(m, n, d_idx)\n",
        "  xor_idx = xor_idx / norm\n",
        "  return xor_idx"
      ]
    },
    {
      "cell_type": "markdown",
      "metadata": {
        "id": "kTfYY3SQXNJF"
      },
      "source": [
        "### Classe Tensor Maromba"
      ]
    },
    {
      "cell_type": "code",
      "execution_count": 10,
      "metadata": {
        "id": "OJVRPHg7UvVV"
      },
      "outputs": [],
      "source": [
        "class MTensor:\n",
        "  def __init__(\n",
        "      self,\n",
        "      values: torch.Tensor,\n",
        "      indices: torch.Tensor,\n",
        "      indexer: nn.Module=nn.Identity(),\n",
        "    ):\n",
        "    assert values.shape == indices.shape[:-1]\n",
        "    self.data = values\n",
        "    self.idx = indices\n",
        "    self.idx_dim = indices.shape[-1]\n",
        "    self.indexer = indexer\n",
        "    self._idx_part = img_dim\n",
        "    self._eps = 1e-6\n",
        "\n",
        "  def __getitem__(self, idx):\n",
        "    return MTensor(self.data[idx], self.idx[idx], self.indexer)\n",
        "\n",
        "  def __setitem__(self, idx, value):\n",
        "    self.data[idx] = value.data\n",
        "    self.idx[idx] = value.idx\n",
        "\n",
        "  def __delitem__(self, idx):\n",
        "    del self.data[idx]\n",
        "    del self.idx[idx]\n",
        "\n",
        "  def __len__(self):\n",
        "    return len(self.data)\n",
        "\n",
        "  @staticmethod\n",
        "  def cat(mts, dim=0):\n",
        "    values = [mt.data for mt in mts]\n",
        "    indices = [mt.idx for mt in mts]\n",
        "    values = torch.cat(values, dim=dim)\n",
        "    indices = torch.cat(indices, dim=dim)\n",
        "    mt = MTensor(values, indices)\n",
        "    return mt\n",
        "\n",
        "  @staticmethod\n",
        "  def unsqueeze(mt, dim=0):\n",
        "    assert dim != -1\n",
        "    assert dim < len(mt.idx.shape) - 1\n",
        "    mt.data = mt.data.unsqueeze(dim)\n",
        "    mt.idx = mt.idx.unsqueeze(dim)\n",
        "    return mt\n",
        "\n",
        "  @staticmethod\n",
        "  def squeeze(mt, dim=0):\n",
        "    assert dim != -1\n",
        "    assert dim < len(mt.idx.shape) - 1\n",
        "    mt.data = mt.data.squeeze(dim)\n",
        "    mt.idx = mt.idx.squeeze(dim)\n",
        "    return mt\n",
        "\n",
        "  @staticmethod\n",
        "  def clone(mt):\n",
        "    return MTensor(mt.data, mt.idx, mt.indexer)\n",
        "\n",
        "  @staticmethod\n",
        "  def reshape(mt, shape):\n",
        "    idx_shape = shape + (mt.idx_dim,)\n",
        "    nmt = MTensor(\n",
        "        mt.data.reshape(shape),\n",
        "        mt.idx.reshape(idx_shape),\n",
        "        mt.indexer\n",
        "    )\n",
        "    return nmt\n",
        "\n",
        "  @staticmethod\n",
        "  def permute(mt, perm):\n",
        "    idx_perm = perm + (-1,)\n",
        "    nmt = MTensor(\n",
        "        mt.data.permute(*perm),\n",
        "        mt.idx.permute(*idx_perm),\n",
        "        mt.indexer\n",
        "    )\n",
        "    return nmt\n",
        "\n",
        "  def __matmul__(self, b):\n",
        "    \"\"\"\n",
        "    Useful for computing m-product between a batch of inputs (N x ...) and a\n",
        "    parameter matrix (m x n).\n",
        "\n",
        "    self.data: pre_shape(self) x in_dim(self)\n",
        "    self.data.idx: pre_shape(self) x in_dim(self) x d_idx\n",
        "    b.data: pre_shape(b) x in_dim(b)\n",
        "    b.idx: pre_shape(b) x in_dim(b) x d_idx\n",
        "\n",
        "    Returns \"mdot\"\n",
        "    mdot.data: pre_shape(self) x pre_shape(b)\n",
        "    mdot.idx: pre_shape(self) x pre_shape(b) x d_idx\n",
        "    \"\"\"\n",
        "    apre = self.data.shape[:-1]\n",
        "    bpre = b.data.shape[:-1]\n",
        "    d_idx = self.idx.shape[-1]\n",
        "    assert d_idx == b.idx.shape[-1]\n",
        "    aidx = self.idx.reshape(*((-1,) + self.idx.shape[-2:]))\n",
        "    bidx = b.idx.reshape(*((-1,) + b.idx.shape[-2:]))\n",
        "    kernel = _soft_kernel\n",
        "    # kernel = _cosine_kernel\n",
        "    # mdot = _gbmd(\n",
        "    #     self.data.reshape(-1, self.data.shape[-1]),\n",
        "    #     b.data.reshape(-1, b.data.shape[-1]),\n",
        "    #     aidx,\n",
        "    #     bidx,\n",
        "    #     kernel=kernel,\n",
        "    #     idx_part=self._idx_part,\n",
        "    # )\n",
        "    # mdot = _sgbmd(\n",
        "    #     self.data.reshape(-1, self.data.shape[-1], 1),\n",
        "    #     b.data.reshape(-1, b.data.shape[-1], 1),\n",
        "    #     aidx,\n",
        "    #     bidx,\n",
        "    #     sim=relu_cosine,\n",
        "    #     # sim=squared_cosine,\n",
        "    #     f=vecprod,\n",
        "    # )\n",
        "    ###\n",
        "    mdot = _nsbmd(\n",
        "        self.data.reshape(-1, self.data.shape[-1], 1),\n",
        "        b.data.reshape(-1, b.data.shape[-1], 1),\n",
        "        aidx,\n",
        "        bidx,\n",
        "    )\n",
        "    ###\n",
        "    # mdot = _rdot(\n",
        "    #     self.data.reshape(-1, self.data.shape[-1], 1),\n",
        "    #     b.data.reshape(-1, b.data.shape[-1], 1),\n",
        "    #     aidx,\n",
        "    #     bidx,\n",
        "    # )\n",
        "    ###\n",
        "    mdot = mdot.reshape(apre + bpre)\n",
        "    # New indices\n",
        "    # _kernel_idx # _fast_kernel_idx # _fast_kernel_idx_sum\n",
        "    # midx = _fast_kernel_idx_sum(\n",
        "    #     aidx,\n",
        "    #     bidx,\n",
        "    #     kernel,\n",
        "    #     self._idx_part,\n",
        "    # )\n",
        "    # midx = _sgbmd(\n",
        "    #     aidx,\n",
        "    #     bidx,\n",
        "    #     aidx,\n",
        "    #     bidx,\n",
        "    #     sim=relu_cosine,\n",
        "    #     # sim=squared_cosine,\n",
        "    #     # f=vecsum,\n",
        "    #     f=vecmean,\n",
        "    # )\n",
        "    ###\n",
        "    onesa = torch.ones(self.idx.shape).to(self.idx.device)\n",
        "    onesb = torch.ones(b.idx.shape).to(b.idx.device)\n",
        "    # midx = norm_normalize(\n",
        "    #     norm_normalize(_nsbmd(aidx, onesb, aidx, bidx))\n",
        "    #     + norm_normalize(_nsbmd(onesa, bidx, aidx, bidx))\n",
        "    # )\n",
        "    # midx = norm_normalize(_nsbmd(aidx, bidx, aidx, bidx))\n",
        "    midx = (\n",
        "        _nsbmd(aidx, onesb, aidx, bidx)\n",
        "        + _nsbmd(onesa, bidx, aidx, bidx)\n",
        "    ) / 2.0\n",
        "    # Pdb().set_trace()\n",
        "    ###\n",
        "    # midx = norm_normalize(\n",
        "    #     norm_normalize(_rdot(aidx, onesb, aidx, bidx))\n",
        "    #     + norm_normalize(_rdot(onesa, bidx, aidx, bidx))\n",
        "    # )\n",
        "    ###\n",
        "    new_shape = apre + bpre + (d_idx,)\n",
        "    midx = midx.reshape(new_shape)\n",
        "    #\n",
        "    mdot = MTensor(mdot, midx, self.indexer)\n",
        "    return mdot\n",
        "\n",
        "  def __mul__(self, b):\n",
        "    \"\"\"\n",
        "    self: N x out_a x in_a (x d_idx)\n",
        "    b:    N x out_b x in_b (x d_idx)\n",
        "    \"\"\"\n",
        "    n, out_a, in_a = self.data.shape\n",
        "    assert b.data.shape[0] == n\n",
        "    _, out_b, in_b = b.data.shape\n",
        "    d_idx = self.idx.shape[-1]\n",
        "    assert b.idx.shape[-1] == d_idx\n",
        "    ### Solução provisória. Calcular o índice com paralelismo ainda não é possível.\n",
        "    mdots = [MTensor.unsqueeze(self[idx] @ b[idx], dim=0) for idx in range(n)]\n",
        "    mdots = MTensor.cat(mdots, dim=0)\n",
        "    return mdots"
      ]
    },
    {
      "cell_type": "markdown",
      "metadata": {
        "id": "yGg59zEqYGe6"
      },
      "source": [
        "### Classe do Módulo Treinável"
      ]
    },
    {
      "cell_type": "markdown",
      "metadata": {
        "id": "1SknOTQ7O9BS"
      },
      "source": [
        "#### Sampling functions"
      ]
    },
    {
      "cell_type": "code",
      "execution_count": 11,
      "metadata": {
        "id": "WicPIpyIO3wu"
      },
      "outputs": [],
      "source": [
        "def idx2d(\n",
        "    channels: int,\n",
        "    rows: int,\n",
        "    cols: int,\n",
        "    w: int,\n",
        "    h: int,\n",
        "    stride: int=2,\n",
        "    dilation: int=1,\n",
        "    device=\"cpu\"\n",
        "  ):\n",
        "  idx = []\n",
        "  dilh = 1 + dilation * (h - 1)\n",
        "  dilw = 1 + dilation * (w - 1)\n",
        "  for row in range(0, rows - (dilh - 1), stride):\n",
        "    for col in range(0, cols - (dilw - 1), stride):\n",
        "      for ch in range(channels):\n",
        "        for drow in range(0, dilh, dilation):\n",
        "          for dcol in range(0, dilw, dilation):\n",
        "            idx.append(\n",
        "                cols * rows * ch\n",
        "                + cols * (row + drow)\n",
        "                + (col + dcol)\n",
        "            )\n",
        "  idx = torch.tensor(idx).long().to(device)\n",
        "  return idx\n",
        "\n",
        "def unsort(idxs):\n",
        "  ridxs = [0 for _ in idxs]\n",
        "  for i, idx in enumerate(idxs):\n",
        "    ridxs[idx] = i\n",
        "  ridxs = torch.tensor(ridxs).long().to(idxs.device)\n",
        "  return ridxs\n",
        "\n",
        "def get_perms(tmp_idx):\n",
        "  idxs, _idxs = [], []\n",
        "  for dim in range(tmp_idx.shape[-1]):\n",
        "    ordering = torch.argsort(tmp_idx[:, dim], stable=True)\n",
        "    idxs.append(ordering.cpu().detach())\n",
        "    _idxs.append(unsort(ordering).cpu().detach())\n",
        "  return idxs, _idxs\n",
        "\n",
        "def resort(k, src, tgt):\n",
        "  assert src == 0 or tgt == 0\n",
        "  global idxs, _idxs\n",
        "  if tgt == 0:\n",
        "    return idxs[src][k]\n",
        "  return _idxs[tgt][k]\n",
        "\n",
        "def hoods(dims, k0, w, _min=0, _max=None):\n",
        "  assert len(dims) == len(w), f\"{len(dims)} != {len(w)}\"\n",
        "  if len(dims) == 0:\n",
        "    return [k0] # [k0.item()]\n",
        "  _hoods = []\n",
        "  global idxs, _idxs\n",
        "  _k0d = resort(k0, 0, dims[-1]) #, idxs, _idxs)\n",
        "  for _w in range(-(w[-1] // 2), (w[-1] // 2) + (w[-1] % 2)):\n",
        "    # k0d = min(_max, max(_min, _k0d + _w))\n",
        "    k0d = torch.clip(_k0d + _w, min=_min, max=_max)\n",
        "    _hoods += hoods(\n",
        "        dims[:-1],\n",
        "        resort(\n",
        "            k0d,\n",
        "            dims[-1], 0,\n",
        "            # idxs, _idxs\n",
        "        ),\n",
        "        w[:-1],\n",
        "        # idxs, _idxs,\n",
        "        _min, _max\n",
        "    )\n",
        "  return _hoods\n",
        "\n",
        "idxs, _idxs = None, None\n",
        "\n",
        "from sklearn.neighbors import NearestNeighbors\n",
        "\n",
        "def idxhood(xidx, ws, stride, sample=False):\n",
        "  xidx = xidx.reshape(-1, xidx.shape[-1]).cpu().detach().numpy()\n",
        "  # set desired number of neighbors\n",
        "  nneigh = int(np.prod(ws))\n",
        "  neigh = NearestNeighbors(n_neighbors=nneigh)\n",
        "  neigh.fit(xidx)\n",
        "  # select indices of k nearest neighbors of the vectors in the input list\n",
        "  if sample:\n",
        "    num_samples = (len(xidx) + (len(xidx) % stride)) // stride\n",
        "    subidx = np.random.choice(len(xidx), size=num_samples, replace=False)\n",
        "    all_hoods = neigh.kneighbors(\n",
        "        xidx[subidx], return_distance=False\n",
        "    ).reshape(-1)\n",
        "  else:\n",
        "    all_hoods = neigh.kneighbors(\n",
        "        xidx[::stride], return_distance=False\n",
        "    ).reshape(-1)\n",
        "  all_hoods = torch.from_numpy(all_hoods).long()\n",
        "  return all_hoods\n",
        "\n",
        "def _idxhood(xidx, ws, stride):\n",
        "  \"\"\"\n",
        "  xidx: in_dim x idx_dim\n",
        "  \"\"\"\n",
        "  dims = tuple(range(xidx.shape[-1]))\n",
        "  global idxs, _idxs\n",
        "  idxs, _idxs = get_perms(xidx)\n",
        "  pivots = torch.tensor([piv for piv in range(0, len(xidx), stride)]).long()\n",
        "  all_hoods = hoods(dims, pivots, ws, 0, len(xidx) - 1)\n",
        "  # all_hoods = torch.tensor(all_hoods).long().T.reshape(-1)\n",
        "  all_hoods = torch.cat(all_hoods, dim=0).reshape(len(all_hoods), -1).T\n",
        "  all_hoods = all_hoods.reshape(-1)\n",
        "  # Pdb().set_trace()\n",
        "  return all_hoods"
      ]
    },
    {
      "cell_type": "markdown",
      "metadata": {
        "id": "jdZ8zHIcPQPS"
      },
      "source": [
        "#### MModule"
      ]
    },
    {
      "cell_type": "code",
      "execution_count": 12,
      "metadata": {
        "id": "tQoFxrDIPScK"
      },
      "outputs": [],
      "source": [
        "class MModule(nn.Module):\n",
        "  def __init__(\n",
        "      self, n_params=600, idx_dim=32, samples=32, sets=64, device=\"cpu\",\n",
        "      probe_dim=None,\n",
        "      ):\n",
        "    super().__init__()\n",
        "    self.idx_dim = idx_dim\n",
        "    self.samples = samples\n",
        "    self.sets = sets\n",
        "    self.device = device\n",
        "    self.n_params = n_params\n",
        "    ### TODO: checar inicialização de W\n",
        "    # self.W = nn.Parameter(torch.randn((1, n_params), device=device))\n",
        "    self.W = nn.Parameter(\n",
        "        2.0 * torch.rand((1, n_params), device=device) - 1.0\n",
        "    )\n",
        "    self.W_idx = nn.Parameter(\n",
        "        2.0 * torch.rand((1, n_params, idx_dim), device=device) - 1.0\n",
        "    )\n",
        "    # self.W_idx = _W_idx\n",
        "    self.MW = MTensor(self.W, self.W_idx)\n",
        "    ###\n",
        "    if probe_dim:\n",
        "      self.probe = nn.Linear(probe_dim, 10).to(device) # 288, 400, 512\n",
        "    ###\n",
        "    # self.activation = nn.ReLU()\n",
        "    self.activation = nn.ELU()\n",
        "\n",
        "  def _W_step(\n",
        "      self,\n",
        "      x: MTensor,\n",
        "      W: MTensor,\n",
        "      sets,\n",
        "      samples,\n",
        "      random=True,\n",
        "      conv=False,\n",
        "      filter_size=4,\n",
        "      activation=True,\n",
        "      regular_dot=False):\n",
        "    \"\"\"\n",
        "    x.data: N x in_dim\n",
        "    x.idx: N x in_dim x idx_dim\n",
        "    \"\"\"\n",
        "    n, in_dim, idx_dim = x.idx.shape\n",
        "    assert x.data.shape == (n, in_dim)\n",
        "    # Put 1 into x\n",
        "    if not conv:\n",
        "      filter_size = in_dim\n",
        "    assert (in_dim % filter_size) == 0\n",
        "    num_windows = (in_dim // filter_size)\n",
        "    # one = MTensor(\n",
        "    #     torch.ones((n * num_windows), 1).to(self.device),\n",
        "    #     torch.ones((n * num_windows), 1, idx_dim).to(self.device),\n",
        "    # )\n",
        "    x = MTensor.reshape(x, (n * num_windows, filter_size))\n",
        "    # Sample W\n",
        "    if conv:\n",
        "      ### filter_size + 1\n",
        "      assert (sets * samples) % (filter_size) == 0\n",
        "      numw_windows = (sets * samples) // (filter_size)\n",
        "      sets, samples = numw_windows, (filter_size)\n",
        "    W_sets = MTensor.reshape(W, (sets, samples))\n",
        "    ## mdot: N x sets\n",
        "    # mdot: (N * num_windows) x numw_windows\n",
        "    mdot = x @ W_sets\n",
        "    if activation:\n",
        "      mdot.data = self.activation(mdot.data)\n",
        "    # mdot: N x num_windows x numw_windows\n",
        "    if conv:\n",
        "      ### Várias \"imagens\" coladas em um sentido\n",
        "      mdot = MTensor.reshape(mdot, (n, num_windows, numw_windows))\n",
        "    return mdot\n",
        "\n",
        "  def forward(self, x: MTensor):\n",
        "    \"\"\"\n",
        "    x.data: N x in_dim\n",
        "    x.idx: N x in_dim x idx_dim\n",
        "    \"\"\"\n",
        "    n_sets, n_samples = len(self.sets), len(self.samples)\n",
        "    assert n_sets == n_samples\n",
        "    assert n_sets > 0\n",
        "    ### Under experimentation\n",
        "    channels = 1\n",
        "    img_h, img_w = img_dim, img_dim\n",
        "    filter_whs = [(3, 3), (3, 3)]\n",
        "    strides = [2, 1]\n",
        "    filter_w, filter_h = filter_whs[0]\n",
        "    stride = strides[0]\n",
        "    filter_area = filter_w * filter_h\n",
        "    filter_volume = channels * filter_area\n",
        "    self.all_pools = [x[:4]]\n",
        "    idx = idx2d(\n",
        "        channels,\n",
        "        img_h, img_w,\n",
        "        filter_w, filter_h,\n",
        "        stride=stride,\n",
        "        device=self.device\n",
        "    )\n",
        "    x = x[:, idx]\n",
        "    ###\n",
        "    pool = x\n",
        "    wl, wr = 0, self.sets[0] * self.samples[0]\n",
        "    for step in range(n_sets):\n",
        "      activate = (step < n_sets - 1)\n",
        "      conv = activate\n",
        "      if conv:\n",
        "        pool = self._W_step(\n",
        "            pool,\n",
        "            self.MW[:, wl: wr],\n",
        "            self.sets[step],\n",
        "            self.samples[step],\n",
        "            random=False,\n",
        "            conv=conv,\n",
        "            filter_size=filter_volume,\n",
        "            activation=activate,\n",
        "        )\n",
        "      else:\n",
        "        pool.data = self.probe(pool.data)\n",
        "      ###\n",
        "      nxt_conv = (step + 1 < n_sets - 1)\n",
        "      ###\n",
        "      if conv:\n",
        "        # pool: N x num_windows x numw_windows\n",
        "        self.all_pools.append(pool[:4])\n",
        "        n, img_area, channels = pool.data.shape\n",
        "        filter_volume = channels * filter_area\n",
        "        pool = MTensor.permute(pool, (0, 2, 1))\n",
        "        pool = MTensor.reshape(pool, (n, -1))\n",
        "        # assert img_dim % stride == 0\n",
        "        img_h = (img_h - filter_h + stride) // stride\n",
        "        img_w = (img_w - filter_w + stride) // stride\n",
        "        assert img_h * img_w == img_area\n",
        "        # cols = pool.data.shape[1] // rows\n",
        "        nxt_conv_step = (step + 1) % len(strides)\n",
        "        filter_w, filter_h = filter_whs[nxt_conv_step]\n",
        "        stride = strides[nxt_conv_step]\n",
        "        filter_area = filter_w * filter_h\n",
        "        filter_volume = channels * filter_area\n",
        "        if nxt_conv:\n",
        "          idx = idx2d(\n",
        "              channels,\n",
        "              img_h, img_w,\n",
        "              filter_w, filter_h,\n",
        "              stride=stride,\n",
        "              device=self.device\n",
        "          )\n",
        "          pool = pool[:, idx]\n",
        "      ###\n",
        "      nxt_step = (step + 1) % n_sets\n",
        "      next_wr = wr + self.sets[nxt_step] * self.samples[nxt_step]\n",
        "      wl, wr = wr, next_wr\n",
        "    return pool"
      ]
    },
    {
      "cell_type": "markdown",
      "metadata": {
        "id": "3mlldpkcPFvk"
      },
      "source": [
        "#### MModule II"
      ]
    },
    {
      "cell_type": "code",
      "execution_count": 13,
      "metadata": {
        "id": "Oipx_P9qYUUb"
      },
      "outputs": [],
      "source": [
        "class MModule2(nn.Module):\n",
        "  def __init__(\n",
        "      self, n_params=600, idx_dim=32, samples=32, sets=64, device=\"cpu\",\n",
        "      probe_dim=None,\n",
        "      ):\n",
        "    super().__init__()\n",
        "    self.idx_dim = idx_dim\n",
        "    self._samples = samples\n",
        "    self.samples = [int(np.prod(samp)) for samp in samples]\n",
        "    self.sets = sets\n",
        "    self.device = device\n",
        "    self.n_params = n_params\n",
        "    ### TODO: checar inicialização de W\n",
        "    # self.W = nn.Parameter(torch.randn((1, n_params), device=device))\n",
        "    self.W = nn.Parameter(\n",
        "        2.0 * torch.rand((1, n_params), device=device) - 1.0\n",
        "    )\n",
        "    self.W_idx = nn.Parameter(\n",
        "        2.0 * torch.rand((1, n_params, idx_dim), device=device) - 1.0\n",
        "    )\n",
        "    # self.W_idx = _W_idx\n",
        "    self.MW = MTensor(self.W, self.W_idx)\n",
        "    ###\n",
        "    if probe_dim:\n",
        "      self.probe = nn.Linear(probe_dim, 10).to(device) # 288, 400, 512\n",
        "    ###\n",
        "    # self.activation = nn.ReLU()\n",
        "    self.activation = nn.ELU()\n",
        "    self._prev_idx = None\n",
        "\n",
        "  def forward(self, x: MTensor):\n",
        "    \"\"\"\n",
        "    x.data: N x in_dim\n",
        "    x.idx: N x in_dim x idx_dim\n",
        "    \"\"\"\n",
        "    n_sets, n_samples = len(self.sets), len(self.samples)\n",
        "    assert n_sets == n_samples\n",
        "    assert n_sets > 0\n",
        "    ### Under experimentation\n",
        "    n = x.data.shape[0]\n",
        "    # filter_whs = [(3, 3, 1), (3, 3, 1), (3, 3, 1), (3, 3, 1), (3, 3, 1), (3, 3, 1)]\n",
        "    filter_whs = [(samp[1], samp[2], samp[0]) for samp in self._samples[:-1]]\n",
        "    strides = self.sets[:-1] # [1, 1, 1, 1, 1, 1]\n",
        "    stride = strides[0]\n",
        "    filter_volume = np.prod(filter_whs[0])\n",
        "    self.all_pools = [x[:4]]\n",
        "    idxx = idxhood(x.idx[0], filter_whs[0], strides[0]) ### FIX\n",
        "    # pool: N x (num_windows * window_volume)\n",
        "    pool = x[:, idxx]\n",
        "    ###\n",
        "    wl, wr = 0, self.sets[0] * self.samples[0]\n",
        "    # idxw = idxhood(\n",
        "    #     mw.idx,\n",
        "    #     filter_whs[0],\n",
        "    #     strides[0]\n",
        "    # ) ### FIX\n",
        "    # mw = mw[:, idxw]\n",
        "    for step in range(n_sets):\n",
        "      activate = (step < n_sets - 1)\n",
        "      conv = activate\n",
        "      mw = MTensor.reshape(\n",
        "          self.MW[0, wl: wr],\n",
        "          (self.sets[step], self.samples[step])\n",
        "      )\n",
        "      if conv:\n",
        "        # pool: (N * num_windows) x  sets\n",
        "        pool = MTensor.reshape(pool, (-1, filter_volume)) @ mw\n",
        "        pool = MTensor.reshape(pool, (n, -1, self.sets[step]))\n",
        "      else:\n",
        "        pool.data = self.probe(pool.data)\n",
        "      ###\n",
        "      nxt_conv = (step + 1 < n_sets - 1)\n",
        "      ###\n",
        "      if conv:\n",
        "        # pool: N x num_windows x numw_windows\n",
        "        self.all_pools.append(pool[:4])\n",
        "        n, img_area, channels = pool.data.shape\n",
        "        # pool = MTensor.permute(pool, (0, 2, 1))\n",
        "        pool = MTensor.reshape(pool, (n, -1))\n",
        "        nxt_conv_step = (step + 1) % len(strides)\n",
        "        stride = strides[nxt_conv_step]\n",
        "        filter_volume = np.prod(filter_whs[nxt_conv_step])\n",
        "        if nxt_conv:\n",
        "          idxx = idxhood(\n",
        "              pool.idx[0],\n",
        "              filter_whs[nxt_conv_step],\n",
        "              strides[nxt_conv_step]\n",
        "          ) ### FIX\n",
        "          pool = pool[:, idxx]\n",
        "      ###\n",
        "      nxt_step = (step + 1) % n_sets\n",
        "      next_wr = wr + self.sets[nxt_step] * self.samples[nxt_step]\n",
        "      wl, wr = wr, next_wr\n",
        "      # param_stride = (wl + wr) // 2 # wr\n",
        "      # next_wr = param_stride + self.sets[nxt_step] * self.samples[nxt_step]\n",
        "      # wl, wr = param_stride, next_wr\n",
        "    return pool"
      ]
    },
    {
      "cell_type": "markdown",
      "source": [
        "#### MModule III"
      ],
      "metadata": {
        "id": "4NH27yFEuqtg"
      }
    },
    {
      "cell_type": "code",
      "source": [
        "from pandas.core.arrays.categorical import Shape\n",
        "class MModule3(nn.Module):\n",
        "  def __init__(\n",
        "      self, n_params=600, idx_dim=3, samples=32, sets=64, device=\"cpu\",\n",
        "      probe_dim=None,\n",
        "      ):\n",
        "    super().__init__()\n",
        "    self.idx_dim = idx_dim\n",
        "    self._samples = samples\n",
        "    self.samples = [int(np.prod(samp)) for samp in samples]\n",
        "    self.sets = sets\n",
        "    self.device = device\n",
        "    self.n_params = n_params\n",
        "    self.W, self.W_idx, self.MW = self._make_pmt(\n",
        "        (1, n_params), idx_dim, device\n",
        "    )\n",
        "    if probe_dim:\n",
        "      n_classes = 10\n",
        "      self._pw, self._pw_idx, self.probe = self._make_pmt(\n",
        "          (n_classes, probe_dim), idx_dim, device\n",
        "      )\n",
        "    self.activation = nn.ELU()\n",
        "\n",
        "  def _make_pmt(self, shape, idxdim, device):\n",
        "    _W = nn.Parameter(\n",
        "        2.0 * torch.rand(shape, device=device) - 1.0\n",
        "    )\n",
        "    _W_idx = nn.Parameter(\n",
        "        2.0 * torch.rand((*shape, idxdim), device=device) - 1.0\n",
        "    )\n",
        "    # _W_idx = (\n",
        "    #     2.0 * torch.rand((*shape, idxdim), device=device) - 1.0\n",
        "    # )\n",
        "    _mt = MTensor(_W, _W_idx)\n",
        "    return _W, _W_idx, _mt\n",
        "\n",
        "  def forward(self, x: MTensor):\n",
        "    \"\"\"\n",
        "    x.data: N x in_dim\n",
        "    x.idx: N x in_dim x idx_dim\n",
        "    \"\"\"\n",
        "    n_sets, n_samples = len(self.sets), len(self.samples)\n",
        "    assert n_sets == n_samples\n",
        "    assert n_sets > 0\n",
        "    ### Under experimentation\n",
        "    n = x.data.shape[0]\n",
        "    filter_whs = [(samp[1], samp[2], samp[0]) for samp in self._samples[:-1]]\n",
        "    strides = self.sets[:-1]\n",
        "    stride = strides[0]\n",
        "    filter_volume = np.prod(filter_whs[0])\n",
        "    self.all_pools = [x[:4]]\n",
        "    idxx = idxhood(x.idx[0], filter_whs[0], strides[0], sample=True) ### FIX\n",
        "    # pool: N x (num_windows * window_volume)\n",
        "    pool = x[:, idxx]\n",
        "    ###\n",
        "    wl, wr = 0, self.sets[0] * self.samples[0]\n",
        "    for step in range(n_sets):\n",
        "      activate = (step < n_sets - 1)\n",
        "      conv = activate\n",
        "      mw = MTensor.reshape(\n",
        "          self.MW[0, wl: wr],\n",
        "          (self.sets[step], self.samples[step])\n",
        "      )\n",
        "      if conv:\n",
        "        # pool: (N * num_windows) x  sets\n",
        "        pool = MTensor.reshape(pool, (-1, filter_volume)) @ mw\n",
        "        pool = MTensor.reshape(pool, (n, -1, self.sets[step]))\n",
        "      else:\n",
        "        # pool.data = self.probe(pool.data)\n",
        "        # pool: N x n_classes\n",
        "        pool = pool @ self.probe\n",
        "      nxt_conv = (step + 1 < n_sets - 1)\n",
        "      if conv:\n",
        "        # pool: N x num_windows x numw_windows\n",
        "        self.all_pools.append(pool[:4])\n",
        "        n, img_area, channels = pool.data.shape\n",
        "        pool = MTensor.reshape(pool, (n, -1))\n",
        "        nxt_conv_step = (step + 1) % len(strides)\n",
        "        stride = strides[nxt_conv_step]\n",
        "        filter_volume = np.prod(filter_whs[nxt_conv_step])\n",
        "        if nxt_conv:\n",
        "          idxx = idxhood(\n",
        "              pool.idx[0],\n",
        "              filter_whs[nxt_conv_step],\n",
        "              strides[nxt_conv_step],\n",
        "              sample=True,\n",
        "          ) ### FIX\n",
        "          pool = pool[:, idxx]\n",
        "      nxt_step = (step + 1) % n_sets\n",
        "      next_wr = wr + self.sets[nxt_step] * self.samples[nxt_step]\n",
        "      wl, wr = wr, next_wr\n",
        "    return pool"
      ],
      "metadata": {
        "id": "VvlcR_tmuyy2"
      },
      "execution_count": 28,
      "outputs": []
    },
    {
      "cell_type": "markdown",
      "metadata": {
        "id": "QQRFtDATXUmH"
      },
      "source": [
        "### Função de Custo"
      ]
    },
    {
      "cell_type": "code",
      "execution_count": 15,
      "metadata": {
        "id": "vX8kHpfLXVzo"
      },
      "outputs": [],
      "source": [
        "from sklearn.metrics import accuracy_score\n",
        "\n",
        "def _check_shapes(y_true, y_pred, true_index, pred_index):\n",
        "  n, d_out = y_true.shape\n",
        "  assert y_true.shape[0] == y_pred.shape[0]\n",
        "  assert true_index.shape[0] == pred_index.shape[0]\n",
        "  assert true_index.shape[-1] == pred_index.shape[-1]\n",
        "\n",
        "def _maromba_loss(y_true, y_pred, true_index, pred_index):\n",
        "  \"\"\"\n",
        "  y_true: N x d_out(true)\n",
        "  y_pred: N x d_out(pred)\n",
        "  true_index: N x d_out(true) x d_index\n",
        "  pred_index: N x d_out(pred) x d_index\n",
        "  \"\"\"\n",
        "  _check_shapes(y_true, y_pred, true_index, pred_index)\n",
        "  # index_match: N x d_out(pred) x d_out(true)\n",
        "  ###\n",
        "  pred_index = MTensor._soft_kernel(pred_index, img_dim)\n",
        "  # pred_index = MTensor._cosine_kernel(pred_index)\n",
        "  ###\n",
        "  index_match = torch.bmm(pred_index, true_index.permute(0, 2, 1))\n",
        "  ### Under experimentation\n",
        "  # index_match = nn.functional.softmax(index_match, dim=-1)\n",
        "  ###\n",
        "  # y_true_match: N x 1 x d_out(pred)\n",
        "  # y_pred_match: N x 1 x d_out(true)\n",
        "  y_pred_match = torch.bmm(y_pred.unsqueeze(1), index_match)\n",
        "  y_true_match = torch.bmm(y_true.unsqueeze(1), index_match.permute(0, 2, 1))\n",
        "  # huber = nn.HuberLoss()\n",
        "  # match_loss_lr = huber(y_pred, y_true_match.squeeze(1))\n",
        "  # match_loss_rl = huber(y_true, y_pred_match.squeeze(1))\n",
        "  # loss = match_loss_lr + match_loss_rl\n",
        "  ce = nn.CrossEntropyLoss() # nn.NLLLoss() #\n",
        "  loss_lr = ce(y_pred_match.squeeze(1), torch.argmax(y_true, dim=-1))\n",
        "  # loss_rl = ce(y_true_match.squeeze(1), torch.argmax(y_pred, dim=-1))\n",
        "  loss_rl = ce(y_pred, torch.argmax(y_true_match.squeeze(1), dim=-1))\n",
        "  loss = loss_lr + loss_rl\n",
        "  return loss\n",
        "\n",
        "def _pool2category(y_true, y_pred, true_index, pred_index):\n",
        "  _check_shapes(y_true, y_pred, true_index, pred_index)\n",
        "  # index_match: N x d_out(pred) x d_out(true)\n",
        "  index_match = torch.bmm(pred_index, true_index.permute(0, 2, 1))\n",
        "  y_pred_match = torch.bmm(y_pred.unsqueeze(1), index_match)\n",
        "  y_pred_match = torch.argmax(y_pred_match.squeeze(1), dim=-1).tolist()\n",
        "  return y_pred_match\n",
        "\n",
        "def _maromba_accuracy(y_true, y_pred, true_index, pred_index):\n",
        "  ###\n",
        "  # pred_index = MTensor._cosine_kernel(pred_index)\n",
        "  pred_index = MTensor._soft_kernel(pred_index, img_dim)\n",
        "  ###\n",
        "  y_pred_match = _pool2category(y_true, y_pred, true_index, pred_index)\n",
        "  y_true = torch.argmax(y_true, dim=-1).tolist()\n",
        "  acc = accuracy_score(y_true, y_pred_match)\n",
        "  return acc\n",
        "\n",
        "def maromba_accuracy(y_true, y_pred):\n",
        "  return _maromba_accuracy(y_true.data, y_pred.data, y_true.idx, y_pred.idx)\n",
        "\n",
        "def maromba_loss(y_true, y_pred):\n",
        "  return _maromba_loss(y_true.data, y_pred.data, y_true.idx, y_pred.idx)\n",
        "\n",
        "def regular_accuracy(y_true, y_pred):\n",
        "  y_true = torch.argmax(y_true.data, dim=-1).tolist()\n",
        "  y_pred = torch.argmax(y_pred.data, dim=-1).tolist()\n",
        "  acc = accuracy_score(y_true, y_pred)\n",
        "  return acc\n",
        "\n",
        "def regular_loss(y_true, y_pred):\n",
        "  y_true = y_true.data\n",
        "  y_pred = 10.0 * y_pred.data\n",
        "  ce = nn.CrossEntropyLoss()\n",
        "  loss = ce(y_pred, torch.argmax(y_true, dim=-1))\n",
        "  return loss\n",
        "\n",
        "maromba_loss = regular_loss\n",
        "maromba_accuracy = regular_accuracy"
      ]
    },
    {
      "cell_type": "markdown",
      "metadata": {
        "id": "039kGqbPXp4d"
      },
      "source": [
        "### Inicialização"
      ]
    },
    {
      "cell_type": "code",
      "execution_count": 16,
      "metadata": {
        "id": "CeSzd7OmTDDn"
      },
      "outputs": [],
      "source": [
        "num_classes = 10\n",
        "rows, cols = img_dim, img_dim\n",
        "hidden_dim = 1 * img_dim\n",
        "clf_dim = (1 + (num_classes - 1) // img_dim) * img_dim\n",
        "idx_dim = 3 # rows + cols + hidden_dim + clf_dim # 3\n",
        "\n",
        "# template_x_idx = _cat2d(rows, cols, d=idx_dim)\n",
        "template_x_idx = cartesian_idx(rows, cols, d=idx_dim)\n",
        "template_x_idx = template_x_idx.unsqueeze(0).float().to(device)\n",
        "# template_y_idx = torch.eye(idx_dim)[-num_classes:]\n",
        "template_y_idx = torch.eye(num_classes)[:, -idx_dim:]\n",
        "template_y_idx = template_y_idx.float().unsqueeze(0).to(device)\n",
        "\n",
        "def prepare_input(x, y, device=\"cpu\"):\n",
        "  n = x.shape[0]\n",
        "  x_idx = template_x_idx.repeat(n, 1, 1)\n",
        "  yoh = torch.zeros(n, num_classes)\n",
        "  yoh[range(n), y] = 1.0\n",
        "  yoh = yoh.to(device)\n",
        "  y_idx = template_y_idx.repeat(n, 1, 1)\n",
        "  x = MTensor(x, x_idx)\n",
        "  y = MTensor(yoh, y_idx)\n",
        "  return x, y"
      ]
    },
    {
      "cell_type": "code",
      "execution_count": 17,
      "metadata": {
        "id": "OisDCAuLCmQ8"
      },
      "outputs": [],
      "source": [
        "# tmp_idx = template_x_idx[0].reshape(-1, 3)[:, :2]\n",
        "# idxs, _idxs = get_perms(tmp_idx)\n",
        "# sampled = hoods([0, 1], 14 * 28 + 14, [3, 3], idxs, _idxs, 0, 783)\n",
        "# sampled = np.array([[idx // 28, idx % 28] for idx in sampled])\n",
        "# # print(sampled)\n",
        "# plt.scatter(sampled[:, 0], sampled[:, 1])"
      ]
    },
    {
      "cell_type": "code",
      "execution_count": 18,
      "metadata": {
        "id": "OoGmgn1K--XO"
      },
      "outputs": [],
      "source": [
        "# tmp_idx = template_x_idx[0].reshape(-1, 2).cpu().detach().numpy()\n",
        "# # set desired number of neighbors\n",
        "# neigh = NearestNeighbors(n_neighbors=9)\n",
        "# neigh.fit(tmp_idx)\n",
        "# # select indices of k nearest neighbors of the vectors in the input list\n",
        "# neighbors = neigh.kneighbors(tmp_idx, return_distance=False)\n",
        "# print(neighbors[0])\n",
        "# print(neighbors[1])\n",
        "# print(neighbors[28])\n",
        "# print(neighbors[29])"
      ]
    },
    {
      "cell_type": "markdown",
      "metadata": {
        "id": "Lyzd22RQX-Yg"
      },
      "source": [
        "### Treino"
      ]
    },
    {
      "cell_type": "code",
      "execution_count": 32,
      "metadata": {
        "id": "HNheVxvNNK30",
        "colab": {
          "base_uri": "https://localhost:8080/",
          "height": 688
        },
        "outputId": "dbdd804a-56b4-4207-d2e5-eb5ef7ff0cda"
      },
      "outputs": [
        {
          "output_type": "display_data",
          "data": {
            "text/plain": [
              "<Figure size 1600x300 with 1 Axes>"
            ],
            "image/png": "[encoded data removed]"
          },
          "metadata": {}
        },
        {
          "output_type": "stream",
          "name": "stdout",
          "text": [
            "0.09582403302192688 -0.846076250076294 0.4375665783882141\n"
          ]
        },
        {
          "output_type": "error",
          "ename": "KeyboardInterrupt",
          "evalue": "ignored",
          "traceback": [
            "\u001b[0;31m---------------------------------------------------------------------------\u001b[0m",
            "\u001b[0;31mKeyboardInterrupt\u001b[0m                         Traceback (most recent call last)",
            "\u001b[0;32m<ipython-input-32-8a5ec9536d43>\u001b[0m in \u001b[0;36m<cell line: 57>\u001b[0;34m()\u001b[0m\n\u001b[1;32m     70\u001b[0m     \u001b[0moptimizer\u001b[0m\u001b[0;34m.\u001b[0m\u001b[0mzero_grad\u001b[0m\u001b[0;34m(\u001b[0m\u001b[0;34m)\u001b[0m\u001b[0;34m\u001b[0m\u001b[0;34m\u001b[0m\u001b[0m\n\u001b[1;32m     71\u001b[0m     \u001b[0mloss\u001b[0m \u001b[0;34m=\u001b[0m \u001b[0mmaromba_loss\u001b[0m\u001b[0;34m(\u001b[0m\u001b[0my\u001b[0m\u001b[0;34m,\u001b[0m \u001b[0my_pred\u001b[0m\u001b[0;34m)\u001b[0m\u001b[0;34m\u001b[0m\u001b[0;34m\u001b[0m\u001b[0m\n\u001b[0;32m---> 72\u001b[0;31m     \u001b[0mloss\u001b[0m\u001b[0;34m.\u001b[0m\u001b[0mbackward\u001b[0m\u001b[0;34m(\u001b[0m\u001b[0;34m)\u001b[0m\u001b[0;34m\u001b[0m\u001b[0;34m\u001b[0m\u001b[0m\n\u001b[0m\u001b[1;32m     73\u001b[0m     \u001b[0moptimizer\u001b[0m\u001b[0;34m.\u001b[0m\u001b[0mstep\u001b[0m\u001b[0;34m(\u001b[0m\u001b[0;34m)\u001b[0m\u001b[0;34m\u001b[0m\u001b[0;34m\u001b[0m\u001b[0m\n\u001b[1;32m     74\u001b[0m     \u001b[0mtrain_log\u001b[0m\u001b[0;34m[\u001b[0m\u001b[0;34m\"train loss\"\u001b[0m\u001b[0;34m]\u001b[0m\u001b[0;34m.\u001b[0m\u001b[0mappend\u001b[0m\u001b[0;34m(\u001b[0m\u001b[0mloss\u001b[0m\u001b[0;34m.\u001b[0m\u001b[0mitem\u001b[0m\u001b[0;34m(\u001b[0m\u001b[0;34m)\u001b[0m\u001b[0;34m)\u001b[0m\u001b[0;34m\u001b[0m\u001b[0;34m\u001b[0m\u001b[0m\n",
            "\u001b[0;32m/usr/local/lib/python3.10/dist-packages/torch/_tensor.py\u001b[0m in \u001b[0;36mbackward\u001b[0;34m(self, gradient, retain_graph, create_graph, inputs)\u001b[0m\n\u001b[1;32m    485\u001b[0m                 \u001b[0minputs\u001b[0m\u001b[0;34m=\u001b[0m\u001b[0minputs\u001b[0m\u001b[0;34m,\u001b[0m\u001b[0;34m\u001b[0m\u001b[0;34m\u001b[0m\u001b[0m\n\u001b[1;32m    486\u001b[0m             )\n\u001b[0;32m--> 487\u001b[0;31m         torch.autograd.backward(\n\u001b[0m\u001b[1;32m    488\u001b[0m             \u001b[0mself\u001b[0m\u001b[0;34m,\u001b[0m \u001b[0mgradient\u001b[0m\u001b[0;34m,\u001b[0m \u001b[0mretain_graph\u001b[0m\u001b[0;34m,\u001b[0m \u001b[0mcreate_graph\u001b[0m\u001b[0;34m,\u001b[0m \u001b[0minputs\u001b[0m\u001b[0;34m=\u001b[0m\u001b[0minputs\u001b[0m\u001b[0;34m\u001b[0m\u001b[0;34m\u001b[0m\u001b[0m\n\u001b[1;32m    489\u001b[0m         )\n",
            "\u001b[0;32m/usr/local/lib/python3.10/dist-packages/torch/autograd/__init__.py\u001b[0m in \u001b[0;36mbackward\u001b[0;34m(tensors, grad_tensors, retain_graph, create_graph, grad_variables, inputs)\u001b[0m\n\u001b[1;32m    198\u001b[0m     \u001b[0;31m# some Python versions print out the first line of a multi-line function\u001b[0m\u001b[0;34m\u001b[0m\u001b[0;34m\u001b[0m\u001b[0m\n\u001b[1;32m    199\u001b[0m     \u001b[0;31m# calls in the traceback and some print out the last line\u001b[0m\u001b[0;34m\u001b[0m\u001b[0;34m\u001b[0m\u001b[0m\n\u001b[0;32m--> 200\u001b[0;31m     Variable._execution_engine.run_backward(  # Calls into the C++ engine to run the backward pass\n\u001b[0m\u001b[1;32m    201\u001b[0m         \u001b[0mtensors\u001b[0m\u001b[0;34m,\u001b[0m \u001b[0mgrad_tensors_\u001b[0m\u001b[0;34m,\u001b[0m \u001b[0mretain_graph\u001b[0m\u001b[0;34m,\u001b[0m \u001b[0mcreate_graph\u001b[0m\u001b[0;34m,\u001b[0m \u001b[0minputs\u001b[0m\u001b[0;34m,\u001b[0m\u001b[0;34m\u001b[0m\u001b[0;34m\u001b[0m\u001b[0m\n\u001b[1;32m    202\u001b[0m         allow_unreachable=True, accumulate_grad=True)  # Calls into the C++ engine to run the backward pass\n",
            "\u001b[0;31mKeyboardInterrupt\u001b[0m: "
          ]
        }
      ],
      "source": [
        "hidden_dim = 784\n",
        "start_mode = False\n",
        "valid_mode = False\n",
        "# TODO: Visualize conv layer output\n",
        "samples = [\n",
        "    # in_ch * h * w,\n",
        "    (2, 3, 3),\n",
        "    (2, 3, 3),\n",
        "    # (1, 3, 3),\n",
        "    # (1, 3, 3),\n",
        "    # (1, 3, 3),\n",
        "    # (1, 3, 3),\n",
        "    # (1, 3, 3),\n",
        "    # (1, 3, 3),\n",
        "    # (1, 3, 3),\n",
        "    # (1, 3, 3),\n",
        "    # (1, 3, 3),\n",
        "    hidden_dim,\n",
        "]\n",
        "# sets = [\n",
        "#     # out_ch\n",
        "#     1,\n",
        "#     num_classes\n",
        "# ]\n",
        "sets = [samp[0] for samp in samples[1:-1]] + [1, num_classes]\n",
        "_samples = [int(np.prod(samp)) for samp in samples]\n",
        "conv_params = int(np.array(_samples[:-1]).dot(np.array(sets[:-1])))\n",
        "n_params = int(np.array(_samples).dot(np.array(sets)))\n",
        "\n",
        "# torch.cuda.empty_cache()\n",
        "\n",
        "if start_mode:\n",
        "  # model = MModule(\n",
        "  # model = MModule2(\n",
        "  model = MModule3(\n",
        "      n_params=n_params,\n",
        "      idx_dim=idx_dim,\n",
        "      samples=samples,\n",
        "      sets=sets,\n",
        "      device=device,\n",
        "      probe_dim=hidden_dim,\n",
        "  )\n",
        "  optimizer = Adam(model.parameters(), lr=1e-3)\n",
        "  widx0 = model.W_idx[:, :conv_params].clone().detach()\n",
        "\n",
        "train_log = {\n",
        "    \"train loss\": [],\n",
        "    \"eval loss\": [],\n",
        "    \"acc\": [],\n",
        "    \"set\": [],\n",
        "    \"epoch\": [],\n",
        "}\n",
        "\n",
        "num_epochs = 720 * 4\n",
        "epoch_len = 60\n",
        "\n",
        "for epoch in range(num_epochs):\n",
        "  ###\n",
        "  widx_diff = (model.W_idx[:, :conv_params] - widx0)\n",
        "  print(widx_diff.abs().mean().item(), widx_diff.min().item(), widx_diff.max().item())\n",
        "  ###\n",
        "  model.train()\n",
        "  train_iter = iter(train_data_loader)\n",
        "  for _ in range(epoch_len):\n",
        "    x, y = next(train_iter)\n",
        "    x = x.to(device)\n",
        "    y = y.to(device)\n",
        "    x, y = prepare_input(x, y, device=device)\n",
        "    y_pred = model.forward(x)\n",
        "    optimizer.zero_grad()\n",
        "    loss = maromba_loss(y, y_pred)\n",
        "    loss.backward()\n",
        "    optimizer.step()\n",
        "    train_log[\"train loss\"].append(loss.item())\n",
        "    train_log[\"eval loss\"].append(np.nan)\n",
        "    train_log[\"acc\"].append(np.nan)\n",
        "    train_log[\"set\"].append(\"train\")\n",
        "    train_log[\"epoch\"].append(epoch)\n",
        "  if valid_mode:\n",
        "    model.eval()\n",
        "    with torch.no_grad():\n",
        "      for x, y in iter(test_data_loader):\n",
        "        x = x.to(device)\n",
        "        y = y.to(device)\n",
        "        x, y = prepare_input(x, y, device=device)\n",
        "        y_pred = model.forward(x)\n",
        "        loss = maromba_loss(y, y_pred)\n",
        "        acc = maromba_accuracy(y, y_pred)\n",
        "        train_log[\"eval loss\"].append(loss.item())\n",
        "        train_log[\"train loss\"].append(np.nan)\n",
        "        train_log[\"acc\"].append(acc.item())\n",
        "        train_log[\"set\"].append(\"eval\")\n",
        "        train_log[\"epoch\"].append(epoch)\n",
        "    group_cols = [\"epoch\", \"train loss\", \"eval loss\", \"acc\"]\n",
        "  else:\n",
        "    group_cols = [\"epoch\", \"train loss\"]\n",
        "  df_train = pd.DataFrame(train_log)\n",
        "  display.clear_output(wait=True)\n",
        "  (\n",
        "    df_train[group_cols]\n",
        "    .groupby(\"epoch\")\n",
        "    .agg(lambda x: x.median(skipna=True))\n",
        "    # .tail(200)\n",
        "    .plot(figsize=(16, 3), grid=True)\n",
        "  )\n",
        "  plt.show()"
      ]
    },
    {
      "cell_type": "code",
      "source": [
        "# tidx = model.W_idx[0, :18].cpu().detach().numpy()\n",
        "# plot_df = pd.DataFrame({\"x\": tidx[:, 0], \"y\": tidx[:, 1], \"z\": tidx[:, 2]})\n",
        "# fig = px.scatter_3d(plot_df, x=\"x\", y=\"y\", z=\"z\", color=None); fig.show();"
      ],
      "metadata": {
        "id": "8CcZxz9MYMwd"
      },
      "execution_count": null,
      "outputs": []
    },
    {
      "cell_type": "code",
      "execution_count": null,
      "metadata": {
        "id": "rG5gdtyeWnjJ"
      },
      "outputs": [],
      "source": [
        "# tidx = aidx.reshape(32, -1, 9, 3)[0, 100].cpu().detach().numpy(); tidx = tidx.reshape(-1, 3)\n",
        "# tidx = aidx.reshape(32, -1, 9, 2)[0].cpu().detach().numpy(); tidx = tidx.reshape(-1, 2)\n",
        "\n",
        "# plot_df = pd.DataFrame({\"x\": tidx[:, 0], \"y\": tidx[:, 1], \"z\": tidx[:, 1] * 0.0})\n",
        "# fig = px.scatter_3d(plot_df, x=\"x\", y=\"y\", z=\"z\", color=None); fig.show();\n",
        "# midx.reshape(32, -1, 3)[0, 100:105].cpu().detach().numpy()\n",
        "torch.cuda.empty_cache()"
      ]
    },
    {
      "cell_type": "code",
      "execution_count": null,
      "metadata": {
        "id": "2tJHxWRO_xoX"
      },
      "outputs": [],
      "source": [
        "df_train"
      ]
    },
    {
      "cell_type": "code",
      "execution_count": null,
      "metadata": {
        "id": "t0uL2kM1Okfd"
      },
      "outputs": [],
      "source": [
        "imgs = [img.data.cpu().detach() for img in model.all_pools]\n",
        "idxs = [img.idx.cpu().detach() for img in model.all_pools]"
      ]
    },
    {
      "cell_type": "code",
      "execution_count": null,
      "metadata": {
        "colab": {
          "base_uri": "https://localhost:8080/"
        },
        "id": "jj5tP_tfMAjw",
        "outputId": "da7f13b4-ace3-4667-9721-d95f2372d4a4"
      },
      "outputs": [
        {
          "output_type": "execute_result",
          "data": {
            "text/plain": [
              "[torch.Size([4, 784]), torch.Size([4, 392, 2])]"
            ]
          },
          "metadata": {},
          "execution_count": 23
        }
      ],
      "source": [
        "[img.shape for img in imgs]"
      ]
    },
    {
      "cell_type": "code",
      "execution_count": null,
      "metadata": {
        "colab": {
          "base_uri": "https://localhost:8080/",
          "height": 604
        },
        "id": "ZRWVQRznvaer",
        "outputId": "0e3ef0a8-d6cb-4853-bfcb-9002ecdd57b4"
      },
      "outputs": [
        {
          "output_type": "stream",
          "name": "stdout",
          "text": [
            "torch.Size([784])\n"
          ]
        },
        {
          "output_type": "display_data",
          "data": {
            "text/plain": [
              "<Figure size 300x300 with 1 Axes>"
            ],
            "image/png": "[encoded data removed]"
          },
          "metadata": {}
        },
        {
          "output_type": "stream",
          "name": "stdout",
          "text": [
            "torch.Size([392, 2])\n"
          ]
        },
        {
          "output_type": "display_data",
          "data": {
            "text/plain": [
              "<Figure size 300x300 with 1 Axes>"
            ],
            "image/png": "[encoded data removed]"
          },
          "metadata": {}
        }
      ],
      "source": [
        "shapes = [\n",
        "    (img_dim, img_dim, 1),\n",
        "    ((img_dim - 0) // 1, (img_dim - 0) // 1, 1),\n",
        "    # ((img_dim - 0) // 1, (img_dim - 0) // 1, 4),\n",
        "    # ((img_dim - 0) // 1, (img_dim - 0) // 1, 8),\n",
        "    # (((img_dim - 2) // 2 - 2) // 1, ((img_dim - 2) // 2 - 2) // 1, 4),\n",
        "    # (((img_dim - 4) // 1 - 4) // 2, ((img_dim - 4) // 1 - 4) // 2, 8),\n",
        "    # ((img_dim - 4) // 2 - 2, (img_dim - 4) // 2 - 2, 4),\n",
        "    # ((img_dim - 4) // 2 - 4, (img_dim - 4) // 2 - 4, 8),\n",
        "]\n",
        "# display.clear_output(wait=True)\n",
        "plt.close()\n",
        "for idx, img in enumerate(imgs[:len(shapes)]):\n",
        "  img = img[0]\n",
        "  print(img.shape)\n",
        "  img = img.reshape(*shapes[idx])\n",
        "  rows, cols = 1, shapes[idx][2]\n",
        "  fig, ax = plt.subplots(rows, cols, figsize=(min(18, 3 * cols), 3))\n",
        "  for ch in range(cols):\n",
        "    img_ = img[:, :, ch].numpy()\n",
        "    if cols > 1:\n",
        "      ax[ch].imshow(img_)\n",
        "    else:\n",
        "      ax.imshow(img_)\n",
        "  plt.show()"
      ]
    },
    {
      "cell_type": "code",
      "execution_count": null,
      "metadata": {
        "id": "LgY4NUoRagWO",
        "colab": {
          "base_uri": "https://localhost:8080/",
          "height": 1000
        },
        "outputId": "11b971a5-7b73-4315-97a2-ea7e20e7ad66"
      },
      "outputs": [
        {
          "output_type": "stream",
          "name": "stdout",
          "text": [
            "torch.Size([784, 3])\n"
          ]
        },
        {
          "output_type": "display_data",
          "data": {
            "text/html": [
              "<html>\n",
              "<head><meta charset=\"utf-8\" /></head>\n",
              "<body>\n",
              "    <div>            <script src=\"https://cdnjs.cloudflare.com/ajax/libs/mathjax/2.7.5/MathJax.js?config=TeX-AMS-MML_SVG\"></script><script type=\"text/javascript\">if (window.MathJax && window.MathJax.Hub && window.MathJax.Hub.Config) {window.MathJax.Hub.Config({SVG: {font: \"STIX-Web\"}});}</script>                <script type=\"text/javascript\">window.PlotlyConfig = {MathJaxConfig: 'local'};</script>\n",
              "        <script src=\"https://cdn.plot.ly/plotly-2.18.2.min.js\"></script>                <div id=\"af567639-5d69-4561-81ca-677168ac37a9\" class=\"plotly-graph-div\" style=\"height:600px; width:1200px;\"></div>            <script type=\"text/javascript\">                                    window.PLOTLYENV=window.PLOTLYENV || {};                                    if (document.getElementById(\"af567639-5d69-4561-81ca-677168ac37a9\")) {                    Plotly.newPlot(                        \"af567639-5d69-4561-81ca-677168ac37a9\",                        [{\"x\":[-1.0,-1.0,-1.0,-1.0,-1.0,-1.0,-1.0,-1.0,-1.0,-1.0,-1.0,-1.0,-1.0,-1.0,-1.0,-1.0,-1.0,-1.0,-1.0,-1.0,-1.0,-1.0,-1.0,-1.0,-1.0,-1.0,-1.0,-1.0,-0.9285714030265808,-0.9285714030265808,-0.9285714030265808,-0.9285714030265808,-0.9285714030265808,-0.9285714030265808,-0.9285714030265808,-0.9285714030265808,-0.9285714030265808,-0.9285714030265808,-0.9285714030265808,-0.9285714030265808,-0.9285714030265808,-0.9285714030265808,-0.9285714030265808,-0.9285714030265808,-0.9285714030265808,-0.9285714030265808,-0.9285714030265808,-0.9285714030265808,-0.9285714030265808,-0.9285714030265808,-0.9285714030265808,-0.9285714030265808,-0.9285714030265808,-0.9285714030265808,-0.9285714030265808,-0.9285714030265808,-0.8571428656578064,-0.8571428656578064,-0.8571428656578064,-0.8571428656578064,-0.8571428656578064,-0.8571428656578064,-0.8571428656578064,-0.8571428656578064,-0.8571428656578064,-0.8571428656578064,-0.8571428656578064,-0.8571428656578064,-0.8571428656578064,-0.8571428656578064,-0.8571428656578064,-0.8571428656578064,-0.8571428656578064,-0.8571428656578064,-0.8571428656578064,-0.8571428656578064,-0.8571428656578064,-0.8571428656578064,-0.8571428656578064,-0.8571428656578064,-0.8571428656578064,-0.8571428656578064,-0.8571428656578064,-0.8571428656578064,-0.7857142686843872,-0.7857142686843872,-0.7857142686843872,-0.7857142686843872,-0.7857142686843872,-0.7857142686843872,-0.7857142686843872,-0.7857142686843872,-0.7857142686843872,-0.7857142686843872,-0.7857142686843872,-0.7857142686843872,-0.7857142686843872,-0.7857142686843872,-0.7857142686843872,-0.7857142686843872,-0.7857142686843872,-0.7857142686843872,-0.7857142686843872,-0.7857142686843872,-0.7857142686843872,-0.7857142686843872,-0.7857142686843872,-0.7857142686843872,-0.7857142686843872,-0.7857142686843872,-0.7857142686843872,-0.7857142686843872,-0.7142857313156128,-0.7142857313156128,-0.7142857313156128,-0.7142857313156128,-0.7142857313156128,-0.7142857313156128,-0.7142857313156128,-0.7142857313156128,-0.7142857313156128,-0.7142857313156128,-0.7142857313156128,-0.7142857313156128,-0.7142857313156128,-0.7142857313156128,-0.7142857313156128,-0.7142857313156128,-0.7142857313156128,-0.7142857313156128,-0.7142857313156128,-0.7142857313156128,-0.7142857313156128,-0.7142857313156128,-0.7142857313156128,-0.7142857313156128,-0.7142857313156128,-0.7142857313156128,-0.7142857313156128,-0.7142857313156128,-0.6428571343421936,-0.6428571343421936,-0.6428571343421936,-0.6428571343421936,-0.6428571343421936,-0.6428571343421936,-0.6428571343421936,-0.6428571343421936,-0.6428571343421936,-0.6428571343421936,-0.6428571343421936,-0.6428571343421936,-0.6428571343421936,-0.6428571343421936,-0.6428571343421936,-0.6428571343421936,-0.6428571343421936,-0.6428571343421936,-0.6428571343421936,-0.6428571343421936,-0.6428571343421936,-0.6428571343421936,-0.6428571343421936,-0.6428571343421936,-0.6428571343421936,-0.6428571343421936,-0.6428571343421936,-0.6428571343421936,-0.5714285969734192,-0.5714285969734192,-0.5714285969734192,-0.5714285969734192,-0.5714285969734192,-0.5714285969734192,-0.5714285969734192,-0.5714285969734192,-0.5714285969734192,-0.5714285969734192,-0.5714285969734192,-0.5714285969734192,-0.5714285969734192,-0.5714285969734192,-0.5714285969734192,-0.5714285969734192,-0.5714285969734192,-0.5714285969734192,-0.5714285969734192,-0.5714285969734192,-0.5714285969734192,-0.5714285969734192,-0.5714285969734192,-0.5714285969734192,-0.5714285969734192,-0.5714285969734192,-0.5714285969734192,-0.5714285969734192,-0.5,-0.5,-0.5,-0.5,-0.5,-0.5,-0.5,-0.5,-0.5,-0.5,-0.5,-0.5,-0.5,-0.5,-0.5,-0.5,-0.5,-0.5,-0.5,-0.5,-0.5,-0.5,-0.5,-0.5,-0.5,-0.5,-0.5,-0.5,-0.4285714328289032,-0.4285714328289032,-0.4285714328289032,-0.4285714328289032,-0.4285714328289032,-0.4285714328289032,-0.4285714328289032,-0.4285714328289032,-0.4285714328289032,-0.4285714328289032,-0.4285714328289032,-0.4285714328289032,-0.4285714328289032,-0.4285714328289032,-0.4285714328289032,-0.4285714328289032,-0.4285714328289032,-0.4285714328289032,-0.4285714328289032,-0.4285714328289032,-0.4285714328289032,-0.4285714328289032,-0.4285714328289032,-0.4285714328289032,-0.4285714328289032,-0.4285714328289032,-0.4285714328289032,-0.4285714328289032,-0.3571428656578064,-0.3571428656578064,-0.3571428656578064,-0.3571428656578064,-0.3571428656578064,-0.3571428656578064,-0.3571428656578064,-0.3571428656578064,-0.3571428656578064,-0.3571428656578064,-0.3571428656578064,-0.3571428656578064,-0.3571428656578064,-0.3571428656578064,-0.3571428656578064,-0.3571428656578064,-0.3571428656578064,-0.3571428656578064,-0.3571428656578064,-0.3571428656578064,-0.3571428656578064,-0.3571428656578064,-0.3571428656578064,-0.3571428656578064,-0.3571428656578064,-0.3571428656578064,-0.3571428656578064,-0.3571428656578064,-0.2857142984867096,-0.2857142984867096,-0.2857142984867096,-0.2857142984867096,-0.2857142984867096,-0.2857142984867096,-0.2857142984867096,-0.2857142984867096,-0.2857142984867096,-0.2857142984867096,-0.2857142984867096,-0.2857142984867096,-0.2857142984867096,-0.2857142984867096,-0.2857142984867096,-0.2857142984867096,-0.2857142984867096,-0.2857142984867096,-0.2857142984867096,-0.2857142984867096,-0.2857142984867096,-0.2857142984867096,-0.2857142984867096,-0.2857142984867096,-0.2857142984867096,-0.2857142984867096,-0.2857142984867096,-0.2857142984867096,-0.2142857164144516,-0.2142857164144516,-0.2142857164144516,-0.2142857164144516,-0.2142857164144516,-0.2142857164144516,-0.2142857164144516,-0.2142857164144516,-0.2142857164144516,-0.2142857164144516,-0.2142857164144516,-0.2142857164144516,-0.2142857164144516,-0.2142857164144516,-0.2142857164144516,-0.2142857164144516,-0.2142857164144516,-0.2142857164144516,-0.2142857164144516,-0.2142857164144516,-0.2142857164144516,-0.2142857164144516,-0.2142857164144516,-0.2142857164144516,-0.2142857164144516,-0.2142857164144516,-0.2142857164144516,-0.2142857164144516,-0.1428571492433548,-0.1428571492433548,-0.1428571492433548,-0.1428571492433548,-0.1428571492433548,-0.1428571492433548,-0.1428571492433548,-0.1428571492433548,-0.1428571492433548,-0.1428571492433548,-0.1428571492433548,-0.1428571492433548,-0.1428571492433548,-0.1428571492433548,-0.1428571492433548,-0.1428571492433548,-0.1428571492433548,-0.1428571492433548,-0.1428571492433548,-0.1428571492433548,-0.1428571492433548,-0.1428571492433548,-0.1428571492433548,-0.1428571492433548,-0.1428571492433548,-0.1428571492433548,-0.1428571492433548,-0.1428571492433548,-0.0714285746216774,-0.0714285746216774,-0.0714285746216774,-0.0714285746216774,-0.0714285746216774,-0.0714285746216774,-0.0714285746216774,-0.0714285746216774,-0.0714285746216774,-0.0714285746216774,-0.0714285746216774,-0.0714285746216774,-0.0714285746216774,-0.0714285746216774,-0.0714285746216774,-0.0714285746216774,-0.0714285746216774,-0.0714285746216774,-0.0714285746216774,-0.0714285746216774,-0.0714285746216774,-0.0714285746216774,-0.0714285746216774,-0.0714285746216774,-0.0714285746216774,-0.0714285746216774,-0.0714285746216774,-0.0714285746216774,0.0,0.0,0.0,0.0,0.0,0.0,0.0,0.0,0.0,0.0,0.0,0.0,0.0,0.0,0.0,0.0,0.0,0.0,0.0,0.0,0.0,0.0,0.0,0.0,0.0,0.0,0.0,0.0,0.0714285746216774,0.0714285746216774,0.0714285746216774,0.0714285746216774,0.0714285746216774,0.0714285746216774,0.0714285746216774,0.0714285746216774,0.0714285746216774,0.0714285746216774,0.0714285746216774,0.0714285746216774,0.0714285746216774,0.0714285746216774,0.0714285746216774,0.0714285746216774,0.0714285746216774,0.0714285746216774,0.0714285746216774,0.0714285746216774,0.0714285746216774,0.0714285746216774,0.0714285746216774,0.0714285746216774,0.0714285746216774,0.0714285746216774,0.0714285746216774,0.0714285746216774,0.1428571492433548,0.1428571492433548,0.1428571492433548,0.1428571492433548,0.1428571492433548,0.1428571492433548,0.1428571492433548,0.1428571492433548,0.1428571492433548,0.1428571492433548,0.1428571492433548,0.1428571492433548,0.1428571492433548,0.1428571492433548,0.1428571492433548,0.1428571492433548,0.1428571492433548,0.1428571492433548,0.1428571492433548,0.1428571492433548,0.1428571492433548,0.1428571492433548,0.1428571492433548,0.1428571492433548,0.1428571492433548,0.1428571492433548,0.1428571492433548,0.1428571492433548,0.2142857164144516,0.2142857164144516,0.2142857164144516,0.2142857164144516,0.2142857164144516,0.2142857164144516,0.2142857164144516,0.2142857164144516,0.2142857164144516,0.2142857164144516,0.2142857164144516,0.2142857164144516,0.2142857164144516,0.2142857164144516,0.2142857164144516,0.2142857164144516,0.2142857164144516,0.2142857164144516,0.2142857164144516,0.2142857164144516,0.2142857164144516,0.2142857164144516,0.2142857164144516,0.2142857164144516,0.2142857164144516,0.2142857164144516,0.2142857164144516,0.2142857164144516,0.2857142984867096,0.2857142984867096,0.2857142984867096,0.2857142984867096,0.2857142984867096,0.2857142984867096,0.2857142984867096,0.2857142984867096,0.2857142984867096,0.2857142984867096,0.2857142984867096,0.2857142984867096,0.2857142984867096,0.2857142984867096,0.2857142984867096,0.2857142984867096,0.2857142984867096,0.2857142984867096,0.2857142984867096,0.2857142984867096,0.2857142984867096,0.2857142984867096,0.2857142984867096,0.2857142984867096,0.2857142984867096,0.2857142984867096,0.2857142984867096,0.2857142984867096,0.3571428656578064,0.3571428656578064,0.3571428656578064,0.3571428656578064,0.3571428656578064,0.3571428656578064,0.3571428656578064,0.3571428656578064,0.3571428656578064,0.3571428656578064,0.3571428656578064,0.3571428656578064,0.3571428656578064,0.3571428656578064,0.3571428656578064,0.3571428656578064,0.3571428656578064,0.3571428656578064,0.3571428656578064,0.3571428656578064,0.3571428656578064,0.3571428656578064,0.3571428656578064,0.3571428656578064,0.3571428656578064,0.3571428656578064,0.3571428656578064,0.3571428656578064,0.4285714328289032,0.4285714328289032,0.4285714328289032,0.4285714328289032,0.4285714328289032,0.4285714328289032,0.4285714328289032,0.4285714328289032,0.4285714328289032,0.4285714328289032,0.4285714328289032,0.4285714328289032,0.4285714328289032,0.4285714328289032,0.4285714328289032,0.4285714328289032,0.4285714328289032,0.4285714328289032,0.4285714328289032,0.4285714328289032,0.4285714328289032,0.4285714328289032,0.4285714328289032,0.4285714328289032,0.4285714328289032,0.4285714328289032,0.4285714328289032,0.4285714328289032,0.5,0.5,0.5,0.5,0.5,0.5,0.5,0.5,0.5,0.5,0.5,0.5,0.5,0.5,0.5,0.5,0.5,0.5,0.5,0.5,0.5,0.5,0.5,0.5,0.5,0.5,0.5,0.5,0.5714285969734192,0.5714285969734192,0.5714285969734192,0.5714285969734192,0.5714285969734192,0.5714285969734192,0.5714285969734192,0.5714285969734192,0.5714285969734192,0.5714285969734192,0.5714285969734192,0.5714285969734192,0.5714285969734192,0.5714285969734192,0.5714285969734192,0.5714285969734192,0.5714285969734192,0.5714285969734192,0.5714285969734192,0.5714285969734192,0.5714285969734192,0.5714285969734192,0.5714285969734192,0.5714285969734192,0.5714285969734192,0.5714285969734192,0.5714285969734192,0.5714285969734192,0.6428571343421936,0.6428571343421936,0.6428571343421936,0.6428571343421936,0.6428571343421936,0.6428571343421936,0.6428571343421936,0.6428571343421936,0.6428571343421936,0.6428571343421936,0.6428571343421936,0.6428571343421936,0.6428571343421936,0.6428571343421936,0.6428571343421936,0.6428571343421936,0.6428571343421936,0.6428571343421936,0.6428571343421936,0.6428571343421936,0.6428571343421936,0.6428571343421936,0.6428571343421936,0.6428571343421936,0.6428571343421936,0.6428571343421936,0.6428571343421936,0.6428571343421936,0.7142857313156128,0.7142857313156128,0.7142857313156128,0.7142857313156128,0.7142857313156128,0.7142857313156128,0.7142857313156128,0.7142857313156128,0.7142857313156128,0.7142857313156128,0.7142857313156128,0.7142857313156128,0.7142857313156128,0.7142857313156128,0.7142857313156128,0.7142857313156128,0.7142857313156128,0.7142857313156128,0.7142857313156128,0.7142857313156128,0.7142857313156128,0.7142857313156128,0.7142857313156128,0.7142857313156128,0.7142857313156128,0.7142857313156128,0.7142857313156128,0.7142857313156128,0.7857142686843872,0.7857142686843872,0.7857142686843872,0.7857142686843872,0.7857142686843872,0.7857142686843872,0.7857142686843872,0.7857142686843872,0.7857142686843872,0.7857142686843872,0.7857142686843872,0.7857142686843872,0.7857142686843872,0.7857142686843872,0.7857142686843872,0.7857142686843872,0.7857142686843872,0.7857142686843872,0.7857142686843872,0.7857142686843872,0.7857142686843872,0.7857142686843872,0.7857142686843872,0.7857142686843872,0.7857142686843872,0.7857142686843872,0.7857142686843872,0.7857142686843872,0.8571428656578064,0.8571428656578064,0.8571428656578064,0.8571428656578064,0.8571428656578064,0.8571428656578064,0.8571428656578064,0.8571428656578064,0.8571428656578064,0.8571428656578064,0.8571428656578064,0.8571428656578064,0.8571428656578064,0.8571428656578064,0.8571428656578064,0.8571428656578064,0.8571428656578064,0.8571428656578064,0.8571428656578064,0.8571428656578064,0.8571428656578064,0.8571428656578064,0.8571428656578064,0.8571428656578064,0.8571428656578064,0.8571428656578064,0.8571428656578064,0.8571428656578064,0.9285714030265808,0.9285714030265808,0.9285714030265808,0.9285714030265808,0.9285714030265808,0.9285714030265808,0.9285714030265808,0.9285714030265808,0.9285714030265808,0.9285714030265808,0.9285714030265808,0.9285714030265808,0.9285714030265808,0.9285714030265808,0.9285714030265808,0.9285714030265808,0.9285714030265808,0.9285714030265808,0.9285714030265808,0.9285714030265808,0.9285714030265808,0.9285714030265808,0.9285714030265808,0.9285714030265808,0.9285714030265808,0.9285714030265808,0.9285714030265808,0.9285714030265808],\"y\":[-1.0,-0.9285714030265808,-0.8571428656578064,-0.7857142686843872,-0.7142857313156128,-0.6428571343421936,-0.5714285969734192,-0.5,-0.4285714328289032,-0.3571428656578064,-0.2857142984867096,-0.2142857164144516,-0.1428571492433548,-0.0714285746216774,0.0,0.0714285746216774,0.1428571492433548,0.2142857164144516,0.2857142984867096,0.3571428656578064,0.4285714328289032,0.5,0.5714285969734192,0.6428571343421936,0.7142857313156128,0.7857142686843872,0.8571428656578064,0.9285714030265808,-1.0,-0.9285714030265808,-0.8571428656578064,-0.7857142686843872,-0.7142857313156128,-0.6428571343421936,-0.5714285969734192,-0.5,-0.4285714328289032,-0.3571428656578064,-0.2857142984867096,-0.2142857164144516,-0.1428571492433548,-0.0714285746216774,0.0,0.0714285746216774,0.1428571492433548,0.2142857164144516,0.2857142984867096,0.3571428656578064,0.4285714328289032,0.5,0.5714285969734192,0.6428571343421936,0.7142857313156128,0.7857142686843872,0.8571428656578064,0.9285714030265808,-1.0,-0.9285714030265808,-0.8571428656578064,-0.7857142686843872,-0.7142857313156128,-0.6428571343421936,-0.5714285969734192,-0.5,-0.4285714328289032,-0.3571428656578064,-0.2857142984867096,-0.2142857164144516,-0.1428571492433548,-0.0714285746216774,0.0,0.0714285746216774,0.1428571492433548,0.2142857164144516,0.2857142984867096,0.3571428656578064,0.4285714328289032,0.5,0.5714285969734192,0.6428571343421936,0.7142857313156128,0.7857142686843872,0.8571428656578064,0.9285714030265808,-1.0,-0.9285714030265808,-0.8571428656578064,-0.7857142686843872,-0.7142857313156128,-0.6428571343421936,-0.5714285969734192,-0.5,-0.4285714328289032,-0.3571428656578064,-0.2857142984867096,-0.2142857164144516,-0.1428571492433548,-0.0714285746216774,0.0,0.0714285746216774,0.1428571492433548,0.2142857164144516,0.2857142984867096,0.3571428656578064,0.4285714328289032,0.5,0.5714285969734192,0.6428571343421936,0.7142857313156128,0.7857142686843872,0.8571428656578064,0.9285714030265808,-1.0,-0.9285714030265808,-0.8571428656578064,-0.7857142686843872,-0.7142857313156128,-0.6428571343421936,-0.5714285969734192,-0.5,-0.4285714328289032,-0.3571428656578064,-0.2857142984867096,-0.2142857164144516,-0.1428571492433548,-0.0714285746216774,0.0,0.0714285746216774,0.1428571492433548,0.2142857164144516,0.2857142984867096,0.3571428656578064,0.4285714328289032,0.5,0.5714285969734192,0.6428571343421936,0.7142857313156128,0.7857142686843872,0.8571428656578064,0.9285714030265808,-1.0,-0.9285714030265808,-0.8571428656578064,-0.7857142686843872,-0.7142857313156128,-0.6428571343421936,-0.5714285969734192,-0.5,-0.4285714328289032,-0.3571428656578064,-0.2857142984867096,-0.2142857164144516,-0.1428571492433548,-0.0714285746216774,0.0,0.0714285746216774,0.1428571492433548,0.2142857164144516,0.2857142984867096,0.3571428656578064,0.4285714328289032,0.5,0.5714285969734192,0.6428571343421936,0.7142857313156128,0.7857142686843872,0.8571428656578064,0.9285714030265808,-1.0,-0.9285714030265808,-0.8571428656578064,-0.7857142686843872,-0.7142857313156128,-0.6428571343421936,-0.5714285969734192,-0.5,-0.4285714328289032,-0.3571428656578064,-0.2857142984867096,-0.2142857164144516,-0.1428571492433548,-0.0714285746216774,0.0,0.0714285746216774,0.1428571492433548,0.2142857164144516,0.2857142984867096,0.3571428656578064,0.4285714328289032,0.5,0.5714285969734192,0.6428571343421936,0.7142857313156128,0.7857142686843872,0.8571428656578064,0.9285714030265808,-1.0,-0.9285714030265808,-0.8571428656578064,-0.7857142686843872,-0.7142857313156128,-0.6428571343421936,-0.5714285969734192,-0.5,-0.4285714328289032,-0.3571428656578064,-0.2857142984867096,-0.2142857164144516,-0.1428571492433548,-0.0714285746216774,0.0,0.0714285746216774,0.1428571492433548,0.2142857164144516,0.2857142984867096,0.3571428656578064,0.4285714328289032,0.5,0.5714285969734192,0.6428571343421936,0.7142857313156128,0.7857142686843872,0.8571428656578064,0.9285714030265808,-1.0,-0.9285714030265808,-0.8571428656578064,-0.7857142686843872,-0.7142857313156128,-0.6428571343421936,-0.5714285969734192,-0.5,-0.4285714328289032,-0.3571428656578064,-0.2857142984867096,-0.2142857164144516,-0.1428571492433548,-0.0714285746216774,0.0,0.0714285746216774,0.1428571492433548,0.2142857164144516,0.2857142984867096,0.3571428656578064,0.4285714328289032,0.5,0.5714285969734192,0.6428571343421936,0.7142857313156128,0.7857142686843872,0.8571428656578064,0.9285714030265808,-1.0,-0.9285714030265808,-0.8571428656578064,-0.7857142686843872,-0.7142857313156128,-0.6428571343421936,-0.5714285969734192,-0.5,-0.4285714328289032,-0.3571428656578064,-0.2857142984867096,-0.2142857164144516,-0.1428571492433548,-0.0714285746216774,0.0,0.0714285746216774,0.1428571492433548,0.2142857164144516,0.2857142984867096,0.3571428656578064,0.4285714328289032,0.5,0.5714285969734192,0.6428571343421936,0.7142857313156128,0.7857142686843872,0.8571428656578064,0.9285714030265808,-1.0,-0.9285714030265808,-0.8571428656578064,-0.7857142686843872,-0.7142857313156128,-0.6428571343421936,-0.5714285969734192,-0.5,-0.4285714328289032,-0.3571428656578064,-0.2857142984867096,-0.2142857164144516,-0.1428571492433548,-0.0714285746216774,0.0,0.0714285746216774,0.1428571492433548,0.2142857164144516,0.2857142984867096,0.3571428656578064,0.4285714328289032,0.5,0.5714285969734192,0.6428571343421936,0.7142857313156128,0.7857142686843872,0.8571428656578064,0.9285714030265808,-1.0,-0.9285714030265808,-0.8571428656578064,-0.7857142686843872,-0.7142857313156128,-0.6428571343421936,-0.5714285969734192,-0.5,-0.4285714328289032,-0.3571428656578064,-0.2857142984867096,-0.2142857164144516,-0.1428571492433548,-0.0714285746216774,0.0,0.0714285746216774,0.1428571492433548,0.2142857164144516,0.2857142984867096,0.3571428656578064,0.4285714328289032,0.5,0.5714285969734192,0.6428571343421936,0.7142857313156128,0.7857142686843872,0.8571428656578064,0.9285714030265808,-1.0,-0.9285714030265808,-0.8571428656578064,-0.7857142686843872,-0.7142857313156128,-0.6428571343421936,-0.5714285969734192,-0.5,-0.4285714328289032,-0.3571428656578064,-0.2857142984867096,-0.2142857164144516,-0.1428571492433548,-0.0714285746216774,0.0,0.0714285746216774,0.1428571492433548,0.2142857164144516,0.2857142984867096,0.3571428656578064,0.4285714328289032,0.5,0.5714285969734192,0.6428571343421936,0.7142857313156128,0.7857142686843872,0.8571428656578064,0.9285714030265808,-1.0,-0.9285714030265808,-0.8571428656578064,-0.7857142686843872,-0.7142857313156128,-0.6428571343421936,-0.5714285969734192,-0.5,-0.4285714328289032,-0.3571428656578064,-0.2857142984867096,-0.2142857164144516,-0.1428571492433548,-0.0714285746216774,0.0,0.0714285746216774,0.1428571492433548,0.2142857164144516,0.2857142984867096,0.3571428656578064,0.4285714328289032,0.5,0.5714285969734192,0.6428571343421936,0.7142857313156128,0.7857142686843872,0.8571428656578064,0.9285714030265808,-1.0,-0.9285714030265808,-0.8571428656578064,-0.7857142686843872,-0.7142857313156128,-0.6428571343421936,-0.5714285969734192,-0.5,-0.4285714328289032,-0.3571428656578064,-0.2857142984867096,-0.2142857164144516,-0.1428571492433548,-0.0714285746216774,0.0,0.0714285746216774,0.1428571492433548,0.2142857164144516,0.2857142984867096,0.3571428656578064,0.4285714328289032,0.5,0.5714285969734192,0.6428571343421936,0.7142857313156128,0.7857142686843872,0.8571428656578064,0.9285714030265808,-1.0,-0.9285714030265808,-0.8571428656578064,-0.7857142686843872,-0.7142857313156128,-0.6428571343421936,-0.5714285969734192,-0.5,-0.4285714328289032,-0.3571428656578064,-0.2857142984867096,-0.2142857164144516,-0.1428571492433548,-0.0714285746216774,0.0,0.0714285746216774,0.1428571492433548,0.2142857164144516,0.2857142984867096,0.3571428656578064,0.4285714328289032,0.5,0.5714285969734192,0.6428571343421936,0.7142857313156128,0.7857142686843872,0.8571428656578064,0.9285714030265808,-1.0,-0.9285714030265808,-0.8571428656578064,-0.7857142686843872,-0.7142857313156128,-0.6428571343421936,-0.5714285969734192,-0.5,-0.4285714328289032,-0.3571428656578064,-0.2857142984867096,-0.2142857164144516,-0.1428571492433548,-0.0714285746216774,0.0,0.0714285746216774,0.1428571492433548,0.2142857164144516,0.2857142984867096,0.3571428656578064,0.4285714328289032,0.5,0.5714285969734192,0.6428571343421936,0.7142857313156128,0.7857142686843872,0.8571428656578064,0.9285714030265808,-1.0,-0.9285714030265808,-0.8571428656578064,-0.7857142686843872,-0.7142857313156128,-0.6428571343421936,-0.5714285969734192,-0.5,-0.4285714328289032,-0.3571428656578064,-0.2857142984867096,-0.2142857164144516,-0.1428571492433548,-0.0714285746216774,0.0,0.0714285746216774,0.1428571492433548,0.2142857164144516,0.2857142984867096,0.3571428656578064,0.4285714328289032,0.5,0.5714285969734192,0.6428571343421936,0.7142857313156128,0.7857142686843872,0.8571428656578064,0.9285714030265808,-1.0,-0.9285714030265808,-0.8571428656578064,-0.7857142686843872,-0.7142857313156128,-0.6428571343421936,-0.5714285969734192,-0.5,-0.4285714328289032,-0.3571428656578064,-0.2857142984867096,-0.2142857164144516,-0.1428571492433548,-0.0714285746216774,0.0,0.0714285746216774,0.1428571492433548,0.2142857164144516,0.2857142984867096,0.3571428656578064,0.4285714328289032,0.5,0.5714285969734192,0.6428571343421936,0.7142857313156128,0.7857142686843872,0.8571428656578064,0.9285714030265808,-1.0,-0.9285714030265808,-0.8571428656578064,-0.7857142686843872,-0.7142857313156128,-0.6428571343421936,-0.5714285969734192,-0.5,-0.4285714328289032,-0.3571428656578064,-0.2857142984867096,-0.2142857164144516,-0.1428571492433548,-0.0714285746216774,0.0,0.0714285746216774,0.1428571492433548,0.2142857164144516,0.2857142984867096,0.3571428656578064,0.4285714328289032,0.5,0.5714285969734192,0.6428571343421936,0.7142857313156128,0.7857142686843872,0.8571428656578064,0.9285714030265808,-1.0,-0.9285714030265808,-0.8571428656578064,-0.7857142686843872,-0.7142857313156128,-0.6428571343421936,-0.5714285969734192,-0.5,-0.4285714328289032,-0.3571428656578064,-0.2857142984867096,-0.2142857164144516,-0.1428571492433548,-0.0714285746216774,0.0,0.0714285746216774,0.1428571492433548,0.2142857164144516,0.2857142984867096,0.3571428656578064,0.4285714328289032,0.5,0.5714285969734192,0.6428571343421936,0.7142857313156128,0.7857142686843872,0.8571428656578064,0.9285714030265808,-1.0,-0.9285714030265808,-0.8571428656578064,-0.7857142686843872,-0.7142857313156128,-0.6428571343421936,-0.5714285969734192,-0.5,-0.4285714328289032,-0.3571428656578064,-0.2857142984867096,-0.2142857164144516,-0.1428571492433548,-0.0714285746216774,0.0,0.0714285746216774,0.1428571492433548,0.2142857164144516,0.2857142984867096,0.3571428656578064,0.4285714328289032,0.5,0.5714285969734192,0.6428571343421936,0.7142857313156128,0.7857142686843872,0.8571428656578064,0.9285714030265808,-1.0,-0.9285714030265808,-0.8571428656578064,-0.7857142686843872,-0.7142857313156128,-0.6428571343421936,-0.5714285969734192,-0.5,-0.4285714328289032,-0.3571428656578064,-0.2857142984867096,-0.2142857164144516,-0.1428571492433548,-0.0714285746216774,0.0,0.0714285746216774,0.1428571492433548,0.2142857164144516,0.2857142984867096,0.3571428656578064,0.4285714328289032,0.5,0.5714285969734192,0.6428571343421936,0.7142857313156128,0.7857142686843872,0.8571428656578064,0.9285714030265808,-1.0,-0.9285714030265808,-0.8571428656578064,-0.7857142686843872,-0.7142857313156128,-0.6428571343421936,-0.5714285969734192,-0.5,-0.4285714328289032,-0.3571428656578064,-0.2857142984867096,-0.2142857164144516,-0.1428571492433548,-0.0714285746216774,0.0,0.0714285746216774,0.1428571492433548,0.2142857164144516,0.2857142984867096,0.3571428656578064,0.4285714328289032,0.5,0.5714285969734192,0.6428571343421936,0.7142857313156128,0.7857142686843872,0.8571428656578064,0.9285714030265808,-1.0,-0.9285714030265808,-0.8571428656578064,-0.7857142686843872,-0.7142857313156128,-0.6428571343421936,-0.5714285969734192,-0.5,-0.4285714328289032,-0.3571428656578064,-0.2857142984867096,-0.2142857164144516,-0.1428571492433548,-0.0714285746216774,0.0,0.0714285746216774,0.1428571492433548,0.2142857164144516,0.2857142984867096,0.3571428656578064,0.4285714328289032,0.5,0.5714285969734192,0.6428571343421936,0.7142857313156128,0.7857142686843872,0.8571428656578064,0.9285714030265808,-1.0,-0.9285714030265808,-0.8571428656578064,-0.7857142686843872,-0.7142857313156128,-0.6428571343421936,-0.5714285969734192,-0.5,-0.4285714328289032,-0.3571428656578064,-0.2857142984867096,-0.2142857164144516,-0.1428571492433548,-0.0714285746216774,0.0,0.0714285746216774,0.1428571492433548,0.2142857164144516,0.2857142984867096,0.3571428656578064,0.4285714328289032,0.5,0.5714285969734192,0.6428571343421936,0.7142857313156128,0.7857142686843872,0.8571428656578064,0.9285714030265808,-1.0,-0.9285714030265808,-0.8571428656578064,-0.7857142686843872,-0.7142857313156128,-0.6428571343421936,-0.5714285969734192,-0.5,-0.4285714328289032,-0.3571428656578064,-0.2857142984867096,-0.2142857164144516,-0.1428571492433548,-0.0714285746216774,0.0,0.0714285746216774,0.1428571492433548,0.2142857164144516,0.2857142984867096,0.3571428656578064,0.4285714328289032,0.5,0.5714285969734192,0.6428571343421936,0.7142857313156128,0.7857142686843872,0.8571428656578064,0.9285714030265808,-1.0,-0.9285714030265808,-0.8571428656578064,-0.7857142686843872,-0.7142857313156128,-0.6428571343421936,-0.5714285969734192,-0.5,-0.4285714328289032,-0.3571428656578064,-0.2857142984867096,-0.2142857164144516,-0.1428571492433548,-0.0714285746216774,0.0,0.0714285746216774,0.1428571492433548,0.2142857164144516,0.2857142984867096,0.3571428656578064,0.4285714328289032,0.5,0.5714285969734192,0.6428571343421936,0.7142857313156128,0.7857142686843872,0.8571428656578064,0.9285714030265808],\"z\":[0.0,0.0,0.0,0.0,0.0,0.0,0.0,0.0,0.0,0.0,0.0,0.0,0.0,0.0,0.0,0.0,0.0,0.0,0.0,0.0,0.0,0.0,0.0,0.0,0.0,0.0,0.0,0.0,0.0,0.0,0.0,0.0,0.0,0.0,0.0,0.0,0.0,0.0,0.0,0.0,0.0,0.0,0.0,0.0,0.0,0.0,0.0,0.0,0.0,0.0,0.0,0.0,0.0,0.0,0.0,0.0,0.0,0.0,0.0,0.0,0.0,0.0,0.0,0.0,0.0,0.0,0.0,0.0,0.0,0.0,0.0,0.0,0.0,0.0,0.0,0.0,0.0,0.0,0.0,0.0,0.0,0.0,0.0,0.0,0.0,0.0,0.0,0.0,0.0,0.0,0.0,0.0,0.0,0.0,0.0,0.0,0.0,0.0,0.0,0.0,0.0,0.0,0.0,0.0,0.0,0.0,0.0,0.0,0.0,0.0,0.0,0.0,0.0,0.0,0.0,0.0,0.0,0.0,0.0,0.0,0.0,0.0,0.0,0.0,0.0,0.0,0.0,0.0,0.0,0.0,0.0,0.0,0.0,0.0,0.0,0.0,0.0,0.0,0.0,0.0,0.0,0.0,0.0,0.0,0.0,0.0,0.0,0.0,0.0,0.0,0.0,0.0,0.0,0.0,0.0,0.0,0.0,0.0,0.0,0.0,0.0,0.0,0.0,0.0,0.0,0.0,0.0,0.0,0.0,0.0,0.0,0.0,0.0,0.0,0.0,0.0,0.0,0.0,0.0,0.0,0.0,0.0,0.0,0.0,0.0,0.0,0.0,0.0,0.0,0.0,0.0,0.0,0.0,0.0,0.0,0.0,0.0,0.0,0.0,0.0,0.0,0.0,0.0,0.0,0.0,0.0,0.0,0.0,0.0,0.0,0.0,0.0,0.0,0.0,0.0,0.0,0.0,0.0,0.0,0.0,0.0,0.0,0.0,0.0,0.0,0.0,0.0,0.0,0.0,0.0,0.0,0.0,0.0,0.0,0.0,0.0,0.0,0.0,0.0,0.0,0.0,0.0,0.0,0.0,0.0,0.0,0.0,0.0,0.0,0.0,0.0,0.0,0.0,0.0,0.0,0.0,0.0,0.0,0.0,0.0,0.0,0.0,0.0,0.0,0.0,0.0,0.0,0.0,0.0,0.0,0.0,0.0,0.0,0.0,0.0,0.0,0.0,0.0,0.0,0.0,0.0,0.0,0.0,0.0,0.0,0.0,0.0,0.0,0.0,0.0,0.0,0.0,0.0,0.0,0.0,0.0,0.0,0.0,0.0,0.0,0.0,0.0,0.0,0.0,0.0,0.0,0.0,0.0,0.0,0.0,0.0,0.0,0.0,0.0,0.0,0.0,0.0,0.0,0.0,0.0,0.0,0.0,0.0,0.0,0.0,0.0,0.0,0.0,0.0,0.0,0.0,0.0,0.0,0.0,0.0,0.0,0.0,0.0,0.0,0.0,0.0,0.0,0.0,0.0,0.0,0.0,0.0,0.0,0.0,0.0,0.0,0.0,0.0,0.0,0.0,0.0,0.0,0.0,0.0,0.0,0.0,0.0,0.0,0.0,0.0,0.0,0.0,0.0,0.0,0.0,0.0,0.0,0.0,0.0,0.0,0.0,0.0,0.0,0.0,0.0,0.0,0.0,0.0,0.0,0.0,0.0,0.0,0.0,0.0,0.0,0.0,0.0,0.0,0.0,0.0,0.0,0.0,0.0,0.0,0.0,0.0,0.0,0.0,0.0,0.0,0.0,0.0,0.0,0.0,0.0,0.0,0.0,0.0,0.0,0.0,0.0,0.0,0.0,0.0,0.0,0.0,0.0,0.0,0.0,0.0,0.0,0.0,0.0,0.0,0.0,0.0,0.0,0.0,0.0,0.0,0.0,0.0,0.0,0.0,0.0,0.0,0.0,0.0,0.0,0.0,0.0,0.0,0.0,0.0,0.0,0.0,0.0,0.0,0.0,0.0,0.0,0.0,0.0,0.0,0.0,0.0,0.0,0.0,0.0,0.0,0.0,0.0,0.0,0.0,0.0,0.0,0.0,0.0,0.0,0.0,0.0,0.0,0.0,0.0,0.0,0.0,0.0,0.0,0.0,0.0,0.0,0.0,0.0,0.0,0.0,0.0,0.0,0.0,0.0,0.0,0.0,0.0,0.0,0.0,0.0,0.0,0.0,0.0,0.0,0.0,0.0,0.0,0.0,0.0,0.0,0.0,0.0,0.0,0.0,0.0,0.0,0.0,0.0,0.0,0.0,0.0,0.0,0.0,0.0,0.0,0.0,0.0,0.0,0.0,0.0,0.0,0.0,0.0,0.0,0.0,0.0,0.0,0.0,0.0,0.0,0.0,0.0,0.0,0.0,0.0,0.0,0.0,0.0,0.0,0.0,0.0,0.0,0.0,0.0,0.0,0.0,0.0,0.0,0.0,0.0,0.0,0.0,0.0,0.0,0.0,0.0,0.0,0.0,0.0,0.0,0.0,0.0,0.0,0.0,0.0,0.0,0.0,0.0,0.0,0.0,0.0,0.0,0.0,0.0,0.0,0.0,0.0,0.0,0.0,0.0,0.0,0.0,0.0,0.0,0.0,0.0,0.0,0.0,0.0,0.0,0.0,0.0,0.0,0.0,0.0,0.0,0.0,0.0,0.0,0.0,0.0,0.0,0.0,0.0,0.0,0.0,0.0,0.0,0.0,0.0,0.0,0.0,0.0,0.0,0.0,0.0,0.0,0.0,0.0,0.0,0.0,0.0,0.0,0.0,0.0,0.0,0.0,0.0,0.0,0.0,0.0,0.0,0.0,0.0,0.0,0.0,0.0,0.0,0.0,0.0,0.0,0.0,0.0,0.0,0.0,0.0,0.0,0.0,0.0,0.0,0.0,0.0,0.0,0.0,0.0,0.0,0.0,0.0,0.0,0.0,0.0,0.0,0.0,0.0,0.0,0.0,0.0,0.0,0.0,0.0,0.0,0.0,0.0,0.0,0.0,0.0,0.0,0.0,0.0,0.0,0.0,0.0,0.0,0.0,0.0,0.0,0.0,0.0,0.0,0.0,0.0,0.0,0.0,0.0,0.0,0.0,0.0,0.0,0.0,0.0,0.0,0.0,0.0,0.0,0.0,0.0,0.0,0.0,0.0,0.0,0.0,0.0,0.0,0.0,0.0,0.0,0.0,0.0,0.0,0.0,0.0,0.0,0.0,0.0,0.0,0.0,0.0,0.0,0.0,0.0,0.0,0.0,0.0,0.0,0.0,0.0,0.0,0.0,0.0,0.0,0.0,0.0,0.0,0.0,0.0,0.0,0.0,0.0,0.0,0.0,0.0,0.0,0.0,0.0,0.0,0.0,0.0,0.0,0.0,0.0,0.0,0.0,0.0,0.0,0.0,0.0,0.0,0.0,0.0,0.0,0.0,0.0,0.0,0.0],\"type\":\"scatter3d\",\"scene\":\"scene\"}],                        {\"template\":{\"data\":{\"histogram2dcontour\":[{\"type\":\"histogram2dcontour\",\"colorbar\":{\"outlinewidth\":0,\"ticks\":\"\"},\"colorscale\":[[0.0,\"#0d0887\"],[0.1111111111111111,\"#46039f\"],[0.2222222222222222,\"#7201a8\"],[0.3333333333333333,\"#9c179e\"],[0.4444444444444444,\"#bd3786\"],[0.5555555555555556,\"#d8576b\"],[0.6666666666666666,\"#ed7953\"],[0.7777777777777778,\"#fb9f3a\"],[0.8888888888888888,\"#fdca26\"],[1.0,\"#f0f921\"]]}],\"choropleth\":[{\"type\":\"choropleth\",\"colorbar\":{\"outlinewidth\":0,\"ticks\":\"\"}}],\"histogram2d\":[{\"type\":\"histogram2d\",\"colorbar\":{\"outlinewidth\":0,\"ticks\":\"\"},\"colorscale\":[[0.0,\"#0d0887\"],[0.1111111111111111,\"#46039f\"],[0.2222222222222222,\"#7201a8\"],[0.3333333333333333,\"#9c179e\"],[0.4444444444444444,\"#bd3786\"],[0.5555555555555556,\"#d8576b\"],[0.6666666666666666,\"#ed7953\"],[0.7777777777777778,\"#fb9f3a\"],[0.8888888888888888,\"#fdca26\"],[1.0,\"#f0f921\"]]}],\"heatmap\":[{\"type\":\"heatmap\",\"colorbar\":{\"outlinewidth\":0,\"ticks\":\"\"},\"colorscale\":[[0.0,\"#0d0887\"],[0.1111111111111111,\"#46039f\"],[0.2222222222222222,\"#7201a8\"],[0.3333333333333333,\"#9c179e\"],[0.4444444444444444,\"#bd3786\"],[0.5555555555555556,\"#d8576b\"],[0.6666666666666666,\"#ed7953\"],[0.7777777777777778,\"#fb9f3a\"],[0.8888888888888888,\"#fdca26\"],[1.0,\"#f0f921\"]]}],\"heatmapgl\":[{\"type\":\"heatmapgl\",\"colorbar\":{\"outlinewidth\":0,\"ticks\":\"\"},\"colorscale\":[[0.0,\"#0d0887\"],[0.1111111111111111,\"#46039f\"],[0.2222222222222222,\"#7201a8\"],[0.3333333333333333,\"#9c179e\"],[0.4444444444444444,\"#bd3786\"],[0.5555555555555556,\"#d8576b\"],[0.6666666666666666,\"#ed7953\"],[0.7777777777777778,\"#fb9f3a\"],[0.8888888888888888,\"#fdca26\"],[1.0,\"#f0f921\"]]}],\"contourcarpet\":[{\"type\":\"contourcarpet\",\"colorbar\":{\"outlinewidth\":0,\"ticks\":\"\"}}],\"contour\":[{\"type\":\"contour\",\"colorbar\":{\"outlinewidth\":0,\"ticks\":\"\"},\"colorscale\":[[0.0,\"#0d0887\"],[0.1111111111111111,\"#46039f\"],[0.2222222222222222,\"#7201a8\"],[0.3333333333333333,\"#9c179e\"],[0.4444444444444444,\"#bd3786\"],[0.5555555555555556,\"#d8576b\"],[0.6666666666666666,\"#ed7953\"],[0.7777777777777778,\"#fb9f3a\"],[0.8888888888888888,\"#fdca26\"],[1.0,\"#f0f921\"]]}],\"surface\":[{\"type\":\"surface\",\"colorbar\":{\"outlinewidth\":0,\"ticks\":\"\"},\"colorscale\":[[0.0,\"#0d0887\"],[0.1111111111111111,\"#46039f\"],[0.2222222222222222,\"#7201a8\"],[0.3333333333333333,\"#9c179e\"],[0.4444444444444444,\"#bd3786\"],[0.5555555555555556,\"#d8576b\"],[0.6666666666666666,\"#ed7953\"],[0.7777777777777778,\"#fb9f3a\"],[0.8888888888888888,\"#fdca26\"],[1.0,\"#f0f921\"]]}],\"mesh3d\":[{\"type\":\"mesh3d\",\"colorbar\":{\"outlinewidth\":0,\"ticks\":\"\"}}],\"scatter\":[{\"fillpattern\":{\"fillmode\":\"overlay\",\"size\":10,\"solidity\":0.2},\"type\":\"scatter\"}],\"parcoords\":[{\"type\":\"parcoords\",\"line\":{\"colorbar\":{\"outlinewidth\":0,\"ticks\":\"\"}}}],\"scatterpolargl\":[{\"type\":\"scatterpolargl\",\"marker\":{\"colorbar\":{\"outlinewidth\":0,\"ticks\":\"\"}}}],\"bar\":[{\"error_x\":{\"color\":\"#2a3f5f\"},\"error_y\":{\"color\":\"#2a3f5f\"},\"marker\":{\"line\":{\"color\":\"#E5ECF6\",\"width\":0.5},\"pattern\":{\"fillmode\":\"overlay\",\"size\":10,\"solidity\":0.2}},\"type\":\"bar\"}],\"scattergeo\":[{\"type\":\"scattergeo\",\"marker\":{\"colorbar\":{\"outlinewidth\":0,\"ticks\":\"\"}}}],\"scatterpolar\":[{\"type\":\"scatterpolar\",\"marker\":{\"colorbar\":{\"outlinewidth\":0,\"ticks\":\"\"}}}],\"histogram\":[{\"marker\":{\"pattern\":{\"fillmode\":\"overlay\",\"size\":10,\"solidity\":0.2}},\"type\":\"histogram\"}],\"scattergl\":[{\"type\":\"scattergl\",\"marker\":{\"colorbar\":{\"outlinewidth\":0,\"ticks\":\"\"}}}],\"scatter3d\":[{\"type\":\"scatter3d\",\"line\":{\"colorbar\":{\"outlinewidth\":0,\"ticks\":\"\"}},\"marker\":{\"colorbar\":{\"outlinewidth\":0,\"ticks\":\"\"}}}],\"scattermapbox\":[{\"type\":\"scattermapbox\",\"marker\":{\"colorbar\":{\"outlinewidth\":0,\"ticks\":\"\"}}}],\"scatterternary\":[{\"type\":\"scatterternary\",\"marker\":{\"colorbar\":{\"outlinewidth\":0,\"ticks\":\"\"}}}],\"scattercarpet\":[{\"type\":\"scattercarpet\",\"marker\":{\"colorbar\":{\"outlinewidth\":0,\"ticks\":\"\"}}}],\"carpet\":[{\"aaxis\":{\"endlinecolor\":\"#2a3f5f\",\"gridcolor\":\"white\",\"linecolor\":\"white\",\"minorgridcolor\":\"white\",\"startlinecolor\":\"#2a3f5f\"},\"baxis\":{\"endlinecolor\":\"#2a3f5f\",\"gridcolor\":\"white\",\"linecolor\":\"white\",\"minorgridcolor\":\"white\",\"startlinecolor\":\"#2a3f5f\"},\"type\":\"carpet\"}],\"table\":[{\"cells\":{\"fill\":{\"color\":\"#EBF0F8\"},\"line\":{\"color\":\"white\"}},\"header\":{\"fill\":{\"color\":\"#C8D4E3\"},\"line\":{\"color\":\"white\"}},\"type\":\"table\"}],\"barpolar\":[{\"marker\":{\"line\":{\"color\":\"#E5ECF6\",\"width\":0.5},\"pattern\":{\"fillmode\":\"overlay\",\"size\":10,\"solidity\":0.2}},\"type\":\"barpolar\"}],\"pie\":[{\"automargin\":true,\"type\":\"pie\"}]},\"layout\":{\"autotypenumbers\":\"strict\",\"colorway\":[\"#636efa\",\"#EF553B\",\"#00cc96\",\"#ab63fa\",\"#FFA15A\",\"#19d3f3\",\"#FF6692\",\"#B6E880\",\"#FF97FF\",\"#FECB52\"],\"font\":{\"color\":\"#2a3f5f\"},\"hovermode\":\"closest\",\"hoverlabel\":{\"align\":\"left\"},\"paper_bgcolor\":\"white\",\"plot_bgcolor\":\"#E5ECF6\",\"polar\":{\"bgcolor\":\"#E5ECF6\",\"angularaxis\":{\"gridcolor\":\"white\",\"linecolor\":\"white\",\"ticks\":\"\"},\"radialaxis\":{\"gridcolor\":\"white\",\"linecolor\":\"white\",\"ticks\":\"\"}},\"ternary\":{\"bgcolor\":\"#E5ECF6\",\"aaxis\":{\"gridcolor\":\"white\",\"linecolor\":\"white\",\"ticks\":\"\"},\"baxis\":{\"gridcolor\":\"white\",\"linecolor\":\"white\",\"ticks\":\"\"},\"caxis\":{\"gridcolor\":\"white\",\"linecolor\":\"white\",\"ticks\":\"\"}},\"coloraxis\":{\"colorbar\":{\"outlinewidth\":0,\"ticks\":\"\"}},\"colorscale\":{\"sequential\":[[0.0,\"#0d0887\"],[0.1111111111111111,\"#46039f\"],[0.2222222222222222,\"#7201a8\"],[0.3333333333333333,\"#9c179e\"],[0.4444444444444444,\"#bd3786\"],[0.5555555555555556,\"#d8576b\"],[0.6666666666666666,\"#ed7953\"],[0.7777777777777778,\"#fb9f3a\"],[0.8888888888888888,\"#fdca26\"],[1.0,\"#f0f921\"]],\"sequentialminus\":[[0.0,\"#0d0887\"],[0.1111111111111111,\"#46039f\"],[0.2222222222222222,\"#7201a8\"],[0.3333333333333333,\"#9c179e\"],[0.4444444444444444,\"#bd3786\"],[0.5555555555555556,\"#d8576b\"],[0.6666666666666666,\"#ed7953\"],[0.7777777777777778,\"#fb9f3a\"],[0.8888888888888888,\"#fdca26\"],[1.0,\"#f0f921\"]],\"diverging\":[[0,\"#8e0152\"],[0.1,\"#c51b7d\"],[0.2,\"#de77ae\"],[0.3,\"#f1b6da\"],[0.4,\"#fde0ef\"],[0.5,\"#f7f7f7\"],[0.6,\"#e6f5d0\"],[0.7,\"#b8e186\"],[0.8,\"#7fbc41\"],[0.9,\"#4d9221\"],[1,\"#276419\"]]},\"xaxis\":{\"gridcolor\":\"white\",\"linecolor\":\"white\",\"ticks\":\"\",\"title\":{\"standoff\":15},\"zerolinecolor\":\"white\",\"automargin\":true,\"zerolinewidth\":2},\"yaxis\":{\"gridcolor\":\"white\",\"linecolor\":\"white\",\"ticks\":\"\",\"title\":{\"standoff\":15},\"zerolinecolor\":\"white\",\"automargin\":true,\"zerolinewidth\":2},\"scene\":{\"xaxis\":{\"backgroundcolor\":\"#E5ECF6\",\"gridcolor\":\"white\",\"linecolor\":\"white\",\"showbackground\":true,\"ticks\":\"\",\"zerolinecolor\":\"white\",\"gridwidth\":2},\"yaxis\":{\"backgroundcolor\":\"#E5ECF6\",\"gridcolor\":\"white\",\"linecolor\":\"white\",\"showbackground\":true,\"ticks\":\"\",\"zerolinecolor\":\"white\",\"gridwidth\":2},\"zaxis\":{\"backgroundcolor\":\"#E5ECF6\",\"gridcolor\":\"white\",\"linecolor\":\"white\",\"showbackground\":true,\"ticks\":\"\",\"zerolinecolor\":\"white\",\"gridwidth\":2}},\"shapedefaults\":{\"line\":{\"color\":\"#2a3f5f\"}},\"annotationdefaults\":{\"arrowcolor\":\"#2a3f5f\",\"arrowhead\":0,\"arrowwidth\":1},\"geo\":{\"bgcolor\":\"white\",\"landcolor\":\"#E5ECF6\",\"subunitcolor\":\"white\",\"showland\":true,\"showlakes\":true,\"lakecolor\":\"white\"},\"title\":{\"x\":0.05},\"mapbox\":{\"style\":\"light\"}}},\"scene\":{\"domain\":{\"x\":[0.0,0.45],\"y\":[0.0,1.0]}},\"scene2\":{\"domain\":{\"x\":[0.55,1.0],\"y\":[0.0,1.0]}},\"height\":600,\"width\":1200},                        {\"responsive\": true}                    ).then(function(){\n",
              "                            \n",
              "var gd = document.getElementById('af567639-5d69-4561-81ca-677168ac37a9');\n",
              "var x = new MutationObserver(function (mutations, observer) {{\n",
              "        var display = window.getComputedStyle(gd).display;\n",
              "        if (!display || display === 'none') {{\n",
              "            console.log([gd, 'removed!']);\n",
              "            Plotly.purge(gd);\n",
              "            observer.disconnect();\n",
              "        }}\n",
              "}});\n",
              "\n",
              "// Listen for the removal of the full notebook cells\n",
              "var notebookContainer = gd.closest('#notebook-container');\n",
              "if (notebookContainer) {{\n",
              "    x.observe(notebookContainer, {childList: true});\n",
              "}}\n",
              "\n",
              "// Listen for the clearing of the current output cell\n",
              "var outputEl = gd.closest('.output');\n",
              "if (outputEl) {{\n",
              "    x.observe(outputEl, {childList: true});\n",
              "}}\n",
              "\n",
              "                        })                };                            </script>        </div>\n",
              "</body>\n",
              "</html>"
            ]
          },
          "metadata": {}
        },
        {
          "output_type": "stream",
          "name": "stdout",
          "text": [
            "torch.Size([392, 2, 3])\n"
          ]
        },
        {
          "output_type": "display_data",
          "data": {
            "text/html": [
              "<html>\n",
              "<head><meta charset=\"utf-8\" /></head>\n",
              "<body>\n",
              "    <div>            <script src=\"https://cdnjs.cloudflare.com/ajax/libs/mathjax/2.7.5/MathJax.js?config=TeX-AMS-MML_SVG\"></script><script type=\"text/javascript\">if (window.MathJax && window.MathJax.Hub && window.MathJax.Hub.Config) {window.MathJax.Hub.Config({SVG: {font: \"STIX-Web\"}});}</script>                <script type=\"text/javascript\">window.PlotlyConfig = {MathJaxConfig: 'local'};</script>\n",
              "        <script src=\"https://cdn.plot.ly/plotly-2.18.2.min.js\"></script>                <div id=\"24750007-f08a-4964-ba5a-79c77eeb2958\" class=\"plotly-graph-div\" style=\"height:600px; width:1200px;\"></div>            <script type=\"text/javascript\">                                    window.PLOTLYENV=window.PLOTLYENV || {};                                    if (document.getElementById(\"24750007-f08a-4964-ba5a-79c77eeb2958\")) {                    Plotly.newPlot(                        \"24750007-f08a-4964-ba5a-79c77eeb2958\",                        [{\"x\":[-4.0521368980407715,-4.814864158630371,-5.161923885345459,-5.5084228515625,-5.161923885345459,-5.5084228515625,-5.161923885345459,-5.5084228515625,-5.161923885345459,-5.5084228515625,-5.161923885345459,-5.5084228515625,-5.161923885345459,-5.5084228515625,-5.161924362182617,-5.5084228515625,-5.161923885345459,-5.5084228515625,-5.161923885345459,-5.5084228515625,-5.161923885345459,-5.508423328399658,-5.161923885345459,-5.5084228515625,-5.161923885345459,-5.5084228515625,-4.51885986328125,-5.162936687469482,-4.318215847015381,-4.9533185958862305,-4.05213737487793,-4.814864635467529,-4.05213737487793,-4.814864635467529,-4.05213737487793,-4.8148651123046875,-4.05213737487793,-4.814864635467529,-4.05213737487793,-4.8148651123046875,-4.05213737487793,-4.8148651123046875,-4.05213737487793,-4.814864635467529,-4.05213737487793,-4.814864635467529,-4.05213737487793,-4.814864635467529,-4.05213737487793,-4.8148651123046875,-4.0521368980407715,-4.814864635467529,-4.0521368980407715,-4.814864635467529,-4.052136421203613,-4.814864158630371,-3.8978354930877686,-4.603098392486572,-3.730710029602051,-4.493435859680176,-3.730710029602051,-4.493436336517334,-3.730710029602051,-4.493436336517334,-3.7307097911834717,-4.493436336517334,-3.7307097911834717,-4.493436336517334,-3.7307095527648926,-4.493436336517334,-3.7307095527648926,-4.493436336517334,-3.7307093143463135,-4.493435859680176,-3.7307093143463135,-4.493435859680176,-3.7307095527648926,-4.493436336517334,-3.7307093143463135,-4.493435859680176,-3.7307095527648926,-4.493436336517334,-3.7307093143463135,-4.493435859680176,-3.5764074325561523,-4.281670093536377,-3.4092800617218018,-4.172007083892822,-3.4092800617218018,-4.172007083892822,-3.4092798233032227,-4.1720075607299805,-3.4092795848846436,-4.172007083892822,-3.4092798233032227,-4.1720075607299805,-3.4092795848846436,-4.1720075607299805,-3.4092795848846436,-4.172007083892822,-3.4092795848846436,-4.172007083892822,-3.4092795848846436,-4.172007083892822,-3.4092795848846436,-4.172007083892822,-3.4092798233032227,-4.172007083892822,-3.4092798233032227,-4.1720075607299805,-3.4092798233032227,-4.1720075607299805,-3.2549784183502197,-3.9602413177490234,-3.087852716445923,-3.850579261779785,-3.087852716445923,-3.850579261779785,-3.0878524780273438,-3.850579261779785,-3.087852716445923,-3.850579261779785,-3.087852716445923,-3.8505795001983643,-3.0878524780273438,-3.850579261779785,-3.0878524780273438,-3.850579261779785,-3.0878522396087646,-3.8505795001983643,-3.0878522396087646,-3.8505795001983643,-3.0878524780273438,-3.8505795001983643,-3.0878522396087646,-3.850579261779785,-3.0878522396087646,-3.8505797386169434,-3.0878520011901855,-3.8505795001983643,-2.9335501194000244,-3.638813018798828,-2.766422748565674,-3.5291502475738525,-2.766422748565674,-3.5291502475738525,-2.766422748565674,-3.5291502475738525,-2.766422748565674,-3.5291502475738525,-2.7664225101470947,-3.5291504859924316,-2.7664225101470947,-3.5291502475738525,-2.7664225101470947,-3.5291502475738525,-2.7664225101470947,-3.5291502475738525,-2.7664225101470947,-3.5291502475738525,-2.7664225101470947,-3.5291502475738525,-2.7664225101470947,-3.5291502475738525,-2.7664225101470947,-3.5291502475738525,-2.7664225101470947,-3.5291502475738525,-2.612121820449829,-3.317384719848633,-2.444995641708374,-3.2077221870422363,-2.444995641708374,-3.2077221870422363,-2.444995641708374,-3.2077224254608154,-2.444995164871216,-3.2077221870422363,-2.444995641708374,-3.2077221870422363,-2.444995164871216,-3.2077221870422363,-2.444995164871216,-3.2077221870422363,-2.444995164871216,-3.2077221870422363,-2.444995164871216,-3.2077221870422363,-2.444995164871216,-3.2077221870422363,-2.444995164871216,-3.2077226638793945,-2.4449949264526367,-3.2077224254608154,-2.4449949264526367,-3.2077224254608154,-2.2906930446624756,-2.9959559440612793,-2.123565912246704,-2.886293411254883,-2.123565912246704,-2.886293411254883,-2.123565912246704,-2.886293411254883,-2.123565912246704,-2.8862931728363037,-2.123565912246704,-2.886293411254883,-2.123565912246704,-2.886293411254883,-2.123565912246704,-2.8862931728363037,-2.123565912246704,-2.886293411254883,-2.123565912246704,-2.886293411254883,-2.123565912246704,-2.8862931728363037,-2.123565912246704,-2.8862931728363037,-2.123565912246704,-2.8862931728363037,-2.123565912246704,-2.8862931728363037,-1.969264030456543,-2.674527168273926,-1.8021377325057983,-2.5648646354675293,-1.8021376132965088,-2.5648646354675293,-1.8021376132965088,-2.5648646354675293,-1.8021376132965088,-2.5648646354675293,-1.8021377325057983,-2.5648651123046875,-1.8021376132965088,-2.5648648738861084,-1.8021376132965088,-2.5648648738861084,-1.8021374940872192,-2.5648648738861084,-1.8021376132965088,-2.5648646354675293,-1.8021374940872192,-2.5648648738861084,-1.8021373748779297,-2.5648648738861084,-1.8021373748779297,-2.5648648738861084,-1.8021373748779297,-2.5648648738861084,-1.6478358507156372,-2.3530988693237305,-1.4807090759277344,-2.243436336517334,-1.480709195137024,-2.243436336517334,-1.480709195137024,-2.243436336517334,-1.4807090759277344,-2.243436336517334,-1.480709195137024,-2.243436336517334,-1.4807090759277344,-2.243436336517334,-1.4807090759277344,-2.243436336517334,-1.4807089567184448,-2.243436336517334,-1.4807090759277344,-2.243436336517334,-1.480709195137024,-2.243436336517334,-1.4807089567184448,-2.243436098098755,-1.4807089567184448,-2.243436098098755,-1.4807089567184448,-2.243436336517334,-1.3264071941375732,-2.031670331954956,-1.1592806577682495,-1.9220077991485596,-1.1592806577682495,-1.9220077991485596,-1.1592806577682495,-1.9220077991485596,-1.15928053855896,-1.92200767993927,-1.159280776977539,-1.9220077991485596,-1.15928053855896,-1.92200767993927,-1.15928053855896,-1.92200767993927,-1.1592806577682495,-1.9220077991485596,-1.1592806577682495,-1.9220077991485596,-1.15928053855896,-1.92200767993927,-1.1592804193496704,-1.9220077991485596,-1.1592804193496704,-1.9220077991485596,-1.1592804193496704,-1.9220077991485596,-1.0049785375595093,-1.7102417945861816,-0.8378516435623169,-1.600579023361206,-0.8378516435623169,-1.600579023361206,-0.8378516435623169,-1.600579023361206,-0.8378516435623169,-1.600579023361206,-0.837851881980896,-1.600579023361206,-0.8378518223762512,-1.6005791425704956,-0.8378518223762512,-1.6005791425704956,-0.8378517627716064,-1.600579023361206,-0.8378517627716064,-1.600579023361206,-0.8378516435623169,-1.600579023361206,-0.8378516435623169,-1.600579023361206,-0.8378516435623169,-1.600579023361206,-0.8378516435623169,-1.600579023361206,-0.6835498809814453,-1.388812780380249,-0.5164234042167664,-1.2791504859924316,-0.5164234042167664,-1.2791504859924316,-0.5164234042167664,-1.2791504859924316,-0.5164234638214111,-1.2791506052017212,-0.5164234638214111,-1.2791506052017212,-0.5164233446121216,-1.2791506052017212,-0.5164233446121216,-1.2791506052017212,-0.5164232850074768,-1.2791507244110107,-0.5164232850074768,-1.2791507244110107,-0.5164234638214111,-1.2791506052017212,-0.5164231657981873,-1.2791504859924316,-0.5164231657981873,-1.2791504859924316,-0.5164231657981873,-1.2791504859924316,-0.36212173104286194,-1.0673847198486328,-0.19499479234218597,-0.9577219486236572,-0.19499485194683075,-0.9577218890190125,-0.19499479234218597,-0.9577219486236572,-0.19499479234218597,-0.957722008228302,-0.19499491155147552,-0.9577219486236572,-0.1949947327375412,-0.9577219486236572,-0.19499479234218597,-0.9577219486236572,-0.19499467313289642,-0.957722008228302,-0.1949947327375412,-0.9577219486236572,-0.19499467313289642,-0.9577219486236572,-0.19499459862709045,-0.9577220678329468,-0.19499456882476807,-0.9577218890190125,-0.19499465823173523,-0.957722008228302,-0.04069281369447708,-0.7459560036659241,0.12643380463123322,-0.636293351650238,0.12643374502658844,-0.636293351650238,0.12643374502658844,-0.636293351650238,0.126433864235878,-0.6362934112548828,0.12643367052078247,-0.6362934112548828,0.12643392384052277,-0.6362934112548828,0.126433864235878,-0.6362934112548828,0.126433864235878,-0.636293351650238,0.12643392384052277,-0.636293351650238,0.12643380463123322,-0.636293351650238,0.12643399834632874,-0.636293351650238,0.12643399834632874,-0.6362934708595276,0.12643396854400635,-0.6362934112548828,0.28073573112487793,-0.4245273470878601,0.4478623867034912,-0.31486475467681885,0.4478623867034912,-0.3148646950721741,0.4478623867034912,-0.3148646950721741,0.447862446308136,-0.31486475467681885,0.4478622078895569,-0.3148648142814636,0.44786232709884644,-0.31486475467681885,0.447862446308136,-0.31486475467681885,0.44786250591278076,-0.3148648142814636,0.447862446308136,-0.3148648142814636,0.44786250591278076,-0.31486478447914124,0.44786253571510315,-0.3148648142814636,0.44786256551742554,-0.31486475467681885,0.44786256551742554,-0.3148648738861084,0.6021642684936523,-0.10309886932373047,0.7692911624908447,0.006563782691955566,0.7692911624908447,0.006563782691955566,0.7692911624908447,0.006563782691955566,0.7692911624908447,0.006563782691955566,0.7692910432815552,0.006563782691955566,0.7692910432815552,0.006563842296600342,0.7692911624908447,0.006563782691955566,0.7692911624908447,0.006563961505889893,0.7692911624908447,0.006563901901245117,0.7692910432815552,0.006563842296600342,0.7692911624908447,0.006563961505889893,0.7692911624908447,0.006563961505889893,0.7692911624908447,0.006563961505889893,0.923592746257782,0.21832966804504395,1.09071946144104,0.3279922604560852,1.09071946144104,0.3279922604560852,1.09071946144104,0.3279922604560852,1.0907193422317505,0.32799232006073,1.09071946144104,0.32799232006073,1.09071946144104,0.32799232006073,1.0907193422317505,0.32799232006073,1.0907193422317505,0.32799232006073,1.0907193422317505,0.32799232006073,1.09071946144104,0.32799232006073,1.0907195806503296,0.32799232006073,1.0907195806503296,0.32799232006073,1.0907195806503296,0.32799232006073,1.2450217008590698,0.5397582650184631,1.412148356437683,0.649420976638794,1.412148356437683,0.649420976638794,1.412148356437683,0.649420976638794,1.4121482372283936,0.649420976638794,1.4121479988098145,0.649420976638794,1.4121482372283936,0.6494208574295044,1.412148356437683,0.6494209170341492,1.4121482372283936,0.6494210362434387,1.4121482372283936,0.6494210958480835,1.4121482372283936,0.6494209170341492,1.4121484756469727,0.6494210362434387,1.4121484756469727,0.6494210362434387,1.4121484756469727,0.6494210362434387,1.5664503574371338,0.8611868619918823,1.7335766553878784,0.9708496332168579,1.7335766553878784,0.9708495736122131,1.7335765361785889,0.9708496332168579,1.733576774597168,0.9708496332168579,1.7335764169692993,0.9708495140075684,1.733576774597168,0.9708495736122131,1.733576774597168,0.9708495736122131,1.7335766553878784,0.970849335193634,1.7335766553878784,0.9708495736122131,1.7335768938064575,0.9708495736122131,1.7335768938064575,0.9708494544029236,1.7335768938064575,0.9708495736122131,1.7335768938064575,0.9708495140075684,1.8878782987594604,1.1826153993606567,2.0550053119659424,1.2922780513763428,2.0550053119659424,1.2922781705856323,2.0550053119659424,1.2922780513763428,2.0550053119659424,1.2922780513763428,2.0550053119659424,1.2922780513763428,2.0550053119659424,1.2922780513763428,2.0550050735473633,1.2922779321670532,2.0550053119659424,1.2922779321670532,2.0550053119659424,1.2922780513763428,2.0550050735473633,1.2922779321670532,2.0550053119659424,1.2922778129577637,2.0550055503845215,1.2922778129577637,2.0550053119659424,1.2922778129577637,2.2093071937561035,1.5040438175201416,2.3764333724975586,1.613706350326538,2.3764333724975586,1.613706350326538,2.3764333724975586,1.613706350326538,2.3764336109161377,1.6137064695358276,2.3764333724975586,1.6137064695358276,2.3764336109161377,1.6137064695358276,2.3764336109161377,1.6137064695358276,2.3764336109161377,1.613706350326538,2.3764336109161377,1.613706350326538,2.3764336109161377,1.6137064695358276,2.3764336109161377,1.6137065887451172,2.3764336109161377,1.613706350326538,2.3764336109161377,1.6137065887451172,2.530735969543457,1.825472354888916,2.6978628635406494,1.9351356029510498,2.6978628635406494,1.9351356029510498,2.6978628635406494,1.9351356029510498,2.6978628635406494,1.9351356029510498,2.6978631019592285,1.9351356029510498,2.6978631019592285,1.9351356029510498,2.6978631019592285,1.9351356029510498,2.6978631019592285,1.9351356029510498,2.6978631019592285,1.9351356029510498,2.6978631019592285,1.9351356029510498,2.6978631019592285,1.9351356029510498,2.6978631019592285,1.9351356029510498,2.6978631019592285,1.9351356029510498,2.8521645069122314,2.1469013690948486,3.0192902088165283,2.256563425064087,3.0192902088165283,2.256563425064087,3.0192902088165283,2.256563425064087,3.0192904472351074,2.256563425064087,3.0192902088165283,2.256563425064087,3.0192904472351074,2.256563425064087,3.0192904472351074,2.256563425064087,3.0192906856536865,2.256563425064087,3.0192906856536865,2.256563425064087,3.0192904472351074,2.256563425064087,3.0192904472351074,2.256563186645508,3.0192904472351074,2.256563425064087,3.0192906856536865,2.256563425064087,3.1735928058624268,2.468329906463623,3.3407201766967773,2.5779926776885986,3.3407201766967773,2.5779926776885986,3.3407201766967773,2.5779924392700195,3.340719699859619,2.5779926776885986,3.3407204151153564,2.5779926776885986,3.3407199382781982,2.5779926776885986,3.3407199382781982,2.5779926776885986,3.3407201766967773,2.5779926776885986,3.3407201766967773,2.5779926776885986,3.3407199382781982,2.5779926776885986,3.3407199382781982,2.5779922008514404,3.3407199382781982,2.5779926776885986,3.3407199382781982,2.5779922008514404,3.4950218200683594,2.7897584438323975,3.6621475219726562,2.899420976638794,3.6621477603912354,2.899420976638794,3.662147283554077,2.899420976638794,3.6621479988098145,2.8994204998016357,3.662147283554077,2.899420738220215,3.6621477603912354,2.8994204998016357,3.6621477603912354,2.8994204998016357,3.6621475219726562,2.8994204998016357,3.6621475219726562,2.8994204998016357,3.6621479988098145,2.8994204998016357,3.6621477603912354,2.8994202613830566,3.6621479988098145,2.8994204998016357,3.6621477603912354,2.8994204998016357,4.524179935455322,3.481839418411255,3.983577013015747,3.2208495140075684,3.983577013015747,3.2208497524261475,3.983577013015747,3.2208495140075684,3.983577013015747,3.2208497524261475,3.983577251434326,3.2208495140075684,3.983577251434326,3.2208495140075684,3.983577013015747,3.2208495140075684,3.983577251434326,3.2208497524261475,3.983577251434326,3.2208497524261475,3.983577013015747,3.2208495140075684,3.983577251434326,3.2208497524261475,3.983577251434326,3.2208497524261475,3.983577251434326,3.2208497524261475,3.983577251434326,3.2208497524261475,5.269730567932129,4.039390563964844,5.269730567932129,4.039390563964844,5.269731044769287,4.039391040802002,5.269731044769287,4.039391040802002,5.269731044769287,4.039391040802002,5.269731044769287,4.039390563964844,5.269731044769287,4.039391040802002,5.269731044769287,4.039391040802002,5.269731044769287,4.039390563964844,5.269731044769287,4.039391040802002,5.269731044769287,4.039390563964844,5.269731044769287,4.039391040802002,4.717174530029297,3.6886420249938965],\"y\":[-3.4149460792541504,-2.5832600593566895,-3.1897940635681152,-2.0695419311523438,-2.5469374656677246,-1.4266846179962158,-1.9040802717208862,-0.7838279008865356,-1.2612230777740479,-0.14097058773040771,-0.6183659434318542,0.5018863677978516,0.02449113130569458,1.1447436809539795,0.6673482656478882,1.7876007556915283,1.3102054595947266,2.430457830429077,1.9530625343322754,3.073315143585205,2.595919609069824,3.716172218322754,3.238776922225952,4.359029293060303,3.881633758544922,5.001886367797852,4.8531999588012695,5.899555683135986,-3.7446534633636475,-2.9497017860412598,-3.093517780303955,-2.261831760406494,-2.4506607055664062,-1.6189748048782349,-1.8078033924102783,-0.9761179685592651,-1.1649460792541504,-0.3332604169845581,-0.5220889449119568,0.3095966577529907,0.12076818943023682,0.9524539113044739,0.7636253237724304,1.5953110456466675,1.4064825773239136,2.238168239593506,2.049339771270752,2.881025552749634,2.6921966075897217,3.5238823890686035,3.3350539207458496,4.1667399406433105,3.9779109954833984,4.809596538543701,4.6207685470581055,5.452454090118408,-4.023830413818359,-3.363999843597412,-3.093518018722534,-2.261831521987915,-2.4506609439849854,-1.6189748048782349,-1.8078036308288574,-0.976117730140686,-1.1649466753005981,-0.33326053619384766,-0.5220894813537598,0.30959653854370117,0.12076801061630249,0.9524537324905396,0.7636251449584961,1.595310926437378,1.406482458114624,2.238168239593506,2.049339532852173,2.8810253143310547,2.6921963691711426,3.5238823890686035,3.3350539207458496,4.1667399406433105,3.9779109954833984,4.809597015380859,4.6207685470581055,5.452454090118408,-4.023829936981201,-3.363999843597412,-3.093517780303955,-2.261831760406494,-2.4506607055664062,-1.6189748048782349,-1.8078033924102783,-0.9761179685592651,-1.1649460792541504,-0.3332604169845581,-0.5220889449119568,0.3095966577529907,0.12076818943023682,0.9524539113044739,0.7636253237724304,1.5953110456466675,1.4064825773239136,2.238168239593506,2.049339771270752,2.881025552749634,2.6921966075897217,3.5238823890686035,3.3350539207458496,4.1667399406433105,3.9779109954833984,4.809596538543701,4.620768070220947,5.452454090118408,-4.023830413818359,-3.363999843597412,-3.093518018722534,-2.261831760406494,-2.4506609439849854,-1.6189748048782349,-1.8078036308288574,-0.9761173725128174,-1.164946436882019,-0.33326053619384766,-0.5220894813537598,0.30959653854370117,0.12076801061630249,0.9524537324905396,0.7636251449584961,1.595310926437378,1.406482458114624,2.238168239593506,2.049339532852173,2.8810253143310547,2.6921963691711426,3.5238823890686035,3.3350536823272705,4.166739463806152,3.9779109954833984,4.809597015380859,4.6207685470581055,5.452454090118408,-4.023829936981201,-3.363999843597412,-3.093517780303955,-2.261831760406494,-2.4506607055664062,-1.6189748048782349,-1.8078033924102783,-0.9761179685592651,-1.1649460792541504,-0.3332604169845581,-0.5220889449119568,0.3095966577529907,0.12076818943023682,0.9524539113044739,0.7636253237724304,1.5953110456466675,1.4064825773239136,2.238168239593506,2.049339771270752,2.881025552749634,2.6921966075897217,3.5238823890686035,3.3350539207458496,4.1667399406433105,3.9779109954833984,4.809597015380859,4.620768070220947,5.452454090118408,-4.023830413818359,-3.363999843597412,-3.093518018722534,-2.261831760406494,-2.4506609439849854,-1.6189746856689453,-1.8078036308288574,-0.9761173725128174,-1.164946436882019,-0.33326053619384766,-0.5220894813537598,0.30959653854370117,0.12076801061630249,0.9524537324905396,0.7636250853538513,1.595310926437378,1.406482458114624,2.238168239593506,2.049339532852173,2.8810253143310547,2.6921966075897217,3.5238823890686035,3.3350536823272705,4.166739463806152,3.9779112339019775,4.809597015380859,4.6207685470581055,5.452454090118408,-4.023829936981201,-3.363999843597412,-3.093517780303955,-2.261831760406494,-2.450660467147827,-1.6189748048782349,-1.8078033924102783,-0.9761179685592651,-1.1649460792541504,-0.3332604169845581,-0.5220891237258911,0.3095966577529907,0.12076807022094727,0.9524538516998291,0.7636252045631409,1.5953110456466675,1.406482458114624,2.238168239593506,2.049339532852173,2.8810253143310547,2.6921966075897217,3.5238823890686035,3.3350539207458496,4.166740417480469,3.9779109954833984,4.809597015380859,4.620768070220947,5.452454090118408,-4.023829936981201,-3.363999843597412,-3.093518018722534,-2.261831760406494,-2.4506609439849854,-1.618975043296814,-1.8078036308288574,-0.976117730140686,-1.1649463176727295,-0.33326029777526855,-0.5220891833305359,0.30959653854370117,0.12076812982559204,0.9524539709091187,0.7636252045631409,1.5953110456466675,1.406482458114624,2.238168239593506,2.049339771270752,2.881025552749634,2.6921966075897217,3.5238823890686035,3.3350539207458496,4.1667399406433105,3.9779112339019775,4.809597015380859,4.620767593383789,5.452454090118408,-4.023830413818359,-3.363999843597412,-3.093518018722534,-2.261831760406494,-2.4506607055664062,-1.6189748048782349,-1.8078036308288574,-0.9761179685592651,-1.1649463176727295,-0.33326029777526855,-0.5220891237258911,0.30959653854370117,0.12076801061630249,0.9524540901184082,0.7636251449584961,1.595311164855957,1.406482458114624,2.238168239593506,2.049339771270752,2.8810253143310547,2.6921963691711426,3.5238823890686035,3.3350539207458496,4.1667399406433105,3.9779107570648193,4.809597015380859,4.620767593383789,5.45245361328125,-4.023829936981201,-3.363999843597412,-3.093517780303955,-2.2618319988250732,-2.4506609439849854,-1.6189751625061035,-1.8078036308288574,-0.9761180877685547,-1.1649463176727295,-0.3332604169845581,-0.5220893025398254,0.30959653854370117,0.12076801061630249,0.9524539709091187,0.7636250853538513,1.5953110456466675,1.406482219696045,2.238168239593506,2.049339532852173,2.8810253143310547,2.6921963691711426,3.5238823890686035,3.3350536823272705,4.1667399406433105,3.9779112339019775,4.809597015380859,4.620768070220947,5.452454090118408,-4.023830413818359,-3.363999843597412,-3.093517780303955,-2.261831760406494,-2.4506607055664062,-1.6189748048782349,-1.807803750038147,-0.9761179685592651,-1.1649463176727295,-0.3332604169845581,-0.5220891237258911,0.3095966577529907,0.12076818943023682,0.9524538516998291,0.7636252641677856,1.5953110456466675,1.4064823389053345,2.238168239593506,2.049339532852173,2.8810253143310547,2.6921966075897217,3.5238823890686035,3.3350539207458496,4.1667399406433105,3.9779109954833984,4.809596538543701,4.620768070220947,5.452454090118408,-4.023829936981201,-3.363999843597412,-3.093518018722534,-2.261831760406494,-2.4506609439849854,-1.618975043296814,-1.8078036308288574,-0.9761179685592651,-1.164946436882019,-0.333260178565979,-0.5220891237258911,0.30959653854370117,0.12076812982559204,0.9524539709091187,0.7636252045631409,1.595311164855957,1.406482458114624,2.238168478012085,2.049339771270752,2.881025552749634,2.6921963691711426,3.5238823890686035,3.3350539207458496,4.1667399406433105,3.9779112339019775,4.809597015380859,4.620767593383789,5.452454090118408,-4.023829936981201,-3.363999605178833,-3.093518018722534,-2.261831760406494,-2.4506609439849854,-1.6189748048782349,-1.8078036308288574,-0.9761179685592651,-1.1649463176727295,-0.333260178565979,-0.5220892429351807,0.3095967769622803,0.12076812982559204,0.9524540901184082,0.7636252045631409,1.5953110456466675,1.406482458114624,2.238168478012085,2.049339771270752,2.8810253143310547,2.6921966075897217,3.5238823890686035,3.3350539207458496,4.1667399406433105,3.9779107570648193,4.809597015380859,4.620767593383789,5.452454090118408,-4.023830413818359,-3.363999843597412,-3.093518018722534,-2.261831760406494,-2.4506609439849854,-1.6189748048782349,-1.8078036308288574,-0.9761179685592651,-1.1649463176727295,-0.33326029777526855,-0.5220892429351807,0.3095968961715698,0.12076807022094727,0.9524540901184082,0.7636252045631409,1.595311164855957,1.406482458114624,2.238168239593506,2.049339532852173,2.8810253143310547,2.6921966075897217,3.5238823890686035,3.3350539207458496,4.1667399406433105,3.9779107570648193,4.809597015380859,4.620767593383789,5.45245361328125,-4.023829936981201,-3.363999843597412,-3.093518018722534,-2.261831760406494,-2.4506607055664062,-1.618975043296814,-1.8078036308288574,-0.976117730140686,-1.1649463176727295,-0.33326029777526855,-0.5220891833305359,0.30959653854370117,0.12076812982559204,0.9524538516998291,0.7636252045631409,1.595311164855957,1.406482458114624,2.238168478012085,2.049339771270752,2.881025552749634,2.692196846008301,3.5238823890686035,3.3350539207458496,4.1667399406433105,3.9779107570648193,4.809597015380859,4.620767593383789,5.45245361328125,-4.023830413818359,-3.363999843597412,-3.093517780303955,-2.261831760406494,-2.4506607055664062,-1.6189748048782349,-1.807803750038147,-0.9761179685592651,-1.1649463176727295,-0.33326029777526855,-0.5220890641212463,0.3095966577529907,0.12076818943023682,0.9524538516998291,0.7636252045631409,1.5953110456466675,1.406482458114624,2.238168239593506,2.049339532852173,2.8810253143310547,2.6921966075897217,3.5238823890686035,3.3350539207458496,4.1667399406433105,3.9779109954833984,4.809596538543701,4.620768070220947,5.452454090118408,-4.023829936981201,-3.363999843597412,-3.093517780303955,-2.2618319988250732,-2.4506609439849854,-1.6189751625061035,-1.8078036308288574,-0.9761180877685547,-1.1649463176727295,-0.33326029777526855,-0.5220893621444702,0.3095967769622803,0.12076801061630249,0.9524539709091187,0.7636250853538513,1.5953110456466675,1.406482219696045,2.238168239593506,2.049339532852173,2.8810253143310547,2.6921963691711426,3.5238823890686035,3.3350536823272705,4.1667399406433105,3.9779112339019775,4.809597015380859,4.620768070220947,5.452454090118408,-4.023830413818359,-3.363999843597412,-3.093517780303955,-2.261831760406494,-2.4506607055664062,-1.6189748048782349,-1.807803750038147,-0.9761179685592651,-1.1649460792541504,-0.3332604169845581,-0.5220891237258911,0.3095966577529907,0.12076818943023682,0.9524538516998291,0.7636252045631409,1.5953110456466675,1.4064823389053345,2.238168239593506,2.049339532852173,2.8810253143310547,2.6921966075897217,3.5238823890686035,3.3350539207458496,4.1667399406433105,3.9779109954833984,4.809596538543701,4.620768070220947,5.452454090118408,-4.023830413818359,-3.363999843597412,-3.093518018722534,-2.261831760406494,-2.4506607055664062,-1.618975043296814,-1.8078036308288574,-0.9761179685592651,-1.1649463176727295,-0.33326029777526855,-0.5220892429351807,0.3095968961715698,0.12076812982559204,0.9524539709091187,0.7636251449584961,1.595311164855957,1.4064823389053345,2.238168239593506,2.049339771270752,2.8810253143310547,2.6921966075897217,3.5238823890686035,3.3350539207458496,4.1667399406433105,3.9779109954833984,4.809597015380859,4.620767593383789,5.45245361328125,-4.023829936981201,-3.363999843597412,-3.093518018722534,-2.261831760406494,-2.4506607055664062,-1.6189748048782349,-1.8078036308288574,-0.9761179685592651,-1.1649463176727295,-0.33326029777526855,-0.5220891237258911,0.30959653854370117,0.12076812982559204,0.9524538516998291,0.7636252045631409,1.5953110456466675,1.406482458114624,2.238168478012085,2.049339771270752,2.8810253143310547,2.6921963691711426,3.5238823890686035,3.3350539207458496,4.1667399406433105,3.9779109954833984,4.809597015380859,4.620767593383789,5.45245361328125,-4.023830413818359,-3.363999843597412,-3.093517780303955,-2.261831760406494,-2.4506609439849854,-1.6189746856689453,-1.8078036308288574,-0.9761178493499756,-1.1649463176727295,-0.33326053619384766,-0.5220892429351807,0.30959653854370117,0.12076801061630249,0.9524537324905396,0.7636250853538513,1.595310926437378,1.406482219696045,2.238168239593506,2.0493392944335938,2.8810253143310547,2.6921966075897217,3.5238821506500244,3.3350539207458496,4.1667399406433105,3.9779109954833984,4.809597015380859,4.6207685470581055,5.452454090118408,-4.023830413818359,-3.363999605178833,-3.093517780303955,-2.261831760406494,-2.4506607055664062,-1.6189748048782349,-1.8078036308288574,-0.9761179685592651,-1.1649460792541504,-0.3332604169845581,-0.5220889449119568,0.3095966577529907,0.12076818943023682,0.9524539113044739,0.7636253237724304,1.5953110456466675,1.4064825773239136,2.238168239593506,2.049339771270752,2.881025552749634,2.6921966075897217,3.5238823890686035,3.3350539207458496,4.1667399406433105,3.9779109954833984,4.809596538543701,4.6207685470581055,5.452454090118408,-4.023830413818359,-3.363999843597412,-3.093518018722534,-2.261831521987915,-2.4506609439849854,-1.6189746856689453,-1.8078036308288574,-0.9761173725128174,-1.1649465560913086,-0.33326053619384766,-0.5220894813537598,0.30959653854370117,0.12076801061630249,0.9524537324905396,0.7636250853538513,1.595310926437378,1.406482458114624,2.238168239593506,2.049339532852173,2.8810253143310547,2.6921963691711426,3.5238823890686035,3.3350536823272705,4.166739463806152,3.9779109954833984,4.809597015380859,4.6207685470581055,5.452454090118408,-4.023829936981201,-3.363999843597412,-3.093517780303955,-2.261831760406494,-2.4506607055664062,-1.6189748048782349,-1.8078036308288574,-0.9761179685592651,-1.1649460792541504,-0.3332604169845581,-0.5220889449119568,0.3095966577529907,0.12076818943023682,0.9524539113044739,0.7636253237724304,1.5953110456466675,1.4064825773239136,2.238168239593506,2.049339771270752,2.881025552749634,2.6921966075897217,3.5238823890686035,3.3350539207458496,4.166740417480469,3.9779109954833984,4.809596538543701,4.6207685470581055,5.452454566955566,-4.023830413818359,-3.363999843597412,-3.093518018722534,-2.261831760406494,-2.4506609439849854,-1.6189748048782349,-1.8078036308288574,-0.9761178493499756,-1.1649465560913086,-0.33326053619384766,-0.5220894813537598,0.30959653854370117,0.12076801061630249,0.9524537324905396,0.763624906539917,1.595310926437378,1.406482458114624,2.238168239593506,2.049339532852173,2.8810253143310547,2.6921963691711426,3.5238823890686035,3.3350536823272705,4.166739463806152,3.9779112339019775,4.809597015380859,4.620768070220947,5.45245361328125,-3.613831043243408,-2.9941246509552,-3.093517780303955,-2.261831760406494,-2.4506607055664062,-1.6189748048782349,-1.8078036308288574,-0.9761179685592651,-1.1649460792541504,-0.3332604169845581,-0.5220889449119568,0.3095966577529907,0.12076818943023682,0.9524539113044739,0.7636253237724304,1.5953110456466675,1.4064825773239136,2.238168239593506,2.049339771270752,2.881025552749634,2.6921966075897217,3.5238823890686035,3.3350539207458496,4.1667399406433105,3.9779109954833984,4.809596538543701,4.6207685470581055,5.452454090118408,-3.414945125579834,-2.5832600593566895,-2.8018345832824707,-1.9684137105941772,-2.158977508544922,-1.3255566358566284,-1.5161203145980835,-0.6826995611190796,-0.8732632398605347,-0.03984224796295166,-0.2304062843322754,0.6030148267745972,0.4124510884284973,1.2458720207214355,1.055308222770691,1.888729214668274,1.6981654167175293,2.531586170196533,2.341022491455078,3.174443483352661,2.983879804611206,3.817300796508789,3.626736640930176,4.460157871246338,4.269594192504883,5.103014945983887,5.07415246963501,6.035097122192383],\"z\":[-1.544488787651062,-1.3068645000457764,-1.4622188806533813,-1.4562097787857056,-1.4622187614440918,-1.4562098979949951,-1.4622187614440918,-1.456209659576416,-1.4622188806533813,-1.4562097787857056,-1.4622187614440918,-1.456209659576416,-1.4622187614440918,-1.456209659576416,-1.4622187614440918,-1.456209659576416,-1.4622187614440918,-1.456209659576416,-1.4622187614440918,-1.456209659576416,-1.4622187614440918,-1.4562095403671265,-1.4622188806533813,-1.456209659576416,-1.4622187614440918,-1.4562095403671265,-1.728798270225525,-1.62261164188385,-1.394199013710022,-1.1875009536743164,-1.5444889068603516,-1.3068642616271973,-1.5444889068603516,-1.3068642616271973,-1.5444889068603516,-1.3068642616271973,-1.5444889068603516,-1.3068643808364868,-1.5444890260696411,-1.3068643808364868,-1.5444890260696411,-1.3068643808364868,-1.5444889068603516,-1.3068643808364868,-1.5444889068603516,-1.3068643808364868,-1.5444889068603516,-1.3068643808364868,-1.5444890260696411,-1.3068643808364868,-1.5444889068603516,-1.3068645000457764,-1.5444889068603516,-1.3068645000457764,-1.5444890260696411,-1.3068643808364868,-1.3267446756362915,-1.0141907930374146,-1.5444884300231934,-1.3068642616271973,-1.5444884300231934,-1.3068642616271973,-1.5444884300231934,-1.3068642616271973,-1.544488549232483,-1.3068643808364868,-1.5444884300231934,-1.3068643808364868,-1.5444886684417725,-1.3068643808364868,-1.5444886684417725,-1.3068643808364868,-1.5444886684417725,-1.3068645000457764,-1.5444886684417725,-1.3068645000457764,-1.5444886684417725,-1.3068643808364868,-1.5444890260696411,-1.3068645000457764,-1.5444886684417725,-1.3068645000457764,-1.5444890260696411,-1.3068645000457764,-1.326744556427002,-1.0141907930374146,-1.5444889068603516,-1.3068642616271973,-1.5444889068603516,-1.3068642616271973,-1.5444889068603516,-1.3068642616271973,-1.5444889068603516,-1.3068643808364868,-1.5444890260696411,-1.3068643808364868,-1.5444890260696411,-1.3068643808364868,-1.5444889068603516,-1.3068643808364868,-1.5444889068603516,-1.3068643808364868,-1.5444889068603516,-1.3068643808364868,-1.5444889068603516,-1.3068643808364868,-1.5444889068603516,-1.3068645000457764,-1.5444890260696411,-1.3068643808364868,-1.5444890260696411,-1.3068643808364868,-1.3267446756362915,-1.014190912246704,-1.5444884300231934,-1.3068642616271973,-1.5444884300231934,-1.3068642616271973,-1.5444884300231934,-1.3068642616271973,-1.5444884300231934,-1.3068643808364868,-1.5444884300231934,-1.3068643808364868,-1.5444886684417725,-1.3068643808364868,-1.5444886684417725,-1.3068643808364868,-1.5444886684417725,-1.3068645000457764,-1.5444886684417725,-1.3068645000457764,-1.544488549232483,-1.3068643808364868,-1.5444886684417725,-1.3068645000457764,-1.5444886684417725,-1.3068645000457764,-1.5444890260696411,-1.3068645000457764,-1.326744556427002,-1.0141907930374146,-1.5444889068603516,-1.3068642616271973,-1.5444889068603516,-1.3068642616271973,-1.5444889068603516,-1.3068642616271973,-1.5444890260696411,-1.3068643808364868,-1.5444890260696411,-1.3068643808364868,-1.5444890260696411,-1.3068643808364868,-1.5444890260696411,-1.3068643808364868,-1.5444889068603516,-1.3068643808364868,-1.5444889068603516,-1.3068643808364868,-1.5444889068603516,-1.3068643808364868,-1.5444890260696411,-1.3068643808364868,-1.5444890260696411,-1.3068643808364868,-1.5444890260696411,-1.3068643808364868,-1.326744556427002,-1.014190912246704,-1.5444884300231934,-1.3068642616271973,-1.5444884300231934,-1.3068642616271973,-1.5444884300231934,-1.3068642616271973,-1.5444886684417725,-1.3068643808364868,-1.5444884300231934,-1.3068643808364868,-1.5444886684417725,-1.3068643808364868,-1.5444886684417725,-1.3068643808364868,-1.5444886684417725,-1.3068645000457764,-1.5444886684417725,-1.3068645000457764,-1.5444886684417725,-1.3068643808364868,-1.5444886684417725,-1.3068645000457764,-1.5444890260696411,-1.3068645000457764,-1.5444890260696411,-1.3068645000457764,-1.326744556427002,-1.0141907930374146,-1.544488787651062,-1.3068642616271973,-1.544488787651062,-1.3068642616271973,-1.544488787651062,-1.3068642616271973,-1.544488787651062,-1.3068642616271973,-1.544488787651062,-1.3068642616271973,-1.544488787651062,-1.3068643808364868,-1.544488787651062,-1.3068643808364868,-1.544488787651062,-1.3068643808364868,-1.544488787651062,-1.3068643808364868,-1.544488787651062,-1.3068642616271973,-1.5444889068603516,-1.3068645000457764,-1.5444889068603516,-1.3068645000457764,-1.5444889068603516,-1.3068645000457764,-1.326744794845581,-1.014190912246704,-1.544488549232483,-1.3068642616271973,-1.544488549232483,-1.3068642616271973,-1.544488549232483,-1.3068642616271973,-1.544488787651062,-1.3068643808364868,-1.544488549232483,-1.3068643808364868,-1.544488787651062,-1.3068643808364868,-1.544488787651062,-1.3068643808364868,-1.5444889068603516,-1.3068643808364868,-1.5444889068603516,-1.3068645000457764,-1.5444889068603516,-1.3068643808364868,-1.5444889068603516,-1.3068645000457764,-1.5444889068603516,-1.3068645000457764,-1.5444889068603516,-1.3068645000457764,-1.3267446756362915,-1.0141907930374146,-1.544488549232483,-1.3068642616271973,-1.544488549232483,-1.3068642616271973,-1.544488549232483,-1.3068642616271973,-1.544488787651062,-1.3068643808364868,-1.544488549232483,-1.3068643808364868,-1.544488787651062,-1.3068645000457764,-1.544488787651062,-1.3068643808364868,-1.5444889068603516,-1.3068643808364868,-1.5444889068603516,-1.3068643808364868,-1.544488549232483,-1.3068643808364868,-1.5444889068603516,-1.3068645000457764,-1.5444889068603516,-1.3068643808364868,-1.5444889068603516,-1.3068643808364868,-1.3267446756362915,-1.0141907930374146,-1.544488549232483,-1.3068642616271973,-1.544488549232483,-1.3068642616271973,-1.544488549232483,-1.3068642616271973,-1.544488549232483,-1.3068642616271973,-1.544488549232483,-1.3068642616271973,-1.544488549232483,-1.3068643808364868,-1.544488549232483,-1.3068643808364868,-1.544488549232483,-1.3068643808364868,-1.544488549232483,-1.3068643808364868,-1.544488549232483,-1.3068643808364868,-1.5444889068603516,-1.3068645000457764,-1.5444889068603516,-1.3068645000457764,-1.5444889068603516,-1.3068645000457764,-1.326744794845581,-1.0141907930374146,-1.544488787651062,-1.3068642616271973,-1.544488787651062,-1.3068642616271973,-1.544488787651062,-1.3068642616271973,-1.544488787651062,-1.3068642616271973,-1.544488787651062,-1.3068643808364868,-1.544488787651062,-1.3068643808364868,-1.544488787651062,-1.3068643808364868,-1.544488787651062,-1.3068643808364868,-1.544488787651062,-1.3068643808364868,-1.544488787651062,-1.3068642616271973,-1.5444889068603516,-1.3068643808364868,-1.5444889068603516,-1.3068643808364868,-1.5444889068603516,-1.3068643808364868,-1.3267446756362915,-1.014190912246704,-1.544488549232483,-1.3068642616271973,-1.544488549232483,-1.3068642616271973,-1.544488549232483,-1.3068642616271973,-1.544488549232483,-1.3068643808364868,-1.544488549232483,-1.3068643808364868,-1.544488787651062,-1.3068643808364868,-1.544488787651062,-1.3068643808364868,-1.5444889068603516,-1.3068645000457764,-1.5444889068603516,-1.3068645000457764,-1.544488549232483,-1.3068643808364868,-1.5444889068603516,-1.3068645000457764,-1.5444889068603516,-1.3068645000457764,-1.5444889068603516,-1.3068645000457764,-1.326744556427002,-1.0141907930374146,-1.544488549232483,-1.3068642616271973,-1.544488549232483,-1.3068642616271973,-1.544488549232483,-1.3068642616271973,-1.544488787651062,-1.3068643808364868,-1.544488549232483,-1.3068643808364868,-1.544488787651062,-1.3068645000457764,-1.544488787651062,-1.3068642616271973,-1.5444889068603516,-1.3068645000457764,-1.5444889068603516,-1.3068643808364868,-1.5444889068603516,-1.3068643808364868,-1.5444889068603516,-1.3068643808364868,-1.5444889068603516,-1.3068643808364868,-1.5444889068603516,-1.3068645000457764,-1.3267446756362915,-1.0141907930374146,-1.544488549232483,-1.3068642616271973,-1.544488549232483,-1.3068642616271973,-1.544488549232483,-1.3068642616271973,-1.544488787651062,-1.3068643808364868,-1.544488549232483,-1.3068643808364868,-1.544488787651062,-1.3068645000457764,-1.544488787651062,-1.3068643808364868,-1.5444889068603516,-1.3068643808364868,-1.5444889068603516,-1.3068643808364868,-1.544488787651062,-1.3068643808364868,-1.5444889068603516,-1.3068645000457764,-1.5444889068603516,-1.3068643808364868,-1.5444889068603516,-1.3068643808364868,-1.326744556427002,-1.0141907930374146,-1.544488549232483,-1.3068642616271973,-1.544488549232483,-1.3068642616271973,-1.544488549232483,-1.3068642616271973,-1.544488787651062,-1.3068643808364868,-1.544488549232483,-1.3068643808364868,-1.544488787651062,-1.3068643808364868,-1.544488787651062,-1.3068643808364868,-1.5444889068603516,-1.3068645000457764,-1.5444889068603516,-1.3068645000457764,-1.5444889068603516,-1.3068643808364868,-1.5444889068603516,-1.3068643808364868,-1.5444889068603516,-1.3068645000457764,-1.5444889068603516,-1.3068643808364868,-1.3267446756362915,-1.0141907930374146,-1.544488787651062,-1.3068642616271973,-1.544488787651062,-1.3068642616271973,-1.544488787651062,-1.3068642616271973,-1.544488787651062,-1.3068643808364868,-1.544488787651062,-1.3068643808364868,-1.544488787651062,-1.3068643808364868,-1.544488787651062,-1.3068643808364868,-1.5444889068603516,-1.3068643808364868,-1.5444889068603516,-1.3068643808364868,-1.544488787651062,-1.3068643808364868,-1.5444889068603516,-1.3068643808364868,-1.5444889068603516,-1.3068643808364868,-1.5444889068603516,-1.3068643808364868,-1.326744556427002,-1.0141907930374146,-1.544488549232483,-1.3068642616271973,-1.544488549232483,-1.3068642616271973,-1.544488549232483,-1.3068642616271973,-1.544488549232483,-1.3068643808364868,-1.544488549232483,-1.3068643808364868,-1.544488549232483,-1.3068643808364868,-1.544488549232483,-1.3068643808364868,-1.544488549232483,-1.3068643808364868,-1.544488549232483,-1.3068643808364868,-1.544488549232483,-1.3068643808364868,-1.5444889068603516,-1.3068645000457764,-1.5444889068603516,-1.3068645000457764,-1.5444889068603516,-1.3068645000457764,-1.326744794845581,-1.0141907930374146,-1.544488787651062,-1.3068642616271973,-1.544488787651062,-1.3068642616271973,-1.544488787651062,-1.3068642616271973,-1.544488787651062,-1.3068643808364868,-1.544488787651062,-1.3068643808364868,-1.544488787651062,-1.3068643808364868,-1.544488787651062,-1.3068642616271973,-1.544488787651062,-1.3068643808364868,-1.544488787651062,-1.3068643808364868,-1.544488787651062,-1.3068643808364868,-1.5444889068603516,-1.3068643808364868,-1.5444889068603516,-1.3068643808364868,-1.5444889068603516,-1.3068643808364868,-1.326744794845581,-1.014190912246704,-1.544488549232483,-1.3068642616271973,-1.544488549232483,-1.3068642616271973,-1.544488549232483,-1.3068642616271973,-1.544488787651062,-1.3068643808364868,-1.544488549232483,-1.3068643808364868,-1.544488787651062,-1.3068643808364868,-1.544488787651062,-1.3068643808364868,-1.5444889068603516,-1.3068643808364868,-1.5444889068603516,-1.3068643808364868,-1.5444889068603516,-1.3068643808364868,-1.5444889068603516,-1.3068643808364868,-1.5444889068603516,-1.3068645000457764,-1.5444889068603516,-1.3068643808364868,-1.3267444372177124,-1.0141907930374146,-1.544488549232483,-1.3068642616271973,-1.544488549232483,-1.3068642616271973,-1.544488549232483,-1.3068642616271973,-1.5444889068603516,-1.3068643808364868,-1.544488787651062,-1.3068643808364868,-1.544488787651062,-1.3068643808364868,-1.544488787651062,-1.3068643808364868,-1.5444889068603516,-1.3068645000457764,-1.5444889068603516,-1.3068643808364868,-1.544488549232483,-1.3068643808364868,-1.5444889068603516,-1.3068643808364868,-1.5444889068603516,-1.3068645000457764,-1.5444889068603516,-1.3068643808364868,-1.326744556427002,-1.014190912246704,-1.5444884300231934,-1.3068642616271973,-1.5444884300231934,-1.3068642616271973,-1.5444884300231934,-1.3068642616271973,-1.544488549232483,-1.3068642616271973,-1.5444886684417725,-1.3068642616271973,-1.544488549232483,-1.3068642616271973,-1.544488549232483,-1.3068642616271973,-1.5444886684417725,-1.3068643808364868,-1.5444886684417725,-1.3068643808364868,-1.544488549232483,-1.3068643808364868,-1.5444890260696411,-1.3068645000457764,-1.5444890260696411,-1.3068645000457764,-1.5444890260696411,-1.3068645000457764,-1.326744794845581,-1.0141907930374146,-1.5444889068603516,-1.3068642616271973,-1.5444889068603516,-1.3068642616271973,-1.5444889068603516,-1.3068642616271973,-1.5444889068603516,-1.3068643808364868,-1.5444890260696411,-1.3068643808364868,-1.5444890260696411,-1.3068643808364868,-1.5444889068603516,-1.3068643808364868,-1.5444889068603516,-1.3068643808364868,-1.5444889068603516,-1.3068643808364868,-1.5444890260696411,-1.3068643808364868,-1.5444889068603516,-1.3068645000457764,-1.5444889068603516,-1.3068645000457764,-1.5444890260696411,-1.3068643808364868,-1.326744794845581,-1.014190912246704,-1.5444884300231934,-1.3068642616271973,-1.5444884300231934,-1.3068642616271973,-1.5444884300231934,-1.3068642616271973,-1.5444886684417725,-1.3068643808364868,-1.5444884300231934,-1.3068643808364868,-1.5444886684417725,-1.3068643808364868,-1.5444886684417725,-1.3068643808364868,-1.5444886684417725,-1.3068645000457764,-1.5444886684417725,-1.3068645000457764,-1.5444886684417725,-1.3068643808364868,-1.5444886684417725,-1.3068645000457764,-1.5444886684417725,-1.3068645000457764,-1.5444890260696411,-1.3068645000457764,-1.326744556427002,-1.0141907930374146,-1.5444889068603516,-1.3068642616271973,-1.5444889068603516,-1.3068642616271973,-1.5444889068603516,-1.3068642616271973,-1.5444889068603516,-1.3068643808364868,-1.5444890260696411,-1.3068643808364868,-1.5444890260696411,-1.3068643808364868,-1.5444889068603516,-1.3068643808364868,-1.5444889068603516,-1.3068643808364868,-1.5444889068603516,-1.3068643808364868,-1.5444889068603516,-1.3068643808364868,-1.5444889068603516,-1.3068645000457764,-1.5444890260696411,-1.3068643808364868,-1.5444889068603516,-1.3068645000457764,-1.326744794845581,-1.014190912246704,-1.5444884300231934,-1.3068642616271973,-1.5444884300231934,-1.3068642616271973,-1.5444884300231934,-1.3068642616271973,-1.5444886684417725,-1.3068643808364868,-1.5444884300231934,-1.3068643808364868,-1.5444886684417725,-1.3068643808364868,-1.544488549232483,-1.3068643808364868,-1.5444886684417725,-1.3068645000457764,-1.5444886684417725,-1.3068645000457764,-1.5444886684417725,-1.3068643808364868,-1.5444886684417725,-1.3068645000457764,-1.5444890260696411,-1.3068645000457764,-1.5444886684417725,-1.3068645000457764,-1.6322427988052368,-1.1723613739013672,-1.5444889068603516,-1.3068642616271973,-1.5444889068603516,-1.3068642616271973,-1.5444889068603516,-1.3068642616271973,-1.5444889068603516,-1.3068643808364868,-1.5444890260696411,-1.3068643808364868,-1.5444890260696411,-1.3068643808364868,-1.5444890260696411,-1.3068643808364868,-1.5444889068603516,-1.3068643808364868,-1.5444889068603516,-1.3068643808364868,-1.5444890260696411,-1.3068643808364868,-1.5444889068603516,-1.3068645000457764,-1.5444889068603516,-1.3068645000457764,-1.5444889068603516,-1.3068645000457764,-1.544488787651062,-1.3068645000457764,-1.9475620985031128,-1.5476288795471191,-1.9475620985031128,-1.5476288795471191,-1.9475620985031128,-1.5476287603378296,-1.9475622177124023,-1.5476288795471191,-1.9475616216659546,-1.5476287603378296,-1.9475622177124023,-1.5476288795471191,-1.9475619792938232,-1.5476288795471191,-1.9475620985031128,-1.5476287603378296,-1.9475619792938232,-1.5476288795471191,-1.9475620985031128,-1.5476287603378296,-1.9475619792938232,-1.5476288795471191,-1.9475618600845337,-1.5476287603378296,-1.8832573890686035,-1.684814691543579],\"type\":\"scatter3d\",\"scene\":\"scene\"}],                        {\"template\":{\"data\":{\"histogram2dcontour\":[{\"type\":\"histogram2dcontour\",\"colorbar\":{\"outlinewidth\":0,\"ticks\":\"\"},\"colorscale\":[[0.0,\"#0d0887\"],[0.1111111111111111,\"#46039f\"],[0.2222222222222222,\"#7201a8\"],[0.3333333333333333,\"#9c179e\"],[0.4444444444444444,\"#bd3786\"],[0.5555555555555556,\"#d8576b\"],[0.6666666666666666,\"#ed7953\"],[0.7777777777777778,\"#fb9f3a\"],[0.8888888888888888,\"#fdca26\"],[1.0,\"#f0f921\"]]}],\"choropleth\":[{\"type\":\"choropleth\",\"colorbar\":{\"outlinewidth\":0,\"ticks\":\"\"}}],\"histogram2d\":[{\"type\":\"histogram2d\",\"colorbar\":{\"outlinewidth\":0,\"ticks\":\"\"},\"colorscale\":[[0.0,\"#0d0887\"],[0.1111111111111111,\"#46039f\"],[0.2222222222222222,\"#7201a8\"],[0.3333333333333333,\"#9c179e\"],[0.4444444444444444,\"#bd3786\"],[0.5555555555555556,\"#d8576b\"],[0.6666666666666666,\"#ed7953\"],[0.7777777777777778,\"#fb9f3a\"],[0.8888888888888888,\"#fdca26\"],[1.0,\"#f0f921\"]]}],\"heatmap\":[{\"type\":\"heatmap\",\"colorbar\":{\"outlinewidth\":0,\"ticks\":\"\"},\"colorscale\":[[0.0,\"#0d0887\"],[0.1111111111111111,\"#46039f\"],[0.2222222222222222,\"#7201a8\"],[0.3333333333333333,\"#9c179e\"],[0.4444444444444444,\"#bd3786\"],[0.5555555555555556,\"#d8576b\"],[0.6666666666666666,\"#ed7953\"],[0.7777777777777778,\"#fb9f3a\"],[0.8888888888888888,\"#fdca26\"],[1.0,\"#f0f921\"]]}],\"heatmapgl\":[{\"type\":\"heatmapgl\",\"colorbar\":{\"outlinewidth\":0,\"ticks\":\"\"},\"colorscale\":[[0.0,\"#0d0887\"],[0.1111111111111111,\"#46039f\"],[0.2222222222222222,\"#7201a8\"],[0.3333333333333333,\"#9c179e\"],[0.4444444444444444,\"#bd3786\"],[0.5555555555555556,\"#d8576b\"],[0.6666666666666666,\"#ed7953\"],[0.7777777777777778,\"#fb9f3a\"],[0.8888888888888888,\"#fdca26\"],[1.0,\"#f0f921\"]]}],\"contourcarpet\":[{\"type\":\"contourcarpet\",\"colorbar\":{\"outlinewidth\":0,\"ticks\":\"\"}}],\"contour\":[{\"type\":\"contour\",\"colorbar\":{\"outlinewidth\":0,\"ticks\":\"\"},\"colorscale\":[[0.0,\"#0d0887\"],[0.1111111111111111,\"#46039f\"],[0.2222222222222222,\"#7201a8\"],[0.3333333333333333,\"#9c179e\"],[0.4444444444444444,\"#bd3786\"],[0.5555555555555556,\"#d8576b\"],[0.6666666666666666,\"#ed7953\"],[0.7777777777777778,\"#fb9f3a\"],[0.8888888888888888,\"#fdca26\"],[1.0,\"#f0f921\"]]}],\"surface\":[{\"type\":\"surface\",\"colorbar\":{\"outlinewidth\":0,\"ticks\":\"\"},\"colorscale\":[[0.0,\"#0d0887\"],[0.1111111111111111,\"#46039f\"],[0.2222222222222222,\"#7201a8\"],[0.3333333333333333,\"#9c179e\"],[0.4444444444444444,\"#bd3786\"],[0.5555555555555556,\"#d8576b\"],[0.6666666666666666,\"#ed7953\"],[0.7777777777777778,\"#fb9f3a\"],[0.8888888888888888,\"#fdca26\"],[1.0,\"#f0f921\"]]}],\"mesh3d\":[{\"type\":\"mesh3d\",\"colorbar\":{\"outlinewidth\":0,\"ticks\":\"\"}}],\"scatter\":[{\"fillpattern\":{\"fillmode\":\"overlay\",\"size\":10,\"solidity\":0.2},\"type\":\"scatter\"}],\"parcoords\":[{\"type\":\"parcoords\",\"line\":{\"colorbar\":{\"outlinewidth\":0,\"ticks\":\"\"}}}],\"scatterpolargl\":[{\"type\":\"scatterpolargl\",\"marker\":{\"colorbar\":{\"outlinewidth\":0,\"ticks\":\"\"}}}],\"bar\":[{\"error_x\":{\"color\":\"#2a3f5f\"},\"error_y\":{\"color\":\"#2a3f5f\"},\"marker\":{\"line\":{\"color\":\"#E5ECF6\",\"width\":0.5},\"pattern\":{\"fillmode\":\"overlay\",\"size\":10,\"solidity\":0.2}},\"type\":\"bar\"}],\"scattergeo\":[{\"type\":\"scattergeo\",\"marker\":{\"colorbar\":{\"outlinewidth\":0,\"ticks\":\"\"}}}],\"scatterpolar\":[{\"type\":\"scatterpolar\",\"marker\":{\"colorbar\":{\"outlinewidth\":0,\"ticks\":\"\"}}}],\"histogram\":[{\"marker\":{\"pattern\":{\"fillmode\":\"overlay\",\"size\":10,\"solidity\":0.2}},\"type\":\"histogram\"}],\"scattergl\":[{\"type\":\"scattergl\",\"marker\":{\"colorbar\":{\"outlinewidth\":0,\"ticks\":\"\"}}}],\"scatter3d\":[{\"type\":\"scatter3d\",\"line\":{\"colorbar\":{\"outlinewidth\":0,\"ticks\":\"\"}},\"marker\":{\"colorbar\":{\"outlinewidth\":0,\"ticks\":\"\"}}}],\"scattermapbox\":[{\"type\":\"scattermapbox\",\"marker\":{\"colorbar\":{\"outlinewidth\":0,\"ticks\":\"\"}}}],\"scatterternary\":[{\"type\":\"scatterternary\",\"marker\":{\"colorbar\":{\"outlinewidth\":0,\"ticks\":\"\"}}}],\"scattercarpet\":[{\"type\":\"scattercarpet\",\"marker\":{\"colorbar\":{\"outlinewidth\":0,\"ticks\":\"\"}}}],\"carpet\":[{\"aaxis\":{\"endlinecolor\":\"#2a3f5f\",\"gridcolor\":\"white\",\"linecolor\":\"white\",\"minorgridcolor\":\"white\",\"startlinecolor\":\"#2a3f5f\"},\"baxis\":{\"endlinecolor\":\"#2a3f5f\",\"gridcolor\":\"white\",\"linecolor\":\"white\",\"minorgridcolor\":\"white\",\"startlinecolor\":\"#2a3f5f\"},\"type\":\"carpet\"}],\"table\":[{\"cells\":{\"fill\":{\"color\":\"#EBF0F8\"},\"line\":{\"color\":\"white\"}},\"header\":{\"fill\":{\"color\":\"#C8D4E3\"},\"line\":{\"color\":\"white\"}},\"type\":\"table\"}],\"barpolar\":[{\"marker\":{\"line\":{\"color\":\"#E5ECF6\",\"width\":0.5},\"pattern\":{\"fillmode\":\"overlay\",\"size\":10,\"solidity\":0.2}},\"type\":\"barpolar\"}],\"pie\":[{\"automargin\":true,\"type\":\"pie\"}]},\"layout\":{\"autotypenumbers\":\"strict\",\"colorway\":[\"#636efa\",\"#EF553B\",\"#00cc96\",\"#ab63fa\",\"#FFA15A\",\"#19d3f3\",\"#FF6692\",\"#B6E880\",\"#FF97FF\",\"#FECB52\"],\"font\":{\"color\":\"#2a3f5f\"},\"hovermode\":\"closest\",\"hoverlabel\":{\"align\":\"left\"},\"paper_bgcolor\":\"white\",\"plot_bgcolor\":\"#E5ECF6\",\"polar\":{\"bgcolor\":\"#E5ECF6\",\"angularaxis\":{\"gridcolor\":\"white\",\"linecolor\":\"white\",\"ticks\":\"\"},\"radialaxis\":{\"gridcolor\":\"white\",\"linecolor\":\"white\",\"ticks\":\"\"}},\"ternary\":{\"bgcolor\":\"#E5ECF6\",\"aaxis\":{\"gridcolor\":\"white\",\"linecolor\":\"white\",\"ticks\":\"\"},\"baxis\":{\"gridcolor\":\"white\",\"linecolor\":\"white\",\"ticks\":\"\"},\"caxis\":{\"gridcolor\":\"white\",\"linecolor\":\"white\",\"ticks\":\"\"}},\"coloraxis\":{\"colorbar\":{\"outlinewidth\":0,\"ticks\":\"\"}},\"colorscale\":{\"sequential\":[[0.0,\"#0d0887\"],[0.1111111111111111,\"#46039f\"],[0.2222222222222222,\"#7201a8\"],[0.3333333333333333,\"#9c179e\"],[0.4444444444444444,\"#bd3786\"],[0.5555555555555556,\"#d8576b\"],[0.6666666666666666,\"#ed7953\"],[0.7777777777777778,\"#fb9f3a\"],[0.8888888888888888,\"#fdca26\"],[1.0,\"#f0f921\"]],\"sequentialminus\":[[0.0,\"#0d0887\"],[0.1111111111111111,\"#46039f\"],[0.2222222222222222,\"#7201a8\"],[0.3333333333333333,\"#9c179e\"],[0.4444444444444444,\"#bd3786\"],[0.5555555555555556,\"#d8576b\"],[0.6666666666666666,\"#ed7953\"],[0.7777777777777778,\"#fb9f3a\"],[0.8888888888888888,\"#fdca26\"],[1.0,\"#f0f921\"]],\"diverging\":[[0,\"#8e0152\"],[0.1,\"#c51b7d\"],[0.2,\"#de77ae\"],[0.3,\"#f1b6da\"],[0.4,\"#fde0ef\"],[0.5,\"#f7f7f7\"],[0.6,\"#e6f5d0\"],[0.7,\"#b8e186\"],[0.8,\"#7fbc41\"],[0.9,\"#4d9221\"],[1,\"#276419\"]]},\"xaxis\":{\"gridcolor\":\"white\",\"linecolor\":\"white\",\"ticks\":\"\",\"title\":{\"standoff\":15},\"zerolinecolor\":\"white\",\"automargin\":true,\"zerolinewidth\":2},\"yaxis\":{\"gridcolor\":\"white\",\"linecolor\":\"white\",\"ticks\":\"\",\"title\":{\"standoff\":15},\"zerolinecolor\":\"white\",\"automargin\":true,\"zerolinewidth\":2},\"scene\":{\"xaxis\":{\"backgroundcolor\":\"#E5ECF6\",\"gridcolor\":\"white\",\"linecolor\":\"white\",\"showbackground\":true,\"ticks\":\"\",\"zerolinecolor\":\"white\",\"gridwidth\":2},\"yaxis\":{\"backgroundcolor\":\"#E5ECF6\",\"gridcolor\":\"white\",\"linecolor\":\"white\",\"showbackground\":true,\"ticks\":\"\",\"zerolinecolor\":\"white\",\"gridwidth\":2},\"zaxis\":{\"backgroundcolor\":\"#E5ECF6\",\"gridcolor\":\"white\",\"linecolor\":\"white\",\"showbackground\":true,\"ticks\":\"\",\"zerolinecolor\":\"white\",\"gridwidth\":2}},\"shapedefaults\":{\"line\":{\"color\":\"#2a3f5f\"}},\"annotationdefaults\":{\"arrowcolor\":\"#2a3f5f\",\"arrowhead\":0,\"arrowwidth\":1},\"geo\":{\"bgcolor\":\"white\",\"landcolor\":\"#E5ECF6\",\"subunitcolor\":\"white\",\"showland\":true,\"showlakes\":true,\"lakecolor\":\"white\"},\"title\":{\"x\":0.05},\"mapbox\":{\"style\":\"light\"}}},\"scene\":{\"domain\":{\"x\":[0.0,0.45],\"y\":[0.0,1.0]}},\"scene2\":{\"domain\":{\"x\":[0.55,1.0],\"y\":[0.0,1.0]}},\"height\":600,\"width\":1200},                        {\"responsive\": true}                    ).then(function(){\n",
              "                            \n",
              "var gd = document.getElementById('24750007-f08a-4964-ba5a-79c77eeb2958');\n",
              "var x = new MutationObserver(function (mutations, observer) {{\n",
              "        var display = window.getComputedStyle(gd).display;\n",
              "        if (!display || display === 'none') {{\n",
              "            console.log([gd, 'removed!']);\n",
              "            Plotly.purge(gd);\n",
              "            observer.disconnect();\n",
              "        }}\n",
              "}});\n",
              "\n",
              "// Listen for the removal of the full notebook cells\n",
              "var notebookContainer = gd.closest('#notebook-container');\n",
              "if (notebookContainer) {{\n",
              "    x.observe(notebookContainer, {childList: true});\n",
              "}}\n",
              "\n",
              "// Listen for the clearing of the current output cell\n",
              "var outputEl = gd.closest('.output');\n",
              "if (outputEl) {{\n",
              "    x.observe(outputEl, {childList: true});\n",
              "}}\n",
              "\n",
              "                        })                };                            </script>        </div>\n",
              "</body>\n",
              "</html>"
            ]
          },
          "metadata": {}
        }
      ],
      "source": [
        "import plotly.graph_objects as go\n",
        "from plotly.subplots import make_subplots\n",
        "\n",
        "def scatter3d(x, y, z):\n",
        "  plot_df = pd.DataFrame({\"x\": x, \"y\": y, \"z\": z})\n",
        "  fig = px.scatter_3d(plot_df, x=\"x\", y=\"y\", z=\"z\", color=None)\n",
        "  return fig\n",
        "\n",
        "# plt.clf(); plt.cla()\n",
        "# plt.close()\n",
        "for i, idx in enumerate(idxs[:len(shapes)]):\n",
        "  idx = idx[0]\n",
        "  print(idx.shape)\n",
        "  idx = idx.reshape(-1, shapes[i][2], idx_dim)\n",
        "  rows, cols = 1 + (idx.shape[1] - 1) // 2, 2\n",
        "  # fig = plt.figure(figsize=(min(18, 3 * cols), 3))\n",
        "  fig = make_subplots(\n",
        "    rows=rows, cols=cols,\n",
        "    specs=[[{\"type\": \"scene\"} for _ in range(cols)] for _ in range(rows)],\n",
        "    # row_heights=[10 for _ in range(rows)],\n",
        "    vertical_spacing=0.05\n",
        "  )\n",
        "  fig.update_layout(\n",
        "    height=600 * rows,\n",
        "    width=600 * cols\n",
        ")\n",
        "  for ch in range(idx.shape[1]):\n",
        "    idx_ = idx[:, ch].numpy()\n",
        "    # ax = fig.add_subplot(rows, cols, ch + 1, projection=\"3d\")\n",
        "    # ax.scatter(idx_[::4, 0], idx_[::4, 1], idx_[::4, 2], marker=\"+\")\n",
        "    # fig = scatter3d(idx_[::4, 0], idx_[::4, 1], idx_[::4, 2])\n",
        "    row, col = (ch // cols) + 1, (ch % cols) + 1\n",
        "    fig.add_trace(\n",
        "        go.Scatter3d(\n",
        "            x=idx_[::, 0],\n",
        "            y=idx_[::, 1],\n",
        "            z=idx_[::, 2],\n",
        "            # z=idx_[::, 1] * 0.0,\n",
        "            # color=None,\n",
        "            # colorscale=\"Viridis\",\n",
        "            # showscale=False\n",
        "        ),\n",
        "        row=row,\n",
        "        col=col,\n",
        "    )\n",
        "  fig.show()\n",
        "  # plt.show()"
      ]
    },
    {
      "cell_type": "code",
      "execution_count": null,
      "metadata": {
        "id": "HFWbwRwuE9lu"
      },
      "outputs": [],
      "source": [
        "# model.MW.idx[0, 0]\n",
        "threshold = rows * cols * hidden_dim\n",
        "param_id = 0\n",
        "layer_idx = model.MW.idx[:, param_id: param_id + 100] # threshold\n",
        "n_parts = idx_dim // img_dim\n",
        "scaled_idx = (\n",
        "    MTensor\n",
        "    ._soft_kernel(layer_idx, img_dim)[0]\n",
        "    .reshape(-1, n_parts, img_dim)\n",
        ") * (n_parts ** 0.5)\n",
        "idx_att = torch.argmax(\n",
        "    scaled_idx,\n",
        "    dim=-1\n",
        ")[:, :2]\n",
        "idx_att = idx_att.cpu().detach().numpy()\n",
        "grid = np.zeros((rows, cols))\n",
        "# for pos in range(len(idx_att)):\n",
        "#   idxx, idxy = idx_att[pos]\n",
        "#   idxx, idxy = int(idxx), int(idxy)\n",
        "#   # grid[int(idxx), int(idxy)] += 1\n",
        "#   grid[idxx, idxy] += scaled_idx[pos, 0, idxx] * scaled_idx[pos, 1, idxy]\n",
        "for idxx in range(rows):\n",
        "  for idxy in range(cols):\n",
        "    grid[idxx, idxy] = (scaled_idx[:, 0, idxx] * scaled_idx[:, 1, idxy]).sum()\n",
        "grid = grid / grid.max()\n",
        "\n",
        "# plt.imshow(grid)\n",
        "\n",
        "fig, ax = plt.subplots()\n",
        "ax.matshow(grid, cmap=\"seismic\")\n",
        "\n",
        "for (i, j), z in np.ndenumerate(grid):\n",
        "    ax.text(j, i, \"{:0.2f}\".format(z), ha=\"center\", va=\"center\")\n",
        "\n",
        "plt.show()"
      ]
    },
    {
      "cell_type": "code",
      "execution_count": null,
      "metadata": {
        "id": "wSCHvt7xQq6q"
      },
      "outputs": [],
      "source": [
        "MTensor._soft_kernel(y_pred.idx, img_dim)[0]"
      ]
    },
    {
      "cell_type": "markdown",
      "metadata": {
        "id": "Y-K_7fUh2anJ"
      },
      "source": [
        "### Visualização dos índices dos parâmetros"
      ]
    },
    {
      "cell_type": "code",
      "execution_count": null,
      "metadata": {
        "id": "nNJnesCt2f1p"
      },
      "outputs": [],
      "source": [
        "soft_W_idx = scaled_idx # MTensor._soft_kernel(model.MW.idx, img_dim)\n",
        "threshold = 100 # rows * cols * hidden_dim\n",
        "# First layer\n",
        "soft_W_idx = soft_W_idx[:, :threshold].reshape(1, -1, idx_dim)\n",
        "# Last layer\n",
        "# soft_W_idx = soft_W_idx[:, threshold:].reshape(1, -1, idx_dim)\n",
        "soft_W_idx = soft_W_idx.cpu().detach().numpy()[0]"
      ]
    },
    {
      "cell_type": "code",
      "execution_count": null,
      "metadata": {
        "id": "5gaTHY1L2it1"
      },
      "outputs": [],
      "source": [
        "from sklearn.manifold import TSNE\n",
        "\n",
        "sample_idx = np.random.choice(\n",
        "    len(soft_W_idx),\n",
        "    min(len(soft_W_idx), 10000),\n",
        "    replace=False\n",
        ")\n",
        "\n",
        "W_idx_tsne = TSNE(\n",
        "    n_components=2,\n",
        "    perplexity=10,\n",
        ").fit_transform(soft_W_idx[sample_idx])"
      ]
    },
    {
      "cell_type": "code",
      "execution_count": null,
      "metadata": {
        "id": "ows6icrE2unf"
      },
      "outputs": [],
      "source": [
        "plot_df = pd.DataFrame(\n",
        "    {\n",
        "        \"W_idx x tsne\": W_idx_tsne[:, 0],\n",
        "        \"W_idx y tsne\": W_idx_tsne[:, 1],\n",
        "    }\n",
        ")\n",
        "\n",
        "plot_df.plot.scatter(\n",
        "    x=\"W_idx x tsne\",\n",
        "    y=\"W_idx y tsne\",\n",
        "    figsize=(24, 4),\n",
        "    grid=True\n",
        ")"
      ]
    },
    {
      "cell_type": "code",
      "execution_count": null,
      "metadata": {
        "id": "5eUDvxRS3yZu"
      },
      "outputs": [],
      "source": []
    }
  ],
  "metadata": {
    "accelerator": "GPU",
    "colab": {
      "collapsed_sections": [
        "ndQSziNdjoUm",
        "RGCfrrmCXap_",
        "tzKu4c8hisNY",
        "YLr5gOnn5RRu",
        "XzzFCy32AGsX",
        "9Ytm2bU_JvrK",
        "e0TdCxX0Jzn0",
        "_T9hF3Uoi3tF",
        "kTfYY3SQXNJF",
        "1SknOTQ7O9BS",
        "jdZ8zHIcPQPS",
        "3mlldpkcPFvk",
        "QQRFtDATXUmH",
        "039kGqbPXp4d"
      ],
      "provenance": [],
      "authorship_tag": "ABX9TyNQBcg54OIMRNDO8x6l6E1O",
      "include_colab_link": true
    },
    "kernelspec": {
      "display_name": "Python 3",
      "name": "python3"
    },
    "language_info": {
      "name": "python"
    }
  },
  "nbformat": 4,
  "nbformat_minor": 0
}